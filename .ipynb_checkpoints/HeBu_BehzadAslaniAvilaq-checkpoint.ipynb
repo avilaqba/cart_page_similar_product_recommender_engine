{
 "cells": [
  {
   "cell_type": "code",
   "execution_count": 1,
   "id": "1ea9a4da",
   "metadata": {},
   "outputs": [
    {
     "data": {
      "text/html": [
       "<div>\n",
       "<style scoped>\n",
       "    .dataframe tbody tr th:only-of-type {\n",
       "        vertical-align: middle;\n",
       "    }\n",
       "\n",
       "    .dataframe tbody tr th {\n",
       "        vertical-align: top;\n",
       "    }\n",
       "\n",
       "    .dataframe thead th {\n",
       "        text-align: right;\n",
       "    }\n",
       "</style>\n",
       "<table border=\"1\" class=\"dataframe\">\n",
       "  <thead>\n",
       "    <tr style=\"text-align: right;\">\n",
       "      <th></th>\n",
       "      <th>event</th>\n",
       "      <th>sessionid</th>\n",
       "      <th>eventtime</th>\n",
       "      <th>price</th>\n",
       "      <th>productid</th>\n",
       "    </tr>\n",
       "  </thead>\n",
       "  <tbody>\n",
       "    <tr>\n",
       "      <th>0</th>\n",
       "      <td>cart</td>\n",
       "      <td>a0655eee-1267-4820-af21-ad8ac068ff7a</td>\n",
       "      <td>2020-06-01T08:59:16.406Z</td>\n",
       "      <td>14.48</td>\n",
       "      <td>HBV00000NVZE8</td>\n",
       "    </tr>\n",
       "    <tr>\n",
       "      <th>1</th>\n",
       "      <td>cart</td>\n",
       "      <td>d2ea7bd3-9235-4a9f-a9ea-d7f296e71318</td>\n",
       "      <td>2020-06-01T08:59:46.580Z</td>\n",
       "      <td>49.90</td>\n",
       "      <td>HBV00000U2B18</td>\n",
       "    </tr>\n",
       "    <tr>\n",
       "      <th>2</th>\n",
       "      <td>cart</td>\n",
       "      <td>5e594788-78a0-44dd-8e66-37022d48f691</td>\n",
       "      <td>2020-06-01T08:59:33.308Z</td>\n",
       "      <td>1.99</td>\n",
       "      <td>OFIS3101-080</td>\n",
       "    </tr>\n",
       "    <tr>\n",
       "      <th>3</th>\n",
       "      <td>cart</td>\n",
       "      <td>fdfeb652-22fa-4153-b9b5-4dfa0dcaffdf</td>\n",
       "      <td>2020-06-01T08:59:31.911Z</td>\n",
       "      <td>2.25</td>\n",
       "      <td>HBV00000NVZBW</td>\n",
       "    </tr>\n",
       "    <tr>\n",
       "      <th>4</th>\n",
       "      <td>cart</td>\n",
       "      <td>9e9d4f7e-898c-40fb-aae9-256c40779933</td>\n",
       "      <td>2020-06-01T08:59:33.888Z</td>\n",
       "      <td>9.95</td>\n",
       "      <td>HBV00000NE0T4</td>\n",
       "    </tr>\n",
       "  </tbody>\n",
       "</table>\n",
       "</div>"
      ],
      "text/plain": [
       "  event                             sessionid                 eventtime  \\\n",
       "0  cart  a0655eee-1267-4820-af21-ad8ac068ff7a  2020-06-01T08:59:16.406Z   \n",
       "1  cart  d2ea7bd3-9235-4a9f-a9ea-d7f296e71318  2020-06-01T08:59:46.580Z   \n",
       "2  cart  5e594788-78a0-44dd-8e66-37022d48f691  2020-06-01T08:59:33.308Z   \n",
       "3  cart  fdfeb652-22fa-4153-b9b5-4dfa0dcaffdf  2020-06-01T08:59:31.911Z   \n",
       "4  cart  9e9d4f7e-898c-40fb-aae9-256c40779933  2020-06-01T08:59:33.888Z   \n",
       "\n",
       "   price      productid  \n",
       "0  14.48  HBV00000NVZE8  \n",
       "1  49.90  HBV00000U2B18  \n",
       "2   1.99   OFIS3101-080  \n",
       "3   2.25  HBV00000NVZBW  \n",
       "4   9.95  HBV00000NE0T4  "
      ]
     },
     "execution_count": 1,
     "metadata": {},
     "output_type": "execute_result"
    }
   ],
   "source": [
    "import json\n",
    "import pandas as pd\n",
    "\n",
    "with open('data/events.json') as file:\n",
    "    events_data = json.load(file)\n",
    "events_df = pd.DataFrame.from_dict(events_data['events'])\n",
    "events_df.head()"
   ]
  },
  {
   "cell_type": "code",
   "execution_count": 2,
   "id": "73da338c",
   "metadata": {},
   "outputs": [
    {
     "data": {
      "text/plain": [
       "array(['cart'], dtype=object)"
      ]
     },
     "execution_count": 2,
     "metadata": {},
     "output_type": "execute_result"
    }
   ],
   "source": [
    "events_df.event.unique()"
   ]
  },
  {
   "cell_type": "code",
   "execution_count": 3,
   "id": "5791e88c",
   "metadata": {},
   "outputs": [],
   "source": [
    "events_df.drop('event', axis=1, inplace = True)"
   ]
  },
  {
   "cell_type": "code",
   "execution_count": 4,
   "id": "089095ed",
   "metadata": {},
   "outputs": [
    {
     "data": {
      "text/plain": [
       "(387656, 4)"
      ]
     },
     "execution_count": 4,
     "metadata": {},
     "output_type": "execute_result"
    }
   ],
   "source": [
    "events_df.shape"
   ]
  },
  {
   "cell_type": "code",
   "execution_count": 5,
   "id": "9e81616e",
   "metadata": {},
   "outputs": [
    {
     "data": {
      "text/html": [
       "<div>\n",
       "<style scoped>\n",
       "    .dataframe tbody tr th:only-of-type {\n",
       "        vertical-align: middle;\n",
       "    }\n",
       "\n",
       "    .dataframe tbody tr th {\n",
       "        vertical-align: top;\n",
       "    }\n",
       "\n",
       "    .dataframe thead th {\n",
       "        text-align: right;\n",
       "    }\n",
       "</style>\n",
       "<table border=\"1\" class=\"dataframe\">\n",
       "  <thead>\n",
       "    <tr style=\"text-align: right;\">\n",
       "      <th></th>\n",
       "      <th>productid</th>\n",
       "      <th>brand</th>\n",
       "      <th>category</th>\n",
       "      <th>subcategory</th>\n",
       "      <th>name</th>\n",
       "    </tr>\n",
       "  </thead>\n",
       "  <tbody>\n",
       "    <tr>\n",
       "      <th>0</th>\n",
       "      <td>HBV00000AX6LR</td>\n",
       "      <td>Palette</td>\n",
       "      <td>Kişisel Bakım</td>\n",
       "      <td>Saç Bakımı</td>\n",
       "      <td>Palette Kalıcı Doğal Renkler 10-4 PAPATYA</td>\n",
       "    </tr>\n",
       "    <tr>\n",
       "      <th>1</th>\n",
       "      <td>HBV00000BSAQG</td>\n",
       "      <td>Best</td>\n",
       "      <td>Pet Shop</td>\n",
       "      <td>Kedi</td>\n",
       "      <td>Best Pet Jöle İçinde Parça Etli Somonlu Konser...</td>\n",
       "    </tr>\n",
       "    <tr>\n",
       "      <th>2</th>\n",
       "      <td>HBV00000JUHBA</td>\n",
       "      <td>Tarım Kredi</td>\n",
       "      <td>Temel Gıda</td>\n",
       "      <td>Bakliyat, Pirinç, Makarna</td>\n",
       "      <td>Türkiye Tarım Kredi Koop.Yeşil Mercimek 1 kg</td>\n",
       "    </tr>\n",
       "    <tr>\n",
       "      <th>3</th>\n",
       "      <td>HBV00000NE0QI</td>\n",
       "      <td>Namet</td>\n",
       "      <td>Et, Balık, Şarküteri</td>\n",
       "      <td>Şarküteri</td>\n",
       "      <td>Namet Fıstıklı Macar Salam 100 gr</td>\n",
       "    </tr>\n",
       "    <tr>\n",
       "      <th>4</th>\n",
       "      <td>HBV00000NE0UQ</td>\n",
       "      <td>Muratbey</td>\n",
       "      <td>Kahvaltılık ve Süt</td>\n",
       "      <td>Peynir</td>\n",
       "      <td>Muratbey Burgu Peyniri 250 gr</td>\n",
       "    </tr>\n",
       "  </tbody>\n",
       "</table>\n",
       "</div>"
      ],
      "text/plain": [
       "       productid        brand              category  \\\n",
       "0  HBV00000AX6LR      Palette         Kişisel Bakım   \n",
       "1  HBV00000BSAQG         Best              Pet Shop   \n",
       "2  HBV00000JUHBA  Tarım Kredi            Temel Gıda   \n",
       "3  HBV00000NE0QI        Namet  Et, Balık, Şarküteri   \n",
       "4  HBV00000NE0UQ     Muratbey    Kahvaltılık ve Süt   \n",
       "\n",
       "                 subcategory  \\\n",
       "0                 Saç Bakımı   \n",
       "1                       Kedi   \n",
       "2  Bakliyat, Pirinç, Makarna   \n",
       "3                  Şarküteri   \n",
       "4                     Peynir   \n",
       "\n",
       "                                                name  \n",
       "0          Palette Kalıcı Doğal Renkler 10-4 PAPATYA  \n",
       "1  Best Pet Jöle İçinde Parça Etli Somonlu Konser...  \n",
       "2       Türkiye Tarım Kredi Koop.Yeşil Mercimek 1 kg  \n",
       "3                  Namet Fıstıklı Macar Salam 100 gr  \n",
       "4                      Muratbey Burgu Peyniri 250 gr  "
      ]
     },
     "execution_count": 5,
     "metadata": {},
     "output_type": "execute_result"
    }
   ],
   "source": [
    "with open('data/meta.json') as file:\n",
    "    meta = json.load(file)\n",
    "meta_df = pd.DataFrame.from_dict(meta['meta'])\n",
    "meta_df.head()"
   ]
  },
  {
   "cell_type": "code",
   "execution_count": 6,
   "id": "63f55b36",
   "metadata": {},
   "outputs": [
    {
     "data": {
      "text/plain": [
       "(10236, 5)"
      ]
     },
     "execution_count": 6,
     "metadata": {},
     "output_type": "execute_result"
    }
   ],
   "source": [
    "meta_df.shape"
   ]
  },
  {
   "cell_type": "code",
   "execution_count": 7,
   "id": "a5ba3d2e",
   "metadata": {},
   "outputs": [
    {
     "data": {
      "text/html": [
       "<div>\n",
       "<style scoped>\n",
       "    .dataframe tbody tr th:only-of-type {\n",
       "        vertical-align: middle;\n",
       "    }\n",
       "\n",
       "    .dataframe tbody tr th {\n",
       "        vertical-align: top;\n",
       "    }\n",
       "\n",
       "    .dataframe thead th {\n",
       "        text-align: right;\n",
       "    }\n",
       "</style>\n",
       "<table border=\"1\" class=\"dataframe\">\n",
       "  <thead>\n",
       "    <tr style=\"text-align: right;\">\n",
       "      <th></th>\n",
       "      <th>productid</th>\n",
       "      <th>brand</th>\n",
       "      <th>category</th>\n",
       "      <th>subcategory</th>\n",
       "      <th>name</th>\n",
       "      <th>sessionid</th>\n",
       "      <th>eventtime</th>\n",
       "      <th>price</th>\n",
       "    </tr>\n",
       "  </thead>\n",
       "  <tbody>\n",
       "    <tr>\n",
       "      <th>0</th>\n",
       "      <td>HBV00000NVZE8</td>\n",
       "      <td>None</td>\n",
       "      <td>Et, Balık, Şarküteri</td>\n",
       "      <td>Kırmızı Et</td>\n",
       "      <td>Dana Kıyma (%5-%7 Yağ) 250 gr</td>\n",
       "      <td>a0655eee-1267-4820-af21-ad8ac068ff7a</td>\n",
       "      <td>2020-06-01T08:59:16.406Z</td>\n",
       "      <td>14.48</td>\n",
       "    </tr>\n",
       "    <tr>\n",
       "      <th>1</th>\n",
       "      <td>HBV00000U2B18</td>\n",
       "      <td>Oral-B</td>\n",
       "      <td>Kişisel Bakım</td>\n",
       "      <td>Ağız Bakım</td>\n",
       "      <td>Diş Fırçası Yedek Başlığı Stages Çocuk 2 Adet</td>\n",
       "      <td>d2ea7bd3-9235-4a9f-a9ea-d7f296e71318</td>\n",
       "      <td>2020-06-01T08:59:46.580Z</td>\n",
       "      <td>49.90</td>\n",
       "    </tr>\n",
       "    <tr>\n",
       "      <th>2</th>\n",
       "      <td>OFIS3101-080</td>\n",
       "      <td>Noki</td>\n",
       "      <td>Oyuncak ve Kırtasiye</td>\n",
       "      <td>Dosyalama ve Arşivleme</td>\n",
       "      <td>Noki Dosya Çıtçıtlı Evrak Zarfı Kırmızı 3101 T...</td>\n",
       "      <td>5e594788-78a0-44dd-8e66-37022d48f691</td>\n",
       "      <td>2020-06-01T08:59:33.308Z</td>\n",
       "      <td>1.99</td>\n",
       "    </tr>\n",
       "    <tr>\n",
       "      <th>3</th>\n",
       "      <td>HBV00000NVZBW</td>\n",
       "      <td>None</td>\n",
       "      <td>Meyve ve Sebze</td>\n",
       "      <td>Sebze</td>\n",
       "      <td>Domates 500 gr</td>\n",
       "      <td>fdfeb652-22fa-4153-b9b5-4dfa0dcaffdf</td>\n",
       "      <td>2020-06-01T08:59:31.911Z</td>\n",
       "      <td>2.25</td>\n",
       "    </tr>\n",
       "    <tr>\n",
       "      <th>4</th>\n",
       "      <td>HBV00000NE0T4</td>\n",
       "      <td>Carrefour</td>\n",
       "      <td>Temel Gıda</td>\n",
       "      <td>Sıvı Yağ</td>\n",
       "      <td>Carrefour Ayçiçek Yağı 1 lt</td>\n",
       "      <td>9e9d4f7e-898c-40fb-aae9-256c40779933</td>\n",
       "      <td>2020-06-01T08:59:33.888Z</td>\n",
       "      <td>9.95</td>\n",
       "    </tr>\n",
       "  </tbody>\n",
       "</table>\n",
       "</div>"
      ],
      "text/plain": [
       "       productid      brand              category             subcategory  \\\n",
       "0  HBV00000NVZE8       None  Et, Balık, Şarküteri              Kırmızı Et   \n",
       "1  HBV00000U2B18     Oral-B         Kişisel Bakım              Ağız Bakım   \n",
       "2   OFIS3101-080       Noki  Oyuncak ve Kırtasiye  Dosyalama ve Arşivleme   \n",
       "3  HBV00000NVZBW       None        Meyve ve Sebze                   Sebze   \n",
       "4  HBV00000NE0T4  Carrefour            Temel Gıda                Sıvı Yağ   \n",
       "\n",
       "                                                name  \\\n",
       "0                      Dana Kıyma (%5-%7 Yağ) 250 gr   \n",
       "1      Diş Fırçası Yedek Başlığı Stages Çocuk 2 Adet   \n",
       "2  Noki Dosya Çıtçıtlı Evrak Zarfı Kırmızı 3101 T...   \n",
       "3                                     Domates 500 gr   \n",
       "4                        Carrefour Ayçiçek Yağı 1 lt   \n",
       "\n",
       "                              sessionid                 eventtime  price  \n",
       "0  a0655eee-1267-4820-af21-ad8ac068ff7a  2020-06-01T08:59:16.406Z  14.48  \n",
       "1  d2ea7bd3-9235-4a9f-a9ea-d7f296e71318  2020-06-01T08:59:46.580Z  49.90  \n",
       "2  5e594788-78a0-44dd-8e66-37022d48f691  2020-06-01T08:59:33.308Z   1.99  \n",
       "3  fdfeb652-22fa-4153-b9b5-4dfa0dcaffdf  2020-06-01T08:59:31.911Z   2.25  \n",
       "4  9e9d4f7e-898c-40fb-aae9-256c40779933  2020-06-01T08:59:33.888Z   9.95  "
      ]
     },
     "execution_count": 7,
     "metadata": {},
     "output_type": "execute_result"
    }
   ],
   "source": [
    "df = pd.merge(left=meta_df, right=events_df, how='right', on = 'productid')\n",
    "df.head()"
   ]
  },
  {
   "cell_type": "code",
   "execution_count": 8,
   "id": "7fb5fad3",
   "metadata": {},
   "outputs": [
    {
     "data": {
      "text/plain": [
       "(387656, 8)"
      ]
     },
     "execution_count": 8,
     "metadata": {},
     "output_type": "execute_result"
    }
   ],
   "source": [
    "df.shape"
   ]
  },
  {
   "cell_type": "code",
   "execution_count": 9,
   "id": "b868be30",
   "metadata": {},
   "outputs": [
    {
     "data": {
      "text/plain": [
       "productid      object\n",
       "brand          object\n",
       "category       object\n",
       "subcategory    object\n",
       "name           object\n",
       "sessionid      object\n",
       "eventtime      object\n",
       "price          object\n",
       "dtype: object"
      ]
     },
     "execution_count": 9,
     "metadata": {},
     "output_type": "execute_result"
    }
   ],
   "source": [
    "df.dtypes"
   ]
  },
  {
   "cell_type": "code",
   "execution_count": 10,
   "id": "b6393967",
   "metadata": {},
   "outputs": [
    {
     "data": {
      "text/plain": [
       "productid           6\n",
       "brand          131851\n",
       "category            6\n",
       "subcategory         6\n",
       "name                6\n",
       "sessionid           0\n",
       "eventtime           0\n",
       "price               6\n",
       "dtype: int64"
      ]
     },
     "execution_count": 10,
     "metadata": {},
     "output_type": "execute_result"
    }
   ],
   "source": [
    "df.isna().sum()"
   ]
  },
  {
   "cell_type": "code",
   "execution_count": 11,
   "id": "4451cd7c",
   "metadata": {},
   "outputs": [
    {
     "data": {
      "text/plain": [
       "productid           0\n",
       "brand          131845\n",
       "category            0\n",
       "subcategory         0\n",
       "name                0\n",
       "sessionid           0\n",
       "eventtime           0\n",
       "price               0\n",
       "dtype: int64"
      ]
     },
     "execution_count": 11,
     "metadata": {},
     "output_type": "execute_result"
    }
   ],
   "source": [
    "df = df[df.productid.notna()]\n",
    "df.isna().sum()"
   ]
  },
  {
   "cell_type": "code",
   "execution_count": 12,
   "id": "dedf8af4",
   "metadata": {},
   "outputs": [
    {
     "data": {
      "text/plain": [
       "0           Belirsiz\n",
       "1             Oral-B\n",
       "2               Noki\n",
       "3           Belirsiz\n",
       "4          Carrefour\n",
       "             ...    \n",
       "387651     Carrefour\n",
       "387652     Carrefour\n",
       "387653        Vernel\n",
       "387654    Carte D'or\n",
       "387655     Carrefour\n",
       "Name: brand, Length: 387650, dtype: object"
      ]
     },
     "execution_count": 12,
     "metadata": {},
     "output_type": "execute_result"
    }
   ],
   "source": [
    "df.brand = df.brand.fillna('Belirsiz')\n",
    "df.brand"
   ]
  },
  {
   "cell_type": "code",
   "execution_count": 13,
   "id": "f505da14",
   "metadata": {},
   "outputs": [
    {
     "data": {
      "text/plain": [
       "False"
      ]
     },
     "execution_count": 13,
     "metadata": {},
     "output_type": "execute_result"
    }
   ],
   "source": [
    "df.isna().values.any()"
   ]
  },
  {
   "cell_type": "code",
   "execution_count": 14,
   "id": "9a27bfae",
   "metadata": {},
   "outputs": [
    {
     "data": {
      "text/plain": [
       "350"
      ]
     },
     "execution_count": 14,
     "metadata": {},
     "output_type": "execute_result"
    }
   ],
   "source": [
    "df.duplicated().sum()"
   ]
  },
  {
   "cell_type": "code",
   "execution_count": 15,
   "id": "a20ee92e",
   "metadata": {},
   "outputs": [
    {
     "data": {
      "text/plain": [
       "(387300, 8)"
      ]
     },
     "execution_count": 15,
     "metadata": {},
     "output_type": "execute_result"
    }
   ],
   "source": [
    "df = df.drop_duplicates()\n",
    "df.shape"
   ]
  },
  {
   "cell_type": "code",
   "execution_count": 16,
   "id": "6044276e",
   "metadata": {},
   "outputs": [
    {
     "data": {
      "text/html": [
       "<div>\n",
       "<style scoped>\n",
       "    .dataframe tbody tr th:only-of-type {\n",
       "        vertical-align: middle;\n",
       "    }\n",
       "\n",
       "    .dataframe tbody tr th {\n",
       "        vertical-align: top;\n",
       "    }\n",
       "\n",
       "    .dataframe thead th {\n",
       "        text-align: right;\n",
       "    }\n",
       "</style>\n",
       "<table border=\"1\" class=\"dataframe\">\n",
       "  <thead>\n",
       "    <tr style=\"text-align: right;\">\n",
       "      <th></th>\n",
       "      <th>productid</th>\n",
       "      <th>sessionid</th>\n",
       "      <th>description</th>\n",
       "    </tr>\n",
       "  </thead>\n",
       "  <tbody>\n",
       "    <tr>\n",
       "      <th>0</th>\n",
       "      <td>HBV00000NVZE8</td>\n",
       "      <td>a0655eee-1267-4820-af21-ad8ac068ff7a</td>\n",
       "      <td>Belirsiz Et, Balık, Şarküteri Kırmızı Et Dana ...</td>\n",
       "    </tr>\n",
       "    <tr>\n",
       "      <th>1</th>\n",
       "      <td>HBV00000U2B18</td>\n",
       "      <td>d2ea7bd3-9235-4a9f-a9ea-d7f296e71318</td>\n",
       "      <td>Oral-B Kişisel Bakım Ağız Bakım Diş Fırçası Ye...</td>\n",
       "    </tr>\n",
       "    <tr>\n",
       "      <th>2</th>\n",
       "      <td>OFIS3101-080</td>\n",
       "      <td>5e594788-78a0-44dd-8e66-37022d48f691</td>\n",
       "      <td>Noki Oyuncak ve Kırtasiye Dosyalama ve Arşivle...</td>\n",
       "    </tr>\n",
       "    <tr>\n",
       "      <th>3</th>\n",
       "      <td>HBV00000NVZBW</td>\n",
       "      <td>fdfeb652-22fa-4153-b9b5-4dfa0dcaffdf</td>\n",
       "      <td>Belirsiz Meyve ve Sebze Sebze Domates 500 gr</td>\n",
       "    </tr>\n",
       "    <tr>\n",
       "      <th>4</th>\n",
       "      <td>HBV00000NE0T4</td>\n",
       "      <td>9e9d4f7e-898c-40fb-aae9-256c40779933</td>\n",
       "      <td>Carrefour Temel Gıda Sıvı Yağ Carrefour Ayçiçe...</td>\n",
       "    </tr>\n",
       "  </tbody>\n",
       "</table>\n",
       "</div>"
      ],
      "text/plain": [
       "       productid                             sessionid  \\\n",
       "0  HBV00000NVZE8  a0655eee-1267-4820-af21-ad8ac068ff7a   \n",
       "1  HBV00000U2B18  d2ea7bd3-9235-4a9f-a9ea-d7f296e71318   \n",
       "2   OFIS3101-080  5e594788-78a0-44dd-8e66-37022d48f691   \n",
       "3  HBV00000NVZBW  fdfeb652-22fa-4153-b9b5-4dfa0dcaffdf   \n",
       "4  HBV00000NE0T4  9e9d4f7e-898c-40fb-aae9-256c40779933   \n",
       "\n",
       "                                         description  \n",
       "0  Belirsiz Et, Balık, Şarküteri Kırmızı Et Dana ...  \n",
       "1  Oral-B Kişisel Bakım Ağız Bakım Diş Fırçası Ye...  \n",
       "2  Noki Oyuncak ve Kırtasiye Dosyalama ve Arşivle...  \n",
       "3       Belirsiz Meyve ve Sebze Sebze Domates 500 gr  \n",
       "4  Carrefour Temel Gıda Sıvı Yağ Carrefour Ayçiçe...  "
      ]
     },
     "execution_count": 16,
     "metadata": {},
     "output_type": "execute_result"
    }
   ],
   "source": [
    "data = df[['productid','brand','category','subcategory','name','sessionid']]\n",
    "description = data[['brand','category','subcategory','name']].astype(str).apply(lambda x: ' '.join(x), axis=1).to_frame('description')\n",
    "data = pd.concat([data,description], axis=1)\n",
    "data.drop(['brand','category','subcategory','name'], axis=1, inplace=True)\n",
    "data.head()"
   ]
  },
  {
   "cell_type": "code",
   "execution_count": 17,
   "id": "1bf40140",
   "metadata": {},
   "outputs": [],
   "source": [
    "meta_df.brand = meta_df.brand.fillna('Belirsiz')\n",
    "\n",
    "description = meta_df[['brand','category','subcategory','name']].astype(str).apply(lambda x: ' '.join(x), axis=1).to_frame('description')\n",
    "meta_data = pd.concat([meta_df,description], axis=1)\n"
   ]
  },
  {
   "cell_type": "code",
   "execution_count": 18,
   "id": "9c743778",
   "metadata": {},
   "outputs": [],
   "source": [
    "from sklearn.feature_extraction.text import CountVectorizer\n",
    "vectorizer = CountVectorizer()\n",
    "X = vectorizer.fit_transform(meta_data.description)\n"
   ]
  },
  {
   "cell_type": "code",
   "execution_count": 154,
   "id": "2bb862b5",
   "metadata": {},
   "outputs": [
    {
     "data": {
      "text/plain": [
       "array([[1.        , 0.        , 0.        , ..., 0.06362848, 0.06726728,\n",
       "        0.05337605],\n",
       "       [0.        , 1.        , 0.        , ..., 0.        , 0.        ,\n",
       "        0.        ],\n",
       "       [0.        , 0.        , 1.        , ..., 0.        , 0.        ,\n",
       "        0.        ],\n",
       "       ...,\n",
       "       [0.06362848, 0.        , 0.        , ..., 1.        , 0.66769786,\n",
       "        0.35320863],\n",
       "       [0.06726728, 0.        , 0.        , ..., 0.66769786, 1.        ,\n",
       "        0.32673202],\n",
       "       [0.05337605, 0.        , 0.        , ..., 0.35320863, 0.32673202,\n",
       "        1.        ]])"
      ]
     },
     "execution_count": 154,
     "metadata": {},
     "output_type": "execute_result"
    }
   ],
   "source": [
    "from sklearn.metrics.pairwise import cosine_similarity\n",
    "cs = cosine_similarity(X)\n",
    "cs"
   ]
  },
  {
   "cell_type": "code",
   "execution_count": 155,
   "id": "3fff0bb5",
   "metadata": {},
   "outputs": [],
   "source": [
    "input_product = meta_data.productid[0]\n",
    "input_productid=meta_data[meta_data.productid == input_product].index.values[0]\n",
    "scores = list(enumerate(cs[input_productid]))\n",
    "scores_sorted=sorted(scores, key=lambda x:x[1], reverse=True)[1:]\n"
   ]
  },
  {
   "cell_type": "code",
   "execution_count": 156,
   "id": "6aadf953",
   "metadata": {},
   "outputs": [
    {
     "name": "stdout",
     "output_type": "stream",
     "text": [
      "     Similar Products  \t\t\t\t\t  Similarity\n",
      "  1. Palette Kalıcı Doğal Renkler 10-0 AÇIK SARI               0.89\n",
      "  2. Palette Kalıcı Doğal Renkler 4-0 KAHVE                    0.88\n",
      "  3. Palette Kalıcı Doğal Renkler 1-0 SİYAH                    0.85\n",
      "  4. Palette Kalıcı Doğal Renkler 9-4 SAHRA SARISI             0.85\n",
      "  5. Palette Kalıcı Doğal Renkler 6-0 KOYU KUMRAL              0.85\n",
      "  6. Palette Kalıcı Doğal Renkler 1-1 GECE MAVİSİ              0.82\n",
      "  7. Palette Kalıcı Doğal Renkler 5-89 GECE KIZILI             0.82\n",
      "  8. Palette Kalıcı Doğal Renkler 6-70 BRONZ KAHVE             0.82\n",
      "  9. Palette Saç Boyası Kalıcı Doğal Renkler 4-0 Amber Kahve   0.81\n",
      " 10. Palette Saç Boyası Kalıcı Doğal Renkler 3-0 Koyu Kakao    0.81\n"
     ]
    }
   ],
   "source": [
    "print(f'     Similar Products  \\t\\t\\t\\t\\t  Similarity')\n",
    "j=0\n",
    "for score in scores_sorted:\n",
    "    recomm=meta_data[meta_data.index==score[0]]['name'].values\n",
    "    \n",
    "    print(f'{j+1:3}. {recomm[0]:55}   {scores_sorted[j][1]:.2f}')\n",
    "    j+=1\n",
    "    if j>9:\n",
    "        break"
   ]
  },
  {
   "cell_type": "code",
   "execution_count": null,
   "id": "a653c2e7",
   "metadata": {},
   "outputs": [],
   "source": [
    "\n",
    "\n",
    "\n",
    "\n",
    "\n",
    "\n",
    "\n",
    "\n",
    "\n",
    "\n",
    "\n",
    "\n",
    "\n",
    "\n",
    "\n",
    "\n",
    "\n",
    "\n",
    "\n"
   ]
  },
  {
   "cell_type": "code",
   "execution_count": null,
   "id": "c2a6834c",
   "metadata": {},
   "outputs": [],
   "source": []
  },
  {
   "cell_type": "code",
   "execution_count": 222,
   "id": "60d39790",
   "metadata": {},
   "outputs": [],
   "source": [
    "import re\n",
    "def data_cleaner(text):\n",
    "    text = re.sub(r',', '', text)\n",
    "    text = text.lower()\n",
    "    return text\n",
    "\n",
    "data.description = data.description.apply(data_cleaner)"
   ]
  },
  {
   "cell_type": "code",
   "execution_count": 233,
   "id": "80c497cf",
   "metadata": {},
   "outputs": [],
   "source": [
    "data.description= data.description.astype(str)"
   ]
  },
  {
   "cell_type": "code",
   "execution_count": 234,
   "id": "20767769",
   "metadata": {},
   "outputs": [
    {
     "data": {
      "text/plain": [
       "54442"
      ]
     },
     "execution_count": 234,
     "metadata": {},
     "output_type": "execute_result"
    }
   ],
   "source": [
    "sessions = data.sessionid.unique().tolist()\n",
    "len(sessions)"
   ]
  },
  {
   "cell_type": "code",
   "execution_count": 235,
   "id": "6c9feab2",
   "metadata": {},
   "outputs": [],
   "source": [
    "import random\n",
    "\n",
    "random.shuffle(sessions)\n",
    "\n",
    "# extract 90% of customer ID's\n",
    "sessions_train = [sessions[i] for i in range(round(0.9*len(sessions)))]\n",
    "\n",
    "# split data into train and validation set\n",
    "train_data = data[data.sessionid.isin(sessions_train)]\n",
    "validation_data = data[~data.sessionid.isin(sessions_train)]"
   ]
  },
  {
   "cell_type": "code",
   "execution_count": 236,
   "id": "b1d145a2",
   "metadata": {},
   "outputs": [
    {
     "data": {
      "text/html": [
       "<div>\n",
       "<style scoped>\n",
       "    .dataframe tbody tr th:only-of-type {\n",
       "        vertical-align: middle;\n",
       "    }\n",
       "\n",
       "    .dataframe tbody tr th {\n",
       "        vertical-align: top;\n",
       "    }\n",
       "\n",
       "    .dataframe thead th {\n",
       "        text-align: right;\n",
       "    }\n",
       "</style>\n",
       "<table border=\"1\" class=\"dataframe\">\n",
       "  <thead>\n",
       "    <tr style=\"text-align: right;\">\n",
       "      <th></th>\n",
       "      <th>productid</th>\n",
       "      <th>sessionid</th>\n",
       "      <th>description</th>\n",
       "    </tr>\n",
       "  </thead>\n",
       "  <tbody>\n",
       "    <tr>\n",
       "      <th>1</th>\n",
       "      <td>HBV00000U2B18</td>\n",
       "      <td>d2ea7bd3-9235-4a9f-a9ea-d7f296e71318</td>\n",
       "      <td>Oral-B Kişisel Bakım Ağız Bakım Diş Fırçası Ye...</td>\n",
       "    </tr>\n",
       "    <tr>\n",
       "      <th>2</th>\n",
       "      <td>OFIS3101-080</td>\n",
       "      <td>5e594788-78a0-44dd-8e66-37022d48f691</td>\n",
       "      <td>Noki Oyuncak ve Kırtasiye Dosyalama ve Arşivle...</td>\n",
       "    </tr>\n",
       "    <tr>\n",
       "      <th>3</th>\n",
       "      <td>HBV00000NVZBW</td>\n",
       "      <td>fdfeb652-22fa-4153-b9b5-4dfa0dcaffdf</td>\n",
       "      <td>Belirsiz Meyve ve Sebze Sebze Domates 500 gr</td>\n",
       "    </tr>\n",
       "    <tr>\n",
       "      <th>6</th>\n",
       "      <td>HBV00000O2SDO</td>\n",
       "      <td>86427bdb-4542-406d-b71b-e3bf4facd36c</td>\n",
       "      <td>Belirsiz Meyve ve Sebze Sebze Taze Fasulye 500 gr</td>\n",
       "    </tr>\n",
       "    <tr>\n",
       "      <th>7</th>\n",
       "      <td>HBV00000U2B4I</td>\n",
       "      <td>bf3a141e-ed91-4dfa-b4e1-de5aadf61d97</td>\n",
       "      <td>Şölen Atıştırmalık Bisküvi ve Kekler Şölen Ozm...</td>\n",
       "    </tr>\n",
       "  </tbody>\n",
       "</table>\n",
       "</div>"
      ],
      "text/plain": [
       "       productid                             sessionid  \\\n",
       "1  HBV00000U2B18  d2ea7bd3-9235-4a9f-a9ea-d7f296e71318   \n",
       "2   OFIS3101-080  5e594788-78a0-44dd-8e66-37022d48f691   \n",
       "3  HBV00000NVZBW  fdfeb652-22fa-4153-b9b5-4dfa0dcaffdf   \n",
       "6  HBV00000O2SDO  86427bdb-4542-406d-b71b-e3bf4facd36c   \n",
       "7  HBV00000U2B4I  bf3a141e-ed91-4dfa-b4e1-de5aadf61d97   \n",
       "\n",
       "                                         description  \n",
       "1  Oral-B Kişisel Bakım Ağız Bakım Diş Fırçası Ye...  \n",
       "2  Noki Oyuncak ve Kırtasiye Dosyalama ve Arşivle...  \n",
       "3       Belirsiz Meyve ve Sebze Sebze Domates 500 gr  \n",
       "6  Belirsiz Meyve ve Sebze Sebze Taze Fasulye 500 gr  \n",
       "7  Şölen Atıştırmalık Bisküvi ve Kekler Şölen Ozm...  "
      ]
     },
     "execution_count": 236,
     "metadata": {},
     "output_type": "execute_result"
    }
   ],
   "source": [
    "train_data.head()"
   ]
  },
  {
   "cell_type": "code",
   "execution_count": 237,
   "id": "3114f2aa",
   "metadata": {},
   "outputs": [],
   "source": [
    "import warnings;\n",
    "warnings.filterwarnings('ignore')\n",
    "\n",
    "from gensim.models import Word2Vec\n",
    "\n",
    "model = Word2Vec(window = 10, min_count=2,  sg = 1, hs = 0,\n",
    "                 negative = 10, # for negative sampling\n",
    "                 alpha=0.03, min_alpha=0.0007,\n",
    "                 seed = 42)\n",
    "model.build_vocab(data.description, progress_per=200)\n"
   ]
  },
  {
   "cell_type": "code",
   "execution_count": 238,
   "id": "75d36099",
   "metadata": {},
   "outputs": [
    {
     "data": {
      "text/plain": [
       "(65650076, 246501150)"
      ]
     },
     "execution_count": 238,
     "metadata": {},
     "output_type": "execute_result"
    }
   ],
   "source": [
    "model.train(data.description, total_examples = model.corpus_count, \n",
    "            epochs=10, report_delay=1)"
   ]
  },
  {
   "cell_type": "code",
   "execution_count": 239,
   "id": "812cdc26",
   "metadata": {},
   "outputs": [],
   "source": [
    "model.init_sims(replace=True)"
   ]
  },
  {
   "cell_type": "code",
   "execution_count": 240,
   "id": "87402518",
   "metadata": {},
   "outputs": [
    {
     "name": "stdout",
     "output_type": "stream",
     "text": [
      "Word2Vec(vocab=101, vector_size=100, alpha=0.03)\n"
     ]
    }
   ],
   "source": [
    "print(model)"
   ]
  },
  {
   "cell_type": "code",
   "execution_count": 241,
   "id": "423b7425",
   "metadata": {},
   "outputs": [],
   "source": [
    "products = data[[\"productid\", \"description\"]]\n",
    "\n",
    "# remove duplicates\n",
    "products.drop_duplicates(inplace=True, subset='productid', keep=\"last\")\n",
    "\n",
    "# create product-ID and product-description dictionary\n",
    "products_dict = products.groupby('productid')['description'].apply(list).to_dict()"
   ]
  },
  {
   "cell_type": "code",
   "execution_count": 242,
   "id": "b5c5fc9a",
   "metadata": {},
   "outputs": [
    {
     "data": {
      "text/plain": [
       "dict_keys(['AILEBIZIZSMTLDGY54', 'AILEBIZIZSMTLDHB18', 'AILEBS179526', 'AILEBSHSB22037', 'AILEDALIN275101', 'AILEDALIN275103', 'AILEDALIN275105', 'AILEDALIN275106', 'AILEDALIN275107', 'AILEDALIN275114', 'AILEDALIN275122', 'AILEDALIN275169', 'AILEEBBKB-56556', 'AILEEBBKR-W4472', 'AILEELITDIS5285B', 'AILEELITDIS5288B', 'AILEETI1811300', 'AILEETI3511300', 'AILEETI5311300', 'AILEFIMAN5299094', 'AILEHDMAR8967772', 'AILEHDMAR8967774', 'AILEHDMAR8967775', 'AILEHDMAR8967777', 'AILEHDMAR8967779', 'AILEHERO0595800', 'AILEHERO0595801', 'AILEHERO0598801', 'AILEHIPPTR2087', 'AILEHIPPTR2342', 'AILEHIPPTR2468', 'AILEHIPPTR2473', 'AILEHIPPTR2477', 'AILEHIPPTR2769', 'AILEHIPPTR2963', 'AILEHIPPTR3141', 'AILEHIPPTR3331', 'AILEHIPPTR3551', 'AILEHIPPTR4202', 'AILEHIPPTR4212', 'AILEHIPPTR4233', 'AILEHIPPTR4242', 'AILEHIPPTR4253', 'AILEHIPPTR4263', 'AILEHIPPTR4403', 'AILEHIPPTR5110', 'AILEHPULKERTMA201', 'AILEHPULKERTMA202', 'AILEHPULKERTMA204', 'AILEHPULKERTMA206', 'AILEHSBR36033', 'AILEHSBR53378', 'AILEHSBRA5417', 'AILEHYT5313', 'AILEMLP000363', 'AILEMLP000677', 'AILEMLP001032', 'AILEMLP004347', 'AILEMLP006792', 'AILEMLP006839', 'AILEMLP006853', 'AILEMLP008116', 'AILEMLP009304', 'AILEMLP1178', 'AILEMLP1451', 'AILEMLP14940', 'AILEMLP206238', 'AILEMLP45012649', 'AILEMLP5001063', 'AILEMLP5003548', 'AILEMLP5003555', 'AILEMLP5003562', 'AILEMLP514514', 'AILEMLP748087', 'AILEMLP895010', 'AILEMTTCBL16-CBK76', 'AILEMTTCCP76', 'AILEMTTDMT57', 'AILENIVEA80500', 'AILENIVEA80522', 'AILENIVEA80562', 'AILEPANEL207644', 'AILEUCIL6835', 'AILEUCUZACJKMNT7', 'AILEUNI9470217', 'AILEUNI9470219', 'AILEUNI9470226', 'AILEUNI9470228', 'AILEUNI9470231', 'AILEUNI9470247', 'DEKOMAK50812', 'DEKOMAK50813', 'DEKOMAK50821', 'EVFANAS2000', 'HBV0000000O7F', 'HBV0000000O7G', 'HBV0000000O7H', 'HBV0000000O7I', 'HBV0000000O7K', 'HBV0000000O7L', 'HBV0000000O7M', 'HBV0000000O7N', 'HBV0000000O7O', 'HBV0000000O7P', 'HBV0000000O7Q', 'HBV0000000O7R', 'HBV0000000O7S', 'HBV0000000O7T', 'HBV0000000O7U', 'HBV0000000O7V', 'HBV0000000PSI', 'HBV0000000SXW', 'HBV00000024OU', 'HBV00000026LF', 'HBV00000026LZ', 'HBV00000026QF', 'HBV00000026QP', 'HBV00000026R1', 'HBV00000026RL', 'HBV00000040D1', 'HBV00000040D5', 'HBV00000040D8', 'HBV00000040DM', 'HBV000000614Z', 'HBV0000006151', 'HBV0000008R1M', 'HBV0000008V89', 'HBV00000090EC', 'HBV000000EE9B', 'HBV000000EE9G', 'HBV000000JUER', 'HBV000000JUET', 'HBV000000JUEV', 'HBV000000JUF5', 'HBV000000KSLU', 'HBV000000KSN4', 'HBV000000LDSN', 'HBV000000LRY8', 'HBV000000NBY3', 'HBV000000NBYF', 'HBV000000NBYH', 'HBV000000NBYR', 'HBV000000NC26', 'HBV000000NC3K', 'HBV000000NC4A', 'HBV000000NC4M', 'HBV000000NC4Q', 'HBV000000ONLJ', 'HBV000000S6T8', 'HBV0000017RCE', 'HBV0000017RPP', 'HBV000001C3NJ', 'HBV000001FJ42', 'HBV000001FYBV', 'HBV000001JMA7', 'HBV000001K2OT', 'HBV000001K3CS', 'HBV000001K3DI', 'HBV000001MNPK', 'HBV000001MR4A', 'HBV000001RHU0', 'HBV000001RHW2', 'HBV000001ROWT', 'HBV000001ROXM', 'HBV000001UC1R', 'HBV000001V5O6', 'HBV000001W3TC', 'HBV000001ZUBD', 'HBV0000020P3E', 'HBV0000020P42', 'HBV0000020P44', 'HBV0000020P4A', 'HBV0000020P66', 'HBV0000020P6Q', 'HBV0000020P74', 'HBV0000020T2X', 'HBV0000020T2Z', 'HBV0000020T31', 'HBV0000020T37', 'HBV00000225D1', 'HBV0000025A1A', 'HBV000002A6R6', 'HBV000002B6KD', 'HBV000002B6KH', 'HBV000002KQAS', 'HBV000002KQAU', 'HBV000002NVY1', 'HBV000002NW94', 'HBV000002NW9A', 'HBV000002O5M7', 'HBV000002O5MB', 'HBV000002O5MF', 'HBV000002O5MJ', 'HBV000002O5ML', 'HBV000002O5MN', 'HBV000002O5N1', 'HBV000002O5N3', 'HBV000002O5N5', 'HBV000002O5NB', 'HBV000002O5ND', 'HBV000002O5NF', 'HBV000002O5NH', 'HBV000002PN7M', 'HBV000002PYBV', 'HBV000002QEXL', 'HBV000002QK6U', 'HBV000002QK6W', 'HBV000002QK6Y', 'HBV000002VU3S', 'HBV000002WHUX', 'HBV000002XD9P', 'HBV000002XD9R', 'HBV000002YWK6', 'HBV0000031A41', 'HBV0000031A45', 'HBV0000031X6Q', 'HBV0000032SG3', 'HBV0000036HCJ', 'HBV0000036HCL', 'HBV0000036HDA', 'HBV0000036HDC', 'HBV0000037Q60', 'HBV0000037Q68', 'HBV0000037Q6E', 'HBV0000037Q6I', 'HBV000003A42H', 'HBV000003A42N', 'HBV000003A44V', 'HBV000003B8B6', 'HBV000003G4DV', 'HBV000003GPSJ', 'HBV000003HNY4', 'HBV000003HO0C', 'HBV000003HO0G', 'HBV000003HXN9', 'HBV000003MOCN', 'HBV000003N45T', 'HBV000003Q0YP', 'HBV000003QR2G', 'HBV000003RHDD', 'HBV000003RHE5', 'HBV000003RHEF', 'HBV000003RHEH', 'HBV000003SQ3W', 'HBV000003W00B', 'HBV000003WCIR', 'HBV000003WCIT', 'HBV000003WZOU', 'HBV000003WZOW', 'HBV00000403AN', 'HBV0000040DA8', 'HBV0000040DAC', 'HBV0000040DAK', 'HBV0000040DB0', 'HBV0000040UXN', 'HBV0000040UXP', 'HBV0000042A7M', 'HBV0000042A7O', 'HBV0000042A7Q', 'HBV0000042A7S', 'HBV0000047U1G', 'HBV0000047XQO', 'HBV0000048150', 'HBV0000048152', 'HBV0000048TRR', 'HBV0000048TRT', 'HBV0000048TRV', 'HBV0000049XWS', 'HBV000004ADA3', 'HBV000004ADA5', 'HBV000004B8NH', 'HBV000004B8NN', 'HBV000004B8O5', 'HBV000004BXM8', 'HBV000004FX7G', 'HBV000004FX7K', 'HBV000004FX7M', 'HBV000004FX7O', 'HBV000004FYGE', 'HBV000004FYGG', 'HBV000004FYGI', 'HBV000004FYGK', 'HBV000004FYGM', 'HBV000004FYGS', 'HBV000004HJWX', 'HBV000004HJYR', 'HBV000004HJZU', 'HBV000004HK07', 'HBV000004HK0A', 'HBV000004HK0D', 'HBV000004HK0H', 'HBV000004HK0P', 'HBV000004HK0T', 'HBV000004HK1L', 'HBV000004HK1X', 'HBV000004HK2V', 'HBV000004HK2X', 'HBV000004HK31', 'HBV000004HK3Z', 'HBV000004LRXF', 'HBV000004M1FA', 'HBV000004M66H', 'HBV000004M66J', 'HBV000004QTAF', 'HBV000004QTJY', 'HBV000004TKZK', 'HBV000004U5LZ', 'HBV000004VDDZ', 'HBV000004VDF6', 'HBV000004VDFE', 'HBV000004VDFG', 'HBV000004VKUD', 'HBV000004VTF2', 'HBV000004Y0CW', 'HBV000004ZI4Z', 'HBV0000053SV6', 'HBV0000053SVA', 'HBV0000053SVG', 'HBV0000053SWM', 'HBV0000053TMU', 'HBV0000053U3A', 'HBV0000054IPN', 'HBV0000054IQ3', 'HBV0000054U9F', 'HBV0000054U9L', 'HBV0000055K0R', 'HBV0000055K0S', 'HBV0000056CP3', 'HBV0000056GDH', 'HBV0000056GDJ', 'HBV00000573F0', 'HBV0000058GO6', 'HBV000005CV1G', 'HBV000005DG4O', 'HBV000005DG5O', 'HBV000005DG5Q', 'HBV000005DG6E', 'HBV000005DG6I', 'HBV000005DG6W', 'HBV000005DG6Y', 'HBV000005DG70', 'HBV000005DG72', 'HBV000005DG76', 'HBV000005DG78', 'HBV000005DG7A', 'HBV000005DG7C', 'HBV000005E662', 'HBV000005ENAQ', 'HBV000005GD72', 'HBV000005HFEU', 'HBV000005HIJ8', 'HBV000005L0VT', 'HBV000005L0VV', 'HBV000005TBC7', 'HBV000005TBCD', 'HBV000005TBCN', 'HBV000005TBWN', 'HBV000005TC01', 'HBV000005X9M4', 'HBV000005X9M6', 'HBV000005X9M8', 'HBV000005X9MO', 'HBV000005X9NA', 'HBV000005X9NC', 'HBV000005X9NI', 'HBV000005ZDZ5', 'HBV000005ZDZ7', 'HBV000005ZSPS', 'HBV00000609OE', 'HBV00000609PC', 'HBV0000060X7O', 'HBV0000069XL4', 'HBV000006BPV7', 'HBV000006BTFX', 'HBV000006BTG5', 'HBV000006BTGI', 'HBV000006BTGO', 'HBV000006BTGR', 'HBV000006D2ZI', 'HBV000006D3CI', 'HBV000006D3DR', 'HBV000006D3SB', 'HBV000006D3SD', 'HBV000006D3SF', 'HBV000006GA3P', 'HBV000006GA3V', 'HBV000006GA4Z', 'HBV000006GA5F', 'HBV000006GA67', 'HBV000006GHSX', 'HBV000006GI4F', 'HBV000006IY7N', 'HBV000006IY9L', 'HBV000006IYA7', 'HBV000006IYAF', 'HBV000006IYAV', 'HBV000006IYBB', 'HBV000006IYBL', 'HBV000006IYBR', 'HBV000006IYD5', 'HBV000006IYDJ', 'HBV000006IYDL', 'HBV000006IYDN', 'HBV000006IYDT', 'HBV000006IYDZ', 'HBV000006IYE3', 'HBV000006IYE7', 'HBV000006IYE9', 'HBV000006IYFT', 'HBV000006IYG9', 'HBV000006IYH5', 'HBV000006IYIT', 'HBV000006IYJI', 'HBV000006IYJM', 'HBV000006IYKM', 'HBV000006IYKO', 'HBV000006IYKW', 'HBV000006IYL8', 'HBV000006IYLM', 'HBV000006IYLO', 'HBV000006IYMA', 'HBV000006IYNU', 'HBV000006IYOA', 'HBV000006IYOG', 'HBV000006IYOK', 'HBV000006IYOS', 'HBV000006IYPE', 'HBV000006IYPW', 'HBV000006IYQ6', 'HBV000006IYQ8', 'HBV000006IYT3', 'HBV000006IYTQ', 'HBV000006IYTS', 'HBV000006IYU4', 'HBV000006IYU6', 'HBV000006IYUA', 'HBV000006IYVT', 'HBV000006IYWI', 'HBV000006IYY4', 'HBV000006IYYA', 'HBV000006IYYM', 'HBV000006IYYQ', 'HBV000006IYZ5', 'HBV000006IZ02', 'HBV000006IZ08', 'HBV000006IZ1K', 'HBV000006IZ2K', 'HBV000006IZ57', 'HBV000006IZ6Z', 'HBV000006IZ7B', 'HBV000006IZ7L', 'HBV000006IZ7P', 'HBV000006IZ7R', 'HBV000006IZ7T', 'HBV000006IZ7V', 'HBV000006IZ8B', 'HBV000006IZ8D', 'HBV000006IZ8L', 'HBV000006IZ95', 'HBV000006IZ9B', 'HBV000006IZ9D', 'HBV000006IZBR', 'HBV000006IZCZ', 'HBV000006IZD1', 'HBV000006IZDJ', 'HBV000006IZDP', 'HBV000006IZED', 'HBV000006IZF8', 'HBV000006IZFA', 'HBV000006IZG1', 'HBV000006IZGJ', 'HBV000006IZGL', 'HBV000006IZGN', 'HBV000006IZHE', 'HBV000006IZHI', 'HBV000006IZHM', 'HBV000006IZHO', 'HBV000006IZL9', 'HBV000006IZLB', 'HBV000006IZLD', 'HBV000006J8WS', 'HBV000006J8Y5', 'HBV000006J8Y7', 'HBV000006JCVE', 'HBV000006JCYF', 'HBV000006JCZD', 'HBV000006MQ8R', 'HBV000006MQ8V', 'HBV000006MQ8X', 'HBV000006N352', 'HBV000006N354', 'HBV000006THC6', 'HBV000006UCBW', 'HBV000006Y7ST', 'HBV000006Y7TH', 'HBV000006Y7TJ', 'HBV000006Y7TP', 'HBV000006Y7TS', 'HBV000007ED3W', 'HBV000007ENGT', 'HBV000007EOCG', 'HBV000007GKAE', 'HBV000007HUBE', 'HBV000007JKCL', 'HBV000007KK63', 'HBV000007M8BP', 'HBV000007M8BT', 'HBV000007M8BX', 'HBV000007MNSU', 'HBV000007MNT2', 'HBV000007MNT4', 'HBV000007MNT6', 'HBV000007N2WJ', 'HBV000007NVUH', 'HBV000007OA0G', 'HBV000007R0HC', 'HBV000007R0HE', 'HBV000007R3AZ', 'HBV000007TXLY', 'HBV000007UFBN', 'HBV000007UFBP', 'HBV000007UXK6', 'HBV000007V5AK', 'HBV000007VDH2', 'HBV000007WPNZ', 'HBV000007ZDI9', 'HBV000007ZDIB', 'HBV00000802CK', 'HBV00000802CM', 'HBV00000802CQ', 'HBV00000802CS', 'HBV00000802CU', 'HBV00000802CW', 'HBV00000802D2', 'HBV00000802D4', 'HBV0000080SK3', 'HBV0000081YFE', 'HBV0000084X8H', 'HBV000008592A', 'HBV000008592C', 'HBV0000085HMF', 'HBV0000088LJV', 'HBV0000088OY2', 'HBV0000089QKF', 'HBV000008BACR', 'HBV000008BACV', 'HBV000008BACX', 'HBV000008BACZ', 'HBV000008CMMI', 'HBV000008CMOJ', 'HBV000008F61Y', 'HBV000008F620', 'HBV000008IYEC', 'HBV000008J85U', 'HBV000008N3QP', 'HBV000008NSHG', 'HBV000008NSHK', 'HBV000008NTFH', 'HBV000008OXZN', 'HBV000008P1PP', 'HBV000008Q04M', 'HBV000008QBGR', 'HBV000008QBGX', 'HBV000008QBH1', 'HBV000008QBH3', 'HBV000008RAA9', 'HBV000008RAAB', 'HBV000008RAIB', 'HBV000008RAID', 'HBV000008RAIR', 'HBV000008RAIX', 'HBV000008SJNM', 'HBV000008SJOK', 'HBV000008SJWI', 'HBV000008SJWM', 'HBV000008SJWO', 'HBV000008SJYU', 'HBV000008SJYW', 'HBV000008SJZC', 'HBV000008SK06', 'HBV000008SK54', 'HBV000008SK56', 'HBV000008VCFC', 'HBV000008VCFE', 'HBV000008WTGW', 'HBV000008WTH0', 'HBV000008WTQN', 'HBV000008ZWCN', 'HBV00000917KO', 'HBV00000917KQ', 'HBV00000917KS', 'HBV00000917KU', 'HBV00000917L0', 'HBV00000917L2', 'HBV00000917L4', 'HBV0000097EJO', 'HBV0000097EJQ', 'HBV0000097G2V', 'HBV0000098GH9', 'HBV0000098GHD', 'HBV0000098GHF', 'HBV0000098GHL', 'HBV0000098GHN', 'HBV0000098GHP', 'HBV0000099Y4O', 'HBV000009AT75', 'HBV000009AT77', 'HBV000009BUG0', 'HBV000009BUG7', 'HBV000009BUGC', 'HBV000009BUHH', 'HBV000009BUHK', 'HBV000009BUHM', 'HBV000009BUHP', 'HBV000009BUHZ', 'HBV000009BUI2', 'HBV000009BUI5', 'HBV000009BUIL', 'HBV000009BUJ3', 'HBV000009BUJO', 'HBV000009BUKR', 'HBV000009CRX2', 'HBV000009ELRK', 'HBV000009FFMQ', 'HBV000009FGOU', 'HBV000009GK01', 'HBV000009GK7L', 'HBV000009GK7N', 'HBV000009GKBC', 'HBV000009GKBE', 'HBV000009GKYM', 'HBV000009GKYU', 'HBV000009GKZK', 'HBV000009GL26', 'HBV000009GLA6', 'HBV000009GW48', 'HBV000009GWZK', 'HBV000009ILS2', 'HBV000009IV7W', 'HBV000009IWJU', 'HBV000009IWK8', 'HBV000009IWKG', 'HBV000009IWMM', 'HBV000009JMU6', 'HBV000009JMUE', 'HBV000009JVHG', 'HBV000009MC3W', 'HBV000009OI6Y', 'HBV000009OI76', 'HBV000009PEE7', 'HBV000009PEEB', 'HBV000009VMO0', 'HBV00000A0VLO', 'HBV00000A1PY7', 'HBV00000A3G9F', 'HBV00000A5AUV', 'HBV00000A5AUX', 'HBV00000A5LWX', 'HBV00000A5LWZ', 'HBV00000A5XWB', 'HBV00000A6L7A', 'HBV00000AAXOR', 'HBV00000ABCB9', 'HBV00000ABCBB', 'HBV00000ABCBD', 'HBV00000ABCBF', 'HBV00000ABCBH', 'HBV00000ABCBJ', 'HBV00000ABCBL', 'HBV00000ABCBN', 'HBV00000ACF40', 'HBV00000ADFGU', 'HBV00000ADIJZ', 'HBV00000ADIM4', 'HBV00000ADJSJ', 'HBV00000AHYSL', 'HBV00000AIKS0', 'HBV00000AIMMM', 'HBV00000AKERH', 'HBV00000AKGSN', 'HBV00000AKS50', 'HBV00000AL4M4', 'HBV00000AL4MA', 'HBV00000AM8TI', 'HBV00000ANKQP', 'HBV00000APN7B', 'HBV00000APN7J', 'HBV00000APN7L', 'HBV00000AQODK', 'HBV00000ASP48', 'HBV00000AVB3E', 'HBV00000AVQ65', 'HBV00000AVVTL', 'HBV00000AVVU2', 'HBV00000AVVU4', 'HBV00000AVVUC', 'HBV00000AWD9K', 'HBV00000AX6JH', 'HBV00000AX6KJ', 'HBV00000AX6KT', 'HBV00000AX6KX', 'HBV00000AX6KZ', 'HBV00000AX6L5', 'HBV00000AX6L9', 'HBV00000AX6LD', 'HBV00000AX6LF', 'HBV00000AX6LH', 'HBV00000AX6LL', 'HBV00000AX6LR', 'HBV00000AX6LT', 'HBV00000AX6LV', 'HBV00000AX6M9', 'HBV00000B07LZ', 'HBV00000B0MXK', 'HBV00000B1S7K', 'HBV00000B4EZC', 'HBV00000B9LDY', 'HBV00000BAXXG', 'HBV00000BBVI2', 'HBV00000BCIN3', 'HBV00000BCIN9', 'HBV00000BD1M5', 'HBV00000BE1FW', 'HBV00000BEY19', 'HBV00000BEY1B', 'HBV00000BGPLV', 'HBV00000BGPM2', 'HBV00000BGPM5', 'HBV00000BHIZ9', 'HBV00000BI0HN', 'HBV00000BI23C', 'HBV00000BJSNG', 'HBV00000BK7L3', 'HBV00000BK7L7', 'HBV00000BK7LL', 'HBV00000BK7LP', 'HBV00000BK7LT', 'HBV00000BK7MF', 'HBV00000BK7MN', 'HBV00000BK7MV', 'HBV00000BL5RO', 'HBV00000BLIFC', 'HBV00000BLIFF', 'HBV00000BLJBQ', 'HBV00000BN6QQ', 'HBV00000BN6QW', 'HBV00000BN6QY', 'HBV00000BN6SF', 'HBV00000BN6SH', 'HBV00000BN6T9', 'HBV00000BN6U5', 'HBV00000BOFBA', 'HBV00000BP0LA', 'HBV00000BP0LG', 'HBV00000BP4VB', 'HBV00000BQZNG', 'HBV00000BR1M2', 'HBV00000BRIB0', 'HBV00000BRIB2', 'HBV00000BRIB4', 'HBV00000BRUDZ', 'HBV00000BRUEP', 'HBV00000BS141', 'HBV00000BS145', 'HBV00000BS14J', 'HBV00000BS14P', 'HBV00000BS151', 'HBV00000BSAQC', 'HBV00000BSAQG', 'HBV00000BSD0W', 'HBV00000BSXD8', 'HBV00000BSXJX', 'HBV00000BSXLH', 'HBV00000BSXMZ', 'HBV00000BSXN1', 'HBV00000BSXN3', 'HBV00000BSXN7', 'HBV00000BSXN9', 'HBV00000BSXNB', 'HBV00000BSXPS', 'HBV00000BSXPU', 'HBV00000BT5B7', 'HBV00000BT5B9', 'HBV00000BT5BB', 'HBV00000BTKAW', 'HBV00000BYTJL', 'HBV00000BYTSE', 'HBV00000C0PW4', 'HBV00000C0PY2', 'HBV00000C3V6L', 'HBV00000C4IG1', 'HBV00000C4IG8', 'HBV00000C5YMC', 'HBV00000C5YME', 'HBV00000C5YMI', 'HBV00000C5YMK', 'HBV00000C74D7', 'HBV00000C74DK', 'HBV00000C74DM', 'HBV00000C76OT', 'HBV00000C9VLV', 'HBV00000C9VLX', 'HBV00000CCPN4', 'HBV00000CCPO9', 'HBV00000CDTCS', 'HBV00000CDTCU', 'HBV00000CE4HO', 'HBV00000CGETR', 'HBV00000CGMF8', 'HBV00000CGMFA', 'HBV00000CGMFC', 'HBV00000CGMFE', 'HBV00000CGMFG', 'HBV00000CGMFU', 'HBV00000CI7BK', 'HBV00000CIY2J', 'HBV00000CIY2N', 'HBV00000CIY33', 'HBV00000CLUGJ', 'HBV00000CLUGQ', 'HBV00000CN4NG', 'HBV00000CN4Q1', 'HBV00000CORC0', 'HBV00000CORC6', 'HBV00000CORDX', 'HBV00000CORGU', 'HBV00000CORLF', 'HBV00000CORLH', 'HBV00000CORLL', 'HBV00000CORLZ', 'HBV00000CORM1', 'HBV00000CORM3', 'HBV00000CORM9', 'HBV00000CORMJ', 'HBV00000CORML', 'HBV00000CORN5', 'HBV00000COROA', 'HBV00000COROC', 'HBV00000COROE', 'HBV00000COROG', 'HBV00000COSRN', 'HBV00000COSRP', 'HBV00000COTMP', 'HBV00000COTMR', 'HBV00000COTMV', 'HBV00000CQ7Z2', 'HBV00000CQFLZ', 'HBV00000CQFM1', 'HBV00000CQFM7', 'HBV00000CQFM9', 'HBV00000CQFMD', 'HBV00000CQFMF', 'HBV00000CQFMH', 'HBV00000CQFOF', 'HBV00000CQFOI', 'HBV00000CVPJW', 'HBV00000CVPJY', 'HBV00000CVSMP', 'HBV00000CYLT3', 'HBV00000CYM10', 'HBV00000CYM18', 'HBV00000D1F6N', 'HBV00000D1F6R', 'HBV00000D1F6Z', 'HBV00000D1O53', 'HBV00000D1PZK', 'HBV00000D1PZO', 'HBV00000D1PZU', 'HBV00000D1Q06', 'HBV00000D1Q08', 'HBV00000D1Q0A', 'HBV00000D1Q0G', 'HBV00000D1Q0K', 'HBV00000D1Q0W', 'HBV00000D1Q18', 'HBV00000D33H9', 'HBV00000D45GL', 'HBV00000D45HK', 'HBV00000D45I8', 'HBV00000D45Q5', 'HBV00000D54LU', 'HBV00000D54LY', 'HBV00000D54M6', 'HBV00000D54M8', 'HBV00000D56U9', 'HBV00000D56UB', 'HBV00000D6JTD', 'HBV00000D6JTV', 'HBV00000D9UEE', 'HBV00000DA3O0', 'HBV00000DB6J5', 'HBV00000DBTQU', 'HBV00000DBTQW', 'HBV00000DBTQY', 'HBV00000DBTR0', 'HBV00000DBTR2', 'HBV00000DBTR6', 'HBV00000DBYKM', 'HBV00000DEA09', 'HBV00000DF3CX', 'HBV00000DF3CZ', 'HBV00000DFA31', 'HBV00000DFA33', 'HBV00000DFYMB', 'HBV00000DHN1R', 'HBV00000DHWZH', 'HBV00000DJ28R', 'HBV00000DJ293', 'HBV00000DJ9HT', 'HBV00000DJ9K8', 'HBV00000DJ9KY', 'HBV00000DJ9LQ', 'HBV00000DJ9LU', 'HBV00000DJ9MC', 'HBV00000DJ9ME', 'HBV00000DJ9MI', 'HBV00000DJ9MZ', 'HBV00000DJ9NJ', 'HBV00000DJ9NP', 'HBV00000DJ9NV', 'HBV00000DJ9NX', 'HBV00000DJ9O1', 'HBV00000DJ9O3', 'HBV00000DJ9PH', 'HBV00000DJ9PJ', 'HBV00000DJ9PR', 'HBV00000DJ9Q7', 'HBV00000DJ9Q9', 'HBV00000DJ9QB', 'HBV00000DJ9QD', 'HBV00000DJ9QJ', 'HBV00000DJ9RJ', 'HBV00000DJ9RL', 'HBV00000DJ9S1', 'HBV00000DJ9SH', 'HBV00000DJ9TI', 'HBV00000DJ9TM', 'HBV00000DJ9TO', 'HBV00000DJ9U8', 'HBV00000DJ9UO', 'HBV00000DJ9WH', 'HBV00000DJ9X5', 'HBV00000DJ9Y5', 'HBV00000DJVIS', 'HBV00000DKA3X', 'HBV00000DKP1S', 'HBV00000DQACD', 'HBV00000DQAED', 'HBV00000DQAGD', 'HBV00000DQI5A', 'HBV00000DQI5C', 'HBV00000DQI5M', 'HBV00000DSP36', 'HBV00000DSP3A', 'HBV00000DSP3C', 'HBV00000DSP4O', 'HBV00000DSP4S', 'HBV00000DTLMC', 'HBV00000DW9NP', 'HBV00000DW9NR', 'HBV00000DW9NT', 'HBV00000DW9NZ', 'HBV00000DW9O1', 'HBV00000DWALI', 'HBV00000DWWTK', 'HBV00000DWWTM', 'HBV00000DX2YM', 'HBV00000E6W32', 'HBV00000E6W34', 'HBV00000E6YK4', 'HBV00000E7MNV', 'HBV00000E7W2V', 'HBV00000E865G', 'HBV00000E8NVO', 'HBV00000EAG67', 'HBV00000EAG6A', 'HBV00000EAPLQ', 'HBV00000EE3Q1', 'HBV00000EEF8P', 'HBV00000EEF8T', 'HBV00000EEF8X', 'HBV00000EEF8Z', 'HBV00000EEF99', 'HBV00000EEHBW', 'HBV00000EEHCZ', 'HBV00000EF0NM', 'HBV00000EH41D', 'HBV00000EH41F', 'HBV00000EILFX', 'HBV00000EIRG9', 'HBV00000EIRGB', 'HBV00000EL86G', 'HBV00000EL86I', 'HBV00000EL86M', 'HBV00000EL86O', 'HBV00000EL86S', 'HBV00000EL86Y', 'HBV00000EL870', 'HBV00000EL878', 'HBV00000EO5ZZ', 'HBV00000EO603', 'HBV00000EQ7TJ', 'HBV00000ES7K4', 'HBV00000ES89I', 'HBV00000ETT6X', 'HBV00000ETTFO', 'HBV00000ETVX0', 'HBV00000ETYFF', 'HBV00000ETYFH', 'HBV00000ETYFJ', 'HBV00000ETYFX', 'HBV00000EUNQT', 'HBV00000EUOKL', 'HBV00000EUOKN', 'HBV00000EUOKP', 'HBV00000EY2TX', 'HBV00000EZA72', 'HBV00000EZA74', 'HBV00000EZA76', 'HBV00000EZA78', 'HBV00000EZA7A', 'HBV00000EZA7C', 'HBV00000EZPNU', 'HBV00000EZPNW', 'HBV00000F1UIP', 'HBV00000F1UIT', 'HBV00000F29DO', 'HBV00000F2YZN', 'HBV00000F2YZT', 'HBV00000F2ZMZ', 'HBV00000F3FE5', 'HBV00000F5BSQ', 'HBV00000F8MGZ', 'HBV00000FHFIO', 'HBV00000FHGE8', 'HBV00000FJKLK', 'HBV00000FN9J3', 'HBV00000FN9J5', 'HBV00000FN9NK', 'HBV00000FNGOD', 'HBV00000FNKGJ', 'HBV00000FSLLH', 'HBV00000FSLR5', 'HBV00000FSLRU', 'HBV00000FZHV4', 'HBV00000G94AV', 'HBV00000G94AZ', 'HBV00000GAR5R', 'HBV00000GD84M', 'HBV00000GD84S', 'HBV00000GD85U', 'HBV00000GE2TI', 'HBV00000GE2TK', 'HBV00000GE2TM', 'HBV00000GE2TO', 'HBV00000GE2TQ', 'HBV00000GE2TS', 'HBV00000GEERH', 'HBV00000GEND6', 'HBV00000GENDH', 'HBV00000GENDW', 'HBV00000GENE3', 'HBV00000GENEH', 'HBV00000GENET', 'HBV00000GHB1N', 'HBV00000GI4SX', 'HBV00000GI4SZ', 'HBV00000GIAHB', 'HBV00000GIAHD', 'HBV00000GIVC6', 'HBV00000GIVD9', 'HBV00000GIVET', 'HBV00000GIVEX', 'HBV00000GIVG9', 'HBV00000GK0O6', 'HBV00000GK0OA', 'HBV00000GK0OC', 'HBV00000GK0OE', 'HBV00000GKHUV', 'HBV00000GKHUX', 'HBV00000GKHUZ', 'HBV00000GKHV1', 'HBV00000GLCQW', 'HBV00000GLCQY', 'HBV00000GLCR0', 'HBV00000GLHBO', 'HBV00000GLZ0X', 'HBV00000GLZDN', 'HBV00000GNAGQ', 'HBV00000GNAJD', 'HBV00000GNASY', 'HBV00000GNAW1', 'HBV00000GNAXL', 'HBV00000GNQZ8', 'HBV00000GQLN7', 'HBV00000GQLN9', 'HBV00000GQLNZ', 'HBV00000GR4TH', 'HBV00000GR4TJ', 'HBV00000GR4TL', 'HBV00000GR4TQ', 'HBV00000GR4TT', 'HBV00000GTES9', 'HBV00000GXW3D', 'HBV00000GYMOJ', 'HBV00000GYMOL', 'HBV00000H10I7', 'HBV00000H18AT', 'HBV00000H18AV', 'HBV00000H18B1', 'HBV00000H1L54', 'HBV00000H1O7F', 'HBV00000H1OH1', 'HBV00000H1YHA', 'HBV00000H1YJN', 'HBV00000H2GW6', 'HBV00000H2GW8', 'HBV00000H3RLA', 'HBV00000H3RLC', 'HBV00000H3RLE', 'HBV00000H4D1I', 'HBV00000H4D20', 'HBV00000H4D22', 'HBV00000H4H4M', 'HBV00000H4H94', 'HBV00000H4HC1', 'HBV00000H4NCG', 'HBV00000H4QYE', 'HBV00000H57WZ', 'HBV00000H59Q8', 'HBV00000H59QA', 'HBV00000H6H84', 'HBV00000H840O', 'HBV00000H8CAU', 'HBV00000H8CAW', 'HBV00000H9NXO', 'HBV00000H9NXQ', 'HBV00000HE7CW', 'HBV00000HEASQ', 'HBV00000HEASY', 'HBV00000HEAT0', 'HBV00000HFUJK', 'HBV00000HGRR2', 'HBV00000HH8ZM', 'HBV00000HHN54', 'HBV00000HHN58', 'HBV00000HHN5B', 'HBV00000HHN5I', 'HBV00000HHTZW', 'HBV00000HHU30', 'HBV00000HHU43', 'HBV00000HHU53', 'HBV00000HI662', 'HBV00000HI664', 'HBV00000HJ3IH', 'HBV00000HJ591', 'HBV00000HJ8K4', 'HBV00000HKHX9', 'HBV00000HKQ32', 'HBV00000HLU8Z', 'HBV00000HM8X2', 'HBV00000HM94Z', 'HBV00000HM95H', 'HBV00000HM95K', 'HBV00000HM95R', 'HBV00000HM968', 'HBV00000HM979', 'HBV00000HM98U', 'HBV00000HM99U', 'HBV00000HM9B3', 'HBV00000HMLJA', 'HBV00000HMLJC', 'HBV00000HMLJE', 'HBV00000HMLJG', 'HBV00000HN07W', 'HBV00000HN07Y', 'HBV00000HN082', 'HBV00000HNH1H', 'HBV00000HNH1N', 'HBV00000HRIEZ', 'HBV00000HRIF5', 'HBV00000HS4XL', 'HBV00000HS4XN', 'HBV00000HWAWO', 'HBV00000HWAWQ', 'HBV00000HWAX6', 'HBV00000HWV2L', 'HBV00000HXO32', 'HBV00000I26GT', 'HBV00000I6DS8', 'HBV00000I6DSA', 'HBV00000I6DT5', 'HBV00000I6DT7', 'HBV00000I7LUP', 'HBV00000I928M', 'HBV00000IB5H1', 'HBV00000ICEVM', 'HBV00000ICEVO', 'HBV00000IDME6', 'HBV00000IFRL5', 'HBV00000IFRL7', 'HBV00000IFRL9', 'HBV00000IFRLB', 'HBV00000IFRLF', 'HBV00000IFRLH', 'HBV00000IFRLL', 'HBV00000IFRLN', 'HBV00000IFRLP', 'HBV00000IFRLR', 'HBV00000IFRLT', 'HBV00000IFRLV', 'HBV00000IFZG0', 'HBV00000IFZG2', 'HBV00000IGEQX', 'HBV00000IGET2', 'HBV00000IGF3P', 'HBV00000IGM43', 'HBV00000IGQ6J', 'HBV00000IIGEZ', 'HBV00000IIGKV', 'HBV00000IIGKX', 'HBV00000IKI9S', 'HBV00000IKIEA', 'HBV00000IKMYL', 'HBV00000IKMYN', 'HBV00000IKMYP', 'HBV00000IKMYR', 'HBV00000IKMYV', 'HBV00000IKMZH', 'HBV00000IKMZJ', 'HBV00000IKMZL', 'HBV00000IKMZN', 'HBV00000IKMZT', 'HBV00000IKMZV', 'HBV00000IKMZX', 'HBV00000IKN0B', 'HBV00000IKN0D', 'HBV00000ILFQN', 'HBV00000ILFQS', 'HBV00000ILFQV', 'HBV00000ILFQZ', 'HBV00000ILFYH', 'HBV00000ILFYJ', 'HBV00000ILFYL', 'HBV00000ILFYP', 'HBV00000ILFYR', 'HBV00000IN60Y', 'HBV00000INHGJ', 'HBV00000INLAI', 'HBV00000INLAK', 'HBV00000INU56', 'HBV00000INU5A', 'HBV00000IQDIZ', 'HBV00000IQDKH', 'HBV00000IQDKR', 'HBV00000IRMZJ', 'HBV00000IY33K', 'HBV00000IZ3MJ', 'HBV00000J1FHT', 'HBV00000J22NW', 'HBV00000J27ZC', 'HBV00000J3UVC', 'HBV00000J3UVI', 'HBV00000J3UVO', 'HBV00000J3UVQ', 'HBV00000J3V6C', 'HBV00000J3V6E', 'HBV00000J57JI', 'HBV00000J59V5', 'HBV00000J5V8R', 'HBV00000J69O5', 'HBV00000J6AKJ', 'HBV00000J7REJ', 'HBV00000J8HWV', 'HBV00000JBKSK', 'HBV00000JBKSW', 'HBV00000JBKXS', 'HBV00000JBKY3', 'HBV00000JBKY5', 'HBV00000JBKY7', 'HBV00000JBKZH', 'HBV00000JBKZJ', 'HBV00000JBL09', 'HBV00000JBL0B', 'HBV00000JBL0D', 'HBV00000JBL0F', 'HBV00000JBL0H', 'HBV00000JBL0L', 'HBV00000JBL0N', 'HBV00000JBOUV', 'HBV00000JBOUX', 'HBV00000JBOUZ', 'HBV00000JBPI2', 'HBV00000JD30H', 'HBV00000JD30S', 'HBV00000JD30V', 'HBV00000JD31U', 'HBV00000JD31W', 'HBV00000JDAUB', 'HBV00000JDAUH', 'HBV00000JGI89', 'HBV00000JGI8B', 'HBV00000JGI8D', 'HBV00000JH0LP', 'HBV00000JHFRB', 'HBV00000JHID7', 'HBV00000JHIDH', 'HBV00000JHIDK', 'HBV00000JHIDM', 'HBV00000JHIDS', 'HBV00000JHIDV', 'HBV00000JHIDY', 'HBV00000JHIE0', 'HBV00000JHIE4', 'HBV00000JIT2Q', 'HBV00000JIXZB', 'HBV00000JIXZF', 'HBV00000JP1DH', 'HBV00000JRBH1', 'HBV00000JRZWU', 'HBV00000JSQJW', 'HBV00000JT7PY', 'HBV00000JT7Q1', 'HBV00000JT7QA', 'HBV00000JT7QF', 'HBV00000JTA3F', 'HBV00000JTA4J', 'HBV00000JTA4O', 'HBV00000JTA5N', 'HBV00000JU8WV', 'HBV00000JU8WX', 'HBV00000JUH71', 'HBV00000JUH7N', 'HBV00000JUH7P', 'HBV00000JUH7R', 'HBV00000JUH81', 'HBV00000JUH85', 'HBV00000JUH87', 'HBV00000JUH8F', 'HBV00000JUH8O', 'HBV00000JUH9J', 'HBV00000JUH9L', 'HBV00000JUHAH', 'HBV00000JUHAN', 'HBV00000JUHAR', 'HBV00000JUHAV', 'HBV00000JUHB6', 'HBV00000JUHBA', 'HBV00000JUHBC', 'HBV00000JUHBE', 'HBV00000JUHBG', 'HBV00000JUHBM', 'HBV00000JUHBO', 'HBV00000JUHCO', 'HBV00000JUHCS', 'HBV00000JUHCW', 'HBV00000JUHCY', 'HBV00000JUHD3', 'HBV00000JUHD5', 'HBV00000JUHEB', 'HBV00000JUHGI', 'HBV00000JUHHC', 'HBV00000JUHHG', 'HBV00000JUHHK', 'HBV00000JUHHQ', 'HBV00000JUHHS', 'HBV00000JUHHW', 'HBV00000JUHI4', 'HBV00000JUHIC', 'HBV00000JUHIM', 'HBV00000JUHIO', 'HBV00000JUHIU', 'HBV00000JUHIW', 'HBV00000JUHJ0', 'HBV00000JUHJ2', 'HBV00000JUHJ4', 'HBV00000JUHJG', 'HBV00000JUHJU', 'HBV00000JUHK2', 'HBV00000JUHK4', 'HBV00000JUHK8', 'HBV00000JUHKM', 'HBV00000JUHKQ', 'HBV00000JUHKS', 'HBV00000JUHKU', 'HBV00000JUHL2', 'HBV00000JUHL6', 'HBV00000JUHLC', 'HBV00000JUHLE', 'HBV00000JUHLG', 'HBV00000JUHLM', 'HBV00000JUHM8', 'HBV00000JUHMA', 'HBV00000JUHN2', 'HBV00000JUHNS', 'HBV00000JUHOY', 'HBV00000JUHP2', 'HBV00000JUHP4', 'HBV00000JUHTN', 'HBV00000JUHUU', 'HBV00000JUHW8', 'HBV00000JUHWA', 'HBV00000JUJ8D', 'HBV00000JUJ97', 'HBV00000JUJ9B', 'HBV00000JUJ9D', 'HBV00000JUJ9F', 'HBV00000JUJAB', 'HBV00000JUJAD', 'HBV00000JUJDM', 'HBV00000JVLX5', 'HBV00000JVXND', 'HBV00000JW2ZK', 'HBV00000JWWJZ', 'HBV00000JWWK5', 'HBV00000K07Y1', 'HBV00000K07Y8', 'HBV00000K07YB', 'HBV00000K07YY', 'HBV00000K0803', 'HBV00000K0807', 'HBV00000K0811', 'HBV00000K081J', 'HBV00000K081N', 'HBV00000KA97M', 'HBV00000KA989', 'HBV00000KBOKT', 'HBV00000KBOKZ', 'HBV00000KBOL7', 'HBV00000KCVUV', 'HBV00000KCVUZ', 'HBV00000KF8I1', 'HBV00000KGD5B', 'HBV00000KHB6I', 'HBV00000KJ6I0', 'HBV00000KJ95T', 'HBV00000KJMHN', 'HBV00000KKTBM', 'HBV00000KKTKN', 'HBV00000KMG0J', 'HBV00000KMIPX', 'HBV00000KMIPZ', 'HBV00000KVDG1', 'HBV00000KXY6S', 'HBV00000L3MSW', 'HBV00000L4ICL', 'HBV00000L4ICN', 'HBV00000L4ICR', 'HBV00000L4ICT', 'HBV00000L7AJR', 'HBV00000LEAFM', 'HBV00000LEB4G', 'HBV00000LF8YU', 'HBV00000LI4GZ', 'HBV00000LI4H1', 'HBV00000LJ35O', 'HBV00000LLD6C', 'HBV00000LM07X', 'HBV00000LMKWX', 'HBV00000LMKZX', 'HBV00000LML0I', 'HBV00000LML0N', 'HBV00000LML0Q', 'HBV00000LML17', 'HBV00000LML1M', 'HBV00000LML23', 'HBV00000LML36', 'HBV00000LML39', 'HBV00000LML3F', 'HBV00000LML58', 'HBV00000LML5S', 'HBV00000LML62', 'HBV00000LML65', 'HBV00000LML7W', 'HBV00000LML83', 'HBV00000LMMY4', 'HBV00000LMMY6', 'HBV00000LMMY8', 'HBV00000LMMYC', 'HBV00000LMZF8', 'HBV00000LMZFE', 'HBV00000LN48T', 'HBV00000LN48X', 'HBV00000LO304', 'HBV00000LQO3P', 'HBV00000LR0ZN', 'HBV00000LR9GG', 'HBV00000LR9GK', 'HBV00000LR9GM', 'HBV00000LR9GO', 'HBV00000LR9GQ', 'HBV00000LS3K6', 'HBV00000LS3KI', 'HBV00000LT9K3', 'HBV00000LZI5Z', 'HBV00000LZI61', 'HBV00000LZI63', 'HBV00000LZI67', 'HBV00000LZI6F', 'HBV00000LZI6J', 'HBV00000LZI6P', 'HBV00000LZI6Z', 'HBV00000LZI7D', 'HBV00000M0TNQ', 'HBV00000M0TNW', 'HBV00000M14H4', 'HBV00000M19WH', 'HBV00000M1PR8', 'HBV00000M4A5T', 'HBV00000M9HYH', 'HBV00000MCMM3', 'HBV00000MI9RY', 'HBV00000MK6J2', 'HBV00000MK6J4', 'HBV00000MKEF7', 'HBV00000MKZE7', 'HBV00000MKZEF', 'HBV00000MY50O', 'HBV00000MY5BR', 'HBV00000N3FMU', 'HBV00000N7W84', 'HBV00000NBA51', 'HBV00000NCGJB', 'HBV00000NCGJI', 'HBV00000NCGJK', 'HBV00000NCGMF', 'HBV00000NCGOS', 'HBV00000NCH1A', 'HBV00000NCH1D', 'HBV00000NCH26', 'HBV00000NCH2O', 'HBV00000NCH3L', 'HBV00000NCH3X', 'HBV00000NCH47', 'HBV00000NCH8G', 'HBV00000NCI0Y', 'HBV00000NCI12', 'HBV00000NE0PC', 'HBV00000NE0PF', 'HBV00000NE0PJ', 'HBV00000NE0PL', 'HBV00000NE0PN', 'HBV00000NE0PP', 'HBV00000NE0PR', 'HBV00000NE0PT', 'HBV00000NE0PV', 'HBV00000NE0PX', 'HBV00000NE0PZ', 'HBV00000NE0Q3', 'HBV00000NE0Q5', 'HBV00000NE0Q8', 'HBV00000NE0QC', 'HBV00000NE0QE', 'HBV00000NE0QI', 'HBV00000NE0QK', 'HBV00000NE0QM', 'HBV00000NE0QO', 'HBV00000NE0QQ', 'HBV00000NE0QS', 'HBV00000NE0QU', 'HBV00000NE0QW', 'HBV00000NE0QY', 'HBV00000NE0R2', 'HBV00000NE0R4', 'HBV00000NE0R8', 'HBV00000NE0RA', 'HBV00000NE0RD', 'HBV00000NE0RF', 'HBV00000NE0RH', 'HBV00000NE0RJ', 'HBV00000NE0RM', 'HBV00000NE0RO', 'HBV00000NE0RZ', 'HBV00000NE0S1', 'HBV00000NE0S5', 'HBV00000NE0S7', 'HBV00000NE0S9', 'HBV00000NE0SC', 'HBV00000NE0SG', 'HBV00000NE0SI', 'HBV00000NE0SK', 'HBV00000NE0SO', 'HBV00000NE0SQ', 'HBV00000NE0SS', 'HBV00000NE0SW', 'HBV00000NE0SY', 'HBV00000NE0T0', 'HBV00000NE0T2', 'HBV00000NE0T4', 'HBV00000NE0T6', 'HBV00000NE0T8', 'HBV00000NE0TA', 'HBV00000NE0TC', 'HBV00000NE0TH', 'HBV00000NE0TJ', 'HBV00000NE0TM', 'HBV00000NE0TQ', 'HBV00000NE0TS', 'HBV00000NE0TU', 'HBV00000NE0TW', 'HBV00000NE0TY', 'HBV00000NE0U0', 'HBV00000NE0U9', 'HBV00000NE0UK', 'HBV00000NE0UM', 'HBV00000NE0UO', 'HBV00000NE0UQ', 'HBV00000NE0US', 'HBV00000NE0UU', 'HBV00000NE0UW', 'HBV00000NE0UY', 'HBV00000NE0V1', 'HBV00000NE0V3', 'HBV00000NE0V8', 'HBV00000NE0VC', 'HBV00000NE0VG', 'HBV00000NE0VI', 'HBV00000NE0VK', 'HBV00000NE0VQ', 'HBV00000NE0VS', 'HBV00000NE0VW', 'HBV00000NE0VY', 'HBV00000NE0W0', 'HBV00000NE0W2', 'HBV00000NE0W4', 'HBV00000NE0W6', 'HBV00000NE0WG', 'HBV00000NE0WS', 'HBV00000NE0WU', 'HBV00000NE0WW', 'HBV00000NE0X1', 'HBV00000NE0X3', 'HBV00000NE0X5', 'HBV00000NE0X7', 'HBV00000NE0X9', 'HBV00000NE0XG', 'HBV00000NE0XI', 'HBV00000NE0XK', 'HBV00000NE0XM', 'HBV00000NE0XQ', 'HBV00000NE0XS', 'HBV00000NE0XU', 'HBV00000NE0XW', 'HBV00000NE0XY', 'HBV00000NE0Y4', 'HBV00000NE0Y6', 'HBV00000NE0YA', 'HBV00000NE0YC', 'HBV00000NE0YG', 'HBV00000NE0YI', 'HBV00000NE0YK', 'HBV00000NE0YM', 'HBV00000NE0YO', 'HBV00000NE0YQ', 'HBV00000NE0YU', 'HBV00000NE0YW', 'HBV00000NE0YY', 'HBV00000NE0Z0', 'HBV00000NE0Z4', 'HBV00000NE0Z6', 'HBV00000NE0Z8', 'HBV00000NE0ZA', 'HBV00000NE0ZF', 'HBV00000NE0ZJ', 'HBV00000NE0ZQ', 'HBV00000NE0ZU', 'HBV00000NE0ZW', 'HBV00000NE0ZY', 'HBV00000NE102', 'HBV00000NE104', 'HBV00000NE106', 'HBV00000NE108', 'HBV00000NE10A', 'HBV00000NE10C', 'HBV00000NE10E', 'HBV00000NE10J', 'HBV00000NE10L', 'HBV00000NE115', 'HBV00000NE117', 'HBV00000NE119', 'HBV00000NE11B', 'HBV00000NE11D', 'HBV00000NE11F', 'HBV00000NE11I', 'HBV00000NE11K', 'HBV00000NE11M', 'HBV00000NE11O', 'HBV00000NE11R', 'HBV00000NE11T', 'HBV00000NE12H', 'HBV00000NE12P', 'HBV00000NE12U', 'HBV00000NE12W', 'HBV00000NE12Y', 'HBV00000NE130', 'HBV00000NE132', 'HBV00000NE136', 'HBV00000NE138', 'HBV00000NE13C', 'HBV00000NE13J', 'HBV00000NE13L', 'HBV00000NE13N', 'HBV00000NE13R', 'HBV00000NE13T', 'HBV00000NE140', 'HBV00000NE144', 'HBV00000NE146', 'HBV00000NE148', 'HBV00000NE14C', 'HBV00000NE14I', 'HBV00000NE14M', 'HBV00000NE14O', 'HBV00000NE14Q', 'HBV00000NE150', 'HBV00000NE153', 'HBV00000NE155', 'HBV00000NE158', 'HBV00000NE15C', 'HBV00000NE15E', 'HBV00000NE15G', 'HBV00000NE15M', 'HBV00000NE15Q', 'HBV00000NE15T', 'HBV00000NE15W', 'HBV00000NE15Y', 'HBV00000NE160', 'HBV00000NE163', 'HBV00000NE167', 'HBV00000NE169', 'HBV00000NE16B', 'HBV00000NE16E', 'HBV00000NE16G', 'HBV00000NE16I', 'HBV00000NE16K', 'HBV00000NE16Q', 'HBV00000NE16S', 'HBV00000NE16U', 'HBV00000NE16W', 'HBV00000NE16Y', 'HBV00000NE170', 'HBV00000NE172', 'HBV00000NE174', 'HBV00000NE176', 'HBV00000NE178', 'HBV00000NE17A', 'HBV00000NE17C', 'HBV00000NE17E', 'HBV00000NE17K', 'HBV00000NE17M', 'HBV00000NE17O', 'HBV00000NE17Q', 'HBV00000NE17Y', 'HBV00000NE180', 'HBV00000NE182', 'HBV00000NE184', 'HBV00000NE18E', 'HBV00000NE18I', 'HBV00000NE18N', 'HBV00000NE18P', 'HBV00000NE18R', 'HBV00000NE18T', 'HBV00000NE18V', 'HBV00000NE18X', 'HBV00000NE18Z', 'HBV00000NE191', 'HBV00000NE193', 'HBV00000NE195', 'HBV00000NE197', 'HBV00000NE199', 'HBV00000NE19D', 'HBV00000NE19F', 'HBV00000NE19H', 'HBV00000NE19J', 'HBV00000NE19P', 'HBV00000NE19R', 'HBV00000NE19V', 'HBV00000NE19X', 'HBV00000NE19Z', 'HBV00000NE1A1', 'HBV00000NE1A3', 'HBV00000NE1A5', 'HBV00000NE1A7', 'HBV00000NE1A9', 'HBV00000NE1AB', 'HBV00000NE1AD', 'HBV00000NE1AF', 'HBV00000NE1AN', 'HBV00000NE1AP', 'HBV00000NE1AR', 'HBV00000NE1AT', 'HBV00000NE1AV', 'HBV00000NE1AX', 'HBV00000NE1AZ', 'HBV00000NE1B1', 'HBV00000NE1B3', 'HBV00000NE1B5', 'HBV00000NE1B7', 'HBV00000NE1BE', 'HBV00000NE1BG', 'HBV00000NE1BO', 'HBV00000NE1BS', 'HBV00000NE1BU', 'HBV00000NE1BW', 'HBV00000NE1BY', 'HBV00000NE1C4', 'HBV00000NE1C6', 'HBV00000NE1C8', 'HBV00000NE1CA', 'HBV00000NE1CE', 'HBV00000NE1CG', 'HBV00000NE1CQ', 'HBV00000NE1CS', 'HBV00000NE1CV', 'HBV00000NE1CX', 'HBV00000NE1CZ', 'HBV00000NE1D1', 'HBV00000NE1D3', 'HBV00000NE1D5', 'HBV00000NE1D7', 'HBV00000NE1D9', 'HBV00000NE1DC', 'HBV00000NE1DE', 'HBV00000NE1DG', 'HBV00000NE1DI', 'HBV00000NE1DK', 'HBV00000NE1DM', 'HBV00000NE1DO', 'HBV00000NE1DQ', 'HBV00000NE1DS', 'HBV00000NE1DW', 'HBV00000NE1DY', 'HBV00000NE1E0', 'HBV00000NE1E2', 'HBV00000NE1E4', 'HBV00000NE1E6', 'HBV00000NE1E9', 'HBV00000NE1ED', 'HBV00000NE1EH', 'HBV00000NE1EJ', 'HBV00000NE1EL', 'HBV00000NE1EN', 'HBV00000NE1EP', 'HBV00000NE1ER', 'HBV00000NE1ET', 'HBV00000NE1EV', 'HBV00000NE1EX', 'HBV00000NE1EZ', 'HBV00000NE1F1', 'HBV00000NE1F8', 'HBV00000NE1FA', 'HBV00000NE1FC', 'HBV00000NE1FE', 'HBV00000NE1FG', 'HBV00000NE1FK', 'HBV00000NE1FO', 'HBV00000NE1FQ', 'HBV00000NE1FU', 'HBV00000NE1FW', 'HBV00000NE1FY', 'HBV00000NE1G0', 'HBV00000NE1G4', 'HBV00000NE1GA', 'HBV00000NE1GC', 'HBV00000NE1GE', 'HBV00000NE1GG', 'HBV00000NE1GI', 'HBV00000NE1GK', 'HBV00000NE1GM', 'HBV00000NE1GO', 'HBV00000NE1GQ', 'HBV00000NE1GU', 'HBV00000NE1H0', 'HBV00000NE1HG', 'HBV00000NE1HJ', 'HBV00000NE1HL', 'HBV00000NE1HN', 'HBV00000NE1I9', 'HBV00000NE1IB', 'HBV00000NE1ID', 'HBV00000NE1IF', 'HBV00000NE1IL', 'HBV00000NE1IN', 'HBV00000NE1IP', 'HBV00000NE1IW', 'HBV00000NE1J1', 'HBV00000NE1J3', 'HBV00000NE1J5', 'HBV00000NE1J7', 'HBV00000NE1JD', 'HBV00000NE1JF', 'HBV00000NE1JK', 'HBV00000NE1JO', 'HBV00000NE1JR', 'HBV00000NE1JT', 'HBV00000NE1JZ', 'HBV00000NE1KC', 'HBV00000NE1KI', 'HBV00000NE1KK', 'HBV00000NE1KS', 'HBV00000NE1KX', 'HBV00000NE1LI', 'HBV00000NE1LK', 'HBV00000NE1LM', 'HBV00000NE1LU', 'HBV00000NE1LW', 'HBV00000NE1LY', 'HBV00000NE1M2', 'HBV00000NE1MD', 'HBV00000NE1MF', 'HBV00000NE1MH', 'HBV00000NE1MJ', 'HBV00000NE1MP', 'HBV00000NE1MV', 'HBV00000NE1MX', 'HBV00000NE1MZ', 'HBV00000NE1N4', 'HBV00000NE1N6', 'HBV00000NE1N8', 'HBV00000NE1NC', 'HBV00000NE1NE', 'HBV00000NE1NJ', 'HBV00000NE1NN', 'HBV00000NE1NP', 'HBV00000NE1NR', 'HBV00000NE1NT', 'HBV00000NE1NV', 'HBV00000NE1NX', 'HBV00000NE1O1', 'HBV00000NE1O3', 'HBV00000NE1O6', 'HBV00000NE1O8', 'HBV00000NE1OA', 'HBV00000NE1P6', 'HBV00000NE1P8', 'HBV00000NE1PA', 'HBV00000NE1PC', 'HBV00000NE1PE', 'HBV00000NE1PH', 'HBV00000NE1PJ', 'HBV00000NE1PL', 'HBV00000NE1PO', 'HBV00000NE1PQ', 'HBV00000NE1PS', 'HBV00000NE1PU', 'HBV00000NE1PW', 'HBV00000NE1PY', 'HBV00000NE1Q0', 'HBV00000NE1Q4', 'HBV00000NE1Q6', 'HBV00000NE1QC', 'HBV00000NE1QE', 'HBV00000NE1QG', 'HBV00000NE1QI', 'HBV00000NE1QK', 'HBV00000NE1QM', 'HBV00000NE1QO', 'HBV00000NE1QQ', 'HBV00000NE1QS', 'HBV00000NE1QU', 'HBV00000NE1QW', 'HBV00000NE1QY', 'HBV00000NE1R6', 'HBV00000NE1RA', 'HBV00000NE1RC', 'HBV00000NE1RE', 'HBV00000NE1RG', 'HBV00000NE1RI', 'HBV00000NE1RO', 'HBV00000NE1RQ', 'HBV00000NE1RS', 'HBV00000NE1RU', 'HBV00000NE1RW', 'HBV00000NE1RY', 'HBV00000NE1S0', 'HBV00000NE1S2', 'HBV00000NE1S4', 'HBV00000NE1S6', 'HBV00000NE1S8', 'HBV00000NE1SB', 'HBV00000NE1SD', 'HBV00000NE1SF', 'HBV00000NE1SH', 'HBV00000NE1SJ', 'HBV00000NE1SL', 'HBV00000NE1SN', 'HBV00000NE1SP', 'HBV00000NE1SR', 'HBV00000NE1ST', 'HBV00000NE1SY', 'HBV00000NE1T0', 'HBV00000NE1T2', 'HBV00000NE1T4', 'HBV00000NE1T6', 'HBV00000NE1TB', 'HBV00000NE1TF', 'HBV00000NE1TH', 'HBV00000NE1TJ', 'HBV00000NE1TL', 'HBV00000NE1TN', 'HBV00000NE1TP', 'HBV00000NE1TR', 'HBV00000NE1TT', 'HBV00000NE1TV', 'HBV00000NE1TY', 'HBV00000NE1U3', 'HBV00000NE1U5', 'HBV00000NE1U7', 'HBV00000NE1U9', 'HBV00000NE1UB', 'HBV00000NE1UD', 'HBV00000NE1US', 'HBV00000NE1UU', 'HBV00000NE1UX', 'HBV00000NE1UZ', 'HBV00000NE1V1', 'HBV00000NE1V3', 'HBV00000NE1VB', 'HBV00000NE1VD', 'HBV00000NE1VH', 'HBV00000NE1VJ', 'HBV00000NE1VL', 'HBV00000NE1VN', 'HBV00000NE1VR', 'HBV00000NE1VT', 'HBV00000NE1VV', 'HBV00000NE1VX', 'HBV00000NE1VZ', 'HBV00000NE1W1', 'HBV00000NE1W3', 'HBV00000NE1W5', 'HBV00000NE1W7', 'HBV00000NE1W9', 'HBV00000NE1WD', 'HBV00000NE1WR', 'HBV00000NE1WT', 'HBV00000NE1WV', 'HBV00000NE1WZ', 'HBV00000NE1X2', 'HBV00000NE1XD', 'HBV00000NE1XF', 'HBV00000NE1XH', 'HBV00000NE1XJ', 'HBV00000NE1XL', 'HBV00000NE1XN', 'HBV00000NE1XP', 'HBV00000NE1XR', 'HBV00000NE1XV', 'HBV00000NE1XX', 'HBV00000NE1XZ', 'HBV00000NE1Y1', 'HBV00000NE1Z3', 'HBV00000NE1Z6', 'HBV00000NE1ZF', 'HBV00000NE1ZH', 'HBV00000NE1ZJ', 'HBV00000NE1ZV', 'HBV00000NE1ZX', 'HBV00000NE1ZZ', 'HBV00000NE207', 'HBV00000NE209', 'HBV00000NE20N', 'HBV00000NE20P', 'HBV00000NE20R', 'HBV00000NE20T', 'HBV00000NE20V', 'HBV00000NE20X', 'HBV00000NE20Z', 'HBV00000NE211', 'HBV00000NE217', 'HBV00000NE21A', 'HBV00000NE21C', 'HBV00000NE21E', 'HBV00000NE21L', 'HBV00000NE21N', 'HBV00000NE21R', 'HBV00000NE21T', 'HBV00000NE21V', 'HBV00000NE221', 'HBV00000NE223', 'HBV00000NE225', 'HBV00000NE227', 'HBV00000NE229', 'HBV00000NE22N', 'HBV00000NE22P', 'HBV00000NE22R', 'HBV00000NE22T', 'HBV00000NE22V', 'HBV00000NE22X', 'HBV00000NE22Z', 'HBV00000NE231', 'HBV00000NE23H', 'HBV00000NE23M', 'HBV00000NE23O', 'HBV00000NE23R', 'HBV00000NE23X', 'HBV00000NE23Z', 'HBV00000NE241', 'HBV00000NE244', 'HBV00000NE249', 'HBV00000NE24B', 'HBV00000NE24D', 'HBV00000NE24F', 'HBV00000NE24H', 'HBV00000NE24J', 'HBV00000NE24N', 'HBV00000NE24P', 'HBV00000NE24R', 'HBV00000NE24T', 'HBV00000NE24Z', 'HBV00000NE251', 'HBV00000NE253', 'HBV00000NE257', 'HBV00000NE259', 'HBV00000NE25C', 'HBV00000NE25M', 'HBV00000NE25O', 'HBV00000NE25R', 'HBV00000NE25T', 'HBV00000NE25X', 'HBV00000NEEG1', 'HBV00000NEEG3', 'HBV00000NEZW8', 'HBV00000NEZWA', 'HBV00000NEZWC', 'HBV00000NEZWG', 'HBV00000NEZWI', 'HBV00000NEZWK', 'HBV00000NEZWM', 'HBV00000NEZWS', 'HBV00000NEZX0', 'HBV00000NEZX2', 'HBV00000NEZX6', 'HBV00000NEZX8', 'HBV00000NEZXA', 'HBV00000NEZXC', 'HBV00000NEZXK', 'HBV00000NEZXM', 'HBV00000NEZXU', 'HBV00000NFGNK', 'HBV00000NFGNO', 'HBV00000NFGO2', 'HBV00000NFGO4', 'HBV00000NFGO8', 'HBV00000NFGOC', 'HBV00000NFGOL', 'HBV00000NFGOP', 'HBV00000NFGOR', 'HBV00000NFGPA', 'HBV00000NFGPC', 'HBV00000NFGPE', 'HBV00000NFGPG', 'HBV00000NFGPK', 'HBV00000NFGPO', 'HBV00000NFGQ2', 'HBV00000NFGQ4', 'HBV00000NFGQ6', 'HBV00000NFGQ8', 'HBV00000NFGQC', 'HBV00000NFGQK', 'HBV00000NFGQQ', 'HBV00000NFGQW', 'HBV00000NFGR0', 'HBV00000NFGR4', 'HBV00000NFGR8', 'HBV00000NFGRA', 'HBV00000NFGRG', 'HBV00000NFGRI', 'HBV00000NFGRK', 'HBV00000NFGRM', 'HBV00000NFGRY', 'HBV00000NFGS2', 'HBV00000NFGSA', 'HBV00000NFGSE', 'HBV00000NFGSK', 'HBV00000NFGSQ', 'HBV00000NFGSU', 'HBV00000NFGSY', 'HBV00000NFGTA', 'HBV00000NFGTH', 'HBV00000NFGTL', 'HBV00000NFGTP', 'HBV00000NFGTT', 'HBV00000NFGTX', 'HBV00000NFGU4', 'HBV00000NFGU6', 'HBV00000NFGU8', 'HBV00000NFGUC', 'HBV00000NFGUH', 'HBV00000NFGUJ', 'HBV00000NFGUL', 'HBV00000NFGUN', 'HBV00000NFGUP', 'HBV00000NFGUR', 'HBV00000NFGUT', 'HBV00000NFGUV', 'HBV00000NFGUX', 'HBV00000NFGUZ', 'HBV00000NFGV1', 'HBV00000NFGVB', 'HBV00000NFGVD', 'HBV00000NFGVT', 'HBV00000NFGVV', 'HBV00000NFGVX', 'HBV00000NFGVZ', 'HBV00000NFGW3', 'HBV00000NFGWB', 'HBV00000NFGWF', 'HBV00000NFGWH', 'HBV00000NFGWJ', 'HBV00000NFGWN', 'HBV00000NFGWV', 'HBV00000NFGWX', 'HBV00000NFGWZ', 'HBV00000NFGX1', 'HBV00000NFGX3', 'HBV00000NFGX7', 'HBV00000NFGX9', 'HBV00000NFGXB', 'HBV00000NFGXD', 'HBV00000NFGXF', 'HBV00000NFGXH', 'HBV00000NFGXJ', 'HBV00000NFGXL', 'HBV00000NFGXN', 'HBV00000NFGXP', 'HBV00000NFGXR', 'HBV00000NFGXT', 'HBV00000NFGXV', 'HBV00000NFGXX', 'HBV00000NFGXZ', 'HBV00000NFGY1', 'HBV00000NFGYL', 'HBV00000NFGYN', 'HBV00000NFGYP', 'HBV00000NFGYR', 'HBV00000NFGYX', 'HBV00000NFGZ6', 'HBV00000NFGZ8', 'HBV00000NFGZB', 'HBV00000NFGZD', 'HBV00000NFGZF', 'HBV00000NFGZH', 'HBV00000NFGZJ', 'HBV00000NFGZL', 'HBV00000NFGZV', 'HBV00000NFGZZ', 'HBV00000NFH01', 'HBV00000NFH04', 'HBV00000NFH06', 'HBV00000NFH09', 'HBV00000NFH0P', 'HBV00000NFH0U', 'HBV00000NFH10', 'HBV00000NFH12', 'HBV00000NFH16', 'HBV00000NFH18', 'HBV00000NFH1A', 'HBV00000NFH1C', 'HBV00000NFH1E', 'HBV00000NFH1K', 'HBV00000NFH1M', 'HBV00000NFH1O', 'HBV00000NFH1Q', 'HBV00000NFH1U', 'HBV00000NFH1W', 'HBV00000NFH1Y', 'HBV00000NFH20', 'HBV00000NFH22', 'HBV00000NFH24', 'HBV00000NFH28', 'HBV00000NFH2G', 'HBV00000NFH2I', 'HBV00000NFH2M', 'HBV00000NFH2P', 'HBV00000NFH2R', 'HBV00000NFH2V', 'HBV00000NFH2X', 'HBV00000NFH2Z', 'HBV00000NFH31', 'HBV00000NFH3I', 'HBV00000NFH48', 'HBV00000NFH4B', 'HBV00000NFH4H', 'HBV00000NFH4J', 'HBV00000NFH4L', 'HBV00000NFH4N', 'HBV00000NFH4P', 'HBV00000NFH4R', 'HBV00000NFH4T', 'HBV00000NFH4Z', 'HBV00000NFH57', 'HBV00000NFH6P', 'HBV00000NFH6R', 'HBV00000NFH6V', 'HBV00000NFH6Z', 'HBV00000NFH73', 'HBV00000NFH75', 'HBV00000NFH7A', 'HBV00000NFH7G', 'HBV00000NFH7I', 'HBV00000NFH7K', 'HBV00000NFH89', 'HBV00000NFH8B', 'HBV00000NFH8D', 'HBV00000NFH8F', 'HBV00000NFH8H', 'HBV00000NFH8J', 'HBV00000NFH8M', 'HBV00000NFH8R', 'HBV00000NFH8T', 'HBV00000NFH8V', 'HBV00000NFH8X', 'HBV00000NFH8Z', 'HBV00000NFH91', 'HBV00000NFH93', 'HBV00000NFH95', 'HBV00000NFH97', 'HBV00000NFH9C', 'HBV00000NFH9E', 'HBV00000NFH9J', 'HBV00000NFH9L', 'HBV00000NFH9N', 'HBV00000NFH9P', 'HBV00000NFH9T', 'HBV00000NFHA0', 'HBV00000NFHA4', 'HBV00000NFHA6', 'HBV00000NFHA8', 'HBV00000NFHAA', 'HBV00000NFHAC', 'HBV00000NFHAE', 'HBV00000NFHAG', 'HBV00000NFHAI', 'HBV00000NFHAK', 'HBV00000NFHAM', 'HBV00000NFHAU', 'HBV00000NFHAZ', 'HBV00000NFHB1', 'HBV00000NFHB3', 'HBV00000NFHB5', 'HBV00000NFHB7', 'HBV00000NFHB9', 'HBV00000NFHBB', 'HBV00000NFHBG', 'HBV00000NFHBI', 'HBV00000NFHBM', 'HBV00000NFHBO', 'HBV00000NFHBQ', 'HBV00000NFHBW', 'HBV00000NFHBY', 'HBV00000NFHC0', 'HBV00000NFHC2', 'HBV00000NFHC4', 'HBV00000NFHC6', 'HBV00000NFHC8', 'HBV00000NFHCA', 'HBV00000NFHCC', 'HBV00000NFHCE', 'HBV00000NFHCG', 'HBV00000NFHCI', 'HBV00000NFHCK', 'HBV00000NFHCM', 'HBV00000NFHCQ', 'HBV00000NFHD0', 'HBV00000NFHD2', 'HBV00000NFHD7', 'HBV00000NFHDC', 'HBV00000NFHDL', 'HBV00000NFHDN', 'HBV00000NFHDP', 'HBV00000NFHDR', 'HBV00000NFHDY', 'HBV00000NFHE0', 'HBV00000NFHE2', 'HBV00000NFHE5', 'HBV00000NFHE9', 'HBV00000NFHEB', 'HBV00000NFHEE', 'HBV00000NFHEK', 'HBV00000NFHEX', 'HBV00000NFHEZ', 'HBV00000NFHFV', 'HBV00000NFHG1', 'HBV00000NFHG5', 'HBV00000NFHG7', 'HBV00000NFHG9', 'HBV00000NFHGB', 'HBV00000NFHGD', 'HBV00000NFHGF', 'HBV00000NFHGH', 'HBV00000NFHGJ', 'HBV00000NFHGL', 'HBV00000NFHGN', 'HBV00000NFHGP', 'HBV00000NFHGT', 'HBV00000NFHGX', 'HBV00000NFHGZ', 'HBV00000NFHH1', 'HBV00000NFHI1', 'HBV00000NFHI3', 'HBV00000NFHI5', 'HBV00000NFHI7', 'HBV00000NFHIB', 'HBV00000NFHID', 'HBV00000NFHIF', 'HBV00000NFHIJ', 'HBV00000NFHIL', 'HBV00000NFHIN', 'HBV00000NFHIP', 'HBV00000NFHIY', 'HBV00000NFHJ2', 'HBV00000NFHJ6', 'HBV00000NFHJ8', 'HBV00000NFHJA', 'HBV00000NFHJC', 'HBV00000NFHJE', 'HBV00000NFHJG', 'HBV00000NFHJR', 'HBV00000NFHJT', 'HBV00000NFHJV', 'HBV00000NFHJX', 'HBV00000NFHJZ', 'HBV00000NFHK1', 'HBV00000NFHK5', 'HBV00000NFHK7', 'HBV00000NFHKB', 'HBV00000NFHKD', 'HBV00000NFHKJ', 'HBV00000NFHKN', 'HBV00000NFHKT', 'HBV00000NFHKV', 'HBV00000NFHKX', 'HBV00000NFHKZ', 'HBV00000NFHL2', 'HBV00000NFHL6', 'HBV00000NFHLJ', 'HBV00000NFHLL', 'HBV00000NFHLN', 'HBV00000NFHLP', 'HBV00000NFHLT', 'HBV00000NFHLV', 'HBV00000NFHM1', 'HBV00000NFHM5', 'HBV00000NFHMI', 'HBV00000NFHMK', 'HBV00000NFHMM', 'HBV00000NFHMO', 'HBV00000NFHMQ', 'HBV00000NFHMS', 'HBV00000NFHN2', 'HBV00000NFHN4', 'HBV00000NFHN6', 'HBV00000NFHNA', 'HBV00000NFHNE', 'HBV00000NFHNG', 'HBV00000NFHNI', 'HBV00000NFHNK', 'HBV00000NFHNM', 'HBV00000NFHNS', 'HBV00000NFHNY', 'HBV00000NFHO2', 'HBV00000NFHO4', 'HBV00000NFHO6', 'HBV00000NFHO8', 'HBV00000NFHOB', 'HBV00000NFHOD', 'HBV00000NFHOV', 'HBV00000NFHOZ', 'HBV00000NFHP5', 'HBV00000NFHP7', 'HBV00000NFHPB', 'HBV00000NFHPD', 'HBV00000NFHPF', 'HBV00000NFHPH', 'HBV00000NFHPJ', 'HBV00000NFHPL', 'HBV00000NFHPN', 'HBV00000NFHPP', 'HBV00000NFHPR', 'HBV00000NFHPT', 'HBV00000NFHPW', 'HBV00000NFHPY', 'HBV00000NFHQK', 'HBV00000NFHQS', 'HBV00000NFHQY', 'HBV00000NFHR0', 'HBV00000NFHR2', 'HBV00000NFHR6', 'HBV00000NFHR8', 'HBV00000NFHRC', 'HBV00000NFHRM', 'HBV00000NFHRO', 'HBV00000NFHRS', 'HBV00000NFHS3', 'HBV00000NFHS5', 'HBV00000NFHS7', 'HBV00000NFHS9', 'HBV00000NFHSB', 'HBV00000NFHSE', 'HBV00000NFHSG', 'HBV00000NFHSI', 'HBV00000NFHSP', 'HBV00000NFHSW', 'HBV00000NFHUG', 'HBV00000NFHUI', 'HBV00000NFHUP', 'HBV00000NFHUR', 'HBV00000NFHV0', 'HBV00000NFHWP', 'HBV00000NFHWR', 'HBV00000NFHWT', 'HBV00000NFHX0', 'HBV00000NFHX2', 'HBV00000NFHX4', 'HBV00000NFHXJ', 'HBV00000NFHXL', 'HBV00000NFHXN', 'HBV00000NFHXP', 'HBV00000NFHXR', 'HBV00000NFHXT', 'HBV00000NFHXV', 'HBV00000NFHXX', 'HBV00000NFHZJ', 'HBV00000NFHZL', 'HBV00000NFHZN', 'HBV00000NFHZP', 'HBV00000NFHZR', 'HBV00000NFHZT', 'HBV00000NFI0I', 'HBV00000NFI0P', 'HBV00000NFI14', 'HBV00000NFI18', 'HBV00000NFI1A', 'HBV00000NFI1Z', 'HBV00000NFI23', 'HBV00000NFI25', 'HBV00000NFI27', 'HBV00000NFI29', 'HBV00000NFI3E', 'HBV00000NFI3G', 'HBV00000NFI3W', 'HBV00000NFI40', 'HBV00000NFI42', 'HBV00000NFI44', 'HBV00000NFI46', 'HBV00000NFI48', 'HBV00000NFI4A', 'HBV00000NFI4E', 'HBV00000NFI4G', 'HBV00000NFI4J', 'HBV00000NFI4L', 'HBV00000NFI4N', 'HBV00000NFI71', 'HBV00000NFI7L', 'HBV00000NFI7N', 'HBV00000NFI7P', 'HBV00000NFI7R', 'HBV00000NFI7T', 'HBV00000NFI7W', 'HBV00000NFI7Y', 'HBV00000NFI80', 'HBV00000NFI82', 'HBV00000NFI84', 'HBV00000NFI8Z', 'HBV00000NFI9F', 'HBV00000NFI9J', 'HBV00000NFI9L', 'HBV00000NFIAG', 'HBV00000NFIAO', 'HBV00000NFIAR', 'HBV00000NFIBS', 'HBV00000NFIBX', 'HBV00000NFICN', 'HBV00000NFICP', 'HBV00000NFIEK', 'HBV00000NFMIW', 'HBV00000NFMIY', 'HBV00000NFMJ2', 'HBV00000NFMJ4', 'HBV00000NFMJ6', 'HBV00000NFMJ8', 'HBV00000NFMJA', 'HBV00000NFMJC', 'HBV00000NFMJG', 'HBV00000NFMJI', 'HBV00000NFMJK', 'HBV00000NFMJQ', 'HBV00000NFMJX', 'HBV00000NFMJZ', 'HBV00000NFMKG', 'HBV00000NFMKI', 'HBV00000NFMKK', 'HBV00000NFMKM', 'HBV00000NFMKQ', 'HBV00000NFMKS', 'HBV00000NFMKU', 'HBV00000NFMKY', 'HBV00000NFML0', 'HBV00000NFML2', 'HBV00000NFML4', 'HBV00000NFML6', 'HBV00000NFML8', 'HBV00000NFMLA', 'HBV00000NFMLC', 'HBV00000NFMLE', 'HBV00000NFMLG', 'HBV00000NFMLI', 'HBV00000NFMLM', 'HBV00000NFMLO', 'HBV00000NFMLQ', 'HBV00000NFMLS', 'HBV00000NFMLU', 'HBV00000NFMLW', 'HBV00000NFMLY', 'HBV00000NFMM0', 'HBV00000NFMM2', 'HBV00000NFMM4', 'HBV00000NFMM6', 'HBV00000NFMM8', 'HBV00000NFMMA', 'HBV00000NFMMC', 'HBV00000NFMMQ', 'HBV00000NFMMS', 'HBV00000NFMMU', 'HBV00000NFMMW', 'HBV00000NFMMY', 'HBV00000NFMN0', 'HBV00000NFMN4', 'HBV00000NFMN6', 'HBV00000NFMNB', 'HBV00000NFMND', 'HBV00000NFMNF', 'HBV00000NFMNH', 'HBV00000NFMNJ', 'HBV00000NFMNR', 'HBV00000NFMO4', 'HBV00000NFMO9', 'HBV00000NFMOB', 'HBV00000NFMOD', 'HBV00000NFMOF', 'HBV00000NFMPO', 'HBV00000NFMPQ', 'HBV00000NFMPS', 'HBV00000NFMQ2', 'HBV00000NFMQ4', 'HBV00000NFMQD', 'HBV00000NFMQF', 'HBV00000NFMQI', 'HBV00000NFMQY', 'HBV00000NFMR0', 'HBV00000NFMR8', 'HBV00000NFMRA', 'HBV00000NFMRH', 'HBV00000NFMRJ', 'HBV00000NFMRL', 'HBV00000NFMRN', 'HBV00000NFMRP', 'HBV00000NFMRT', 'HBV00000NFMSE', 'HBV00000NFMSG', 'HBV00000NFMSP', 'HBV00000NFMSR', 'HBV00000NFMST', 'HBV00000NFMSW', 'HBV00000NFMU1', 'HBV00000NFMU3', 'HBV00000NFMU5', 'HBV00000NFMU7', 'HBV00000NFMU9', 'HBV00000NFMUB', 'HBV00000NFMUD', 'HBV00000NFMUF', 'HBV00000NFMUH', 'HBV00000NFMUJ', 'HBV00000NFMUL', 'HBV00000NFMUN', 'HBV00000NFMUP', 'HBV00000NFMW4', 'HBV00000NFRUH', 'HBV00000NFRV6', 'HBV00000NFRVC', 'HBV00000NFRW2', 'HBV00000NFRXB', 'HBV00000NFRXH', 'HBV00000NFRXJ', 'HBV00000NFRXN', 'HBV00000NFRXP', 'HBV00000NFRXU', 'HBV00000NFRYZ', 'HBV00000NFRZ1', 'HBV00000NFRZ3', 'HBV00000NG8FM', 'HBV00000NG8FO', 'HBV00000NG8FQ', 'HBV00000NG8FS', 'HBV00000NG8FU', 'HBV00000NG8FY', 'HBV00000NG8G0', 'HBV00000NG8G4', 'HBV00000NG8G6', 'HBV00000NG8G8', 'HBV00000NG8GA', 'HBV00000NG8GC', 'HBV00000NG8GE', 'HBV00000NG8GK', 'HBV00000NG8GM', 'HBV00000NG8GQ', 'HBV00000NG8GU', 'HBV00000NG8H0', 'HBV00000NG8H4', 'HBV00000NG8H6', 'HBV00000NG8HA', 'HBV00000NG8HF', 'HBV00000NG8HH', 'HBV00000NG8HJ', 'HBV00000NG8HL', 'HBV00000NG8HP', 'HBV00000NG8HR', 'HBV00000NG8HT', 'HBV00000NG8HV', 'HBV00000NG8HX', 'HBV00000NG8HZ', 'HBV00000NG8I1', 'HBV00000NG8ID', 'HBV00000NG8IH', 'HBV00000NG8IL', 'HBV00000NG8IP', 'HBV00000NG8IV', 'HBV00000NG8IX', 'HBV00000NG8IZ', 'HBV00000NG8J1', 'HBV00000NG8J5', 'HBV00000NG8J7', 'HBV00000NG8JB', 'HBV00000NG8JD', 'HBV00000NG8JF', 'HBV00000NG8JH', 'HBV00000NG8JJ', 'HBV00000NG8JL', 'HBV00000NG8JO', 'HBV00000NG8JQ', 'HBV00000NG8JU', 'HBV00000NG8JW', 'HBV00000NG8JY', 'HBV00000NG8K0', 'HBV00000NG8K2', 'HBV00000NG8K4', 'HBV00000NG8K6', 'HBV00000NG8K8', 'HBV00000NG8KA', 'HBV00000NG8KC', 'HBV00000NG8KE', 'HBV00000NG8KG', 'HBV00000NG8KI', 'HBV00000NG8KK', 'HBV00000NG8KM', 'HBV00000NG8KO', 'HBV00000NG8KS', 'HBV00000NG8KU', 'HBV00000NG8KW', 'HBV00000NG8L5', 'HBV00000NG8L7', 'HBV00000NG8L9', 'HBV00000NG8LB', 'HBV00000NG8LF', 'HBV00000NG8LH', 'HBV00000NG8LJ', 'HBV00000NG8LO', 'HBV00000NG8LQ', 'HBV00000NG8LS', 'HBV00000NG8LU', 'HBV00000NG8LW', 'HBV00000NG8LY', 'HBV00000NG8M3', 'HBV00000NG8M5', 'HBV00000NG8M7', 'HBV00000NG8M9', 'HBV00000NG8MH', 'HBV00000NG8MN', 'HBV00000NG8MP', 'HBV00000NG8MR', 'HBV00000NG8MT', 'HBV00000NG8MV', 'HBV00000NG8MX', 'HBV00000NG8MZ', 'HBV00000NG8N1', 'HBV00000NG8N9', 'HBV00000NG8NB', 'HBV00000NG8ND', 'HBV00000NG8NF', 'HBV00000NG8NH', 'HBV00000NG8NJ', 'HBV00000NG8NL', 'HBV00000NG8NN', 'HBV00000NG8NP', 'HBV00000NG8NR', 'HBV00000NG8NT', 'HBV00000NG8NV', 'HBV00000NG8NX', 'HBV00000NG8NZ', 'HBV00000NG8O1', 'HBV00000NG8O3', 'HBV00000NG8O5', 'HBV00000NG8O7', 'HBV00000NG8O9', 'HBV00000NG8OB', 'HBV00000NG8OD', 'HBV00000NG8OF', 'HBV00000NG8OH', 'HBV00000NG8OJ', 'HBV00000NG8OL', 'HBV00000NG8ON', 'HBV00000NG8OP', 'HBV00000NG8OR', 'HBV00000NG8OT', 'HBV00000NG8OX', 'HBV00000NG8OZ', 'HBV00000NG8P3', 'HBV00000NG8P7', 'HBV00000NG8P9', 'HBV00000NG8PD', 'HBV00000NG8PH', 'HBV00000NG8PP', 'HBV00000NG8PR', 'HBV00000NG8PV', 'HBV00000NG8PZ', 'HBV00000NG8Q7', 'HBV00000NG8Q9', 'HBV00000NG8QN', 'HBV00000NG8QP', 'HBV00000NG8QR', 'HBV00000NG8QT', 'HBV00000NG8QV', 'HBV00000NG8QX', 'HBV00000NG8QZ', 'HBV00000NG8R3', 'HBV00000NG8R7', 'HBV00000NG8R9', 'HBV00000NG8RB', 'HBV00000NG8RD', 'HBV00000NG8RF', 'HBV00000NG8RH', 'HBV00000NG8RJ', 'HBV00000NG8RN', 'HBV00000NG8RP', 'HBV00000NG8RR', 'HBV00000NG8RX', 'HBV00000NG8RZ', 'HBV00000NG8S1', 'HBV00000NG8S5', 'HBV00000NG8S7', 'HBV00000NG8S9', 'HBV00000NG8SB', 'HBV00000NG8SD', 'HBV00000NG8SF', 'HBV00000NG8SJ', 'HBV00000NG8SR', 'HBV00000NG8SX', 'HBV00000NG8T3', 'HBV00000NG8T5', 'HBV00000NG8TN', 'HBV00000NG8TP', 'HBV00000NG8TT', 'HBV00000NG8TV', 'HBV00000NG8U3', 'HBV00000NG8UB', 'HBV00000NG8UD', 'HBV00000NG8UF', 'HBV00000NG8UH', 'HBV00000NG8UJ', 'HBV00000NG8UL', 'HBV00000NG8UZ', 'HBV00000NG8V1', 'HBV00000NG8V3', 'HBV00000NG8V5', 'HBV00000NG8V7', 'HBV00000NG8V9', 'HBV00000NG8VB', 'HBV00000NG8VD', 'HBV00000NG8VH', 'HBV00000NG8VL', 'HBV00000NG8VT', 'HBV00000NG8VV', 'HBV00000NG8VX', 'HBV00000NG8W1', 'HBV00000NG8W5', 'HBV00000NG8W7', 'HBV00000NG8W9', 'HBV00000NG8WB', 'HBV00000NGA08', 'HBV00000NGA0A', 'HBV00000NGA0C', 'HBV00000NGA0E', 'HBV00000NGA0G', 'HBV00000NGA0Q', 'HBV00000NGA0S', 'HBV00000NGA0Y', 'HBV00000NGA1Q', 'HBV00000NGSQZ', 'HBV00000NGSR1', 'HBV00000NGSR3', 'HBV00000NGSR5', 'HBV00000NGSR7', 'HBV00000NGSR9', 'HBV00000NGSRB', 'HBV00000NGSRH', 'HBV00000NGSRJ', 'HBV00000NGSRL', 'HBV00000NGSRN', 'HBV00000NGSS5', 'HBV00000NGSS9', 'HBV00000NGSSB', 'HBV00000NGSSD', 'HBV00000NGSSO', 'HBV00000NGSSQ', 'HBV00000NGSSU', 'HBV00000NGST4', 'HBV00000NGST6', 'HBV00000NGST8', 'HBV00000NGSTA', 'HBV00000NGSTC', 'HBV00000NGSTE', 'HBV00000NGSTG', 'HBV00000NGSTI', 'HBV00000NGSTK', 'HBV00000NGSUF', 'HBV00000NGSUH', 'HBV00000NGXE1', 'HBV00000NGXEH', 'HBV00000NGXEM', 'HBV00000NGXEQ', 'HBV00000NGXEU', 'HBV00000NGXEX', 'HBV00000NGXF0', 'HBV00000NGXF4', 'HBV00000NGXF8', 'HBV00000NGXFE', 'HBV00000NGXFH', 'HBV00000NGXFL', 'HBV00000NGXG2', 'HBV00000NGXG8', 'HBV00000NGXGE', 'HBV00000NGXGG', 'HBV00000NGXGM', 'HBV00000NGXI4', 'HBV00000NGXI9', 'HBV00000NGXIE', 'HBV00000NGXR3', 'HBV00000NH2GJ', 'HBV00000NH2GL', 'HBV00000NH2GN', 'HBV00000NH2GP', 'HBV00000NH2GR', 'HBV00000NH2GT', 'HBV00000NH2GV', 'HBV00000NH2GX', 'HBV00000NH2GZ', 'HBV00000NH2H1', 'HBV00000NH2H3', 'HBV00000NH2H5', 'HBV00000NH2H7', 'HBV00000NH2H9', 'HBV00000NH2HF', 'HBV00000NH2LH', 'HBV00000NH2LJ', 'HBV00000NH2LL', 'HBV00000NS63O', 'HBV00000NVZ5Q', 'HBV00000NVZ5T', 'HBV00000NVZ5W', 'HBV00000NVZ5Y', 'HBV00000NVZ60', 'HBV00000NVZ62', 'HBV00000NVZ64', 'HBV00000NVZ66', 'HBV00000NVZ68', 'HBV00000NVZ6A', 'HBV00000NVZ6E', 'HBV00000NVZ6G', 'HBV00000NVZ6I', 'HBV00000NVZ6M', 'HBV00000NVZ6O', 'HBV00000NVZ6Q', 'HBV00000NVZ6S', 'HBV00000NVZ6U', 'HBV00000NVZ6Z', 'HBV00000NVZ71', 'HBV00000NVZ73', 'HBV00000NVZ75', 'HBV00000NVZ77', 'HBV00000NVZ79', 'HBV00000NVZ7B', 'HBV00000NVZ7D', 'HBV00000NVZ7F', 'HBV00000NVZ7H', 'HBV00000NVZ7J', 'HBV00000NVZ7M', 'HBV00000NVZ7O', 'HBV00000NVZ7Q', 'HBV00000NVZ81', 'HBV00000NVZ87', 'HBV00000NVZ89', 'HBV00000NVZ8B', 'HBV00000NVZ8D', 'HBV00000NVZ8L', 'HBV00000NVZ8N', 'HBV00000NVZ95', 'HBV00000NVZ9S', 'HBV00000NVZ9U', 'HBV00000NVZA0', 'HBV00000NVZA2', 'HBV00000NVZA8', 'HBV00000NVZAC', 'HBV00000NVZAI', 'HBV00000NVZAK', 'HBV00000NVZAM', 'HBV00000NVZAO', 'HBV00000NVZAS', 'HBV00000NVZAU', 'HBV00000NVZB2', 'HBV00000NVZB4', 'HBV00000NVZB6', 'HBV00000NVZB8', 'HBV00000NVZBA', 'HBV00000NVZBC', 'HBV00000NVZBG', 'HBV00000NVZBI', 'HBV00000NVZBO', 'HBV00000NVZBQ', 'HBV00000NVZBU', 'HBV00000NVZBW', 'HBV00000NVZBY', 'HBV00000NVZC0', 'HBV00000NVZC2', 'HBV00000NVZC4', 'HBV00000NVZC6', 'HBV00000NVZCE', 'HBV00000NVZCG', 'HBV00000NVZCK', 'HBV00000NVZCM', 'HBV00000NVZCW', 'HBV00000NVZD0', 'HBV00000NVZD6', 'HBV00000NVZDA', 'HBV00000NVZDI', 'HBV00000NVZDK', 'HBV00000NVZDQ', 'HBV00000NVZDS', 'HBV00000NVZDU', 'HBV00000NVZDW', 'HBV00000NVZE0', 'HBV00000NVZE4', 'HBV00000NVZE6', 'HBV00000NVZE8', 'HBV00000NVZEA', 'HBV00000NVZEC', 'HBV00000NVZEE', 'HBV00000NVZEQ', 'HBV00000NVZES', 'HBV00000NVZEW', 'HBV00000NVZF2', 'HBV00000NVZF8', 'HBV00000NVZFA', 'HBV00000NVZFI', 'HBV00000NVZFO', 'HBV00000NVZFS', 'HBV00000NVZFW', 'HBV00000NVZFY', 'HBV00000NVZG0', 'HBV00000NVZG6', 'HBV00000NVZGC', 'HBV00000NVZGE', 'HBV00000NVZGK', 'HBV00000NVZGM', 'HBV00000NVZGQ', 'HBV00000NVZGU', 'HBV00000NVZH2', 'HBV00000NVZH4', 'HBV00000NVZH6', 'HBV00000NVZH8', 'HBV00000NVZHC', 'HBV00000NVZHJ', 'HBV00000NVZHL', 'HBV00000NVZHO', 'HBV00000NVZHQ', 'HBV00000NVZHS', 'HBV00000NVZHU', 'HBV00000NVZI2', 'HBV00000NVZI4', 'HBV00000NVZI8', 'HBV00000NVZIA', 'HBV00000NVZIC', 'HBV00000NVZIE', 'HBV00000NVZIG', 'HBV00000NVZII', 'HBV00000NVZIL', 'HBV00000NVZIN', 'HBV00000NVZIP', 'HBV00000NVZIR', 'HBV00000NVZIT', 'HBV00000NVZIW', 'HBV00000NVZIY', 'HBV00000NVZJ0', 'HBV00000NVZJ6', 'HBV00000NVZJ8', 'HBV00000NVZJE', 'HBV00000NVZJI', 'HBV00000NVZJK', 'HBV00000NVZJM', 'HBV00000NVZJP', 'HBV00000NVZJU', 'HBV00000NVZJW', 'HBV00000NVZJY', 'HBV00000O2S1P', 'HBV00000O2S2G', 'HBV00000O2S2J', 'HBV00000O2S3W', 'HBV00000O2S4A', 'HBV00000O2S4F', 'HBV00000O2S5Y', 'HBV00000O2S62', 'HBV00000O2S67', 'HBV00000O2S6D', 'HBV00000O2S6L', 'HBV00000O2S6P', 'HBV00000O2S7F', 'HBV00000O2S7I', 'HBV00000O2S82', 'HBV00000O2S86', 'HBV00000O2S8F', 'HBV00000O2S8L', 'HBV00000O2S8R', 'HBV00000O2S8V', 'HBV00000O2S8X', 'HBV00000O2S8Z', 'HBV00000O2S91', 'HBV00000O2S93', 'HBV00000O2S95', 'HBV00000O2S97', 'HBV00000O2S99', 'HBV00000O2S9B', 'HBV00000O2SAF', 'HBV00000O2SAJ', 'HBV00000O2SAL', 'HBV00000O2SAP', 'HBV00000O2SAR', 'HBV00000O2SAT', 'HBV00000O2SAZ', 'HBV00000O2SB3', 'HBV00000O2SB5', 'HBV00000O2SBB', 'HBV00000O2SBJ', 'HBV00000O2SBL', 'HBV00000O2SBP', 'HBV00000O2SBV', 'HBV00000O2SBX', 'HBV00000O2SC1', 'HBV00000O2SC5', 'HBV00000O2SC9', 'HBV00000O2SCF', 'HBV00000O2SCH', 'HBV00000O2SCL', 'HBV00000O2SCP', 'HBV00000O2SCT', 'HBV00000O2SCZ', 'HBV00000O2SD5', 'HBV00000O2SDB', 'HBV00000O2SDJ', 'HBV00000O2SDO', 'HBV00000O2SDQ', 'HBV00000O2SE0', 'HBV00000O2SE2', 'HBV00000O2SE4', 'HBV00000O2SE6', 'HBV00000O2SE8', 'HBV00000O2SEA', 'HBV00000O2SEC', 'HBV00000O2SEM', 'HBV00000O2SES', 'HBV00000O2SEV', 'HBV00000O2SEZ', 'HBV00000O2SF1', 'HBV00000O2SF3', 'HBV00000O2SF8', 'HBV00000O2SFA', 'HBV00000O2SFC', 'HBV00000O2SFG', 'HBV00000O2SFK', 'HBV00000O2SFM', 'HBV00000O2SFU', 'HBV00000O2SG0', 'HBV00000O2SG8', 'HBV00000O2SGE', 'HBV00000O2SGG', 'HBV00000O2SGI', 'HBV00000O2SGK', 'HBV00000O2SGO', 'HBV00000O2SGQ', 'HBV00000O2SGS', 'HBV00000O2SH1', 'HBV00000O2SH3', 'HBV00000O2SH5', 'HBV00000O2SH9', 'HBV00000O2SHB', 'HBV00000O2SHK', 'HBV00000O2SHN', 'HBV00000O2SHP', 'HBV00000O2SHR', 'HBV00000O2SHY', 'HBV00000O2SI7', 'HBV00000O2SII', 'HBV00000O2SIK', 'HBV00000O2SIT', 'HBV00000O2SIV', 'HBV00000O2SIX', 'HBV00000O2SJ1', 'HBV00000O2SJF', 'HBV00000O2SJH', 'HBV00000O2SJL', 'HBV00000O2SJQ', 'HBV00000O2SJS', 'HBV00000O2SJW', 'HBV00000O2SK6', 'HBV00000O2SK8', 'HBV00000O2SKA', 'HBV00000O2SKC', 'HBV00000O2WTM', 'HBV00000O2WUD', 'HBV00000O3680', 'HBV00000O3C5H', 'HBV00000O3C5Q', 'HBV00000O3C5T', 'HBV00000O3C5V', 'HBV00000O3C5Y', 'HBV00000O3C6C', 'HBV00000O3C6E', 'HBV00000O3C6I', 'HBV00000O3C6M', 'HBV00000O3C6U', 'HBV00000O3C6X', 'HBV00000O3C6Z', 'HBV00000O3C71', 'HBV00000O3C77', 'HBV00000O3C79', 'HBV00000O3C7B', 'HBV00000O3C7E', 'HBV00000O3C7G', 'HBV00000O3C7I', 'HBV00000OE650', 'HBV00000OE66H', 'HBV00000OE66J', 'HBV00000OE66V', 'HBV00000OE69X', 'HBV00000OE6CC', 'HBV00000OE6CF', 'HBV00000OE6CM', 'HBV00000OE6DU', 'HBV00000OE6FJ', 'HBV00000OE6G2', 'HBV00000OE6HR', 'HBV00000OE6IB', 'HBV00000OE6IO', 'HBV00000OE6K3', 'HBV00000OE6LX', 'HBV00000OE6LZ', 'HBV00000OE6QA', 'HBV00000OE6QQ', 'HBV00000OE6QS', 'HBV00000OE6R0', 'HBV00000OE6R2', 'HBV00000OE6R4', 'HBV00000OE6R6', 'HBV00000OE6R8', 'HBV00000OE6RA', 'HBV00000OE6RC', 'HBV00000OE6SL', 'HBV00000OE78P', 'HBV00000OE7A6', 'HBV00000OE7AF', 'HBV00000OE7AO', 'HBV00000OE7AQ', 'HBV00000OE7AT', 'HBV00000OE7AX', 'HBV00000OE7B5', 'HBV00000OE7BC', 'HBV00000OE7BI', 'HBV00000OE7BW', 'HBV00000OE7BY', 'HBV00000OE7C0', 'HBV00000OE7C4', 'HBV00000OE7CH', 'HBV00000OE7CL', 'HBV00000OE7CN', 'HBV00000OE7CP', 'HBV00000OE7CU', 'HBV00000OE7D4', 'HBV00000OE7D6', 'HBV00000OE7DA', 'HBV00000OE7DF', 'HBV00000OE7DQ', 'HBV00000OE7ET', 'HBV00000OE7F8', 'HBV00000OE7FN', 'HBV00000OE7FS', 'HBV00000OE7FV', 'HBV00000OE7FX', 'HBV00000OE7GG', 'HBV00000OE7GK', 'HBV00000OE7GM', 'HBV00000OE7GO', 'HBV00000OE7H3', 'HBV00000OE7H9', 'HBV00000OE7HG', 'HBV00000OE7HI', 'HBV00000OE7HP', 'HBV00000OE7HX', 'HBV00000OE7I2', 'HBV00000OE7IV', 'HBV00000OE7J3', 'HBV00000OE7J7', 'HBV00000OE7JB', 'HBV00000OE7JD', 'HBV00000OE7JF', 'HBV00000OE7JJ', 'HBV00000OE7JX', 'HBV00000OE7JZ', 'HBV00000OE7K1', 'HBV00000OE7K3', 'HBV00000OE7K5', 'HBV00000OE7K7', 'HBV00000OE7KS', 'HBV00000OE7KW', 'HBV00000OE7KZ', 'HBV00000OE7L1', 'HBV00000OE7L3', 'HBV00000OE7L7', 'HBV00000OE7LX', 'HBV00000OE7M1', 'HBV00000OE7MF', 'HBV00000OE7ML', 'HBV00000OE7MN', 'HBV00000OE7MS', 'HBV00000OE7N8', 'HBV00000OE7NA', 'HBV00000OE7NC', 'HBV00000OE7NT', 'HBV00000OE7O4', 'HBV00000OE7O6', 'HBV00000OE7OA', 'HBV00000OE7OC', 'HBV00000OE7OV', 'HBV00000OE7P0', 'HBV00000OE7P5', 'HBV00000OE7P8', 'HBV00000OE7PF', 'HBV00000OE7PN', 'HBV00000OE7PW', 'HBV00000OE7Q0', 'HBV00000OE7Q4', 'HBV00000OE7Q6', 'HBV00000OE7Q8', 'HBV00000OE7QA', 'HBV00000OE7QC', 'HBV00000OE7QE', 'HBV00000OE7QI', 'HBV00000OE7QL', 'HBV00000OE7QQ', 'HBV00000OE7R7', 'HBV00000OE7R9', 'HBV00000OE7RL', 'HBV00000OE7RN', 'HBV00000OE7RV', 'HBV00000OE7SD', 'HBV00000OE7SF', 'HBV00000OE7SJ', 'HBV00000OE7SV', 'HBV00000OE7T4', 'HBV00000OE7T6', 'HBV00000OE7TL', 'HBV00000OE7TP', 'HBV00000OE7TT', 'HBV00000OE7U3', 'HBV00000OE7U5', 'HBV00000OE7UF', 'HBV00000OE7UN', 'HBV00000OE7UP', 'HBV00000OE7UX', 'HBV00000OE7UZ', 'HBV00000OE7V9', 'HBV00000OE7VB', 'HBV00000OE7VE', 'HBV00000OE7VI', 'HBV00000OE7VK', 'HBV00000OE7VS', 'HBV00000OE7WG', 'HBV00000OE7X5', 'HBV00000OE7X7', 'HBV00000OE7XB', 'HBV00000OE7XH', 'HBV00000OE7XN', 'HBV00000OE7XR', 'HBV00000OE7YN', 'HBV00000OE7ZB', 'HBV00000OE7ZF', 'HBV00000OE7ZJ', 'HBV00000OE7ZL', 'HBV00000OE7ZP', 'HBV00000OE80C', 'HBV00000OE80G', 'HBV00000OE80I', 'HBV00000OE80M', 'HBV00000OE80P', 'HBV00000OE80R', 'HBV00000OE810', 'HBV00000OE812', 'HBV00000OE817', 'HBV00000OE819', 'HBV00000OE81D', 'HBV00000OE81N', 'HBV00000OE81R', 'HBV00000OE81V', 'HBV00000OE81X', 'HBV00000OE81Z', 'HBV00000OE824', 'HBV00000OE82D', 'HBV00000OE82F', 'HBV00000OE82H', 'HBV00000OE82L', 'HBV00000OE82P', 'HBV00000OE835', 'HBV00000OE83D', 'HBV00000OE83P', 'HBV00000OE83T', 'HBV00000OE84X', 'HBV00000OE855', 'HBV00000OE87R', 'HBV00000OE87T', 'HBV00000OE87V', 'HBV00000OE87X', 'HBV00000OE87Z', 'HBV00000OE882', 'HBV00000OE884', 'HBV00000OE886', 'HBV00000OE88I', 'HBV00000OE88K', 'HBV00000OE88X', 'HBV00000OE88Z', 'HBV00000OE891', 'HBV00000OE895', 'HBV00000OE898', 'HBV00000OE89P', 'HBV00000OE89R', 'HBV00000OE8A3', 'HBV00000OE8A7', 'HBV00000OE8AG', 'HBV00000OE8AI', 'HBV00000OE8AK', 'HBV00000OE8AM', 'HBV00000OE8AQ', 'HBV00000OE8AS', 'HBV00000OE8AU', 'HBV00000OE8AW', 'HBV00000OE8AY', 'HBV00000OE8B0', 'HBV00000OE8B7', 'HBV00000OE8B9', 'HBV00000OE8BE', 'HBV00000OE8BG', 'HBV00000OE8BI', 'HBV00000OE8BP', 'HBV00000OE8BX', 'HBV00000OE8BZ', 'HBV00000OE8C3', 'HBV00000OE8C7', 'HBV00000OE8C9', 'HBV00000OE8CB', 'HBV00000OE8CD', 'HBV00000OE8XK', 'HBV00000OE8YY', 'HBV00000OE8Z1', 'HBV00000OE8ZL', 'HBV00000OE91K', 'HBV00000OE92Q', 'HBV00000OE92S', 'HBV00000OE935', 'HBV00000OE94H', 'HBV00000OE952', 'HBV00000OE955', 'HBV00000OE95O', 'HBV00000OEKVF', 'HBV00000OEKVJ', 'HBV00000OEKYX', 'HBV00000OEL2C', 'HBV00000OEL2Y', 'HBV00000OEL3E', 'HBV00000OEL3Q', 'HBV00000OEL54', 'HBV00000OEL58', 'HBV00000OEL5C', 'HBV00000OEL5O', 'HBV00000OEL6S', 'HBV00000OEL6U', 'HBV00000OEL70', 'HBV00000OEL72', 'HBV00000OEL74', 'HBV00000OEL76', 'HBV00000OEL7C', 'HBV00000OEL7G', 'HBV00000OEL7I', 'HBV00000OEL7Q', 'HBV00000OEL80', 'HBV00000OEL82', 'HBV00000OEL86', 'HBV00000OEL88', 'HBV00000OEL8C', 'HBV00000OEL8E', 'HBV00000OEL8G', 'HBV00000OEL8I', 'HBV00000OEL8O', 'HBV00000OEL8U', 'HBV00000OEL90', 'HBV00000OEL9E', 'HBV00000OEL9G', 'HBV00000OEL9I', 'HBV00000OEL9K', 'HBV00000OEL9M', 'HBV00000OEL9O', 'HBV00000OEL9Q', 'HBV00000OEL9W', 'HBV00000OEL9Y', 'HBV00000OELA2', 'HBV00000OELA8', 'HBV00000OELAC', 'HBV00000OELAG', 'HBV00000OELAK', 'HBV00000OELAM', 'HBV00000OELAO', 'HBV00000OELAU', 'HBV00000OELAW', 'HBV00000OELB0', 'HBV00000OELB8', 'HBV00000OELBA', 'HBV00000OELBE', 'HBV00000OELBG', 'HBV00000OELBI', 'HBV00000OELBK', 'HBV00000OELBS', 'HBV00000OELBU', 'HBV00000OELBW', 'HBV00000OELBY', 'HBV00000OELC0', 'HBV00000OELC2', 'HBV00000OELCA', 'HBV00000OELCC', 'HBV00000OELCE', 'HBV00000OELCG', 'HBV00000OELCS', 'HBV00000OELCU', 'HBV00000OELD6', 'HBV00000OELDE', 'HBV00000OELDI', 'HBV00000OELDK', 'HBV00000OELDM', 'HBV00000OELDO', 'HBV00000OELE6', 'HBV00000OELEA', 'HBV00000OELEO', 'HBV00000OELFE', 'HBV00000OFHVY', 'HBV00000OFHW3', 'HBV00000OFHW9', 'HBV00000OFHWD', 'HBV00000OFHWM', 'HBV00000OFHWS', 'HBV00000OFHWY', 'HBV00000OFHX1', 'HBV00000OFHX9', 'HBV00000OMGZY', 'HBV00000OMH0G', 'HBV00000OMH1H', 'HBV00000P7OKS', 'HBV00000P7QFW', 'HBV00000P7QFZ', 'HBV00000P7QG9', 'HBV00000P7QGE', 'HBV00000P7QGR', 'HBV00000P7QGT', 'HBV00000P7QHA', 'HBV00000P7QHC', 'HBV00000P7QHG', 'HBV00000P7QHI', 'HBV00000P7QHN', 'HBV00000P7QHR', 'HBV00000P7QHW', 'HBV00000P7QI2', 'HBV00000P7QI4', 'HBV00000P7QIV', 'HBV00000P7QJQ', 'HBV00000P7QKG', 'HBV00000P7QKU', 'HBV00000P7QL0', 'HBV00000P7QOU', 'HBV00000P7QOY', 'HBV00000P7QP5', 'HBV00000P7QPD', 'HBV00000P7QPT', 'HBV00000P7VBX', 'HBV00000P7VC5', 'HBV00000P7VC7', 'HBV00000P7VC9', 'HBV00000P7VCM', 'HBV00000P7VDI', 'HBV00000P7VFT', 'HBV00000P7VI7', 'HBV00000P7VIE', 'HBV00000P7VMN', 'HBV00000P7VMU', 'HBV00000P7VMW', 'HBV00000P7VMZ', 'HBV00000P7VN8', 'HBV00000P7VNA', 'HBV00000P7VNE', 'HBV00000P7VNI', 'HBV00000P7VNW', 'HBV00000P7VNZ', 'HBV00000P7VOD', 'HBV00000P7VOI', 'HBV00000P7VOK', 'HBV00000P7VOV', 'HBV00000P7VOZ', 'HBV00000P7VP1', 'HBV00000P7VP5', 'HBV00000P7VPE', 'HBV00000P7VPG', 'HBV00000P7VPK', 'HBV00000P7VPM', 'HBV00000P7VPQ', 'HBV00000P7VPS', 'HBV00000P7VPU', 'HBV00000P7VPW', 'HBV00000P7VPY', 'HBV00000P7VQ0', 'HBV00000P7VQ3', 'HBV00000P7VQ5', 'HBV00000P7VQ9', 'HBV00000P7VQB', 'HBV00000P7VQD', 'HBV00000P7VQF', 'HBV00000P7VQH', 'HBV00000P7VQY', 'HBV00000P7VR6', 'HBV00000P7VR8', 'HBV00000P7VRB', 'HBV00000P7VRJ', 'HBV00000P7VRP', 'HBV00000P7VRR', 'HBV00000P7VRT', 'HBV00000P7VRV', 'HBV00000P7VRX', 'HBV00000P7VS3', 'HBV00000P7VS5', 'HBV00000P7VS7', 'HBV00000P7VSA', 'HBV00000P7VSC', 'HBV00000P7VSP', 'HBV00000P7VST', 'HBV00000P7VSV', 'HBV00000P7VSX', 'HBV00000P7VSZ', 'HBV00000P7VT2', 'HBV00000P7VT4', 'HBV00000P7VT6', 'HBV00000P7W28', 'HBV00000P7W2A', 'HBV00000P7W2P', 'HBV00000P7W2S', 'HBV00000P7W2U', 'HBV00000P7W2W', 'HBV00000P7W2Y', 'HBV00000P7W31', 'HBV00000P7W33', 'HBV00000P7W37', 'HBV00000P7W3C', 'HBV00000P7W3E', 'HBV00000P7W3G', 'HBV00000P7W3I', 'HBV00000P7W3K', 'HBV00000P7W3O', 'HBV00000P7W3Q', 'HBV00000P7Z96', 'HBV00000P7Z9N', 'HBV00000P7Z9Q', 'HBV00000P7Z9T', 'HBV00000P7Z9W', 'HBV00000P7ZA2', 'HBV00000P7ZHC', 'HBV00000P7ZHE', 'HBV00000P7ZHG', 'HBV00000P7ZHI', 'HBV00000P7ZHK', 'HBV00000P7ZHO', 'HBV00000PGMYH', 'HBV00000PGMYJ', 'HBV00000PGMYN', 'HBV00000PGMYP', 'HBV00000PGMYR', 'HBV00000PGMYT', 'HBV00000PGMYX', 'HBV00000PGMYZ', 'HBV00000PGMZ1', 'HBV00000PKHJU', 'HBV00000PKHJW', 'HBV00000PKHJY', 'HBV00000PKHK0', 'HBV00000PKHK2', 'HBV00000PKHK4', 'HBV00000PKHK6', 'HBV00000PKHK8', 'HBV00000PLG92', 'HBV00000PLG96', 'HBV00000PLG9P', 'HBV00000PLGA1', 'HBV00000PLGAJ', 'HBV00000PLGAP', 'HBV00000PLGAR', 'HBV00000PLGAT', 'HBV00000PLGAY', 'HBV00000PLGB0', 'HBV00000PLGBK', 'HBV00000PLGBM', 'HBV00000PLGC2', 'HBV00000PLGC4', 'HBV00000PLGC9', 'HBV00000PLGCB', 'HBV00000PLGCD', 'HBV00000PLGCI', 'HBV00000PLGDH', 'HBV00000PLGDP', 'HBV00000PLGE6', 'HBV00000PLGE8', 'HBV00000PLGEA', 'HBV00000PLGF4', 'HBV00000PLGF6', 'HBV00000PLGFF', 'HBV00000PLGG3', 'HBV00000PLGG5', 'HBV00000PLGGB', 'HBV00000PLGGN', 'HBV00000PLGGR', 'HBV00000PLGGT', 'HBV00000PLGH9', 'HBV00000PLGHD', 'HBV00000PLGHS', 'HBV00000PLGHX', 'HBV00000PLGI5', 'HBV00000PLGI9', 'HBV00000PLGIM', 'HBV00000PLGIO', 'HBV00000PLGK5', 'HBV00000PLGKL', 'HBV00000PLGKS', 'HBV00000PLGKU', 'HBV00000PLGKW', 'HBV00000PLGKY', 'HBV00000PLGL4', 'HBV00000PLGL6', 'HBV00000PLGL8', 'HBV00000PLGLF', 'HBV00000PLGLJ', 'HBV00000PLGLL', 'HBV00000PLGLR', 'HBV00000PLGM2', 'HBV00000PLGM4', 'HBV00000PLGMD', 'HBV00000PLGMF', 'HBV00000PLGMH', 'HBV00000PLGMY', 'HBV00000PLGN0', 'HBV00000PLGNE', 'HBV00000PLGNP', 'HBV00000PLGNX', 'HBV00000PLGO2', 'HBV00000PLGO9', 'HBV00000PLGPU', 'HBV00000PLGQH', 'HBV00000PLGR3', 'HBV00000PLGR5', 'HBV00000PLGRX', 'HBV00000PLGS0', 'HBV00000PLGS2', 'HBV00000PLGS4', 'HBV00000PLGSB', 'HBV00000PLGSG', 'HBV00000PLGSI', 'HBV00000PLGSL', 'HBV00000PLGSX', 'HBV00000PLGSZ', 'HBV00000PLGT3', 'HBV00000PLGTB', 'HBV00000PLGTD', 'HBV00000PLGTP', 'HBV00000PLGTT', 'HBV00000PLGTV', 'HBV00000PLGTX', 'HBV00000PLGTZ', 'HBV00000PLGU7', 'HBV00000PLGUC', 'HBV00000PLGUE', 'HBV00000PLGUJ', 'HBV00000PLGUL', 'HBV00000PLGUT', 'HBV00000PLGV6', 'HBV00000PLGVG', 'HBV00000PLGVJ', 'HBV00000PLGVS', 'HBV00000PLGVW', 'HBV00000PLGW1', 'HBV00000PLGW3', 'HBV00000PLGW7', 'HBV00000PLGWF', 'HBV00000PLGWK', 'HBV00000PLGWO', 'HBV00000PLGWT', 'HBV00000PLGWV', 'HBV00000PLGX2', 'HBV00000PLGX4', 'HBV00000PLGX6', 'HBV00000PLGXE', 'HBV00000PLGXG', 'HBV00000PLGXI', 'HBV00000PLGXK', 'HBV00000PLGXM', 'HBV00000PLGXO', 'HBV00000PLGXQ', 'HBV00000PLGXS', 'HBV00000PLGXU', 'HBV00000PLGXW', 'HBV00000PLGXY', 'HBV00000PLGZC', 'HBV00000PLGZI', 'HBV00000PLH01', 'HBV00000PLH0L', 'HBV00000PLH0U', 'HBV00000PLH16', 'HBV00000PLH20', 'HBV00000PLH23', 'HBV00000PLH9B', 'HBV00000PLHAC', 'HBV00000PLHBZ', 'HBV00000PLHC8', 'HBV00000PLHCN', 'HBV00000PLHCY', 'HBV00000PLHD4', 'HBV00000PLHD6', 'HBV00000PLHD8', 'HBV00000PLHDC', 'HBV00000PLHDE', 'HBV00000PLHDG', 'HBV00000PLHDK', 'HBV00000PLHDM', 'HBV00000PLHDO', 'HBV00000PLHDQ', 'HBV00000PLHDU', 'HBV00000PLHE9', 'HBV00000PLHEE', 'HBV00000PLHEI', 'HBV00000PLHEK', 'HBV00000PLHES', 'HBV00000PLHEU', 'HBV00000PLHEY', 'HBV00000PLHFE', 'HBV00000PLHFO', 'HBV00000PLHFS', 'HBV00000PLHFU', 'HBV00000PLHFX', 'HBV00000PLHG1', 'HBV00000PLHG9', 'HBV00000PLHGG', 'HBV00000PLHGI', 'HBV00000PLHK8', 'HBV00000PNG4G', 'HBV00000PNG4M', 'HBV00000PNG4Q', 'HBV00000PNG54', 'HBV00000PNG56', 'HBV00000PNG58', 'HBV00000PNG5A', 'HBV00000PNG5M', 'HBV00000PNG5Q', 'HBV00000PNG5S', 'HBV00000PNG5U', 'HBV00000PNG5W', 'HBV00000PNG5Y', 'HBV00000PNG64', 'HBV00000PNG6D', 'HBV00000PNG6J', 'HBV00000PNG6V', 'HBV00000PNG77', 'HBV00000PNG7V', 'HBV00000PNG81', 'HBV00000PNG83', 'HBV00000PNG8B', 'HBV00000PNG8D', 'HBV00000PNG8F', 'HBV00000PNG8H', 'HBV00000PNG8L', 'HBV00000PNG8N', 'HBV00000PNG8T', 'HBV00000PNG8V', 'HBV00000PNG8X', 'HBV00000PNG8Z', 'HBV00000PNG93', 'HBV00000PNG95', 'HBV00000PNG97', 'HBV00000PNG99', 'HBV00000PNG9B', 'HBV00000PNG9D', 'HBV00000PNG9F', 'HBV00000PNG9H', 'HBV00000PNG9J', 'HBV00000PNG9L', 'HBV00000PNG9N', 'HBV00000PNG9P', 'HBV00000PNG9R', 'HBV00000PNG9T', 'HBV00000PNG9V', 'HBV00000PNG9X', 'HBV00000PNG9Z', 'HBV00000PNGA1', 'HBV00000PNGA6', 'HBV00000PNGA8', 'HBV00000PNGAA', 'HBV00000PNGAG', 'HBV00000PNGAI', 'HBV00000PNGAK', 'HBV00000PNGAO', 'HBV00000PNGAS', 'HBV00000PNGAU', 'HBV00000PNGAW', 'HBV00000PNGAY', 'HBV00000PNGB0', 'HBV00000PNGB2', 'HBV00000PNGB4', 'HBV00000PNGB6', 'HBV00000PNGB8', 'HBV00000PNGBA', 'HBV00000PNGBE', 'HBV00000PNGBG', 'HBV00000PNGBI', 'HBV00000PNGBK', 'HBV00000PNGBO', 'HBV00000PNGBQ', 'HBV00000PNGBS', 'HBV00000PNGC0', 'HBV00000PNGC2', 'HBV00000PNGC4', 'HBV00000PNGC6', 'HBV00000PNGC8', 'HBV00000PNGCA', 'HBV00000PNGCC', 'HBV00000PNGCI', 'HBV00000PNGCK', 'HBV00000PNGCM', 'HBV00000PNGCO', 'HBV00000PNGCQ', 'HBV00000PNGCU', 'HBV00000PNGD2', 'HBV00000PNGD4', 'HBV00000PNGD6', 'HBV00000PNGD8', 'HBV00000PNGDA', 'HBV00000PNGDC', 'HBV00000PNGDE', 'HBV00000PNGDG', 'HBV00000PNGDI', 'HBV00000PNGDK', 'HBV00000PNGDM', 'HBV00000PNGDO', 'HBV00000PNGDS', 'HBV00000PNGDU', 'HBV00000PNGDY', 'HBV00000PNGE2', 'HBV00000PNGE4', 'HBV00000PNGE6', 'HBV00000PNGE8', 'HBV00000PNGEK', 'HBV00000PNGEO', 'HBV00000PNGEW', 'HBV00000PNGF0', 'HBV00000PNGF2', 'HBV00000PNGF4', 'HBV00000PNGFA', 'HBV00000PNGFC', 'HBV00000PNGFE', 'HBV00000PNGFG', 'HBV00000PNGFI', 'HBV00000PNGFU', 'HBV00000PNGFW', 'HBV00000PNGG0', 'HBV00000PNGG2', 'HBV00000PNGG4', 'HBV00000PNGG6', 'HBV00000PNGG8', 'HBV00000PNGGA', 'HBV00000PNGGC', 'HBV00000PNGGE', 'HBV00000PNGGG', 'HBV00000PNGGI', 'HBV00000PNGHG', 'HBV00000PNGHI', 'HBV00000PNGHK', 'HBV00000PNGHM', 'HBV00000PNGHO', 'HBV00000PNGHQ', 'HBV00000PNGHS', 'HBV00000PNGHW', 'HBV00000PNGI0', 'HBV00000PNGI4', 'HBV00000PNGI6', 'HBV00000PNGIE', 'HBV00000PNGIG', 'HBV00000PNGII', 'HBV00000PNGIM', 'HBV00000PNGIO', 'HBV00000PNGIQ', 'HBV00000PNGIU', 'HBV00000PNGIW', 'HBV00000PNGIY', 'HBV00000PNGJ4', 'HBV00000PNGJ8', 'HBV00000PNGJA', 'HBV00000PNGJG', 'HBV00000PNGJI', 'HBV00000PNGJM', 'HBV00000PNGJQ', 'HBV00000PNGJS', 'HBV00000PNGJU', 'HBV00000PNGK2', 'HBV00000PNGK4', 'HBV00000PNGK6', 'HBV00000PNGK8', 'HBV00000PNGL2', 'HBV00000PNGL4', 'HBV00000PNGL6', 'HBV00000PNGLA', 'HBV00000PNGLK', 'HBV00000PNGLQ', 'HBV00000PNGLT', 'HBV00000PNGLV', 'HBV00000PNGM0', 'HBV00000PNGM2', 'HBV00000PNGM6', 'HBV00000PNGMB', 'HBV00000PNGMK', 'HBV00000PNGMN', 'HBV00000PNGMR', 'HBV00000PNGMT', 'HBV00000PNGN1', 'HBV00000PNGN3', 'HBV00000PNGN5', 'HBV00000PNGN9', 'HBV00000PNGNB', 'HBV00000PNGND', 'HBV00000PNGNF', 'HBV00000PNGNN', 'HBV00000PNGNR', 'HBV00000PNGNT', 'HBV00000PNGNV', 'HBV00000PNGNX', 'HBV00000PNGO1', 'HBV00000PNGO3', 'HBV00000PNGO5', 'HBV00000PNGO7', 'HBV00000PNGOH', 'HBV00000PNGOJ', 'HBV00000PNGOO', 'HBV00000PNGP0', 'HBV00000PNGP2', 'HBV00000PNGPC', 'HBV00000PNGPG', 'HBV00000PNGPI', 'HBV00000PQIH9', 'HBV00000PQIHE', 'HBV00000PQIHI', 'HBV00000PQIHK', 'HBV00000PQIHM', 'HBV00000PQIHO', 'HBV00000PQIHQ', 'HBV00000PQII1', 'HBV00000PQIIF', 'HBV00000PQIIK', 'HBV00000PQIIM', 'HBV00000PQIIO', 'HBV00000PQIIQ', 'HBV00000PQIIS', 'HBV00000PQIJ0', 'HBV00000PQIJ2', 'HBV00000PQIJ4', 'HBV00000PQIJ6', 'HBV00000PQIJE', 'HBV00000PQIJG', 'HBV00000PQIJI', 'HBV00000PQIJO', 'HBV00000PQIJS', 'HBV00000PQIJY', 'HBV00000PQIK2', 'HBV00000PQIKI', 'HBV00000PQIKK', 'HBV00000PQIKM', 'HBV00000PQIKQ', 'HBV00000PQIKU', 'HBV00000PQIMA', 'HBV00000PQIMG', 'HBV00000PQIMM', 'HBV00000PQIMQ', 'HBV00000PQIMS', 'HBV00000PQIMU', 'HBV00000PQIN0', 'HBV00000PQIN4', 'HBV00000PQINA', 'HBV00000PQINK', 'HBV00000PQINM', 'HBV00000PQINO', 'HBV00000PQINS', 'HBV00000PQIO6', 'HBV00000PQIOF', 'HBV00000PQIOH', 'HBV00000PQIOJ', 'HBV00000PQIOL', 'HBV00000PQION', 'HBV00000PQIOP', 'HBV00000PQIOR', 'HBV00000PQIOV', 'HBV00000PQIOZ', 'HBV00000PQIP1', 'HBV00000PQIPB', 'HBV00000PQIPP', 'HBV00000PQIPX', 'HBV00000PQIQ8', 'HBV00000PQIQA', 'HBV00000PQIQE', 'HBV00000PQIQO', 'HBV00000PQIQT', 'HBV00000PQIQX', 'HBV00000PQIR1', 'HBV00000PQIR5', 'HBV00000PQIRB', 'HBV00000PQIRD', 'HBV00000PQIRJ', 'HBV00000PQIRN', 'HBV00000PQIRP', 'HBV00000PQIRR', 'HBV00000PQIRT', 'HBV00000PQIRX', 'HBV00000PQIRZ', 'HBV00000PQIS1', 'HBV00000PQIS6', 'HBV00000PQIS8', 'HBV00000PQISE', 'HBV00000PQISO', 'HBV00000PQISQ', 'HBV00000PQISW', 'HBV00000PQISY', 'HBV00000PQIT2', 'HBV00000PQIT8', 'HBV00000PQITE', 'HBV00000PQITG', 'HBV00000PQITI', 'HBV00000PQITM', 'HBV00000PQITS', 'HBV00000PQIU2', 'HBV00000PQIU8', 'HBV00000PQIUG', 'HBV00000PQIUW', 'HBV00000PQIUY', 'HBV00000PQIV5', 'HBV00000PQIV9', 'HBV00000PQIVH', 'HBV00000PQIVJ', 'HBV00000PQIVN', 'HBV00000PQIVP', 'HBV00000PQIVT', 'HBV00000PQIW1', 'HBV00000PQIWD', 'HBV00000PQIWH', 'HBV00000PQIWL', 'HBV00000PQIWV', 'HBV00000PQIWX', 'HBV00000PQIWZ', 'HBV00000PQIX1', 'HBV00000PQIX3', 'HBV00000PQIXB', 'HBV00000PQIXJ', 'HBV00000PQIXN', 'HBV00000PQIXP', 'HBV00000PQIXR', 'HBV00000PQIXT', 'HBV00000PQIXX', 'HBV00000PQIY1', 'HBV00000PQIY3', 'HBV00000PQIY7', 'HBV00000PQIY9', 'HBV00000PQIYB', 'HBV00000PQIYD', 'HBV00000PQIYF', 'HBV00000PQIYH', 'HBV00000PQIYN', 'HBV00000PQIYP', 'HBV00000PQIYR', 'HBV00000PQIYV', 'HBV00000PQIYX', 'HBV00000PQIZ1', 'HBV00000PQIZ3', 'HBV00000PQIZ7', 'HBV00000PQIZY', 'HBV00000PQJ00', 'HBV00000PQJ02', 'HBV00000PQJ04', 'HBV00000PQJ0A', 'HBV00000PQJ0C', 'HBV00000PQJ0H', 'HBV00000PQJ0L', 'HBV00000PQJ10', 'HBV00000PQJ1D', 'HBV00000PQJ1K', 'HBV00000PQJ1M', 'HBV00000PQJ1O', 'HBV00000PQJ1Q', 'HBV00000PQJ1Y', 'HBV00000PQJ2C', 'HBV00000PQJ2E', 'HBV00000PQJ2S', 'HBV00000PQJ34', 'HBV00000PQJ36', 'HBV00000PQJ38', 'HBV00000PQJ3A', 'HBV00000PQJ3C', 'HBV00000PQJ3G', 'HBV00000PQJ3I', 'HBV00000PQJ3M', 'HBV00000PQJ3Q', 'HBV00000PQJ3S', 'HBV00000PQJ3U', 'HBV00000PQJ3W', 'HBV00000PQJ40', 'HBV00000PQJ42', 'HBV00000PQJ44', 'HBV00000PQJ46', 'HBV00000PQJ48', 'HBV00000PQJ4A', 'HBV00000PQJ4C', 'HBV00000PQJ4E', 'HBV00000PQJ4G', 'HBV00000PQJ4M', 'HBV00000PQJ4P', 'HBV00000PQJ5L', 'HBV00000PQJ5N', 'HBV00000PQJ5P', 'HBV00000PQJ64', 'HBV00000PQJ68', 'HBV00000PQJ6A', 'HBV00000PQJ6M', 'HBV00000PQJ6O', 'HBV00000PQJ7D', 'HBV00000PQJ7K', 'HBV00000PQJ7M', 'HBV00000PQJ7O', 'HBV00000PQJ7S', 'HBV00000PQJ80', 'HBV00000PQJ84', 'HBV00000PQJ86', 'HBV00000PQJ88', 'HBV00000PQJ8C', 'HBV00000PQJ8G', 'HBV00000PQJ8M', 'HBV00000PQJ8X', 'HBV00000PQJ95', 'HBV00000PQJ97', 'HBV00000PQJ99', 'HBV00000PQJ9D', 'HBV00000PQJ9L', 'HBV00000PQJ9N', 'HBV00000PQJ9P', 'HBV00000PQJ9R', 'HBV00000PQJ9T', 'HBV00000PQJA1', 'HBV00000PQJA7', 'HBV00000PQJAB', 'HBV00000PQJAH', 'HBV00000PQJAL', 'HBV00000PQJAT', 'HBV00000PQJAX', 'HBV00000PQJAZ', 'HBV00000PQJB3', 'HBV00000PQJB5', 'HBV00000PQJB7', 'HBV00000PQJBD', 'HBV00000PQJBF', 'HBV00000PQJBH', 'HBV00000PQJBJ', 'HBV00000PQJBL', 'HBV00000PQJBP', 'HBV00000PQJBR', 'HBV00000PQJBT', 'HBV00000PQJBZ', 'HBV00000PQJC1', 'HBV00000PQJC3', 'HBV00000PQJC5', 'HBV00000PQJC9', 'HBV00000PQJCF', 'HBV00000PQJCR', 'HBV00000PQJCT', 'HBV00000PQJCV', 'HBV00000PQJCX', 'HBV00000PQJD9', 'HBV00000PQJDD', 'HBV00000PQJDH', 'HBV00000PQJDJ', 'HBV00000PQJDR', 'HBV00000PQJDT', 'HBV00000PQJDV', 'HBV00000PQJDX', 'HBV00000PQJE1', 'HBV00000PQJE5', 'HBV00000PQJE7', 'HBV00000PQJED', 'HBV00000PQJEN', 'HBV00000PQJEP', 'HBV00000PQJEV', 'HBV00000PQJF3', 'HBV00000PQJF5', 'HBV00000PQJF7', 'HBV00000PQJF9', 'HBV00000PQJFB', 'HBV00000PQJFD', 'HBV00000PQJFH', 'HBV00000PQJFJ', 'HBV00000PQJFP', 'HBV00000PQJFT', 'HBV00000PQJFV', 'HBV00000PQJFX', 'HBV00000PQJFZ', 'HBV00000PQJG1', 'HBV00000PQJG3', 'HBV00000PQJG5', 'HBV00000PQJG9', 'HBV00000PQJGJ', 'HBV00000PQJGR', 'HBV00000PQJGZ', 'HBV00000PQJH1', 'HBV00000PQJH5', 'HBV00000PQJHB', 'HBV00000PQJHD', 'HBV00000PQJHL', 'HBV00000PQJHT', 'HBV00000PQJHV', 'HBV00000PQJHX', 'HBV00000PQJHZ', 'HBV00000PQJI1', 'HBV00000PQJI3', 'HBV00000PQJI7', 'HBV00000PQJI9', 'HBV00000PQJIH', 'HBV00000PQJIL', 'HBV00000PQJIP', 'HBV00000PQJIR', 'HBV00000PQJIT', 'HBV00000PQJIV', 'HBV00000PQJIX', 'HBV00000PQJIZ', 'HBV00000PQJJ3', 'HBV00000PQJJ7', 'HBV00000PQJJB', 'HBV00000PQJJH', 'HBV00000PQJJK', 'HBV00000PQJJP', 'HBV00000PQJJR', 'HBV00000PQJJT', 'HBV00000PQJJX', 'HBV00000PQJK3', 'HBV00000PQJK9', 'HBV00000PQJKH', 'HBV00000PQJKJ', 'HBV00000PQJKN', 'HBV00000PQJKS', 'HBV00000PQJKX', 'HBV00000PQJKZ', 'HBV00000PQJL1', 'HBV00000PQJL3', 'HBV00000PQJL5', 'HBV00000PQJL7', 'HBV00000PQJL9', 'HBV00000PQJLB', 'HBV00000PQJLD', 'HBV00000PQJLF', 'HBV00000PQJLH', 'HBV00000PQJLJ', 'HBV00000PQJLL', 'HBV00000PQJLN', 'HBV00000PQJLP', 'HBV00000PQJLV', 'HBV00000PQJLX', 'HBV00000PQJLZ', 'HBV00000PQJM6', 'HBV00000PQJMA', 'HBV00000PQJMC', 'HBV00000PQJME', 'HBV00000PQJMG', 'HBV00000PQJMM', 'HBV00000PQJMO', 'HBV00000PQJMV', 'HBV00000PQJMX', 'HBV00000PQJMZ', 'HBV00000PQJN5', 'HBV00000PQJNB', 'HBV00000PQJND', 'HBV00000PQJNF', 'HBV00000PQJNJ', 'HBV00000PQJNL', 'HBV00000PQJNR', 'HBV00000PQJNT', 'HBV00000PQJNV', 'HBV00000PQJNX', 'HBV00000PQJO0', 'HBV00000PQJO2', 'HBV00000PQJO6', 'HBV00000PQJOA', 'HBV00000PQJOC', 'HBV00000PQJOE', 'HBV00000PQJOK', 'HBV00000PQJOU', 'HBV00000PQJOW', 'HBV00000PQJOY', 'HBV00000PQJP0', 'HBV00000PQJP2', 'HBV00000PQJP4', 'HBV00000PQJP6', 'HBV00000PQJP8', 'HBV00000PQJPA', 'HBV00000PQJPC', 'HBV00000PQJPE', 'HBV00000PQJPG', 'HBV00000PQJPI', 'HBV00000PQJPK', 'HBV00000PQJPO', 'HBV00000PQJPQ', 'HBV00000PQJPS', 'HBV00000PQJPU', 'HBV00000PQJPY', 'HBV00000PQJQ6', 'HBV00000PQJQ8', 'HBV00000PQJQA', 'HBV00000PQJQE', 'HBV00000PQJQG', 'HBV00000PQJQI', 'HBV00000PQJQK', 'HBV00000PQJQM', 'HBV00000PQJQW', 'HBV00000PQJRC', 'HBV00000PQJRI', 'HBV00000PQJRM', 'HBV00000PQJRQ', 'HBV00000PQJRS', 'HBV00000PQJRW', 'HBV00000PQJS2', 'HBV00000PQJS4', 'HBV00000PQJSA', 'HBV00000PQJSE', 'HBV00000PQJSI', 'HBV00000PQJSK', 'HBV00000PQJSO', 'HBV00000PQJSS', 'HBV00000PQJSU', 'HBV00000PQJT0', 'HBV00000PQJT2', 'HBV00000PQJTE', 'HBV00000PQJTW', 'HBV00000PQJTY', 'HBV00000PQJU0', 'HBV00000PQJU2', 'HBV00000PQJU4', 'HBV00000PQJU6', 'HBV00000PQJUZ', 'HBV00000PQJV1', 'HBV00000PQJV7', 'HBV00000PQJVB', 'HBV00000PQJVH', 'HBV00000PQJVL', 'HBV00000PQJVP', 'HBV00000PQJVR', 'HBV00000PQJVX', 'HBV00000PQJWB', 'HBV00000PQJWD', 'HBV00000PQJWF', 'HBV00000PQJWK', 'HBV00000PQJWQ', 'HBV00000PQJWU', 'HBV00000PQJWW', 'HBV00000PQJWY', 'HBV00000PQJXQ', 'HBV00000PQJXS', 'HBV00000PQJY0', 'HBV00000PQJY2', 'HBV00000PQJYA', 'HBV00000PQJYC', 'HBV00000PQJYM', 'HBV00000PQJYO', 'HBV00000PQJYQ', 'HBV00000PQJYU', 'HBV00000PQJYY', 'HBV00000PQJZ2', 'HBV00000PQJZ6', 'HBV00000PQJZ8', 'HBV00000PQJZG', 'HBV00000PQJZI', 'HBV00000PQJZK', 'HBV00000PQJZQ', 'HBV00000PQJZS', 'HBV00000PQJZY', 'HBV00000PQK00', 'HBV00000PQK02', 'HBV00000PQK04', 'HBV00000PQK06', 'HBV00000PQK08', 'HBV00000PQK0C', 'HBV00000PQK0G', 'HBV00000PQK0L', 'HBV00000PQK0N', 'HBV00000PQK0P', 'HBV00000PQK0T', 'HBV00000PQK0V', 'HBV00000PQK0X', 'HBV00000PQK0Z', 'HBV00000PQK11', 'HBV00000PQK13', 'HBV00000PQK17', 'HBV00000PQK19', 'HBV00000PQK1B', 'HBV00000PQK1D', 'HBV00000PQK1H', 'HBV00000PQK1J', 'HBV00000PQK1L', 'HBV00000PQK1N', 'HBV00000PQK1P', 'HBV00000PQK1T', 'HBV00000PQK1V', 'HBV00000PQK1X', 'HBV00000PQK24', 'HBV00000PQK2K', 'HBV00000PQK2M', 'HBV00000PQK2Q', 'HBV00000PQK2S', 'HBV00000PQK2U', 'HBV00000PQK30', 'HBV00000PQK32', 'HBV00000PQK34', 'HBV00000PQK38', 'HBV00000PQK3E', 'HBV00000PQK3O', 'HBV00000PQK3Q', 'HBV00000PQK3S', 'HBV00000PQK44', 'HBV00000PQK46', 'HBV00000PQK48', 'HBV00000PQK4A', 'HBV00000PQK4C', 'HBV00000PQK4E', 'HBV00000PQK4I', 'HBV00000PQK4M', 'HBV00000PQK4O', 'HBV00000PQK4S', 'HBV00000PQK4U', 'HBV00000PQK4Y', 'HBV00000PQK50', 'HBV00000PQK5A', 'HBV00000PQK5E', 'HBV00000PQK5G', 'HBV00000PQK5K', 'HBV00000PQK5M', 'HBV00000PQK5O', 'HBV00000PQK5Q', 'HBV00000PQK5Y', 'HBV00000PQK62', 'HBV00000PQK64', 'HBV00000PQK66', 'HBV00000PQK6L', 'HBV00000PQK6R', 'HBV00000PQK6T', 'HBV00000PQK6V', 'HBV00000PQK6Z', 'HBV00000PQK73', 'HBV00000PQK75', 'HBV00000PQK7C', 'HBV00000PQK7E', 'HBV00000PQK7K', 'HBV00000PQK7M', 'HBV00000PQK7S', 'HBV00000PQK7W', 'HBV00000PQK7Y', 'HBV00000PQK82', 'HBV00000PQK8E', 'HBV00000PQK8S', 'HBV00000PQK8U', 'HBV00000PQK8W', 'HBV00000PQK92', 'HBV00000PQK96', 'HBV00000PQK9A', 'HBV00000PQK9I', 'HBV00000PQK9K', 'HBV00000PQK9M', 'HBV00000PQK9Q', 'HBV00000PQK9U', 'HBV00000PQK9Y', 'HBV00000PQKA0', 'HBV00000PQKA6', 'HBV00000PQKAC', 'HBV00000PQKAE', 'HBV00000PQKAG', 'HBV00000PQKAI', 'HBV00000PQKAS', 'HBV00000PQKAW', 'HBV00000PQKB0', 'HBV00000PQKB6', 'HBV00000PQKBA', 'HBV00000PQKBC', 'HBV00000PQKBM', 'HBV00000PQKBO', 'HBV00000PQKBQ', 'HBV00000PQKBU', 'HBV00000PQKC0', 'HBV00000PQKC2', 'HBV00000PQKC5', 'HBV00000PQKC7', 'HBV00000PQKC9', 'HBV00000PQKCB', 'HBV00000PQKCD', 'HBV00000PQKCG', 'HBV00000PQKCK', 'HBV00000PQKCM', 'HBV00000PQKCP', 'HBV00000PQKCR', 'HBV00000PQKCV', 'HBV00000PQKCX', 'HBV00000PQKD1', 'HBV00000PQKD3', 'HBV00000PQKDB', 'HBV00000PQKDJ', 'HBV00000PQKDV', 'HBV00000PQKE5', 'HBV00000PQKE7', 'HBV00000PQKEB', 'HBV00000PQKEF', 'HBV00000PQKEH', 'HBV00000PQKEL', 'HBV00000PQKEN', 'HBV00000PQKEP', 'HBV00000PQKET', 'HBV00000PQKEV', 'HBV00000PQKFC', 'HBV00000PQKFE', 'HBV00000PQKFI', 'HBV00000PQKG0', 'HBV00000PQKG4', 'HBV00000PQKGC', 'HBV00000PQKGE', 'HBV00000PQKGG', 'HBV00000PQKGI', 'HBV00000PQKGQ', 'HBV00000PQKGS', 'HBV00000PQKGU', 'HBV00000PQKGW', 'HBV00000PQKGY', 'HBV00000PQKH0', 'HBV00000PQKH2', 'HBV00000PQKH4', 'HBV00000PQKH6', 'HBV00000PQKH8', 'HBV00000PQKHE', 'HBV00000PQKHG', 'HBV00000PQKHO', 'HBV00000PQKHQ', 'HBV00000PQKHW', 'HBV00000PQKHY', 'HBV00000PQKI2', 'HBV00000PQKI4', 'HBV00000PQKI6', 'HBV00000PQKI8', 'HBV00000PQKIC', 'HBV00000PQKIE', 'HBV00000PQKII', 'HBV00000PQKIK', 'HBV00000PQKIP', 'HBV00000PQKIT', 'HBV00000PQKIV', 'HBV00000PQKIX', 'HBV00000PQKIZ', 'HBV00000PQKJ1', 'HBV00000PQKJ3', 'HBV00000PQKJ9', 'HBV00000PQKJB', 'HBV00000PQKJH', 'HBV00000PQKJJ', 'HBV00000PQKJL', 'HBV00000PQKJN', 'HBV00000PQKJP', 'HBV00000PQKJR', 'HBV00000PQKJT', 'HBV00000PQKJV', 'HBV00000PQKJX', 'HBV00000PQKK1', 'HBV00000PQKK3', 'HBV00000PQKK7', 'HBV00000PQKK9', 'HBV00000PQKKB', 'HBV00000PQKKF', 'HBV00000PQKKN', 'HBV00000PQKKP', 'HBV00000PQKKT', 'HBV00000PQKKV', 'HBV00000PQKKZ', 'HBV00000PQKL3', 'HBV00000PQKL5', 'HBV00000PQKLH', 'HBV00000PQKLN', 'HBV00000PQKLR', 'HBV00000PQKM1', 'HBV00000PQKM5', 'HBV00000PQKM7', 'HBV00000PQKMB', 'HBV00000PQKMF', 'HBV00000PQKMJ', 'HBV00000PQKMN', 'HBV00000PQKMR', 'HBV00000PQKMT', 'HBV00000PQKMV', 'HBV00000PQKMX', 'HBV00000PQKNH', 'HBV00000PQKNW', 'HBV00000PQKO0', 'HBV00000PQKO4', 'HBV00000PQKO6', 'HBV00000PQKO8', 'HBV00000PQKOA', 'HBV00000PQKOE', 'HBV00000PQKOG', 'HBV00000PQKOI', 'HBV00000PQKOK', 'HBV00000PQKOQ', 'HBV00000PQKOS', 'HBV00000PQKOU', 'HBV00000PQKOY', 'HBV00000PQKP2', 'HBV00000PQKP4', 'HBV00000PQKP6', 'HBV00000PQKPA', 'HBV00000PQKPC', 'HBV00000PQKPG', 'HBV00000PQKPL', 'HBV00000PQKPP', 'HBV00000PQKPR', 'HBV00000PQKPT', 'HBV00000PQKPY', 'HBV00000PQKQ0', 'HBV00000PQKQ2', 'HBV00000PQKQ4', 'HBV00000PQKQ8', 'HBV00000PQKQA', 'HBV00000PQKQG', 'HBV00000PQKQI', 'HBV00000PQKQK', 'HBV00000PQKQP', 'HBV00000PQKQR', 'HBV00000PQKR0', 'HBV00000PQKR4', 'HBV00000PQKR6', 'HBV00000PQKRP', 'HBV00000PQKRR', 'HBV00000PQKRT', 'HBV00000PQKRV', 'HBV00000PQKRX', 'HBV00000PQKRZ', 'HBV00000PQKSW', 'HBV00000PQKT0', 'HBV00000PQKT2', 'HBV00000PQKT4', 'HBV00000PQKT6', 'HBV00000PQKU5', 'HBV00000PQKU7', 'HBV00000PQKUF', 'HBV00000PQKUN', 'HBV00000PQKUP', 'HBV00000PQKUV', 'HBV00000PQKVB', 'HBV00000PQKVD', 'HBV00000PQKVP', 'HBV00000PQKVZ', 'HBV00000PQKWI', 'HBV00000PQKWK', 'HBV00000PQKWM', 'HBV00000PQKWQ', 'HBV00000PQKWS', 'HBV00000PQKWW', 'HBV00000PQKWY', 'HBV00000PQKX0', 'HBV00000PQKX3', 'HBV00000PQKX5', 'HBV00000PQKX9', 'HBV00000PQKXB', 'HBV00000PQKXD', 'HBV00000PQKXF', 'HBV00000PQKXH', 'HBV00000PQKXK', 'HBV00000PQKXM', 'HBV00000PQKXO', 'HBV00000PQKXQ', 'HBV00000PQKXS', 'HBV00000PQKXU', 'HBV00000PQKXW', 'HBV00000PQKXY', 'HBV00000PQKY0', 'HBV00000PQKY2', 'HBV00000PQKY4', 'HBV00000PQKY6', 'HBV00000PQKYK', 'HBV00000PQKYQ', 'HBV00000PQKYS', 'HBV00000PQKYY', 'HBV00000PQKZ2', 'HBV00000PQKZ4', 'HBV00000PQKZ6', 'HBV00000PQKZK', 'HBV00000PQKZM', 'HBV00000PQKZQ', 'HBV00000PQKZS', 'HBV00000PQKZU', 'HBV00000PQKZW', 'HBV00000PQKZY', 'HBV00000PQL06', 'HBV00000PQL0A', 'HBV00000PQL0H', 'HBV00000PQL0J', 'HBV00000PQL0L', 'HBV00000PQL0N', 'HBV00000PQL0P', 'HBV00000PQL0T', 'HBV00000PQL10', 'HBV00000PQL12', 'HBV00000PQL1A', 'HBV00000PQL1C', 'HBV00000PQL1E', 'HBV00000PQL1K', 'HBV00000PQL1M', 'HBV00000PQL1U', 'HBV00000PQL1W', 'HBV00000PQL1Y', 'HBV00000PQL24', 'HBV00000PQL28', 'HBV00000PQL2A', 'HBV00000PQL2C', 'HBV00000PQL2G', 'HBV00000PQL2I', 'HBV00000PQL2K', 'HBV00000PQL2Q', 'HBV00000PQL2S', 'HBV00000PQL2U', 'HBV00000PQL3A', 'HBV00000PQL3K', 'HBV00000PQL3O', 'HBV00000PQL3U', 'HBV00000PQL40', 'HBV00000PQL42', 'HBV00000PQL46', 'HBV00000PQL4A', 'HBV00000PQL4C', 'HBV00000PQL4E', 'HBV00000PQL4M', 'HBV00000PQL4R', 'HBV00000PQL4Z', 'HBV00000PQL59', 'HBV00000PQL5D', 'HBV00000PQL5H', 'HBV00000PQL67', 'HBV00000PQL6B', 'HBV00000PQL6L', 'HBV00000PQL6O', 'HBV00000PQL6Q', 'HBV00000PQL7J', 'HBV00000PQL7N', 'HBV00000PQL7R', 'HBV00000PQL7V', 'HBV00000PQL7X', 'HBV00000PQL85', 'HBV00000PQL87', 'HBV00000PQL8F', 'HBV00000PQL8J', 'HBV00000PQL8P', 'HBV00000PQL8T', 'HBV00000PQL8Z', 'HBV00000PQL93', 'HBV00000PQL97', 'HBV00000PQL99', 'HBV00000PQL9L', 'HBV00000PQL9P', 'HBV00000PQL9R', 'HBV00000PQL9Y', 'HBV00000PQLA4', 'HBV00000PQLA8', 'HBV00000PQLAA', 'HBV00000PQLAG', 'HBV00000PQLAI', 'HBV00000PQLAS', 'HBV00000PQLAX', 'HBV00000PQLB6', 'HBV00000PQLB8', 'HBV00000PQLBA', 'HBV00000PQLBC', 'HBV00000PQLBH', 'HBV00000PQLBJ', 'HBV00000PQLBL', 'HBV00000PQLBN', 'HBV00000PQLBQ', 'HBV00000PQLBS', 'HBV00000PQLC0', 'HBV00000PQLC8', 'HBV00000PQLCZ', 'HBV00000PQLDC', 'HBV00000PQLDI', 'HBV00000PQLDK', 'HBV00000PQLDM', 'HBV00000PQLDQ', 'HBV00000PQLDS', 'HBV00000PQLDU', 'HBV00000PQLDW', 'HBV00000PQLE0', 'HBV00000PQLE5', 'HBV00000PQLE7', 'HBV00000PQLE9', 'HBV00000PQLEB', 'HBV00000PQLED', 'HBV00000PQLEP', 'HBV00000PQLER', 'HBV00000PQLET', 'HBV00000PQLEV', 'HBV00000PQLEX', 'HBV00000PQLEZ', 'HBV00000PQLF7', 'HBV00000PQLF9', 'HBV00000PQLFB', 'HBV00000PQLFH', 'HBV00000PQLFR', 'HBV00000PQLFT', 'HBV00000PQLFV', 'HBV00000PQLFZ', 'HBV00000PQLG1', 'HBV00000PQLG3', 'HBV00000PQLGB', 'HBV00000PQLGD', 'HBV00000PQLGF', 'HBV00000PQLGH', 'HBV00000PQLGJ', 'HBV00000PQLGL', 'HBV00000PQLGN', 'HBV00000PQLGP', 'HBV00000PQLGR', 'HBV00000PQLGT', 'HBV00000PQLGV', 'HBV00000PQLGZ', 'HBV00000PQLH1', 'HBV00000PQLH7', 'HBV00000PQLH9', 'HBV00000PQLHB', 'HBV00000PQLHD', 'HBV00000PQLHH', 'HBV00000PQLHL', 'HBV00000PQLHP', 'HBV00000PQLHR', 'HBV00000PQLHW', 'HBV00000PQLHY', 'HBV00000PQLI0', 'HBV00000PQLI2', 'HBV00000PQLI4', 'HBV00000PQLI6', 'HBV00000PQLI8', 'HBV00000PQLIA', 'HBV00000PQLIC', 'HBV00000PQLIE', 'HBV00000PQLII', 'HBV00000PQLIK', 'HBV00000PQLIO', 'HBV00000PQLIQ', 'HBV00000PQLIW', 'HBV00000PQLIY', 'HBV00000PQLJ4', 'HBV00000PQLJ6', 'HBV00000PQLJ8', 'HBV00000PQLJA', 'HBV00000PQLJE', 'HBV00000PQLJI', 'HBV00000PQLJK', 'HBV00000PQLJO', 'HBV00000PQLJQ', 'HBV00000PQLJS', 'HBV00000PQLJU', 'HBV00000PQLJY', 'HBV00000PQLK0', 'HBV00000PQLK2', 'HBV00000PQLK8', 'HBV00000PQLKA', 'HBV00000PQLKE', 'HBV00000PQLKG', 'HBV00000PQLKI', 'HBV00000PQLKK', 'HBV00000PQLKM', 'HBV00000PQLKO', 'HBV00000PQLKQ', 'HBV00000PQLKU', 'HBV00000PQLL6', 'HBV00000PQLL8', 'HBV00000PQLLC', 'HBV00000PQLLT', 'HBV00000PQLLX', 'HBV00000PQLLZ', 'HBV00000PQLM5', 'HBV00000PQLM7', 'HBV00000PQLMD', 'HBV00000PQLMN', 'HBV00000PQLMP', 'HBV00000PQLMR', 'HBV00000PQLMV', 'HBV00000PQLMX', 'HBV00000PQLMZ', 'HBV00000PQLN5', 'HBV00000PQLN7', 'HBV00000PQLN9', 'HBV00000PQLNB', 'HBV00000PQLND', 'HBV00000PQLNF', 'HBV00000PQLNH', 'HBV00000PQLNJ', 'HBV00000PQLNL', 'HBV00000PQLNN', 'HBV00000PQLNP', 'HBV00000PQLNR', 'HBV00000PQLNT', 'HBV00000PQLNV', 'HBV00000PQLNY', 'HBV00000PQLO0', 'HBV00000PQLO2', 'HBV00000PQLOC', 'HBV00000PQLOE', 'HBV00000PQLOI', 'HBV00000PQLOK', 'HBV00000PQLOR', 'HBV00000PQLOT', 'HBV00000PQLOY', 'HBV00000PQLP1', 'HBV00000PQLP3', 'HBV00000PQLP9', 'HBV00000PQLPB', 'HBV00000PQLPJ', 'HBV00000PQLPL', 'HBV00000PQLPV', 'HBV00000PQLPZ', 'HBV00000PQLQ1', 'HBV00000PQLQ5', 'HBV00000PQLQ8', 'HBV00000PQLQA', 'HBV00000PQLQC', 'HBV00000PQLQE', 'HBV00000PQLQG', 'HBV00000PQLQI', 'HBV00000PQLQM', 'HBV00000PQLQO', 'HBV00000PQLQQ', 'HBV00000PQLQS', 'HBV00000PQLQU', 'HBV00000PQLR0', 'HBV00000PQLR8', 'HBV00000PQLRA', 'HBV00000PQLRG', 'HBV00000PQLRM', 'HBV00000PQLRO', 'HBV00000PQLRQ', 'HBV00000PQLRS', 'HBV00000PQLRU', 'HBV00000PQLRW', 'HBV00000PQLRY', 'HBV00000PQLS0', 'HBV00000PQLS2', 'HBV00000PQLS4', 'HBV00000PQLS8', 'HBV00000PQLSA', 'HBV00000PQLSG', 'HBV00000PQLSI', 'HBV00000PQLSK', 'HBV00000PQLSS', 'HBV00000PQLSU', 'HBV00000PQLTG', 'HBV00000PQLTK', 'HBV00000PQLTS', 'HBV00000PQLTV', 'HBV00000PQLTX', 'HBV00000PQLTZ', 'HBV00000PQLU3', 'HBV00000PQLU5', 'HBV00000PQLU7', 'HBV00000PQLU9', 'HBV00000PQLUB', 'HBV00000PQLUD', 'HBV00000PQLUH', 'HBV00000PQLUR', 'HBV00000PQLUT', 'HBV00000PQLUV', 'HBV00000PQLUZ', 'HBV00000PQLV1', 'HBV00000PQLV3', 'HBV00000PQLV5', 'HBV00000PQLV9', 'HBV00000PQLVB', 'HBV00000PQLVD', 'HBV00000PQLVH', 'HBV00000PQLVJ', 'HBV00000PQLVL', 'HBV00000PQLVN', 'HBV00000PQLVR', 'HBV00000PQLVT', 'HBV00000PQLVV', 'HBV00000PQLVZ', 'HBV00000PQLW3', 'HBV00000PQLW5', 'HBV00000PQLW7', 'HBV00000PQLW9', 'HBV00000PQLWB', 'HBV00000PQLWD', 'HBV00000PQLWJ', 'HBV00000PQLWL', 'HBV00000PQLWN', 'HBV00000PQLWP', 'HBV00000PQLWR', 'HBV00000PQLWT', 'HBV00000PQLWV', 'HBV00000PQLWX', 'HBV00000PQLX1', 'HBV00000PQLX5', 'HBV00000PQLXD', 'HBV00000PQLXF', 'HBV00000PQLXH', 'HBV00000PQLXJ', 'HBV00000PQLXL', 'HBV00000PQLXN', 'HBV00000PQLXP', 'HBV00000PQLXR', 'HBV00000PQLXX', 'HBV00000PQLXZ', 'HBV00000PQLY1', 'HBV00000PQLY7', 'HBV00000PQLY9', 'HBV00000PQLYB', 'HBV00000PQLYD', 'HBV00000PQLYF', 'HBV00000PQLYH', 'HBV00000PQLYL', 'HBV00000PQLYN', 'HBV00000PQLYP', 'HBV00000PQLYR', 'HBV00000PQLYV', 'HBV00000PQLYX', 'HBV00000PQLYZ', 'HBV00000PQLZ1', 'HBV00000PQLZ3', 'HBV00000PQLZ5', 'HBV00000PQLZ9', 'HBV00000PQLZB', 'HBV00000PQLZF', 'HBV00000PQLZH', 'HBV00000PQLZL', 'HBV00000PQLZP', 'HBV00000PQLZT', 'HBV00000PQM04', 'HBV00000PQM06', 'HBV00000PQM08', 'HBV00000PQM0E', 'HBV00000PQM0I', 'HBV00000PQM0M', 'HBV00000PQM0O', 'HBV00000PQM0Y', 'HBV00000PQM12', 'HBV00000PQM14', 'HBV00000PQM1A', 'HBV00000PQM1C', 'HBV00000PQM1E', 'HBV00000PQM1I', 'HBV00000PQM1K', 'HBV00000PQM1M', 'HBV00000PQM1O', 'HBV00000PQM1Q', 'HBV00000PQM22', 'HBV00000PQM2A', 'HBV00000PQM2G', 'HBV00000PQM2K', 'HBV00000PQM2O', 'HBV00000PQM2W', 'HBV00000PQM2Y', 'HBV00000PQM31', 'HBV00000PQM33', 'HBV00000PQM35', 'HBV00000PQM37', 'HBV00000PQM39', 'HBV00000PQM3K', 'HBV00000PQM3M', 'HBV00000PQM3O', 'HBV00000PQM3Q', 'HBV00000PQM3S', 'HBV00000PQM3U', 'HBV00000PQM3Y', 'HBV00000PQM40', 'HBV00000PQM42', 'HBV00000PQM44', 'HBV00000PQM46', 'HBV00000PQM4C', 'HBV00000PQM4E', 'HBV00000PQM4G', 'HBV00000PQM4I', 'HBV00000PQM4K', 'HBV00000PQM4Q', 'HBV00000PQM5B', 'HBV00000PQM5D', 'HBV00000PQM5F', 'HBV00000PQM5H', 'HBV00000PQM5J', 'HBV00000PQM5N', 'HBV00000PQM5P', 'HBV00000PQM65', 'HBV00000PQM69', 'HBV00000PQM6B', 'HBV00000PQOO0', 'HBV00000PQOOE', 'HBV00000PQOOK', 'HBV00000PQOOM', 'HBV00000PQOP2', 'HBV00000PQOP4', 'HBV00000PQOP7', 'HBV00000PQOPN', 'HBV00000PQOPP', 'HBV00000PQOQQ', 'HBV00000PQOR2', 'HBV00000PQOR8', 'HBV00000PQORG', 'HBV00000PQORL', 'HBV00000PQORN', 'HBV00000PQORT', 'HBV00000PQORV', 'HBV00000PQORX', 'HBV00000PQORZ', 'HBV00000PQOS1', 'HBV00000PQOSF', 'HBV00000PQOSO', 'HBV00000PQOSS', 'HBV00000PQOSU', 'HBV00000PQOSY', 'HBV00000PQOT0', 'HBV00000PQOT3', 'HBV00000PQOTB', 'HBV00000PQOTD', 'HBV00000PQOTF', 'HBV00000PQOTJ', 'HBV00000PQOTL', 'HBV00000PQOTP', 'HBV00000PQOTV', 'HBV00000PQOU3', 'HBV00000PQOU7', 'HBV00000PQOUB', 'HBV00000PQOUF', 'HBV00000PQOUH', 'HBV00000PQOUJ', 'HBV00000PQOUN', 'HBV00000PQOUZ', 'HBV00000PQOVJ', 'HBV00000PQOVL', 'HBV00000PQOVN', 'HBV00000PQOVP', 'HBV00000PQOVT', 'HBV00000PQOVV', 'HBV00000PQOVZ', 'HBV00000PQOW9', 'HBV00000PQOWB', 'HBV00000PQOWJ', 'HBV00000PQOWL', 'HBV00000PQOWR', 'HBV00000PQOWT', 'HBV00000PQOWV', 'HBV00000PQOWX', 'HBV00000PQOWZ', 'HBV00000PQOX1', 'HBV00000PQOXF', 'HBV00000PQOXR', 'HBV00000PQOXT', 'HBV00000PQOXV', 'HBV00000PQOXX', 'HBV00000PQOY1', 'HBV00000PQOY7', 'HBV00000PQOY9', 'HBV00000PQOYD', 'HBV00000PQOYG', 'HBV00000PQOYO', 'HBV00000PQOYQ', 'HBV00000PQOYT', 'HBV00000PQOZ6', 'HBV00000PQOZL', 'HBV00000PQOZP', 'HBV00000PQOZV', 'HBV00000PQP07', 'HBV00000PQP0G', 'HBV00000PQP0I', 'HBV00000PQP0K', 'HBV00000PQP0P', 'HBV00000PQP0R', 'HBV00000PQP0V', 'HBV00000PQP1L', 'HBV00000PQP1N', 'HBV00000PQP1P', 'HBV00000PQP1W', 'HBV00000PQP27', 'HBV00000PQP29', 'HBV00000PQP2D', 'HBV00000PQP2N', 'HBV00000PQP2P', 'HBV00000PQP3B', 'HBV00000PQP3D', 'HBV00000PQP3F', 'HBV00000PQP3H', 'HBV00000PQP3P', 'HBV00000PQP3T', 'HBV00000PQP3V', 'HBV00000PQP3X', 'HBV00000PQP41', 'HBV00000PQP4C', 'HBV00000PQP4E', 'HBV00000PQP4I', 'HBV00000PQP4Q', 'HBV00000PQP4S', 'HBV00000PQP4W', 'HBV00000PQP50', 'HBV00000PQP52', 'HBV00000PQP55', 'HBV00000PQP57', 'HBV00000PQP59', 'HBV00000PQP5B', 'HBV00000PQP5H', 'HBV00000PQP5R', 'HBV00000PQP5X', 'HBV00000PQP5Z', 'HBV00000PQP61', 'HBV00000PQP69', 'HBV00000PQP6B', 'HBV00000PQP6D', 'HBV00000PQP6F', 'HBV00000PQP6L', 'HBV00000PQP6N', 'HBV00000PQS7P', 'HBV00000PQS7R', 'HBV00000PQS82', 'HBV00000PQS8R', 'HBV00000PQS8T', 'HBV00000PQS8V', 'HBV00000PQS8X', 'HBV00000PQS99', 'HBV00000PQS9D', 'HBV00000PQS9F', 'HBV00000PQSAB', 'HBV00000PQSAR', 'HBV00000PQSAT', 'HBV00000PQSAV', 'HBV00000PQSB5', 'HBV00000PQSB7', 'HBV00000PQSBJ', 'HBV00000PQSBL', 'HBV00000PQSBN', 'HBV00000PQSBP', 'HBV00000PQSBR', 'HBV00000PQSBZ', 'HBV00000PQSDP', 'HBV00000PQSDS', 'HBV00000PUQBD', 'HBV00000PUQBL', 'HBV00000PUQBX', 'HBV00000PUQCA', 'HBV00000PUQCP', 'HBV00000PUQCU', 'HBV00000PUQDC', 'HBV00000PUQDG', 'HBV00000PUQDN', 'HBV00000PUQDQ', 'HBV00000PUQE0', 'HBV00000PUXFP', 'HBV00000PV5FT', 'HBV00000PV5FX', 'HBV00000PV5G3', 'HBV00000PV5GF', 'HBV00000PV5GX', 'HBV00000PV5HJ', 'HBV00000PV5HN', 'HBV00000PV5HQ', 'HBV00000PV5HT', 'HBV00000PV5I1', 'HBV00000PV5IF', 'HBV00000PV5JB', 'HBV00000PV5JH', 'HBV00000PV5K1', 'HBV00000PV5K5', 'HBV00000PV5KR', 'HBV00000PV5KX', 'HBV00000PV5LB', 'HBV00000PV5LH', 'HBV00000PV5LN', 'HBV00000PV5LT', 'HBV00000PV5M1', 'HBV00000PV5M5', 'HBV00000PV5MB', 'HBV00000PV5MF', 'HBV00000PV5MJ', 'HBV00000PV5MN', 'HBV00000PV5MZ', 'HBV00000PV5N7', 'HBV00000PV5NB', 'HBV00000PV5NF', 'HBV00000PV5NJ', 'HBV00000PV5NN', 'HBV00000PV5NQ', 'HBV00000PV5NW', 'HBV00000PV5O6', 'HBV00000PV5OK', 'HBV00000PV5OO', 'HBV00000PV5OS', 'HBV00000PV5OW', 'HBV00000PV5P5', 'HBV00000PV5PF', 'HBV00000PV5PN', 'HBV00000PV5PQ', 'HBV00000PV5PU', 'HBV00000PV5PY', 'HBV00000PV5Q1', 'HBV00000PV5Q5', 'HBV00000PV5Q8', 'HBV00000PV5RK', 'HBV00000PV5S0', 'HBV00000PV5S4', 'HBV00000PV5S8', 'HBV00000PV5SC', 'HBV00000PV5SO', 'HBV00000PV5TC', 'HBV00000PV5TG', 'HBV00000PV5TJ', 'HBV00000PV5TN', 'HBV00000PV5TT', 'HBV00000PV5UA', 'HBV00000PV5UZ', 'HBV00000PV5V1', 'HBV00000PV5V6', 'HBV00000PV5VC', 'HBV00000PV5VJ', 'HBV00000PV5VO', 'HBV00000PV5VQ', 'HBV00000PV5VU', 'HBV00000PV5VY', 'HBV00000PV5W3', 'HBV00000PV5W6', 'HBV00000PV5X3', 'HBV00000PV5X8', 'HBV00000PV5XC', 'HBV00000PV5YA', 'HBV00000PV5YE', 'HBV00000PV5YI', 'HBV00000PV5Z8', 'HBV00000PV5ZU', 'HBV00000PV600', 'HBV00000PV609', 'HBV00000PV60E', 'HBV00000PV60I', 'HBV00000PV60M', 'HBV00000PV60R', 'HBV00000PV60W', 'HBV00000PV610', 'HBV00000PV61F', 'HBV00000PV61J', 'HBV00000PV61T', 'HBV00000PV620', 'HBV00000PV625', 'HBV00000PV62F', 'HBV00000PV62J', 'HBV00000PV633', 'HBV00000PV63B', 'HBV00000PV63L', 'HBV00000PV63P', 'HBV00000PV63T', 'HBV00000PV641', 'HBV00000PV648', 'HBV00000PV64D', 'HBV00000PV64F', 'HBV00000PV64J', 'HBV00000PV662', 'HBV00000PV669', 'HBV00000PV66D', 'HBV00000PV66H', 'HBV00000PV66V', 'HBV00000PV66Z', 'HBV00000PV67D', 'HBV00000PV67H', 'HBV00000PV67O', 'HBV00000PV67T', 'HBV00000PV68Q', 'HBV00000PV691', 'HBV00000PV694', 'HBV00000PV69L', 'HBV00000PV69S', 'HBV00000PV69W', 'HBV00000PV6A4', 'HBV00000PV6A8', 'HBV00000PV6AD', 'HBV00000PV6AH', 'HBV00000PV6AL', 'HBV00000PV6B2', 'HBV00000PV6B6', 'HBV00000PV6BB', 'HBV00000PV6BD', 'HBV00000PV6BK', 'HBV00000PV6BP', 'HBV00000PV6BS', 'HBV00000PV6BV', 'HBV00000PV6C0', 'HBV00000PV6C4', 'HBV00000PV6C7', 'HBV00000PV6CB', 'HBV00000PV6CF', 'HBV00000PV6CL', 'HBV00000PV6CU', 'HBV00000PV6D3', 'HBV00000PV6D6', 'HBV00000PV6DK', 'HBV00000PV6E1', 'HBV00000PV6F5', 'HBV00000PV6F9', 'HBV00000PV6FJ', 'HBV00000PV6GX', 'HBV00000PV6H1', 'HBV00000PV6HD', 'HBV00000PV6HI', 'HBV00000PV6HL', 'HBV00000PV6HP', 'HBV00000PV6HS', 'HBV00000PV6HW', 'HBV00000PV6HZ', 'HBV00000PV6I2', 'HBV00000PV6I6', 'HBV00000PV6IS', 'HBV00000PV6J0', 'HBV00000PV6JE', 'HBV00000PV6JV', 'HBV00000PV6JZ', 'HBV00000PV6K8', 'HBV00000PV6KD', 'HBV00000PV6KG', 'HBV00000PV6KK', 'HBV00000PV6KN', 'HBV00000PV6KR', 'HBV00000PV6KW', 'HBV00000PV6L6', 'HBV00000PV6LM', 'HBV00000PV6LQ', 'HBV00000PV6M0', 'HBV00000PV6M3', 'HBV00000PV6M7', 'HBV00000PV6MI', 'HBV00000PV6MN', 'HBV00000PV6MR', 'HBV00000PV6MV', 'HBV00000PV6NC', 'HBV00000PV6NF', 'HBV00000PV6NU', 'HBV00000PV6NZ', 'HBV00000PV6O6', 'HBV00000PV6OF', 'HBV00000PV6OJ', 'HBV00000PV6OV', 'HBV00000PV6PY', 'HBV00000PV6QD', 'HBV00000PV6QT', 'HBV00000PV6QY', 'HBV00000PV6R3', 'HBV00000PV6R7', 'HBV00000PV6RD', 'HBV00000PV6RG', 'HBV00000PV6RK', 'HBV00000PV6RN', 'HBV00000PV6RR', 'HBV00000PV6RV', 'HBV00000PV6S1', 'HBV00000PV6S5', 'HBV00000PV6S9', 'HBV00000PV6SM', 'HBV00000PV6SR', 'HBV00000PV6SV', 'HBV00000PV6SZ', 'HBV00000PV6U2', 'HBV00000PV6U6', 'HBV00000PV6UM', 'HBV00000PV6VY', 'HBV00000PV6W6', 'HBV00000PV6WJ', 'HBV00000PV6WS', 'HBV00000PV6X0', 'HBV00000PV6X4', 'HBV00000PV6X7', 'HBV00000PV6XB', 'HBV00000PV6XE', 'HBV00000PV6XJ', 'HBV00000PV6XQ', 'HBV00000PV6ZN', 'HBV00000PV702', 'HBV00000PV708', 'HBV00000PV70B', 'HBV00000PV70E', 'HBV00000PV71P', 'HBV00000PV71X', 'HBV00000PV72M', 'HBV00000PV72X', 'HBV00000PV731', 'HBV00000PV741', 'HBV00000PV747', 'HBV00000PV74F', 'HBV00000PV74Y', 'HBV00000PV759', 'HBV00000PV75L', 'HBV00000PV75O', 'HBV00000PV75U', 'HBV00000PV760', 'HBV00000PV768', 'HBV00000PV76D', 'HBV00000PV76G', 'HBV00000PV76J', 'HBV00000PV76N', 'HBV00000PV76Z', 'HBV00000PV773', 'HBV00000PV776', 'HBV00000PV77H', 'HBV00000PV77N', 'HBV00000PV783', 'HBV00000PV788', 'HBV00000PV78B', 'HBV00000PV78G', 'HBV00000PV78K', 'HBV00000PV791', 'HBV00000PV795', 'HBV00000PV799', 'HBV00000PV79K', 'HBV00000PV79S', 'HBV00000PV79Z', 'HBV00000PV7A2', 'HBV00000PV7A6', 'HBV00000PV7A9', 'HBV00000PV7AE', 'HBV00000PV7AJ', 'HBV00000PV7AL', 'HBV00000PV7AQ', 'HBV00000PV7AT', 'HBV00000PV7AX', 'HBV00000PV7AZ', 'HBV00000PV7B5', 'HBV00000PV7B9', 'HBV00000PV7BF', 'HBV00000PV7BX', 'HBV00000PV7C9', 'HBV00000PV7CC', 'HBV00000PV7CP', 'HBV00000PV7CU', 'HBV00000PV7D9', 'HBV00000PV7DJ', 'HBV00000PV7DS', 'HBV00000PV7DW', 'HBV00000PV7E5', 'HBV00000PV7E9', 'HBV00000PV7ED', 'HBV00000PV7F3', 'HBV00000PV7FA', 'HBV00000PV7FF', 'HBV00000PV7FJ', 'HBV00000PV7FN', 'HBV00000PV7FS', 'HBV00000PV7FX', 'HBV00000PV7H0', 'HBV00000PV7H5', 'HBV00000PV7HI', 'HBV00000PV7HM', 'HBV00000PV7HV', 'HBV00000PV7ID', 'HBV00000PV7IH', 'HBV00000PV7IS', 'HBV00000PV7JA', 'HBV00000PV7JF', 'HBV00000PV7JJ', 'HBV00000PV7JO', 'HBV00000PV7JW', 'HBV00000PV7K3', 'HBV00000PV7KA', 'HBV00000PV7KD', 'HBV00000PV7KH', 'HBV00000PV7KL', 'HBV00000PV7KP', 'HBV00000PV7KT', 'HBV00000PV7KX', 'HBV00000PV7L2', 'HBV00000PV7L7', 'HBV00000PV7M3', 'HBV00000PV7MC', 'HBV00000PV7MH', 'HBV00000PV7MM', 'HBV00000PV7MR', 'HBV00000PV7N5', 'HBV00000PV7NG', 'HBV00000PV7NK', 'HBV00000PV7NP', 'HBV00000PV7NU', 'HBV00000PV7NY', 'HBV00000PV7O3', 'HBV00000PV7OQ', 'HBV00000PV7OW', 'HBV00000PV7PA', 'HBV00000PV7PF', 'HBV00000PV7PJ', 'HBV00000PV7PO', 'HBV00000PV7PS', 'HBV00000PV7PX', 'HBV00000PV7QE', 'HBV00000PV7QJ', 'HBV00000PV7QM', 'HBV00000PV7QP', 'HBV00000PV7QX', 'HBV00000PV7R0', 'HBV00000PV7R3', 'HBV00000PV7R7', 'HBV00000PV7RD', 'HBV00000PV7RM', 'HBV00000PV7RT', 'HBV00000PV7RX', 'HBV00000PV7S3', 'HBV00000PV7S6', 'HBV00000PV7SD', 'HBV00000PV7SH', 'HBV00000PV7SR', 'HBV00000PV7SU', 'HBV00000PV7SY', 'HBV00000PV7T1', 'HBV00000PV7T6', 'HBV00000PV7TA', 'HBV00000PV7TD', 'HBV00000PV7TH', 'HBV00000PV7TL', 'HBV00000PV7TO', 'HBV00000PV7TS', 'HBV00000PV7TW', 'HBV00000PV7TZ', 'HBV00000PV7U2', 'HBV00000PV7U5', 'HBV00000PV7U9', 'HBV00000PV7UC', 'HBV00000PV7US', 'HBV00000PV7VX', 'HBV00000PV7W1', 'HBV00000PV7W5', 'HBV00000PV7WA', 'HBV00000PV7WH', 'HBV00000PV7WL', 'HBV00000PV7WU', 'HBV00000PV7XT', 'HBV00000PV7YZ', 'HBV00000PV7ZD', 'HBV00000PV7ZH', 'HBV00000PV803', 'HBV00000PV808', 'HBV00000PV80L', 'HBV00000PV80W', 'HBV00000PV81E', 'HBV00000PV81I', 'HBV00000PV81U', 'HBV00000PV82A', 'HBV00000PV82F', 'HBV00000PV82N', 'HBV00000PV833', 'HBV00000PV838', 'HBV00000PV83H', 'HBV00000PV83L', 'HBV00000PV83P', 'HBV00000PV83V', 'HBV00000PV845', 'HBV00000PV84B', 'HBV00000PV84F', 'HBV00000PV857', 'HBV00000PV85G', 'HBV00000PV85K', 'HBV00000PV85O', 'HBV00000PV866', 'HBV00000PV86A', 'HBV00000PV86I', 'HBV00000PV86W', 'HBV00000PV870', 'HBV00000PV874', 'HBV00000PV878', 'HBV00000PV87C', 'HBV00000PV87H', 'HBV00000PV87K', 'HBV00000PV87N', 'HBV00000PV87S', 'HBV00000PV87Z', 'HBV00000PV88R', 'HBV00000PV88U', 'HBV00000PV89D', 'HBV00000PV8AP', 'HBV00000PV8AS', 'HBV00000PV8AX', 'HBV00000PV8B1', 'HBV00000PV8B6', 'HBV00000PV8BA', 'HBV00000PV8BL', 'HBV00000PV8BP', 'HBV00000PV8BT', 'HBV00000PV8BX', 'HBV00000PV8C1', 'HBV00000PV8C5', 'HBV00000PV8C9', 'HBV00000PV8CD', 'HBV00000PV8CH', 'HBV00000PV8CK', 'HBV00000PV8CP', 'HBV00000PV8CS', 'HBV00000PV8CX', 'HBV00000PV8D1', 'HBV00000PV8DW', 'HBV00000PV8EP', 'HBV00000PV8ES', 'HBV00000PV8FP', 'HBV00000PV8FU', 'HBV00000PV8G0', 'HBV00000PV8GG', 'HBV00000PV8GQ', 'HBV00000PV8GX', 'HBV00000PV8H5', 'HBV00000PV8HA', 'HBV00000PV8HD', 'HBV00000PV8HR', 'HBV00000PV8HW', 'HBV00000PV8I0', 'HBV00000PV8I7', 'HBV00000PV8IF', 'HBV00000PV8JP', 'HBV00000PV8JX', 'HBV00000PV8K1', 'HBV00000PV8K5', 'HBV00000PV8K9', 'HBV00000PV8KN', 'HBV00000PV8KX', 'HBV00000PV8LL', 'HBV00000PV8LV', 'HBV00000PV8M0', 'HBV00000PV8M3', 'HBV00000PV8MG', 'HBV00000PV8MK', 'HBV00000PV8MR', 'HBV00000PV8N4', 'HBV00000PV8OV', 'HBV00000PV8OY', 'HBV00000PV8PC', 'HBV00000PV8PJ', 'HBV00000PV8Q9', 'HBV00000PV8QT', 'HBV00000PV8R8', 'HBV00000PV8RC', 'HBV00000PV8RG', 'HBV00000PV8RJ', 'HBV00000PV8RO', 'HBV00000PV8RW', 'HBV00000PV8SG', 'HBV00000PV8SL', 'HBV00000PV8SU', 'HBV00000PV8SX', 'HBV00000PV8TP', 'HBV00000PV8TX', 'HBV00000PV8U4', 'HBV00000PV8U7', 'HBV00000PV8UG', 'HBV00000PV8UO', 'HBV00000PV8UV', 'HBV00000PV8UZ', 'HBV00000PV8V4', 'HBV00000PV8V7', 'HBV00000PV8VQ', 'HBV00000PV8VW', 'HBV00000PV8W2', 'HBV00000PV8WA', 'HBV00000PV8WF', 'HBV00000PV8WH', 'HBV00000PV8WK', 'HBV00000PV8WZ', 'HBV00000PV8X5', 'HBV00000PV8XF', 'HBV00000PV8XK', 'HBV00000PV8XN', 'HBV00000PV8XW', 'HBV00000PV8XY', 'HBV00000PV8Y0', 'HBV00000PV8Y7', 'HBV00000PV8Y9', 'HBV00000PV8YL', 'HBV00000PV8YX', 'HBV00000PV8ZC', 'HBV00000PV8ZK', 'HBV00000PV8ZR', 'HBV00000PV8ZT', 'HBV00000PV8ZV', 'HBV00000PV8ZY', 'HBV00000PV902', 'HBV00000PV904', 'HBV00000PV90B', 'HBV00000PV90D', 'HBV00000PV90J', 'HBV00000PV90Q', 'HBV00000PV90S', 'HBV00000PV916', 'HBV00000PV91C', 'HBV00000PV91E', 'HBV00000PV91H', 'HBV00000PV91K', 'HBV00000PV91O', 'HBV00000PV91R', 'HBV00000PV922', 'HBV00000PV929', 'HBV00000PV92C', 'HBV00000PV92L', 'HBV00000PV92N', 'HBV00000PV92U', 'HBV00000PV937', 'HBV00000PV93A', 'HBV00000PV93D', 'HBV00000PV93Y', 'HBV00000PV944', 'HBV00000PV946', 'HBV00000PV948', 'HBV00000PV94C', 'HBV00000PV94G', 'HBV00000PV94K', 'HBV00000PV94M', 'HBV00000PV94O', 'HBV00000PV954', 'HBV00000PV959', 'HBV00000PV95D', 'HBV00000PV95J', 'HBV00000PV964', 'HBV00000PV96D', 'HBV00000PV97K', 'HBV00000PV98D', 'HBV00000PV98I', 'HBV00000PV98N', 'HBV00000PV991', 'HBV00000PV99A', 'HBV00000PV99K', 'HBV00000PV99S', 'HBV00000PV9B3', 'HBV00000PV9BW', 'HBV00000PV9C4', 'HBV00000PV9C9', 'HBV00000PV9CT', 'HBV00000PV9CX', 'HBV00000PV9D1', 'HBV00000PV9D5', 'HBV00000PV9DP', 'HBV00000PV9E5', 'HBV00000PV9F3', 'HBV00000PV9FO', 'HBV00000PV9FS', 'HBV00000PV9FV', 'HBV00000PV9GD', 'HBV00000PV9GG', 'HBV00000PV9H0', 'HBV00000PV9H8', 'HBV00000PV9HB', 'HBV00000PV9HQ', 'HBV00000PV9HT', 'HBV00000PV9HX', 'HBV00000PV9I1', 'HBV00000PV9IN', 'HBV00000PV9JL', 'HBV00000PV9KF', 'HBV00000PV9KL', 'HBV00000PV9MB', 'HBV00000PV9MJ', 'HBV00000PV9MV', 'HBV00000PV9N3', 'HBV00000PV9N6', 'HBV00000PV9NA', 'HBV00000PV9ND', 'HBV00000PV9NZ', 'HBV00000PV9O1', 'HBV00000PV9O5', 'HBV00000PV9O9', 'HBV00000PV9OD', 'HBV00000PV9OP', 'HBV00000PV9TD', 'HBV00000PV9U3', 'HBV00000PV9UJ', 'HBV00000PV9VF', 'HBV00000PV9VT', 'HBV00000PV9WF', 'HBV00000PV9WN', 'HBV00000PV9WS', 'HBV00000PV9XZ', 'HBV00000PV9YD', 'HBV00000PV9YX', 'HBV00000PVA00', 'HBV00000PVA07', 'HBV00000PVA0D', 'HBV00000PVA0J', 'HBV00000PVA0N', 'HBV00000PVA0T', 'HBV00000PVA1H', 'HBV00000PVA1L', 'HBV00000PVA1S', 'HBV00000PVA1Z', 'HBV00000PVA23', 'HBV00000PVA27', 'HBV00000PVA2D', 'HBV00000PVA2H', 'HBV00000PVA2N', 'HBV00000PVA42', 'HBV00000PVA4D', 'HBV00000PVA5J', 'HBV00000PVA6L', 'HBV00000PVA85', 'HBV00000PVAAN', 'HBV00000PVABT', 'HBV00000PVAC1', 'HBV00000PVACB', 'HBV00000PVACN', 'HBV00000PVACR', 'HBV00000PVAD8', 'HBV00000PVADM', 'HBV00000PVAE3', 'HBV00000PVAED', 'HBV00000PVAEL', 'HBV00000PVAEP', 'HBV00000PVAET', 'HBV00000PVAF1', 'HBV00000PVAG1', 'HBV00000PVAGF', 'HBV00000PVAHE', 'HBV00000PVAIN', 'HBV00000PVAJN', 'HBV00000PVAJZ', 'HBV00000PVAK6', 'HBV00000PVAKW', 'HBV00000PVAL0', 'HBV00000PVALH', 'HBV00000PVALS', 'HBV00000PVAM7', 'HBV00000PVAMC', 'HBV00000PVAMF', 'HBV00000PVAMM', 'HBV00000PVAMU', 'HBV00000PVANJ', 'HBV00000PVAOA', 'HBV00000PVAON', 'HBV00000PVAQD', 'HBV00000PVAQM', 'HBV00000PVARC', 'HBV00000PVART', 'HBV00000PVARX', 'HBV00000PVASG', 'HBV00000PVASK', 'HBV00000PVASY', 'HBV00000PVAUB', 'HBV00000PVAUL', 'HBV00000PVAUX', 'HBV00000PVAWZ', 'HBV00000PVAXB', 'HBV00000PVAXG', 'HBV00000PVAXI', 'HBV00000PVAXN', 'HBV00000PVAXV', 'HBV00000PVAY2', 'HBV00000PVAYB', 'HBV00000PVAYF', 'HBV00000PVAYO', 'HBV00000PVAYW', 'HBV00000PVAZ2', 'HBV00000PVAZ9', 'HBV00000PVAZE', 'HBV00000PVAZG', 'HBV00000PVAZM', 'HBV00000PVAZT', 'HBV00000PVB00', 'HBV00000PVB0S', 'HBV00000PVB0W', 'HBV00000PVB0Y', 'HBV00000PVB1K', 'HBV00000PVB1M', 'HBV00000PVB1Q', 'HBV00000PVB20', 'HBV00000PVB28', 'HBV00000PVB2C', 'HBV00000PVB2G', 'HBV00000PVB3C', 'HBV00000PVB3G', 'HBV00000PVB3S', 'HBV00000PVB3V', 'HBV00000PVB3Y', 'HBV00000PVB4C', 'HBV00000PVB4I', 'HBV00000PVB4L', 'HBV00000PVB4T', 'HBV00000PVB56', 'HBV00000PVB59', 'HBV00000PVB5D', 'HBV00000PVB5K', 'HBV00000PVB5N', 'HBV00000PVB5Z', 'HBV00000PVB68', 'HBV00000PVB6C', 'HBV00000PVB6G', 'HBV00000PVB6K', 'HBV00000PVB6N', 'HBV00000PVB6R', 'HBV00000PVB6V', 'HBV00000PVB6Z', 'HBV00000PVB73', 'HBV00000PVB77', 'HBV00000PVB7H', 'HBV00000PVB7N', 'HBV00000PVB7U', 'HBV00000PVB82', 'HBV00000PVB86', 'HBV00000PVB8L', 'HBV00000PVB8S', 'HBV00000PVB8X', 'HBV00000PVB9D', 'HBV00000PVB9H', 'HBV00000PVB9P', 'HBV00000PVB9S', 'HBV00000PVBA3', 'HBV00000PVBAF', 'HBV00000PVBAH', 'HBV00000PVBAK', 'HBV00000PVBAN', 'HBV00000PVBAV', 'HBV00000PVBB7', 'HBV00000PVBBA', 'HBV00000PVBBJ', 'HBV00000PVBBU', 'HBV00000PVBBZ', 'HBV00000PVBCG', 'HBV00000PVBCY', 'HBV00000PVBD6', 'HBV00000PVBDB', 'HBV00000PVBDO', 'HBV00000PVBDQ', 'HBV00000PVBE3', 'HBV00000PVBEH', 'HBV00000PVBEJ', 'HBV00000PVBEN', 'HBV00000PVBET', 'HBV00000PVBEX', 'HBV00000PVBF3', 'HBV00000PVBFA', 'HBV00000PVBFG', 'HBV00000PVBFL', 'HBV00000PVBFO', 'HBV00000PVBFR', 'HBV00000PVBFT', 'HBV00000PVBFY', 'HBV00000PVBG2', 'HBV00000PVBG5', 'HBV00000PVBGA', 'HBV00000PVBGD', 'HBV00000PVBGK', 'HBV00000PVBGR', 'HBV00000PVBGW', 'HBV00000PVBH3', 'HBV00000PVBHT', 'HBV00000PVBHX', 'HBV00000PVBI0', 'HBV00000PVBI4', 'HBV00000PVBIG', 'HBV00000PVBIJ', 'HBV00000PVBIN', 'HBV00000PVBIQ', 'HBV00000PVBIV', 'HBV00000PVBIZ', 'HBV00000PVBJ6', 'HBV00000PVBJY', 'HBV00000PVBK2', 'HBV00000PVBK9', 'HBV00000PVBKE', 'HBV00000PVBKZ', 'HBV00000PVBLL', 'HBV00000PVBLP', 'HBV00000PVBLS', 'HBV00000PVBLW', 'HBV00000PVBM4', 'HBV00000PVBN5', 'HBV00000PVBN8', 'HBV00000PVBND', 'HBV00000PVBNF', 'HBV00000PVBNI', 'HBV00000PVBO0', 'HBV00000PVBO5', 'HBV00000PVBOC', 'HBV00000PVBOH', 'HBV00000PVBOT', 'HBV00000PVBOZ', 'HBV00000PVBP7', 'HBV00000PVBP9', 'HBV00000PVBQ4', 'HBV00000PVBQG', 'HBV00000PVBQK', 'HBV00000PVBQO', 'HBV00000PVBQV', 'HBV00000PVBR2', 'HBV00000PVBRB', 'HBV00000PVBRG', 'HBV00000PVBRO', 'HBV00000PVBRS', 'HBV00000PVBSC', 'HBV00000PVBSY', 'HBV00000PVBTB', 'HBV00000PVBTF', 'HBV00000PVBTL', 'HBV00000PVBTO', 'HBV00000PVBTT', 'HBV00000PVBTV', 'HBV00000PVBTZ', 'HBV00000PVBU7', 'HBV00000PVBUA', 'HBV00000PVBUL', 'HBV00000PVBUO', 'HBV00000PVBUS', 'HBV00000PVBUV', 'HBV00000PVBV3', 'HBV00000PVBVC', 'HBV00000PVBVW', 'HBV00000PVBW2', 'HBV00000PVBW7', 'HBV00000PVBWL', 'HBV00000PVBXF', 'HBV00000PVBXJ', 'HBV00000PVBXZ', 'HBV00000PVBYJ', 'HBV00000PVBYV', 'HBV00000PVBYZ', 'HBV00000PVBZB', 'HBV00000PVBZI', 'HBV00000PVC04', 'HBV00000PVC0P', 'HBV00000PVC1A', 'HBV00000PVC1N', 'HBV00000PVC27', 'HBV00000PVC2A', 'HBV00000PVC2D', 'HBV00000PVC2I', 'HBV00000PVC2L', 'HBV00000PVC36', 'HBV00000PVC3D', 'HBV00000PVC3T', 'HBV00000PVC3Y', 'HBV00000PVC42', 'HBV00000PVC4A', 'HBV00000PVC4K', 'HBV00000PVC4S', 'HBV00000PVC5U', 'HBV00000PVC5X', 'HBV00000PVC61', 'HBV00000PVC66', 'HBV00000PVC6J', 'HBV00000PVC6O', 'HBV00000PVC6S', 'HBV00000PVC70', 'HBV00000PVC73', 'HBV00000PVC87', 'HBV00000PVC8A', 'HBV00000PVC8H', 'HBV00000PVC8L', 'HBV00000PVC8P', 'HBV00000PVC8S', 'HBV00000PVC8V', 'HBV00000PVC92', 'HBV00000PVC95', 'HBV00000PVC9S', 'HBV00000PVC9W', 'HBV00000PVCA7', 'HBV00000PVCAK', 'HBV00000PVCBM', 'HBV00000PVCBP', 'HBV00000PVCBT', 'HBV00000PVCBX', 'HBV00000PVCC0', 'HBV00000PVCC4', 'HBV00000PVCC8', 'HBV00000PVCCE', 'HBV00000PVCD6', 'HBV00000PVCDC', 'HBV00000PVCDH', 'HBV00000PVCDK', 'HBV00000PVCDT', 'HBV00000PVCE3', 'HBV00000PVCE6', 'HBV00000PVCEF', 'HBV00000PVCEK', 'HBV00000PVCEN', 'HBV00000PVCEZ', 'HBV00000PVCF4', 'HBV00000PVCF7', 'HBV00000PVCFE', 'HBV00000PVCFH', 'HBV00000PVCFO', 'HBV00000PVCG8', 'HBV00000PVCHB', 'HBV00000PVCHI', 'HBV00000PVCI5', 'HBV00000PVCI8', 'HBV00000PVCIG', 'HBV00000PVCIJ', 'HBV00000PVCIM', 'HBV00000PVCIQ', 'HBV00000PVCIU', 'HBV00000PVCIX', 'HBV00000PVCJ8', 'HBV00000PVCJC', 'HBV00000PVCJH', 'HBV00000PVCJL', 'HBV00000PVCK0', 'HBV00000PVCKA', 'HBV00000PVCKE', 'HBV00000PVCKK', 'HBV00000PVCKQ', 'HBV00000PVCKV', 'HBV00000PVCKZ', 'HBV00000PVCL5', 'HBV00000PVCLD', 'HBV00000PVCLM', 'HBV00000PVCMA', 'HBV00000PVCMO', 'HBV00000PVCMS', 'HBV00000PVCMW', 'HBV00000PVCNC', 'HBV00000PVCNF', 'HBV00000PVCNI', 'HBV00000PVCNT', 'HBV00000PVCNW', 'HBV00000PVCO2', 'HBV00000PVCO6', 'HBV00000PVCOK', 'HBV00000PVCOW', 'HBV00000PVCPI', 'HBV00000PVCPL', 'HBV00000PVCPP', 'HBV00000PVCPU', 'HBV00000PVCR4', 'HBV00000PVCR7', 'HBV00000PVCRC', 'HBV00000PVCRF', 'HBV00000PVCRI', 'HBV00000PVCRM', 'HBV00000PVCRU', 'HBV00000PVCRX', 'HBV00000PVCS2', 'HBV00000PVCS6', 'HBV00000PVCSA', 'HBV00000PVCSE', 'HBV00000PVCSH', 'HBV00000PVCSL', 'HBV00000PVCSQ', 'HBV00000PVCST', 'HBV00000PVCSW', 'HBV00000PVCT0', 'HBV00000PVCT7', 'HBV00000PVCTN', 'HBV00000PVCTW', 'HBV00000PVCU7', 'HBV00000PVCUB', 'HBV00000PVCVA', 'HBV00000PVCVE', 'HBV00000PVCVI', 'HBV00000PVCVN', 'HBV00000PVCVQ', 'HBV00000PVCVV', 'HBV00000PVCWE', 'HBV00000PVCWH', 'HBV00000PVCWO', 'HBV00000PVCWS', 'HBV00000PVCWX', 'HBV00000PVCX0', 'HBV00000PVCX3', 'HBV00000PVCX7', 'HBV00000PVCXB', 'HBV00000PVCXE', 'HBV00000PVCZE', 'HBV00000PVCZJ', 'HBV00000PVD01', 'HBV00000PVD04', 'HBV00000PVD09', 'HBV00000PVD0Q', 'HBV00000PVD17', 'HBV00000PVD2H', 'HBV00000PVD2L', 'HBV00000PVD31', 'HBV00000PVD37', 'HBV00000PVD3A', 'HBV00000PVD3D', 'HBV00000PVD40', 'HBV00000PVD44', 'HBV00000PVD4P', 'HBV00000PVD4X', 'HBV00000PVD50', 'HBV00000PVD55', 'HBV00000PVD57', 'HBV00000PVPWG', 'HBV00000PVPWI', 'HBV00000PVPWK', 'HBV00000PVPWM', 'HBV00000PVPX0', 'HBV00000PVPX2', 'HBV00000PVPX4', 'HBV00000PVPX6', 'HBV00000PVPXL', 'HBV00000PVPXN', 'HBV00000PVPXT', 'HBV00000PVPXV', 'HBV00000PVPXX', 'HBV00000PVPXZ', 'HBV00000PVPY7', 'HBV00000PVPY9', 'HBV00000PVPYB', 'HBV00000PVPYD', 'HBV00000PVPYF', 'HBV00000PVPYL', 'HBV00000PVPYR', 'HBV00000PVPZ5', 'HBV00000PVPZF', 'HBV00000PVPZJ', 'HBV00000PVPZL', 'HBV00000PVPZX', 'HBV00000PVQ0R', 'HBV00000PVQ15', 'HBV00000PVQ17', 'HBV00000PVQ19', 'HBV00000PVQ1B', 'HBV00000PVQ1D', 'HBV00000PVQ1F', 'HBV00000PVQ1J', 'HBV00000PVQ1L', 'HBV00000PVQ1N', 'HBV00000PVQ1P', 'HBV00000PVQ1R', 'HBV00000PVQ1V', 'HBV00000PVQ1X', 'HBV00000PVQ1Z', 'HBV00000PVQ29', 'HBV00000PVQ2B', 'HBV00000PVQ2D', 'HBV00000PVQ2H', 'HBV00000PVQ2J', 'HBV00000PVQ2T', 'HBV00000PVQ2X', 'HBV00000PVQ2Z', 'HBV00000PVQ35', 'HBV00000PVQ37', 'HBV00000PVQ3H', 'HBV00000PVQ3J', 'HBV00000PVQ3T', 'HBV00000PVQ43', 'HBV00000PVQ4D', 'HBV00000PVQ4F', 'HBV00000PVQ4R', 'HBV00000PVQ4T', 'HBV00000PVQ4V', 'HBV00000PVQ4X', 'HBV00000PVQ4Z', 'HBV00000PVQ51', 'HBV00000PVQ53', 'HBV00000PVQ55', 'HBV00000PVQ5D', 'HBV00000PVQ5H', 'HBV00000PVQ5L', 'HBV00000PVQ5P', 'HBV00000PVQ5R', 'HBV00000PVQ5T', 'HBV00000PVQ5V', 'HBV00000PVQ5Z', 'HBV00000PVQ67', 'HBV00000PVQ6B', 'HBV00000PVQ6L', 'HBV00000PVQ6P', 'HBV00000PVQ6T', 'HBV00000PVQ6V', 'HBV00000PVQ6X', 'HBV00000PVQ6Z', 'HBV00000PVQ71', 'HBV00000PVQ77', 'HBV00000PVQ79', 'HBV00000PVQ7B', 'HBV00000PVQ7D', 'HBV00000PVQ7F', 'HBV00000PVQ7H', 'HBV00000PVQ7R', 'HBV00000PVQ7T', 'HBV00000PVQ7X', 'HBV00000PVQ8H', 'HBV00000PVQ8J', 'HBV00000PVQ8P', 'HBV00000PVQ8R', 'HBV00000PVQ8T', 'HBV00000PVQ8X', 'HBV00000PVQ93', 'HBV00000PVQ95', 'HBV00000PVQ97', 'HBV00000PVQ99', 'HBV00000PVQ9B', 'HBV00000PVQ9D', 'HBV00000PVQ9F', 'HBV00000PVQ9R', 'HBV00000PVQ9X', 'HBV00000PVQA9', 'HBV00000PVQAB', 'HBV00000PVQAG', 'HBV00000PVQAM', 'HBV00000PVQAO', 'HBV00000PVQAW', 'HBV00000PVQAY', 'HBV00000PVQB0', 'HBV00000PVQB2', 'HBV00000PVQB6', 'HBV00000PVQBA', 'HBV00000PVQBC', 'HBV00000PVQBE', 'HBV00000PVQBG', 'HBV00000PVQBJ', 'HBV00000PVQBL', 'HBV00000PVQBR', 'HBV00000PVQBT', 'HBV00000PVQC1', 'HBV00000PVQCL', 'HBV00000PVQCN', 'HBV00000PVQCP', 'HBV00000PVQCT', 'HBV00000PVQCV', 'HBV00000PVQCX', 'HBV00000PVQD3', 'HBV00000PVQD5', 'HBV00000PVQDJ', 'HBV00000PVQDL', 'HBV00000PVQDN', 'HBV00000PVQDP', 'HBV00000PVQDR', 'HBV00000PVQDX', 'HBV00000PVQDZ', 'HBV00000PVQE5', 'HBV00000PVQE7', 'HBV00000PVQE9', 'HBV00000PVQED', 'HBV00000PVQEF', 'HBV00000PVQEJ', 'HBV00000PVQER', 'HBV00000PVQET', 'HBV00000PVQEX', 'HBV00000PVQFC', 'HBV00000PVQFE', 'HBV00000PVQFG', 'HBV00000PVQFK', 'HBV00000PVQFM', 'HBV00000PVQFO', 'HBV00000PVQFQ', 'HBV00000PVQFS', 'HBV00000PVQFU', 'HBV00000PVQFY', 'HBV00000PVQGC', 'HBV00000PVQGK', 'HBV00000PVQGS', 'HBV00000PVQGW', 'HBV00000PVQH2', 'HBV00000PVQH8', 'HBV00000PVQHE', 'HBV00000PVQHG', 'HBV00000PVQHO', 'HBV00000PVQHS', 'HBV00000PVQHW', 'HBV00000PVQHY', 'HBV00000PVQI0', 'HBV00000PVQIO', 'HBV00000PVQJ0', 'HBV00000PVQJA', 'HBV00000PVQJC', 'HBV00000PVQJG', 'HBV00000PVQJI', 'HBV00000PVQJK', 'HBV00000PVQKC', 'HBV00000PVQKE', 'HBV00000PVQKI', 'HBV00000PVQKM', 'HBV00000PVQKS', 'HBV00000PVQL7', 'HBV00000PVQL9', 'HBV00000PVQLB', 'HBV00000PVQLD', 'HBV00000PVQLF', 'HBV00000PVQLH', 'HBV00000PVQLJ', 'HBV00000PVQM1', 'HBV00000PVQMN', 'HBV00000PVQMR', 'HBV00000PVQN5', 'HBV00000PVQN7', 'HBV00000PVQND', 'HBV00000PVQNP', 'HBV00000PVQNR', 'HBV00000PVQO3', 'HBV00000PVQOB', 'HBV00000PVQOD', 'HBV00000PVQOF', 'HBV00000PVQON', 'HBV00000PVQOZ', 'HBV00000PVQPX', 'HBV00000PVQQD', 'HBV00000PVQQH', 'HBV00000PVQQO', 'HBV00000PVQRE', 'HBV00000PVQRM', 'HBV00000PVQS0', 'HBV00000PVQS6', 'HBV00000PVQSC', 'HBV00000PVQSG', 'HBV00000PVQSM', 'HBV00000PVQSU', 'HBV00000PVQT4', 'HBV00000PVQT8', 'HBV00000PVQTA', 'HBV00000PVQTC', 'HBV00000PVQTE', 'HBV00000PVQTJ', 'HBV00000PVQTL', 'HBV00000PVQTN', 'HBV00000PVQTZ', 'HBV00000PVQU1', 'HBV00000PVQUB', 'HBV00000PVQUJ', 'HBV00000PVQUL', 'HBV00000PVQUP', 'HBV00000PVQUR', 'HBV00000PVQUV', 'HBV00000PVQUZ', 'HBV00000PVQV5', 'HBV00000PVQV9', 'HBV00000PVQVB', 'HBV00000PVQVD', 'HBV00000PVQVH', 'HBV00000PVQVJ', 'HBV00000PVQVL', 'HBV00000PVQVV', 'HBV00000PVQW5', 'HBV00000PVQW9', 'HBV00000PVQWB', 'HBV00000PVQWL', 'HBV00000PVQWZ', 'HBV00000PVQX9', 'HBV00000PVQXF', 'HBV00000PVQXH', 'HBV00000PVQXN', 'HBV00000PVQXP', 'HBV00000PVQXR', 'HBV00000PVQY1', 'HBV00000PVQY5', 'HBV00000PVQY7', 'HBV00000PVQY9', 'HBV00000PVQYB', 'HBV00000PVQYF', 'HBV00000PVQYH', 'HBV00000PVQYJ', 'HBV00000PVQYL', 'HBV00000PVQYX', 'HBV00000PVQYZ', 'HBV00000PVQZ1', 'HBV00000PVQZ3', 'HBV00000PVQZ8', 'HBV00000PVQZA', 'HBV00000PVQZC', 'HBV00000PVQZO', 'HBV00000PVQZQ', 'HBV00000PVQZU', 'HBV00000PVQZW', 'HBV00000PVR02', 'HBV00000PVR0A', 'HBV00000PVR0G', 'HBV00000PVR0I', 'HBV00000PVR0K', 'HBV00000PVR0M', 'HBV00000PVR0O', 'HBV00000PVR0Q', 'HBV00000PVR0S', 'HBV00000PVR0U', 'HBV00000PVR10', 'HBV00000PVR16', 'HBV00000PVR18', 'HBV00000PVR1C', 'HBV00000PVR1G', 'HBV00000PVR1S', 'HBV00000PVR1U', 'HBV00000PVR22', 'HBV00000PVR2C', 'HBV00000PVR2Q', 'HBV00000PVR2S', 'HBV00000PVR32', 'HBV00000PVR34', 'HBV00000PVR36', 'HBV00000PVR38', 'HBV00000PVR3A', 'HBV00000PVR3C', 'HBV00000PVR3E', 'HBV00000PVR3G', 'HBV00000PVR3I', 'HBV00000PVR3M', 'HBV00000PVR3O', 'HBV00000PVR3S', 'HBV00000PVR3W', 'HBV00000PVR3Y', 'HBV00000PVR48', 'HBV00000PVR4E', 'HBV00000PVR4G', 'HBV00000PVR4I', 'HBV00000PVR4K', 'HBV00000PVR4M', 'HBV00000PVR4O', 'HBV00000PVR4Q', 'HBV00000PVR58', 'HBV00000PVS64', 'HBV00000PVS66', 'HBV00000PVS6G', 'HBV00000PVS6J', 'HBV00000PVS6L', 'HBV00000PVS6N', 'HBV00000PVS6P', 'HBV00000PVS6T', 'HBV00000PVS6V', 'HBV00000PVS6X', 'HBV00000PVS6Z', 'HBV00000PVS71', 'HBV00000PVS79', 'HBV00000PVS7D', 'HBV00000Q9WX4', 'HBV00000QS9IL', 'HBV00000QS9IU', 'HBV00000QS9IY', 'HBV00000QS9J0', 'HBV00000QS9J2', 'HBV00000QS9J7', 'HBV00000QS9J9', 'HBV00000QS9JJ', 'HBV00000QS9JL', 'HBV00000QS9JS', 'HBV00000QS9JU', 'HBV00000QS9JW', 'HBV00000QS9JY', 'HBV00000QS9K0', 'HBV00000QS9K2', 'HBV00000QS9K4', 'HBV00000QS9K6', 'HBV00000QS9K8', 'HBV00000QS9KA', 'HBV00000QS9KC', 'HBV00000QS9KE', 'HBV00000QS9KG', 'HBV00000QS9KI', 'HBV00000QS9KK', 'HBV00000QS9KM', 'HBV00000QS9KO', 'HBV00000QS9KQ', 'HBV00000QS9KS', 'HBV00000QS9L0', 'HBV00000QS9L2', 'HBV00000QS9L6', 'HBV00000QS9LA', 'HBV00000QS9LC', 'HBV00000QS9LE', 'HBV00000QS9LK', 'HBV00000QS9LS', 'HBV00000QS9LU', 'HBV00000QS9LW', 'HBV00000QS9LY', 'HBV00000QS9M0', 'HBV00000QS9M2', 'HBV00000QS9PO', 'HBV00000QS9PS', 'HBV00000QS9PU', 'HBV00000QS9PW', 'HBV00000QS9Q2', 'HBV00000QS9Q4', 'HBV00000QS9Q8', 'HBV00000QS9QC', 'HBV00000QS9QI', 'HBV00000QS9QK', 'HBV00000QS9QM', 'HBV00000QS9QO', 'HBV00000QS9QR', 'HBV00000QS9QV', 'HBV00000QS9QX', 'HBV00000QS9QZ', 'HBV00000QSG5E', 'HBV00000QSG5I', 'HBV00000QSG5K', 'HBV00000QSG5M', 'HBV00000QT47I', 'HBV00000QU3S4', 'HBV00000QU3SE', 'HBV00000QU3SG', 'HBV00000QU3SI', 'HBV00000QU3SK', 'HBV00000QU3SM', 'HBV00000QU3SO', 'HBV00000QU3SQ', 'HBV00000QU3SS', 'HBV00000QU3SW', 'HBV00000QU3T0', 'HBV00000QU3T2', 'HBV00000QU3T4', 'HBV00000QU3TM', 'HBV00000QU3U2', 'HBV00000QU3U4', 'HBV00000QU3UC', 'HBV00000QU3UX', 'HBV00000QU3V4', 'HBV00000QU3VB', 'HBV00000QU3VD', 'HBV00000QU3VF', 'HBV00000QU3VH', 'HBV00000QU3VJ', 'HBV00000QU3VP', 'HBV00000QU3VR', 'HBV00000QU3VU', 'HBV00000QU3VW', 'HBV00000QU3VY', 'HBV00000QU3W0', 'HBV00000QU3W2', 'HBV00000QU3W4', 'HBV00000QU3W6', 'HBV00000QU3W8', 'HBV00000QU3WA', 'HBV00000QU3WM', 'HBV00000QU3WO', 'HBV00000QU3WQ', 'HBV00000QU3WT', 'HBV00000QU3X3', 'HBV00000QU3X5', 'HBV00000QU3X7', 'HBV00000QU3X9', 'HBV00000QU3XD', 'HBV00000QU3XN', 'HBV00000QU3XP', 'HBV00000QU3XR', 'HBV00000QU3XT', 'HBV00000QU3XV', 'HBV00000QU3XX', 'HBV00000QU3XZ', 'HBV00000QU3Y1', 'HBV00000QU3Y3', 'HBV00000QU3Y7', 'HBV00000QU3Y9', 'HBV00000QU3YB', 'HBV00000QU3YD', 'HBV00000QU3YP', 'HBV00000QU3YT', 'HBV00000QU3YV', 'HBV00000QU3Z5', 'HBV00000QU3Z7', 'HBV00000QU3Z9', 'HBV00000QU3ZB', 'HBV00000QU3ZD', 'HBV00000QU3ZH', 'HBV00000QU3ZJ', 'HBV00000QU3ZL', 'HBV00000QU3ZR', 'HBV00000QU3ZT', 'HBV00000QU3ZV', 'HBV00000QU3ZX', 'HBV00000QU3ZZ', 'HBV00000QU401', 'HBV00000QU403', 'HBV00000QU405', 'HBV00000QU407', 'HBV00000QU409', 'HBV00000QU40B', 'HBV00000QU40D', 'HBV00000QU40F', 'HBV00000QU40H', 'HBV00000QU40J', 'HBV00000QU40N', 'HBV00000QU40P', 'HBV00000QU40R', 'HBV00000QU40T', 'HBV00000QU40V', 'HBV00000QU40Z', 'HBV00000QU411', 'HBV00000QU413', 'HBV00000QU415', 'HBV00000QU41B', 'HBV00000QU41D', 'HBV00000QU41F', 'HBV00000QU41H', 'HBV00000QU41L', 'HBV00000QU41P', 'HBV00000QU41R', 'HBV00000QU41T', 'HBV00000QU424', 'HBV00000QU42B', 'HBV00000QU42D', 'HBV00000QU42F', 'HBV00000QU42H', 'HBV00000QU42J', 'HBV00000QU42L', 'HBV00000QU42N', 'HBV00000QU42P', 'HBV00000QU42T', 'HBV00000QU42X', 'HBV00000QU43A', 'HBV00000QU43C', 'HBV00000QU43E', 'HBV00000QU43I', 'HBV00000QU43M', 'HBV00000QU43Q', 'HBV00000QU43S', 'HBV00000QU43U', 'HBV00000QU43W', 'HBV00000QU443', 'HBV00000QU445', 'HBV00000QU447', 'HBV00000QU449', 'HBV00000QU44E', 'HBV00000QU44G', 'HBV00000QU44Y', 'HBV00000QU451', 'HBV00000QU453', 'HBV00000QU457', 'HBV00000QU459', 'HBV00000QU45B', 'HBV00000QU45H', 'HBV00000QU45L', 'HBV00000QU45N', 'HBV00000QU45R', 'HBV00000QU461', 'HBV00000QU463', 'HBV00000QU465', 'HBV00000QU467', 'HBV00000QU469', 'HBV00000QU46H', 'HBV00000QU46J', 'HBV00000QU46N', 'HBV00000QU46P', 'HBV00000QU46R', 'HBV00000QU470', 'HBV00000QU472', 'HBV00000QU474', 'HBV00000QU477', 'HBV00000QU47D', 'HBV00000QU47F', 'HBV00000QU47N', 'HBV00000QU47R', 'HBV00000QU484', 'HBV00000QU486', 'HBV00000QU488', 'HBV00000QU48A', 'HBV00000QU48C', 'HBV00000QU48L', 'HBV00000QU490', 'HBV00000QU497', 'HBV00000QU499', 'HBV00000QU49B', 'HBV00000QU49S', 'HBV00000QU4A8', 'HBV00000QU4AF', 'HBV00000QU4AH', 'HBV00000QU4AP', 'HBV00000QU4AV', 'HBV00000QU4AX', 'HBV00000QU4B1', 'HBV00000QU4B5', 'HBV00000QU4BF', 'HBV00000QU4BH', 'HBV00000QU4BU', 'HBV00000QU4BW', 'HBV00000QU4C0', 'HBV00000QU4C2', 'HBV00000QU4C4', 'HBV00000QU4C6', 'HBV00000QU4C8', 'HBV00000QU4CA', 'HBV00000QU4CC', 'HBV00000QU4CE', 'HBV00000QU4CI', 'HBV00000QU4CK', 'HBV00000QU4CM', 'HBV00000QU4CO', 'HBV00000QU4CU', 'HBV00000QU4DP', 'HBV00000QU6DI', 'HBV00000QU6DO', 'HBV00000QU6DV', 'HBV00000QU6DX', 'HBV00000QU6DZ', 'HBV00000QU6E1', 'HBV00000QU6E3', 'HBV00000QU6E5', 'HBV00000QU6EB', 'HBV00000QU6EY', 'HBV00000QU6F0', 'HBV00000QU6FL', 'HBV00000QU6FN', 'HBV00000QU6FQ', 'HBV00000QU6FS', 'HBV00000QU6FU', 'HBV00000QU6FW', 'HBV00000QU6G0', 'HBV00000QU6G2', 'HBV00000QU6G4', 'HBV00000QU6G6', 'HBV00000QU6GC', 'HBV00000QU6GK', 'HBV00000QU6GM', 'HBV00000QU6GO', 'HBV00000QU6GQ', 'HBV00000QU6GS', 'HBV00000QU6GU', 'HBV00000QU6H1', 'HBV00000QU6H3', 'HBV00000QU6HD', 'HBV00000QU6HF', 'HBV00000QU6HH', 'HBV00000QU6HN', 'HBV00000QU6HR', 'HBV00000QU6HX', 'HBV00000QU6HZ', 'HBV00000QU6I1', 'HBV00000QU6IF', 'HBV00000QU6IH', 'HBV00000QU6IN', 'HBV00000QU6IR', 'HBV00000QU6IV', 'HBV00000QU6IX', 'HBV00000QU6J1', 'HBV00000QU6J3', 'HBV00000QU6J5', 'HBV00000QU6J7', 'HBV00000QU6J9', 'HBV00000QU6JF', 'HBV00000QU6JH', 'HBV00000QUBJR', 'HBV00000QUBJT', 'HBV00000QUBJV', 'HBV00000QUBJX', 'HBV00000QUBJZ', 'HBV00000QUBK7', 'HBV00000QUBK9', 'HBV00000QUBKB', 'HBV00000QUBKJ', 'HBV00000QUBKQ', 'HBV00000QUBKW', 'HBV00000QUBLC', 'HBV00000QUBLI', 'HBV00000QUBLK', 'HBV00000QUBLM', 'HBV00000QUBLS', 'HBV00000QUBM2', 'HBV00000QUBMK', 'HBV00000QUBMQ', 'HBV00000QUBN3', 'HBV00000QUFQH', 'HBV00000QUFQY', 'HBV00000QUFR0', 'HBV00000QUFR2', 'HBV00000QUFRM', 'HBV00000QUIMQ', 'HBV00000QUIMS', 'HBV00000QX1SZ', 'HBV00000QX1T1', 'HBV00000QX1T5', 'HBV00000QX1T7', 'HBV00000QX1T9', 'HBV00000QX1TB', 'HBV00000QX1TD', 'HBV00000QX1TF', 'HBV00000QX1TH', 'HBV00000QX1TJ', 'HBV00000QX1TL', 'HBV00000QX1TN', 'HBV00000QX1TP', 'HBV00000QX1TR', 'HBV00000QX1TT', 'HBV00000QX1TZ', 'HBV00000QX1U1', 'HBV00000QX1U3', 'HBV00000QX1U5', 'HBV00000QX1U7', 'HBV00000QX1UC', 'HBV00000QX1UE', 'HBV00000QX1UG', 'HBV00000QX1UT', 'HBV00000QX1UX', 'HBV00000QX1UZ', 'HBV00000QX1V1', 'HBV00000QX1V3', 'HBV00000QX1VA', 'HBV00000QX1VE', 'HBV00000QX1VG', 'HBV00000QX1VI', 'HBV00000QX1VR', 'HBV00000QX1VX', 'HBV00000QX1W5', 'HBV00000QX1WI', 'HBV00000QX1WK', 'HBV00000QX1WM', 'HBV00000QX1WO', 'HBV00000QX1X0', 'HBV00000QX1X2', 'HBV00000QX1Y4', 'HBV00000QX1YA', 'HBV00000QX1YO', 'HBV00000QX1YQ', 'HBV00000QX1YU', 'HBV00000QX1YW', 'HBV00000QX1Z9', 'HBV00000QX1ZB', 'HBV00000QX1ZD', 'HBV00000QX1ZH', 'HBV00000QX1ZJ', 'HBV00000QX1ZR', 'HBV00000QX1ZT', 'HBV00000QX201', 'HBV00000QX203', 'HBV00000QX20F', 'HBV00000QX20L', 'HBV00000QX20Q', 'HBV00000QX20S', 'HBV00000QX20U', 'HBV00000QX21B', 'HBV00000QX21F', 'HBV00000QX21H', 'HBV00000QX235', 'HBV00000QX239', 'HBV00000QX23B', 'HBV00000QX24D', 'HBV00000QX24F', 'HBV00000QX24H', 'HBV00000QX24J', 'HBV00000QX24L', 'HBV00000QX24N', 'HBV00000QX24Q', 'HBV00000QX24S', 'HBV00000QX24W', 'HBV00000QX24Y', 'HBV00000QX257', 'HBV00000QX259', 'HBV00000QX25B', 'HBV00000QX25D', 'HBV00000QX25K', 'HBV00000QX262', 'HBV00000QX264', 'HBV00000QX26C', 'HBV00000QX26E', 'HBV00000QX26G', 'HBV00000QX26K', 'HBV00000QX26Q', 'HBV00000QX26S', 'HBV00000QX26W', 'HBV00000QX26Y', 'HBV00000QX270', 'HBV00000QX272', 'HBV00000QX274', 'HBV00000QX2AI', 'HBV00000QX2AX', 'HBV00000QX2HD', 'HBV00000QX2HF', 'HBV00000QX2HH', 'HBV00000QX2HP', 'HBV00000QX2LT', 'HBV00000QX2LV', 'HBV00000QX2LX', 'HBV00000QX2N1', 'HBV00000RFTB7', 'HBV00000RHR39', 'HBV00000RJ9NF', 'HBV00000RWZFH', 'HBV00000S29NN', 'HBV00000S9JFM', 'HBV00000S9JFS', 'HBV00000S9JFU', 'HBV00000S9JG0', 'HBV00000S9JG4', 'HBV00000S9JG6', 'HBV00000S9UI3', 'HBV00000S9UI6', 'HBV00000SF25D', 'HBV00000SF25F', 'HBV00000SF25H', 'HBV00000SF25J', 'HBV00000SF25L', 'HBV00000SF267', 'HBV00000SF26C', 'HBV00000SF26E', 'HBV00000SF26G', 'HBV00000SF26I', 'HBV00000SF26M', 'HBV00000SF26O', 'HBV00000SF271', 'HBV00000SF273', 'HBV00000SF277', 'HBV00000SF279', 'HBV00000SF27B', 'HBV00000SF27F', 'HBV00000SF27H', 'HBV00000SF27J', 'HBV00000SF27L', 'HBV00000SF27P', 'HBV00000SF27T', 'HBV00000SF27V', 'HBV00000SF27X', 'HBV00000SF28S', 'HBV00000SF28W', 'HBV00000SF290', 'HBV00000SF2ZI', 'HBV00000SP6TK', 'HBV00000SP6TM', 'HBV00000SP6TO', 'HBV00000SP6TQ', 'HBV00000SP6TS', 'HBV00000SP6TY', 'HBV00000SP6U0', 'HBV00000SP6U2', 'HBV00000SP6U4', 'HBV00000SP6UH', 'HBV00000SP6UJ', 'HBV00000SP6UL', 'HBV00000SP6UN', 'HBV00000SP6UP', 'HBV00000SP6UR', 'HBV00000SP6UT', 'HBV00000SP6UV', 'HBV00000SP6UX', 'HBV00000SP6UZ', 'HBV00000SP6V1', 'HBV00000SP6V3', 'HBV00000SP6V7', 'HBV00000SP6V9', 'HBV00000SP6VB', 'HBV00000SP6VD', 'HBV00000SP6VF', 'HBV00000SP6VM', 'HBV00000SP6VV', 'HBV00000SP6VZ', 'HBV00000SP6W3', 'HBV00000SP6W5', 'HBV00000SP6W7', 'HBV00000SP6W9', 'HBV00000SP6WB', 'HBV00000SP6WD', 'HBV00000SP6WF', 'HBV00000SP6WH', 'HBV00000SP6WJ', 'HBV00000SP6WL', 'HBV00000SP6WN', 'HBV00000SP6WP', 'HBV00000SP6WR', 'HBV00000SP6WT', 'HBV00000SP6WV', 'HBV00000SP6WX', 'HBV00000SP6X0', 'HBV00000SP6X2', 'HBV00000SP6X4', 'HBV00000SP6XD', 'HBV00000SP6XH', 'HBV00000SP6XJ', 'HBV00000SP6XL', 'HBV00000SP6XX', 'HBV00000SP6XZ', 'HBV00000SP6Y2', 'HBV00000SP6Y4', 'HBV00000SP6Y6', 'HBV00000SP6Y8', 'HBV00000SP6YA', 'HBV00000SP6YC', 'HBV00000SP6YE', 'HBV00000SP6YH', 'HBV00000SP6YJ', 'HBV00000SP6YL', 'HBV00000SP6YN', 'HBV00000SP6YP', 'HBV00000SP6YT', 'HBV00000SP6YV', 'HBV00000SP6YX', 'HBV00000SP6Z4', 'HBV00000SP6Z6', 'HBV00000SP6Z8', 'HBV00000SP6ZC', 'HBV00000SP6ZE', 'HBV00000SP6ZG', 'HBV00000SP6ZI', 'HBV00000SP6ZK', 'HBV00000SP6ZR', 'HBV00000SP703', 'HBV00000SP707', 'HBV00000SP70B', 'HBV00000SP70P', 'HBV00000SP70T', 'HBV00000SP70V', 'HBV00000SP70X', 'HBV00000SP70Z', 'HBV00000SP711', 'HBV00000SP713', 'HBV00000SP715', 'HBV00000SP717', 'HBV00000SP719', 'HBV00000SP71B', 'HBV00000SP71D', 'HBV00000SP71F', 'HBV00000SP71H', 'HBV00000SP71N', 'HBV00000SP71P', 'HBV00000SP724', 'HBV00000SP726', 'HBV00000SP728', 'HBV00000SP72A', 'HBV00000SP72C', 'HBV00000SP72G', 'HBV00000SP72S', 'HBV00000SP72U', 'HBV00000SP72W', 'HBV00000SP72Y', 'HBV00000SP730', 'HBV00000SP736', 'HBV00000SP738', 'HBV00000SP73A', 'HBV00000SP73C', 'HBV00000SP73K', 'HBV00000SP73M', 'HBV00000SP73O', 'HBV00000SP73Q', 'HBV00000SP73S', 'HBV00000SP73U', 'HBV00000SP73W', 'HBV00000SP740', 'HBV00000SP742', 'HBV00000SP744', 'HBV00000SP746', 'HBV00000SP748', 'HBV00000SP74A', 'HBV00000SP74C', 'HBV00000SP74E', 'HBV00000SP74G', 'HBV00000SP74M', 'HBV00000SP74O', 'HBV00000SP74Q', 'HBV00000SP74S', 'HBV00000SP74W', 'HBV00000SP74Y', 'HBV00000SP752', 'HBV00000SP754', 'HBV00000SP75G', 'HBV00000SP75I', 'HBV00000SP75M', 'HBV00000SP75Q', 'HBV00000SP760', 'HBV00000SP764', 'HBV00000SP766', 'HBV00000SP768', 'HBV00000SP76A', 'HBV00000SP76C', 'HBV00000SP76E', 'HBV00000SP76G', 'HBV00000SP76I', 'HBV00000SP76K', 'HBV00000SP76M', 'HBV00000SP76Q', 'HBV00000SP76S', 'HBV00000SP76U', 'HBV00000SP76W', 'HBV00000SP76Y', 'HBV00000SP770', 'HBV00000SP772', 'HBV00000SP774', 'HBV00000SP776', 'HBV00000SP778', 'HBV00000SP77A', 'HBV00000SP77C', 'HBV00000SP77E', 'HBV00000SP77G', 'HBV00000SP77I', 'HBV00000SP77K', 'HBV00000SP77M', 'HBV00000SP77O', 'HBV00000SP7ZO', 'HBV00000SP7ZQ', 'HBV00000SP7ZS', 'HBV00000SP7ZU', 'HBV00000SP7ZW', 'HBV00000SP800', 'HBV00000SP802', 'HBV00000SP804', 'HBV00000SP808', 'HBV00000SP80A', 'HBV00000SP80F', 'HBV00000SP80H', 'HBV00000SP80J', 'HBV00000SP80L', 'HBV00000SP80N', 'HBV00000SP80P', 'HBV00000SP80R', 'HBV00000SP80T', 'HBV00000SP80V', 'HBV00000SP80X', 'HBV00000SP80Z', 'HBV00000SP811', 'HBV00000SP813', 'HBV00000SP815', 'HBV00000SP817', 'HBV00000SP81B', 'HBV00000SP81D', 'HBV00000SP81F', 'HBV00000SP81H', 'HBV00000SP81P', 'HBV00000SP81X', 'HBV00000SP81Z', 'HBV00000SP821', 'HBV00000SP824', 'HBV00000SP826', 'HBV00000SP828', 'HBV00000SP82A', 'HBV00000SP82H', 'HBV00000SP82J', 'HBV00000SP82L', 'HBV00000SP82N', 'HBV00000SP82P', 'HBV00000SP82R', 'HBV00000SP82T', 'HBV00000SP82V', 'HBV00000SP82X', 'HBV00000SP82Z', 'HBV00000SP831', 'HBV00000SP833', 'HBV00000SP835', 'HBV00000SP83B', 'HBV00000SP83D', 'HBV00000SP83F', 'HBV00000SP83J', 'HBV00000SP83L', 'HBV00000SP83N', 'HBV00000SP83P', 'HBV00000SP83R', 'HBV00000SP83T', 'HBV00000SP840', 'HBV00000SP842', 'HBV00000SP846', 'HBV00000SP848', 'HBV00000SP84A', 'HBV00000SP84D', 'HBV00000SP84F', 'HBV00000SP84H', 'HBV00000SP84J', 'HBV00000SP84M', 'HBV00000SP84O', 'HBV00000SP852', 'HBV00000SP854', 'HBV00000SP85B', 'HBV00000SP85G', 'HBV00000SP85I', 'HBV00000SP85W', 'HBV00000SP867', 'HBV00000SP869', 'HBV00000SP86B', 'HBV00000SP86F', 'HBV00000SP86H', 'HBV00000SP86N', 'HBV00000SP86R', 'HBV00000SP86T', 'HBV00000SP86V', 'HBV00000SP86X', 'HBV00000SP873', 'HBV00000SP87D', 'HBV00000SP87F', 'HBV00000SP87H', 'HBV00000SP87J', 'HBV00000SP87L', 'HBV00000SP87N', 'HBV00000SP87P', 'HBV00000SP87U', 'HBV00000SP87X', 'HBV00000SP87Z', 'HBV00000SP881', 'HBV00000SP883', 'HBV00000SP889', 'HBV00000SP88B', 'HBV00000SP88G', 'HBV00000SP88K', 'HBV00000SP88T', 'HBV00000SP88V', 'HBV00000SP891', 'HBV00000SP893', 'HBV00000SP89G', 'HBV00000SP89N', 'HBV00000SP89P', 'HBV00000SP89R', 'HBV00000SP89T', 'HBV00000SP89V', 'HBV00000SP89Z', 'HBV00000SP8A1', 'HBV00000SP8A3', 'HBV00000SP8A5', 'HBV00000SP8A7', 'HBV00000SP8AD', 'HBV00000SP8AF', 'HBV00000SP8AZ', 'HBV00000SP8B3', 'HBV00000SP8B8', 'HBV00000SP8BD', 'HBV00000SP8BF', 'HBV00000SP8BH', 'HBV00000SP8BJ', 'HBV00000SP8BL', 'HBV00000SP8BN', 'HBV00000SP8BP', 'HBV00000SP8BR', 'HBV00000SP8BT', 'HBV00000SP8BV', 'HBV00000SP8BX', 'HBV00000SP8C3', 'HBV00000SP8C5', 'HBV00000SP8C9', 'HBV00000SP8CB', 'HBV00000SP8CD', 'HBV00000SP8CF', 'HBV00000SP8CV', 'HBV00000SP8CX', 'HBV00000SP8CZ', 'HBV00000SP8D1', 'HBV00000SP8D3', 'HBV00000SPB9I', 'HBV00000SPB9M', 'HBV00000SPB9P', 'HBV00000SPB9U', 'HBV00000SPB9Y', 'HBV00000SPBA1', 'HBV00000SPBA4', 'HBV00000SPBA7', 'HBV00000SPBAE', 'HBV00000SPBAP', 'HBV00000SPBAT', 'HBV00000SPBAX', 'HBV00000SPBB7', 'HBV00000SPBBB', 'HBV00000SPBBH', 'HBV00000SPBBS', 'HBV00000SPBBW', 'HBV00000SPBBZ', 'HBV00000SPBC4', 'HBV00000SPBC8', 'HBV00000SPBCB', 'HBV00000SPBCF', 'HBV00000SPBCJ', 'HBV00000SPBCM', 'HBV00000SPBCQ', 'HBV00000SPBCS', 'HBV00000SPBD1', 'HBV00000SPBD5', 'HBV00000SPBDA', 'HBV00000SPBEP', 'HBV00000SPBES', 'HBV00000SPBF7', 'HBV00000SPBFA', 'HBV00000SPBFG', 'HBV00000SPBFK', 'HBV00000SPBFM', 'HBV00000SPBFW', 'HBV00000SPBG0', 'HBV00000SPBG4', 'HBV00000SPBG7', 'HBV00000SPBGA', 'HBV00000SPBHN', 'HBV00000SPBHQ', 'HBV00000SPBHZ', 'HBV00000SPBI2', 'HBV00000SPBI5', 'HBV00000SPBI8', 'HBV00000SPBIB', 'HBV00000SPBIE', 'HBV00000SPBIJ', 'HBV00000SPBIM', 'HBV00000SPBIR', 'HBV00000SPBJ2', 'HBV00000SPBJC', 'HBV00000SPBJK', 'HBV00000SPBJT', 'HBV00000SPBJW', 'HBV00000SPBK3', 'HBV00000SPBK6', 'HBV00000SPBKB', 'HBV00000SPBKE', 'HBV00000SPBKH', 'HBV00000SPBKL', 'HBV00000SPBKT', 'HBV00000SPBKW', 'HBV00000SPBKZ', 'HBV00000SPBL5', 'HBV00000SPBL8', 'HBV00000SPBLG', 'HBV00000SPBLM', 'HBV00000SPBLP', 'HBV00000SPBLS', 'HBV00000SPBLV', 'HBV00000SPBLZ', 'HBV00000SPBM6', 'HBV00000SPBMB', 'HBV00000SPBMG', 'HBV00000SPBMJ', 'HBV00000SPIE3', 'HBV00000SPIE5', 'HBV00000SPIE7', 'HBV00000SPIE9', 'HBV00000SPIEB', 'HBV00000SPIED', 'HBV00000SPIEF', 'HBV00000SPIEJ', 'HBV00000SPIEL', 'HBV00000SPIEN', 'HBV00000SPIEP', 'HBV00000SPIER', 'HBV00000SPIET', 'HBV00000SPIEV', 'HBV00000SPIEX', 'HBV00000SPIEZ', 'HBV00000SPIF1', 'HBV00000SPIF3', 'HBV00000SPIF5', 'HBV00000SPIF7', 'HBV00000SPIF9', 'HBV00000SPIFD', 'HBV00000SPIFF', 'HBV00000SPIFH', 'HBV00000SPIFJ', 'HBV00000SPIFL', 'HBV00000SPIFN', 'HBV00000SPIFR', 'HBV00000SPIFT', 'HBV00000SPIFV', 'HBV00000SPIFX', 'HBV00000SPIFZ', 'HBV00000SPIG1', 'HBV00000SPIG3', 'HBV00000SPIG5', 'HBV00000SPIG7', 'HBV00000SPIG9', 'HBV00000SPIGB', 'HBV00000SPIGF', 'HBV00000SPIGH', 'HBV00000SPIGJ', 'HBV00000SPIGL', 'HBV00000SPIGN', 'HBV00000SPIGT', 'HBV00000SPIGV', 'HBV00000SPIGZ', 'HBV00000SPIH1', 'HBV00000SPIH3', 'HBV00000SSCVE', 'HBV00000SSCVK', 'HBV00000SSCVM', 'HBV00000SZWFH', 'HBV00000SZWFJ', 'HBV00000TDAVR', 'HBV00000TDAVT', 'HBV00000TDAVX', 'HBV00000TDAVZ', 'HBV00000TDAW1', 'HBV00000TDWF1', 'HBV00000TDWF3', 'HBV00000TDWF7', 'HBV00000TDWF9', 'HBV00000TDWFB', 'HBV00000TDWFC', 'HBV00000TDWFG', 'HBV00000TIRU1', 'HBV00000TIRU3', 'HBV00000TIRU5', 'HBV00000TIRUB', 'HBV00000TIRUD', 'HBV00000TIRUF', 'HBV00000TIRUH', 'HBV00000TIRUJ', 'HBV00000TIRUP', 'HBV00000TIRUR', 'HBV00000TIRUT', 'HBV00000TKUT6', 'HBV00000TNRPK', 'HBV00000TWJHG', 'HBV00000TWJHJ', 'HBV00000TWJHT', 'HBV00000TWJHV', 'HBV00000TWJHZ', 'HBV00000TWJI2', 'HBV00000TWJI5', 'HBV00000TWJI9', 'HBV00000TWJIC', 'HBV00000TWJIG', 'HBV00000TWJIM', 'HBV00000TWJIU', 'HBV00000TWJJB', 'HBV00000TWJJM', 'HBV00000TWJJW', 'HBV00000TWJK4', 'HBV00000TWJKA', 'HBV00000TWJKG', 'HBV00000TWJKI', 'HBV00000TWJKK', 'HBV00000TWJKM', 'HBV00000TWJKO', 'HBV00000TWJKQ', 'HBV00000TWJKS', 'HBV00000U26ZU', 'HBV00000U26ZW', 'HBV00000U26ZY', 'HBV00000U2700', 'HBV00000U2703', 'HBV00000U2705', 'HBV00000U2707', 'HBV00000U2709', 'HBV00000U270B', 'HBV00000U270H', 'HBV00000U270J', 'HBV00000U270L', 'HBV00000U270N', 'HBV00000U270R', 'HBV00000U270T', 'HBV00000U270V', 'HBV00000U270X', 'HBV00000U270Z', 'HBV00000U2711', 'HBV00000U2713', 'HBV00000U2715', 'HBV00000U271I', 'HBV00000U271N', 'HBV00000U271P', 'HBV00000U271R', 'HBV00000U271V', 'HBV00000U271X', 'HBV00000U271Z', 'HBV00000U272B', 'HBV00000U272O', 'HBV00000U272W', 'HBV00000U272Y', 'HBV00000U2731', 'HBV00000U2733', 'HBV00000U2735', 'HBV00000U2737', 'HBV00000U2739', 'HBV00000U273D', 'HBV00000U273F', 'HBV00000U273H', 'HBV00000U273J', 'HBV00000U273L', 'HBV00000U273N', 'HBV00000U273Q', 'HBV00000U273S', 'HBV00000U273U', 'HBV00000U273W', 'HBV00000U273Y', 'HBV00000U2740', 'HBV00000U274I', 'HBV00000U274K', 'HBV00000U274M', 'HBV00000U274O', 'HBV00000U274Q', 'HBV00000U274T', 'HBV00000U2757', 'HBV00000U2759', 'HBV00000U275G', 'HBV00000U275P', 'HBV00000U275V', 'HBV00000U2765', 'HBV00000U2767', 'HBV00000U276B', 'HBV00000U276D', 'HBV00000U276H', 'HBV00000U276X', 'HBV00000U2779', 'HBV00000U277L', 'HBV00000U277N', 'HBV00000U277P', 'HBV00000U277R', 'HBV00000U2784', 'HBV00000U278A', 'HBV00000U278C', 'HBV00000U278I', 'HBV00000U278K', 'HBV00000U278M', 'HBV00000U278Q', 'HBV00000U278S', 'HBV00000U278U', 'HBV00000U278W', 'HBV00000U2790', 'HBV00000U279C', 'HBV00000U279H', 'HBV00000U279J', 'HBV00000U279L', 'HBV00000U279N', 'HBV00000U279P', 'HBV00000U279R', 'HBV00000U279U', 'HBV00000U279W', 'HBV00000U27A2', 'HBV00000U27A6', 'HBV00000U27A8', 'HBV00000U27AA', 'HBV00000U27AC', 'HBV00000U27AF', 'HBV00000U27AH', 'HBV00000U27AL', 'HBV00000U27AN', 'HBV00000U27AP', 'HBV00000U27AR', 'HBV00000U27AT', 'HBV00000U27AV', 'HBV00000U27AX', 'HBV00000U27AZ', 'HBV00000U27B1', 'HBV00000U27B3', 'HBV00000U27B6', 'HBV00000U27B8', 'HBV00000U27BA', 'HBV00000U27BC', 'HBV00000U27BI', 'HBV00000U27BK', 'HBV00000U27BM', 'HBV00000U27BP', 'HBV00000U27BR', 'HBV00000U27BT', 'HBV00000U27BV', 'HBV00000U27C7', 'HBV00000U27C9', 'HBV00000U27CI', 'HBV00000U27CL', 'HBV00000U27CP', 'HBV00000U27CR', 'HBV00000U27CY', 'HBV00000U27D2', 'HBV00000U27D4', 'HBV00000U27D6', 'HBV00000U27D8', 'HBV00000U27DA', 'HBV00000U27DC', 'HBV00000U27DE', 'HBV00000U27DG', 'HBV00000U27DI', 'HBV00000U27DK', 'HBV00000U27DM', 'HBV00000U27DO', 'HBV00000U27DS', 'HBV00000U27ED', 'HBV00000U27EF', 'HBV00000U27F2', 'HBV00000U27F4', 'HBV00000U27FM', 'HBV00000U27FO', 'HBV00000U27FQ', 'HBV00000U27FU', 'HBV00000U27FW', 'HBV00000U27FZ', 'HBV00000U27G9', 'HBV00000U27GB', 'HBV00000U27GH', 'HBV00000U27GK', 'HBV00000U27GN', 'HBV00000U27GS', 'HBV00000U27GU', 'HBV00000U27H4', 'HBV00000U27H6', 'HBV00000U27H9', 'HBV00000U27HB', 'HBV00000U27HD', 'HBV00000U27HO', 'HBV00000U27HW', 'HBV00000U27HY', 'HBV00000U27I0', 'HBV00000U27I2', 'HBV00000U27I4', 'HBV00000U27I6', 'HBV00000U27I8', 'HBV00000U27IA', 'HBV00000U27IC', 'HBV00000U27IE', 'HBV00000U27II', 'HBV00000U27IZ', 'HBV00000U27JB', 'HBV00000U27JD', 'HBV00000U27JF', 'HBV00000U27JH', 'HBV00000U27JM', 'HBV00000U27JO', 'HBV00000U27JQ', 'HBV00000U27JS', 'HBV00000U27JU', 'HBV00000U27K2', 'HBV00000U27K4', 'HBV00000U27KD', 'HBV00000U27KJ', 'HBV00000U27KL', 'HBV00000U27KN', 'HBV00000U27KP', 'HBV00000U27KR', 'HBV00000U27KT', 'HBV00000U27KV', 'HBV00000U27KY', 'HBV00000U27L2', 'HBV00000U27L5', 'HBV00000U27LH', 'HBV00000U27LJ', 'HBV00000U27LL', 'HBV00000U27LN', 'HBV00000U27LP', 'HBV00000U27LR', 'HBV00000U27LT', 'HBV00000U27LW', 'HBV00000U27M3', 'HBV00000U27M8', 'HBV00000U27ME', 'HBV00000U27MK', 'HBV00000U27MM', 'HBV00000U27MO', 'HBV00000U27MQ', 'HBV00000U27MS', 'HBV00000U27MU', 'HBV00000U27MW', 'HBV00000U27MY', 'HBV00000U27N0', 'HBV00000U27NF', 'HBV00000U27NH', 'HBV00000U27NJ', 'HBV00000U27O2', 'HBV00000U27O4', 'HBV00000U27O7', 'HBV00000U27O9', 'HBV00000U27OE', 'HBV00000U27OR', 'HBV00000U27OT', 'HBV00000U27OV', 'HBV00000U27OX', 'HBV00000U27P1', 'HBV00000U27P9', 'HBV00000U27PB', 'HBV00000U27PD', 'HBV00000U27PF', 'HBV00000U27PM', 'HBV00000U27PS', 'HBV00000U27PU', 'HBV00000U27PW', 'HBV00000U27PY', 'HBV00000U27Q2', 'HBV00000U27QD', 'HBV00000U27QH', 'HBV00000U27QJ', 'HBV00000U27QL', 'HBV00000U27QT', 'HBV00000U27R0', 'HBV00000U27R2', 'HBV00000U27R4', 'HBV00000U27R6', 'HBV00000U27RP', 'HBV00000U27RR', 'HBV00000U27S0', 'HBV00000U2AWY', 'HBV00000U2AX2', 'HBV00000U2AX4', 'HBV00000U2AXA', 'HBV00000U2AXC', 'HBV00000U2AXE', 'HBV00000U2AXG', 'HBV00000U2AXI', 'HBV00000U2AXK', 'HBV00000U2AXM', 'HBV00000U2AXO', 'HBV00000U2AXQ', 'HBV00000U2AXS', 'HBV00000U2AY1', 'HBV00000U2AY3', 'HBV00000U2AY5', 'HBV00000U2AY7', 'HBV00000U2AY9', 'HBV00000U2AYC', 'HBV00000U2AYE', 'HBV00000U2AYG', 'HBV00000U2AYI', 'HBV00000U2AYK', 'HBV00000U2AYO', 'HBV00000U2AYS', 'HBV00000U2AYU', 'HBV00000U2AZ2', 'HBV00000U2AZ4', 'HBV00000U2AZ6', 'HBV00000U2AZA', 'HBV00000U2AZE', 'HBV00000U2AZI', 'HBV00000U2AZK', 'HBV00000U2AZM', 'HBV00000U2AZO', 'HBV00000U2AZX', 'HBV00000U2AZZ', 'HBV00000U2B05', 'HBV00000U2B07', 'HBV00000U2B09', 'HBV00000U2B0B', 'HBV00000U2B0H', 'HBV00000U2B0J', 'HBV00000U2B0L', 'HBV00000U2B0N', 'HBV00000U2B0P', 'HBV00000U2B0R', 'HBV00000U2B0T', 'HBV00000U2B0V', 'HBV00000U2B0Z', 'HBV00000U2B16', 'HBV00000U2B18', 'HBV00000U2B1A', 'HBV00000U2B1C', 'HBV00000U2B1E', 'HBV00000U2B1I', 'HBV00000U2B1K', 'HBV00000U2B1M', 'HBV00000U2B1O', 'HBV00000U2B1Q', 'HBV00000U2B1S', 'HBV00000U2B1U', 'HBV00000U2B1W', 'HBV00000U2B1Y', 'HBV00000U2B22', 'HBV00000U2B2E', 'HBV00000U2B2G', 'HBV00000U2B2M', 'HBV00000U2B2S', 'HBV00000U2B2U', 'HBV00000U2B34', 'HBV00000U2B36', 'HBV00000U2B38', 'HBV00000U2B3C', 'HBV00000U2B3E', 'HBV00000U2B3G', 'HBV00000U2B3W', 'HBV00000U2B3Y', 'HBV00000U2B40', 'HBV00000U2B42', 'HBV00000U2B44', 'HBV00000U2B46', 'HBV00000U2B48', 'HBV00000U2B4A', 'HBV00000U2B4C', 'HBV00000U2B4G', 'HBV00000U2B4I', 'HBV00000U2B4K', 'HBV00000U2B4M', 'HBV00000U2B4O', 'HBV00000U2B4Q', 'HBV00000U2B4S', 'HBV00000U2B4X', 'HBV00000U2B5I', 'HBV00000U2B8A', 'HBV00000U2B8T', 'HBV00000U2B8X', 'HBV00000U2B8Z', 'HBV00000U2B92', 'HBV00000U2B97', 'HBV00000U2B9F', 'HBV00000U2B9I', 'HBV00000U2B9O', 'HBV00000U2B9S', 'HBV00000U2B9V', 'HBV00000U2BA0', 'HBV00000U2BA9', 'HBV00000U2BAG', 'HBV00000U2BAT', 'HBV00000U2BAW', 'HBV00000U2BB0', 'HBV00000U2BB3', 'HBV00000U2BBH', 'HBV00000U2BBK', 'HBV00000U2BBN', 'HBV00000U2BBQ', 'HBV00000U2BD8', 'HBV00000U2BDF', 'HBV00000U2BDT', 'HBV00000U2BDV', 'HBV00000U2BDX', 'HBV00000U2BDZ', 'HBV00000U2BE1', 'HBV00000U2K3V', 'HBV00000U2K3Z', 'HBV00000U2K43', 'HBV00000U2K45', 'HBV00000U2K47', 'HBV00000U2K4D', 'HBV00000U2K4F', 'HBV00000U2K4H', 'HBV00000U2K4J', 'HBV00000U2K4L', 'HBV00000U2K4N', 'HBV00000U3AEQ', 'HBV00000U3AES', 'HBV00000U3AEU', 'HBV00000U41W2', 'HBV00000U41W5', 'HBV00000U41W7', 'HBV00000U41W9', 'HBV00000U41WC', 'HBV00000U41WE', 'HBV00000UIYBG', 'HBV00000UIYBI', 'HBV00000UIYBO', 'HBV00000UIYBQ', 'HBV00000UIYBS', 'HBV00000UIYBW', 'HBV00000UIYBY', 'HBV00000UIYC0', 'HBV00000UIYC2', 'HBV00000UIYC4', 'HBV00000UIYC8', 'HBV00000UIYCA', 'HBV00000UIYCC', 'HBV00000UIYCE', 'HBV00000UIYCG', 'HBV00000UIYCI', 'HBV00000UIYCM', 'HBV00000UIYCQ', 'HBV00000UIYD1', 'HBV00000UIYD6', 'HBV00000UIYD8', 'HBV00000UIYDA', 'HBV00000UIYDD', 'HBV00000UIYDF', 'HBV00000UIYDH', 'HBV00000UIYDJ', 'HBV00000UIYDL', 'HBV00000UIYDN', 'HBV00000UIYDP', 'HBV00000UIYDU', 'HBV00000UIYDW', 'HBV00000UIYDY', 'HBV00000UIYE1', 'HBV00000UIYE3', 'HBV00000UIYE5', 'HBV00000UIYE7', 'HBV00000UIYE9', 'HBV00000UIYEB', 'HBV00000UIYED', 'HBV00000UIYEF', 'HBV00000UIYEH', 'HBV00000UIYEJ', 'HBV00000UIYEL', 'HBV00000UIYEN', 'HBV00000UIYEP', 'HBV00000UIYER', 'HBV00000UIYET', 'HBV00000UIYEV', 'HBV00000UIYEX', 'HBV00000UIYEZ', 'HBV00000UIYF1', 'HBV00000UIYF3', 'HBV00000UIYF5', 'HBV00000UIYF7', 'HBV00000UIYFD', 'HBV00000UIYFF', 'HBV00000UIYFH', 'HBV00000UIYFM', 'HBV00000UIYFO', 'HBV00000UIYFQ', 'HBV00000UIYFS', 'HBV00000UIYFU', 'HBV00000UIYFW', 'HBV00000UIYFY', 'HBV00000UIYG0', 'HBV00000UIYGW', 'HBV00000UIYGY', 'HBV00000UIYH8', 'HBV00000UIYHG', 'HBV00000UIYHK', 'HBV00000UIYHM', 'HBV00000UIYHO', 'HBV00000UIYHQ', 'HBV00000UIYIM', 'HBV00000UIYIO', 'HBV00000UIYIQ', 'HBV00000UIYIU', 'HBV00000UIYIW', 'HBV00000UIYIY', 'HBV00000UIYJ0', 'HBV00000UIYJ6', 'HBV00000UIYJ8', 'HBV00000UIYJA', 'HBV00000UIYJC', 'HBV00000UIYJE', 'HBV00000UMH0I', 'HBV00000UMH0K', 'HBV00000UMH1B', 'HBV00000UMH1D', 'HBV00000UMHTC', 'HBV00000UMHTI', 'HBV00000UMHTN', 'HBV00000UMHTP', 'HBV00000UMHTR', 'HBV00000UOH86', 'HBV00000UOH8H', 'HBV00000UOH91', 'HBV00000UOH9G', 'HBV00000UOH9M', 'HBV00000UOI6O', 'HBV00000UOI6R', 'HBV00000UOI6U', 'HBV00000UOI6Y', 'HBV00000UOI73', 'HBV00000UOI76', 'HBV00000UOI79', 'HBV00000US44V', 'HBV00000US45Q', 'HBV00000US47E', 'HBV00000US47I', 'HBV00000US4BG', 'HBV00000US4BI', 'HRAND1029-M', 'HRBTHBCT2244', 'HRECZ9309049', 'HRECZ9309069', 'HRECZ9309070', 'HRRUBPALMBJ', 'HRRUBPALMBY', 'HRRUBPALMKAH', 'HRTEK3TEKIS604', 'HRTEK3TEKIS625', 'HRTEK500689', 'HRTEK520104', 'HRTEK520150', 'HRTEK520252', 'HRTEK523715', 'HRTEK524335', 'HRTEKIS521227', 'HRTEKIS523739', 'HRVIK90113301', 'HRVIK90113302', 'HRVIK90113303', 'HRVIK90303016', 'HRVIK90303316', 'HRWD40415829', 'KDBR09006', 'KDBR13116', 'KDBR51008', 'KDBR58003', 'KDBR61003', 'KDBR73003', 'KDBR90003', 'KDBR98009', 'KDOGAN00811', 'KDOGAN00866', 'KDOGAN22912', 'KDOGAN23063', 'KDOGAN34182', 'KHOMEART500709', 'KHOUSEBEAUTIFUL008', 'KNTV183', 'KOLIMPOS30210', 'KSOFRA54001', 'KYAP106', 'MT0290B', 'MTALTABI159444854', 'MTEREVLDKILIFCP', 'MTEREVLDKILIFRAP', 'MTFID43414', 'MTFID43934', 'MTFID444176', 'MTFID51368', 'MTFID52052', 'MTFID54251', 'MTFID59064', 'MTFID80383', 'MTFID80385', 'MTFIDEX98402', 'MTFIDG457', 'MTLVECOFT1723T11K4', 'MTLVECOGT2626T2', 'MTLVECOGT2632T3K4', 'MTP420072-1079388', 'MTP53802-1070622', 'MTPASBOR59204', 'MTPASBOROVT59062', 'MTPASBORYUVTE59033', 'OFIS06936', 'OFIS12012', 'OFIS12360-250', 'OFIS12700', 'OFIS12702', 'OFIS1687975', 'OFIS3101-080', 'OFIS483050', 'OFIS829770', 'OFIS919261', 'OFISARTI82964', 'OFISBIC829735', 'OFISBIC829771', 'OFISBIC829773', 'OFISBIC901758', 'OFISBICVISA12', 'OFISBUBU00100', 'OFISBUBU00104', 'OFISBUBU00105', 'OFISBUBU00106', 'OFISBUBU00107', 'OFISBUBU00112', 'OFISDUR21', 'OFISDUR22', 'OFISDUR24', 'OFISDUR25', 'OFISDUR26', 'OFISDUR35', 'OFISDURAA62', 'OFISDURAAA62', 'OFISDURMAXAA62', 'OFISDURMN21', 'OFISDURTUR4AAA', 'OFISED344B20509', 'OFISED344PVC41', 'OFISERA5R', 'OFISFAB0422', 'OFISFAB1061', 'OFISFAB2500', 'OFISFAB2524', 'OFISFAB2845', 'OFISFAB4020', 'OFISFAB5062', 'OFISFAB6048', 'OFISFAB7102', 'OFISFAB7856', 'OFISGPCR2025-U1', 'OFISMAS1220', 'OFISMAS141', 'OFISMAS146', 'OFISMAS280', 'OFISMAS295', 'OFISMAS321', 'OFISMAS355', 'OFISMAS360', 'OFISMAS415', 'OFISMAS810', 'OFISNOKI02', 'OFISNOKI1233', 'OFISPEN1438', 'OFISPL1221355', 'OFISPL1433960', 'OFISPL1439333', 'OFISPL581014', 'OFISPNSN1080-KRS', 'OFISPRIT1048061', 'OFISPRIT1048062', 'OFISPRIT1048064', 'OFISPRIT1219734', 'OFISPRIT1221351', 'OFISPRIT1564583', 'OFISRB050', 'OFISUHU40180B1', 'OFISUMUR2084', 'OFISVAR4903121414', 'OFISVAR4906121414', 'OFIUNI1503-K', 'OTDGC1541', 'OTEV040212', 'OTEV1572802', 'OTFALFA1-146', 'OTFALFA1-661', 'OTFALFA1159', 'OTFALFA1213', 'OTFALFA1271', 'OTFALFA1306', 'OTM093051', 'OTM09E018', 'OTM09E029', 'OUTAND200219', 'OUTAND201329', 'OUTAND300013', 'OUTDELTA67403', 'OUTRUBNG202', 'OYUNAK6961', 'OYUNAK6962', 'OYUNATK16965', 'OYUNATKP0019', 'OYUNELELKOZSEB149', 'OYUNELKOZ357466002', 'OYUNJOH19001', 'OYUNMTTN3837', 'OYUNMTTW2087', 'OYUNNUM5002985', 'OYUNNUMIL0141', 'OYUNNUMIL7816', 'OYUNNUMIL8070', 'OYUNSEBAPIS', 'P10486', 'P159028', 'P42021', 'P42191', 'P42191O', 'P42381', 'P52619', 'P62511', 'P80005', 'P80009', 'P95603', 'PTBR8595602505999', 'PTBR8595602506002', 'PTBR8595602506026', 'PTBR8595602506033', 'PTINJNG-001', 'PTINJNG-002', 'PTINJNG-005', 'PTINJNG-008', 'PTINJNG-011', 'PTINJNG-012', 'PTINJNG-016', 'PTINQUIK-041', 'PTINQUIK-042-1', 'PTINQUIK-043', 'PTINQUIK-054', 'PTINQUIK-078', 'PTINQUIK-134', 'PTKORO8552', 'PTLIENJ03', 'PTLIENJ13', 'PTLIKNG02', 'PTLIPRO12', 'PTLIPRO13', 'PTLIPRO14', 'PTLIPRO16', 'PTLIPRO17', 'PTLIPRO18', 'PTLITT-08', 'PTPET014055', 'PTPET014093', 'PTRIT12051713', 'PTRIT12144705', 'PTRIT12150189', 'PTRIT12154348', 'PTRIT12155975', 'PTRIT12179033', 'PTRIT12179035', 'PTRIT12220388', 'PTRIT12220416', 'PTRIT12297092', 'PTRIT12297095', 'PTRIT5118784', 'PTRIT5120334', 'PTRIT5120336', 'PTRIT5120342', 'PTSRENJ-25', 'PTSRENJ-KRK-06', 'PTTEMPO129439', 'PTTEMPO204755', 'PTTEMPO321097', 'PTTEMPO340103', 'PTTEMPO340104', 'PTTEMPO340105', 'PTTEMPO340161', 'PTTEMPO340164', 'PTTEMPO340167', 'PTTEMPO340181', 'PTTEMPO340191', 'PTTEMPO340311', 'PTTEMPO340330', 'PTTEMPO340361', 'PTTEMPO340364', 'PTTEMPO340366', 'PTTEMPO340367', 'PTTEMPO340371', 'PTTEMPO4770608239', 'PTTEMPO47706082391', 'PTTEMPO47706082393', 'PTTEMPO47706082396', 'PTTEMPO59009512380', 'PTTEMPO59987491091', 'PTYMBST05637', 'SG109303', 'SG109305', 'SG109308', 'SG109358', 'SG109381', 'SG20023322', 'SG20023323', 'SG3600523044474', 'SGARKO70074', 'SGARP267671', 'SGARP267764', 'SGARP272696', 'SGARPFBRE12531', 'SGARPFCN01698', 'SGARPFCN8189406', 'SGARPFTP00011', 'SGARPFTP00012', 'SGARPFTR12806', 'SGARPFTR12814', 'SGARPFTR12900', 'SGARPFTR12902', 'SGARPFTR12914', 'SGARPFTR12990', 'SGARPFTR13013', 'SGARPFTR17033', 'SGARPFTR42938', 'SGAXE9', 'SGBA1343', 'SGBA1350', 'SGBA1408', 'SGBA1767', 'SGBA1770', 'SGBA1782', 'SGBA1785', 'SGBA1792', 'SGBA1795', 'SGBA1798', 'SGBA1801', 'SGBA1804', 'SGBA1805', 'SGBA1910', 'SGBA1911', 'SGBA1912', 'SGBA1913', 'SGBA1914', 'SGBA1915', 'SGBA1917', 'SGBA1921', 'SGBA1926', 'SGBA3186', 'SGBA3511', 'SGBA3629', 'SGBA3778', 'SGBA3782', 'SGBA3996', 'SGBA3997', 'SGBA4583', 'SGBA5193', 'SGBAN513241', 'SGBAN630115', 'SGBBK18908', 'SGBBK19447', 'SGBBK20447', 'SGBBK21155', 'SGBBK21468', 'SGBBK21508', 'SGBBK7657', 'SGBBK7911', 'SGBBK7918', 'SGBBKX95035', 'SGBE022796916709', 'SGBEST35746612237', 'SGBRAUNEB182', 'SGBRAUNEB20', 'SGBRAUNEB25', 'SGCAN310127', 'SGCAV00964', 'SGCAV30146', 'SGCAV57000', 'SGCOL048019', 'SGCOLGATE41263', 'SGCOLGATE41461', 'SGCOSME25784', 'SGCOSME26089', 'SGCOSME30157', 'SGCOSME36002', 'SGCOSME37488', 'SGCOSME39304', 'SGCOSME39386', 'SGCOSME39413', 'SGCOSME39518', 'SGCOSMO07050105021', 'SGCOSPO25058', 'SGCOSPO44486', 'SGDEGSTRAW', 'SGDEGVEETKREM', 'SGDEGVEETMAVI', 'SGDEGVEETPEMBE', 'SGDEGVEETSHKRNRML', 'SGDEGVEETSHKRSNSTV', 'SGDEGVEETSPREY', 'SGDEGVEETSPREYMAVI', 'SGDEGVEETYUZ', 'SGDEOFA80235', 'SGDEOFA80372', 'SGDEOREX0682', 'SGDEOREX1257', 'SGDEOREX2908', 'SGDEOREX6069', 'SGDEOREX606984', 'SGDEOREX6427', 'SGDEOTAK0110', 'SGDIL500411', 'SGDIL500412', 'SGDIL500559', 'SGDIL500567', 'SGDIL500714', 'SGDIL500717', 'SGDIL500728', 'SGDIL501145', 'SGDIL501148', 'SGDIL501149', 'SGDIL502397', 'SGDIL502411', 'SGDIL502415', 'SGDIL502424', 'SGDIL502432', 'SGDIL502433', 'SGDIL502434', 'SGDIL502638', 'SGDIL502855', 'SGDIL502856', 'SGDIL502858', 'SGDIL503216', 'SGDIL503679', 'SGDIL503913', 'SGDIL503914', 'SGDMADSLSTRN09', 'SGDMMSBRT001', 'SGDOVE029936', 'SGDR049046', 'SGDR050141', 'SGDR535297', 'SGDRX2IN1387', 'SGDRX3603', 'SGDRXCLASSIC', 'SGEC0034939', 'SGEC0035776', 'SGEC0816009', 'SGEC0816203', 'SGEC0816210', 'SGEC0828088', 'SGEC2179245', 'SGEC2213499', 'SGEC2219408', 'SGEC236900', 'SGEC9262405', 'SGEC9263059', 'SGEC9263126', 'SGEC9263260', 'SGEC9263267', 'SGEC9263297', 'SGECZ9153504', 'SGECZ9153507', 'SGECZ9153509', 'SGECZ9156466', 'SGEI9678', 'SGELNIV16', 'SGELNIV571451', 'SGELSEB09', 'SGELSEB140', 'SGELSEB37', 'SGELSEB49', 'SGEZ206507', 'SGEZ206583', 'SGEZ9101013', 'SGEZ9101015', 'SGEZ9101016', 'SGEZ9102151', 'SGEZ9102153', 'SGEZ9102191', 'SGEZ9102193', 'SGEZ9102314', 'SGEZ9102365', 'SGEZ9102368', 'SGEZ9102379', 'SGEZ9154164', 'SGEZ9156470', 'SGEZ9175155', 'SGEZ9175170', 'SGEZ9177139', 'SGEZ9177186', 'SGEZ9201084', 'SGEZ9201085', 'SGGAR2171', 'SGGAR2188', 'SGGAR95998', 'SGGIL016808', 'SGGIL024315', 'SGGIL076161', 'SGGIL088454', 'SGGIL13284673', 'SGGIL13284676', 'SGGIL13284679', 'SGGIL2018020294', 'SGGIL2018020942', 'SGGIL228743', 'SGGIL243548', 'SGGIL262693', 'SGGIL262709', 'SGGIL291014', 'SGGIL4260220051', 'SGGIL5514', 'SGGIL5576', 'SGGIL840755', 'SGGIL85545', 'SGGIL883981', 'SGGIL886364', 'SGGIL90656', 'SGGIL90700', 'SGGIL981564', 'SGGIL983452', 'SGGLISS946322', 'SGGNR3600541918757', 'SGGNR3600541918771', 'SGGNR79-01', 'SGGNR79-02', 'SGGNREX1294', 'SGGNRGARST3B', 'SGGNRGARSTT', 'SGGNRLOR3661', 'SGGSK002238', 'SGGUNER13425', 'SGGUNER35407', 'SGGUNER36332', 'SGGUNER57572', 'SGGUNER59407', 'SGGUNER59483', 'SGGUNER65797', 'SGHEN1508302', 'SGHEN1508304', 'SGHEN1546580', 'SGHEN1550433', 'SGHEN1672240', 'SGHENK519977', 'SGHPCOLGADMC031', 'SGHPDALANCKR002', 'SGHPLOREAJOL001', 'SGHPLOREASAM137', 'SGHPLOREASBY107', 'SGHPLOREASBY108', 'SGHPLOREASBY109', 'SGHPLOREASBY111', 'SGHPLOREASBY112', 'SGHPLOREASBY113', 'SGHUN400000082', 'SGHUN400000084', 'SGIPANA3892', 'SGJAGLER30450', 'SGJOH00033', 'SGJOH08226', 'SGJOH12901', 'SGJOH13007', 'SGJOH33538', 'SGJOH39867', 'SGJOH60902', 'SGJOH71462', 'SGJOH76075', 'SGJOH76136', 'SGJOH76303', 'SGJOH76396', 'SGKLSTNNTRLS117', 'SGKLSTNNTRLS20', 'SGKLSTNNTRLS30', 'SGKLSTNNTRLS366', 'SGKLSTNNTRLS40', 'SGKLSTNNTRLS573', 'SGKLSTNNTRLS60', 'SGKLSTNNTRLS61', 'SGKLSTNNTRLS70', 'SGKLSTNNTRLS71', 'SGKLSTNNTRLS73', 'SGKLSTNNTRLS81', 'SGKLSTNROFLE', 'SGKLSTNST40', 'SGKLSTNST46', 'SGKLSTNST5546', 'SGKLSTNST575', 'SGKLSTNST67', 'SGKLSTNST673', 'SGKLSTNST70', 'SGKLSTNST71', 'SGKLSTNST777', 'SGKLSTNST80', 'SGKLSTNST81', 'SGKOPASTDK003', 'SGKOZ6787', 'SGKS17200', 'SGKS17202', 'SGKS30984', 'SGKSESU40', 'SGKZB00291', 'SGKZB556', 'SGKZB70023', 'SGKZB707', 'SGKZMD00746', 'SGLEPETIT3681', 'SGLEPETIT3698', 'SGLEPETIT3780', 'SGLEPETIT4213', 'SGLEPETIT4220', 'SGLEPETIT4244', 'SGLEPETIT4251', 'SGLEPETIT4299', 'SGLEPETIT4305', 'SGLEPETIT4329', 'SGLIST203607', 'SGLISTERINE90481', 'SGLOREAL80082', 'SGLOREEXC-01', 'SGLOREEXC-10', 'SGLOREEXC-100', 'SGLOREEXC-60', 'SGLOREEXC-70', 'SGLOREEXC-71', 'SGLOREEXC-80', 'SGLOREEXC-81', 'SGLOREEXC-90', 'SGLOREPREF-73', 'SGLSTRN58', 'SGMAKOLRL0001', 'SGMAKOLRL0003', 'SGMAKOLRL0008', 'SGNIVEA03474', 'SGNIVEA18165', 'SGNIVEA246657', 'SGNIVEA251671', 'SGNIVEA2552', 'SGNIVEA2569', 'SGNIVEA53248', 'SGNIVEA53330', 'SGNIVEA53484', 'SGNIVEA53545', 'SGNIVEA53606', 'SGNIVEA53637', 'SGNIVEA53668', 'SGNIVEA53750', 'SGNIVEA53811', 'SGNIVEA53880', 'SGNIVEA66538', 'SGNIVEA678587', 'SGNIVEA6879', 'SGNIVEA7982', 'SGNIVEA914715', 'SGNIVEA9371', 'SGNIVROTAR', 'SGNRAMBR16', 'SGNRAMBR20', 'SGNRAMBR26', 'SGNRAMBR59', 'SGNRAMBR71', 'SGNRAMBR77', 'SGNRAMBR87', 'SGOB001476', 'SGOB010317', 'SGOB022051', 'SGOB022617', 'SGOB280772', 'SGOB7393', 'SGOB989155', 'SGON63124', 'SGON63202', 'SGON901085100', 'SGON930445100', 'SGONCANKUCUK', 'SGORAL135159', 'SGORALB0017545', 'SGORALB278465', 'SGORALB782818', 'SGPAL976008', 'SGPAN065505', 'SGPAN609191', 'SGPAN964931', 'SGPAN965013', 'SGPAN965099', 'SGPAN965334', 'SGPAN971540', 'SGPAN971625', 'SGPAN971663', 'SGPAN971700', 'SGPAN971748', 'SGPAN971786', 'SGPAN971823', 'SGPAN971946', 'SGPAN972028', 'SGPAN972066', 'SGPARLOR105', 'SGPEIVACY5967', 'SGPGPAN34789', 'SGPR8690605662721', 'SGPR8690637714870', 'SGSCK5068', 'SGSCK5217', 'SGSEBAHAIRLOSS', 'SGSEBAMED0378475', 'SGSEBAMED0378478', 'SGSEBAMED5673', 'SGSEBASAMP52', 'SGSELALE00063', 'SGSELALE27932', 'SGSELALE28076', 'SGSENSO4256', 'SGSER003914', 'SGSER211201', 'SGSER211221', 'SGSER211236', 'SGSER211248', 'SGSER243300', 'SGSER243301', 'SGSERBOS05112', 'SGSERBOS05115', 'SGSERBOS24021', 'SGSERBOS67341', 'SGSERBOSLSTW500', 'SGSHE571', 'SGSOSCAN1827', 'SGSOSCAN1841', 'SGTAFT003499', 'SGTAFT003697', 'SGTAFT535977', 'SGTRN8699522004454', 'SGUCIL24032', 'SGUN20083344', 'SGUN20089715', 'SGUNI000766', 'SGUNI20024807', 'SGUNI20051924', 'SGUNI21008764', 'SGUNI21119315', 'SGUNI21124555', 'SGUNI706486', 'SGUNIAXEAPOLLODEO', 'SGUNIDEPKADBUY', 'SGVEET5327', 'SPOR1VTAK0300', 'SPOR1VTAK866', 'SPOR1VTAKG857-S', 'SPOR1VTTPATTCKR-5', 'SPORAKSEBR009-Y', 'SPORBRSVOITDMBL-1', 'SPORBRSVOITDMBL-2', 'SPORBRSVOITDMBL-3', 'SPORBRSVOITDMBL-4', 'SPORBRSZINCPLUS7', 'SPOREXOY1742047-SK', 'SPORINTER50832-10', 'SPORKISIKCLB179', 'SPORMONO2', 'SPORUS22342', 'SPORVOI20C069P-NS', 'SPORVOIAK412N-NS', 'SPORVOIT1731-M042', 'SPORVOIT1731-S042', 'ZYAKCAYKUR120106', 'ZYAKMEHMET230102', 'ZYAKY8691641080036', 'ZYASP70011', 'ZYBAL117136', 'ZYBAN733502', 'ZYBAN780216', 'ZYBAN860031', 'ZYBAN8690555730044', 'ZYBAN8690555730198', 'ZYBAN8690555730204', 'ZYBAN8690555730679', 'ZYBAN8690555730723', 'ZYBAN8690555731669', 'ZYBAN8690555780223', 'ZYBAR0869057999059', 'ZYBAR0869057999061', 'ZYBAR0869057999063', 'ZYBAR0869057999065', 'ZYBAR0869057999112', 'ZYBAR7300400112734', 'ZYBAR7300400117951', 'ZYBAR7300400127394', 'ZYBAR7300400127417', 'ZYBAR8076808201293', 'ZYBAR807680950028', 'ZYBAR8076809501415', 'ZYBAR807680951338', 'ZYBAR8076809513739', 'ZYBAR8076809513753', 'ZYBAR807680951477', 'ZYBAR8076809517881', 'ZYBAR8076809523547', 'ZYBAR807680952373', 'ZYBAR8076809523776', 'ZYBAR8690579161299', 'ZYBAR8690579224123', 'ZYBAR9545440', 'ZYBENC0106722', 'ZYBENC0390584', 'ZYBENC0396606', 'ZYBENC053580', 'ZYBENC096016', 'ZYBENC096054', 'ZYBENC216551', 'ZYBENC256572', 'ZYBENC259484', 'ZYBENC260871', 'ZYBENC276798', 'ZYBENC276994', 'ZYBENC279528', 'ZYBENC279531', 'ZYBENC279532', 'ZYBENC279533', 'ZYBENC279787', 'ZYBENC279929', 'ZYBENC279931', 'ZYBENC284552', 'ZYBENC286835', 'ZYBENC307083', 'ZYBENC315333', 'ZYBENC315334', 'ZYBENC318111', 'ZYBENC32050024', 'ZYBENC32120015', 'ZYBENC336876', 'ZYBENC337999', 'ZYBENC338000', 'ZYBENC349988', 'ZYBENC395790', 'ZYBENC537963', 'ZYBENC8010464', 'ZYBENC8028408', 'ZYBENC8028411', 'ZYBENC8059670', 'ZYBENC8093685', 'ZYBENC8104604', 'ZYBENC8104605', 'ZYBENC8117086', 'ZYBENC8148244', 'ZYBENC8155364', 'ZYBENC8159952', 'ZYBICN9268784', 'ZYBICN9268814', 'ZYBICN9269667', 'ZYBICN9285950', 'ZYBICN9286024', 'ZYBICN9286084', 'ZYBICN9286109', 'ZYBICN9286110', 'ZYBICN9286157', 'ZYBICN9286161', 'ZYBICN9286172', 'ZYBICN9286203', 'ZYBICN9286204', 'ZYBICN9286205', 'ZYBICN9286220', 'ZYBICN9286228', 'ZYBICN9286229', 'ZYBICN9286232', 'ZYBICN9286233', 'ZYBICN9286247', 'ZYBICN9286253', 'ZYBICN9286254', 'ZYBICN9286256', 'ZYBICN9286257', 'ZYBICN9286303', 'ZYBICN9286317', 'ZYBICN9286333', 'ZYBICN9286392', 'ZYBICN9286394', 'ZYBICN9286396', 'ZYBICN9286397', 'ZYBICN9286405', 'ZYBICN9286406', 'ZYBICN9286407', 'ZYBICN9286411', 'ZYBICN9286415', 'ZYBICN9286416', 'ZYBICN9286417', 'ZYBICN9286418', 'ZYBICN9286422', 'ZYBICN9286428', 'ZYBICN9286441', 'ZYBICN9286450', 'ZYBICN9286455', 'ZYBICN9286460', 'ZYBICN9286464', 'ZYBICN9286477', 'ZYBICN9286478', 'ZYBICN9286480', 'ZYBICN9286520', 'ZYBICN9286522', 'ZYBICN9286525', 'ZYBICN9286526', 'ZYBICN9286529', 'ZYBICN9286530', 'ZYBICN9286532', 'ZYBICN9286533', 'ZYBICN9286534', 'ZYBICN9286536', 'ZYBICN9286538', 'ZYBICN9286539', 'ZYBICN9286542', 'ZYBICN9286545', 'ZYBICN9286546', 'ZYBICN9286548', 'ZYBICN9286552', 'ZYBICN9286557', 'ZYBICN9286558', 'ZYBICN9286569', 'ZYBICN9286572', 'ZYBICN9286573', 'ZYBICN9286581', 'ZYBICN9286583', 'ZYBICN9286588', 'ZYBICN9286591', 'ZYBICN9286592', 'ZYBICN9286608', 'ZYBICN9286613', 'ZYBICN9286619', 'ZYBICN9286625', 'ZYBICN9286626', 'ZYBICN9286631', 'ZYBICN9286640', 'ZYBICN9286641', 'ZYBICN9286642', 'ZYBICN9286643', 'ZYBICN9286648', 'ZYBICN9286649', 'ZYBICN9286650', 'ZYBICN9286653', 'ZYBICN9286654', 'ZYBICN9286672', 'ZYBICN9286692', 'ZYBICN9286706', 'ZYBICN9286710', 'ZYBICN9286725', 'ZYBICN9286726', 'ZYBICN9286736', 'ZYBICN9286790', 'ZYBICN9286793', 'ZYBICN9286805', 'ZYBICN9286867', 'ZYBICN9286868', 'ZYBICN9286869', 'ZYBICN9286870', 'ZYBICN9286872', 'ZYBICN9286873', 'ZYBICN9286900', 'ZYBICN9286937', 'ZYBICN9286939', 'ZYBICN9286940', 'ZYBICN9286976', 'ZYBICN9286983', 'ZYBICN9287068', 'ZYBICN9287075', 'ZYBICN9287076', 'ZYBICN9287121', 'ZYBICN9287141', 'ZYBICN9287272', 'ZYBICN9287276', 'ZYBICN9287277', 'ZYBICN9287289', 'ZYBICN9287335', 'ZYBICN9287344', 'ZYBICN9287382', 'ZYBICN9287400', 'ZYBICN9287408', 'ZYBICN9287409', 'ZYBICN9287437', 'ZYBICN9287440', 'ZYBICN9287441', 'ZYBICN9287442', 'ZYBICN9287443', 'ZYBICN9287444', 'ZYBICN9287446', 'ZYBICN9287449', 'ZYBICN9287450', 'ZYBICN9287451', 'ZYBICN9287453', 'ZYBICN9287455', 'ZYBICN9287456', 'ZYBICN9287458', 'ZYBICN9287461', 'ZYBICN9287472', 'ZYBICN9287473', 'ZYBICN9287476', 'ZYBICN9287480', 'ZYBICN9287500', 'ZYBICN9287514', 'ZYBICN9287523', 'ZYBICN9287531', 'ZYBICN9287559', 'ZYBICN9287561', 'ZYBICN9287569', 'ZYBICN9287572', 'ZYBICN9287628', 'ZYBICN9287630', 'ZYBICN9287634', 'ZYBICN9287638', 'ZYBICN9287639', 'ZYBICN9287641', 'ZYBICN9287642', 'ZYBICN9287652', 'ZYBICN9287655', 'ZYBICN9287660', 'ZYBICN9287661', 'ZYBICN9287662', 'ZYBICN9287663', 'ZYBICN9287664', 'ZYBICN9287665', 'ZYBICN9287669', 'ZYBICN9287728', 'ZYBICN9293366', 'ZYBICN9293377', 'ZYBICN9293382', 'ZYBICN9293423', 'ZYBICN9293428', 'ZYBICN9310823', 'ZYBICN9310832', 'ZYBICN9310844', 'ZYBICN9310845', 'ZYBICN9310846', 'ZYBICN9315445', 'ZYBICN9323060', 'ZYBICN9323061', 'ZYBICN9324229', 'ZYBICN9328599', 'ZYBICN9328605', 'ZYBICN9329481', 'ZYBICN9329999', 'ZYBICN9330000', 'ZYBICN9330609', 'ZYCADB761450001001', 'ZYCANN63125', 'ZYCOCA012005', 'ZYCOCA012661', 'ZYCOCA020031', 'ZYCOCA097743', 'ZYCOCA2254', 'ZYCOLFTR12998', 'ZYDALIN1595', 'ZYDALIN2957', 'ZYDAR9004974', 'ZYDAR9005353', 'ZYDAR9007319', 'ZYDARLIGHT802', 'ZYDAROM101D3035', 'ZYDAROM101D3036', 'ZYDAROM501C1006', 'ZYDAROM80ZYT', 'ZYDAROM9004295', 'ZYDEMAK88112709', 'ZYDOGA202032', 'ZYDOGA202179', 'ZYDOGA205972', 'ZYDOGA206122', 'ZYDOGUS110460', 'ZYDOGUS3370', 'ZYDOGUS8607264GR', 'ZYDOGUS8690056', 'ZYDOGUS869071', 'ZYDOGUS8690719100', 'ZYDOGUS86907191002', 'ZYDOGUS86907191003', 'ZYDOGUS86907191004', 'ZYDOGUS86907191020', 'ZYDOGUS86907191021', 'ZYDOGUS86907191022', 'ZYDOGUS86907191037', 'ZYDOGUS86907191053', 'ZYDOGUS86907191062', 'ZYDOGUS86907191070', 'ZYDOGUS86907191071', 'ZYDOGUS86907191111', 'ZYDOGUS86907HIUFQ', 'ZYDOGUS869AA1', 'ZYDOGUS90719107118', 'ZYDUNUTE80176800', 'ZYDUTAT90635020904', 'ZYDUTAT90635030781', 'ZYDUTAT90635070022', 'ZYDUTAT90635073016', 'ZYDUTAT90635260997', 'ZYDUZEYKTC017', 'ZYDUZEYSBZ015', 'ZYDUZEYSBZ022', 'ZYDUZEYSBZ030', 'ZYECZ11111222', 'ZYECZACI187888', 'ZYECZACI187895', 'ZYECZACI187918', 'ZYECZACI8614016', 'ZYECZACI8614017', 'ZYECZACI8664019', 'ZYECZACI8673015', 'ZYECZACI8673035', 'ZYECZACI9221045', 'ZYECZACI9221098', 'ZYECZACI9300200', 'ZYECZACI9300227', 'ZYECZACI9300251', 'ZYECZACI9300276', 'ZYECZACI9300377', 'ZYECZACI9300391', 'ZYECZACI9301281', 'ZYECZACI9301290', 'ZYECZACI9470301', 'ZYECZACI9470372', 'ZYECZACI9601012', 'ZYECZACI9612009', 'ZYECZACI9612025', 'ZYECZACI9621077', 'ZYECZACI9623001', 'ZYECZACI9661002', 'ZYECZACI9661063', 'ZYECZACI9661080', 'ZYECZACI9662013', 'ZYECZACI9671007', 'ZYECZACI9671014', 'ZYECZACI9671015', 'ZYECZACI9671016', 'ZYECZACI9673020', 'ZYECZACI9673021', 'ZYECZACI99601022', 'ZYEREN271', 'ZYEREN272', 'ZYEREN274', 'ZYERENVLD129540', 'ZYERENVLD131431', 'ZYERENVLD131432', 'ZYERENVLD131433', 'ZYERENVLD139221', 'ZYERENVLD139223', 'ZYERENVLD139227', 'ZYERENVLD141125', 'ZYERENVLD141126', 'ZYERENVLD141135', 'ZYERENVLD141137', 'ZYERENVLD141163', 'ZYERENVLD141166', 'ZYERENVLD142160', 'ZYERENVLD142307', 'ZYERENVLD142316', 'ZYERENVLDCEKCEK1', 'ZYERENVLDPAS32', 'ZYERENVLDTEF2', 'ZYETGEV006', 'ZYETLIK996532', 'ZYETMAR06HB0025', 'ZYETMAR06HB0073', 'ZYETMAR06HB0074', 'ZYETMAR06HB0076', 'ZYETMAR06HB0077', 'ZYETMAR06HB0081', 'ZYETMAR06HB0083', 'ZYETMAR06HB0122', 'ZYETMAR06HB0124', 'ZYETMAR06HB0139', 'ZYETMAR06HB0149', 'ZYETMAR06HB0158', 'ZYETMAR06HB0175', 'ZYETMAR06HB0176', 'ZYETMAR06HB0177', 'ZYETMAR06HB0184', 'ZYETMAR06HB02464', 'ZYETMAR06HB0297', 'ZYETMAR06HB0302', 'ZYFRITOSKR003', 'ZYFSAN6000015', 'ZYFSAN6000022', 'ZYFSAN6000046', 'ZYFSAN6010014', 'ZYFSAN6050010', 'ZYFSAN6120010', 'ZYGIM21035', 'ZYGUR010010', 'ZYGUR011017', 'ZYGUR011554', 'ZYGUR011796', 'ZYGUR012014', 'ZYGUR012018', 'ZYGUR012618', 'ZYGUR012885', 'ZYGUR013028', 'ZYGUR014018', 'ZYGUR014315', 'ZYGUR014353', 'ZYGUR015022', 'ZYGUR015114', 'ZYGUR015121', 'ZYGUR015213', 'ZYGUR023496', 'ZYGUR059266', 'ZYGUR100014', 'ZYGUR204735', 'ZYGUR211534', 'ZYGUR302294', 'ZYGUR302478', 'ZYGUR302638', 'ZYGUR302799', 'ZYGUR305547', 'ZYGUR309385', 'ZYGUR313313', 'ZYGUR370393', 'ZYHAR16444', 'ZYHAR16445', 'ZYHAYAT1876', 'ZYHAYAT1883', 'ZYHAYAT5000083', 'ZYHAYAT5000092', 'ZYHAYAT5000164', 'ZYHAYAT5000166', 'ZYHAYAT5000169', 'ZYHAYAT5000171', 'ZYHAYAT5003327', 'ZYHAYAT5003328', 'ZYHAYAT5003331', 'ZYHAYAT5003332', 'ZYHAYAT5003351', 'ZYHAYAT5004002', 'ZYHAYAT5008552', 'ZYHAYAT5008553', 'ZYHAYAT5009489', 'ZYHAYAT5012276', 'ZYHAYAT5012277', 'ZYHAYAT5012366', 'ZYHAYAT5016254', 'ZYHAYAT5016434', 'ZYHAYAT5016956', 'ZYHAYAT5016962', 'ZYHAYAT5017824', 'ZYHAYAT5018558', 'ZYHAYAT5020459', 'ZYHAYAT5021327', 'ZYHAYAT5021336', 'ZYHAYAT5021337', 'ZYHAYAT5021421', 'ZYHAYAT5021424', 'ZYHAYAT5021431', 'ZYHAYAT5023314', 'ZYHAYAT5031491', 'ZYHAYAT5031492', 'ZYHAYAT5031493', 'ZYHAYAT5034444', 'ZYHAYAT5034447', 'ZYHAYAT536005130', 'ZYHAYAT55021338', 'ZYHAYAT6010912', 'ZYHAYAT6648', 'ZYHAYAT803989', 'ZYHAYAT838', 'ZYHAYAT86905360111', 'ZYHAYAT890', 'ZYHEINZ007638', 'ZYHEINZ024671', 'ZYHEINZ047371', 'ZYHEINZ157246', 'ZYHEINZ157635', 'ZYHEN100114042', 'ZYHEN100114080', 'ZYHEN100514088', 'ZYHEN100607070', 'ZYHEN100625197', 'ZYHEN100625227', 'ZYHEN100683869', 'ZYHEN100683890', 'ZYHEN100683920', 'ZYHEN100704960', 'ZYHEN100794664', 'ZYHEN1675722', 'ZYHEN1711469', 'ZYHEN1711470', 'ZYHEN1737753', 'ZYHEN1767303', 'ZYHEN1787349', 'ZYHEN1867671', 'ZYHEN1867674', 'ZYHEN1944806', 'ZYHEN1944810', 'ZYHEN1944813', 'ZYHEN1944814', 'ZYHEN1944815', 'ZYHEN2334', 'ZYHEN4407', 'ZYHEN4438', 'ZYHEN572405710', 'ZYHEN572406076', 'ZYHEN572409251', 'ZYHEN572412022', 'ZYHEN572412275', 'ZYHEN572412367', 'ZYHEN572412411', 'ZYHEN6180', 'ZYHEN652', 'ZYHEN656801', 'ZYHEN72401262', 'ZYHEN829557', 'ZYHPANKARMKR005', 'ZYHPANKARMKR009', 'ZYHPANKARMKR011', 'ZYHPANKARMKR014', 'ZYHPANKARMKR023', 'ZYHPANKARMKR024', 'ZYHPBARILMKR029', 'ZYHPBARILMKR032', 'ZYHPBARILMKR033', 'ZYHPBARILMKR035', 'ZYHPBARILMKR043', 'ZYHPBERRATRS009', 'ZYHPBERRATRS012', 'ZYHPBILURTUZ004', 'ZYHPBILURTUZ005', 'ZYHPBILURTUZ007', 'ZYHPBILURTUZ010', 'ZYHPBIRYAAYC004', 'ZYHPCAYKUBCY002', 'ZYHPCAYKUDCY006', 'ZYHPCAYKUDCY016', 'ZYHPCAYKUDCY018', 'ZYHPCAYKUDCY019', 'ZYHPCAYKUDCY020', 'ZYHPCAYKUDCY022', 'ZYHPCAYKUDCY023', 'ZYHPCAYKUGZS002', 'ZYHPCAYKUGZS004', 'ZYHPCAYKUGZS005', 'ZYHPCAYKUGZS006', 'ZYHPCAYKUGZS014', 'ZYHPCAYKUGZS016', 'ZYHPCAYKUGZS017', 'ZYHPCAYKUPCY001', 'ZYHPCOCACCOL001', 'ZYHPCOCACCOL002', 'ZYHPCOCACCOL007', 'ZYHPCOCACCOL008', 'ZYHPCOCACCOL015', 'ZYHPCOCACCOL016', 'ZYHPCOCACCOL021', 'ZYHPCOCACCOL043', 'ZYHPCOCACCOL047', 'ZYHPCOCACEIC007', 'ZYHPCOCACGZS008', 'ZYHPCOCACGZS009', 'ZYHPCOCACGZS010', 'ZYHPCOCACGZS011', 'ZYHPCOCACGZS027', 'ZYHPCOCACMGZ003', 'ZYHPCOCACMGZ008', 'ZYHPCOCACMGZ009', 'ZYHPCOCACMGZ010', 'ZYHPCOCACMGZ016', 'ZYHPCOCACMSY020', 'ZYHPCOCACMSY021', 'ZYHPCOCACMSY029', 'ZYHPCOCACMSY033', 'ZYHPCOCACSGZ002', 'ZYHPCOCACSGZ012', 'ZYHPCOCACSSU003', 'ZYHPCPEPSMGZ003', 'ZYHPCPEPSMGZ004', 'ZYHPCPEPSMGZ011', 'ZYHPCPEPSMGZ013', 'ZYHPDALANKSB005', 'ZYHPDANONSSU004', 'ZYHPDANONSSU009', 'ZYHPDIMESMSY001', 'ZYHPDIMESMSY002', 'ZYHPDIMESMSY003', 'ZYHPDIMESMSY007', 'ZYHPDIMESMSY010', 'ZYHPDIMESMSY011', 'ZYHPDIMESMSY012', 'ZYHPDIMESMSY015', 'ZYHPDIMESMSY016', 'ZYHPDIMESMSY017', 'ZYHPDIMESMSY018', 'ZYHPDIMESMSY019', 'ZYHPDIMESMSY020', 'ZYHPDIMESMSY022', 'ZYHPDJWAXODK069', 'ZYHPDOGANSLG001', 'ZYHPDOGANSLG004', 'ZYHPDOGANSLG008', 'ZYHPDOGANSOS001', 'ZYHPDOGANSOS007', 'ZYHPDOGUSDCY007', 'ZYHPDOGUSPCY009', 'ZYHPDOGUSPCY025', 'ZYHPDROETKKU001', 'ZYHPDROETPDN001', 'ZYHPDROETPDN003', 'ZYHPDROETPDN004', 'ZYHPDROETPDN005', 'ZYHPDROETPDN006', 'ZYHPDROETPDN007', 'ZYHPDROETPDN009', 'ZYHPDROETPDN010', 'ZYHPDROETPDN011', 'ZYHPDROETPDN014', 'ZYHPDROETTIC001', 'ZYHPDROETTIC003', 'ZYHPDROETTIC300', 'ZYHPDROETTIC303', 'ZYHPDROETTTL004', 'ZYHPDROETTTL005', 'ZYHPDROETTTL008', 'ZYHPDROETTTL012', 'ZYHPDROETTTL014', 'ZYHPDROETTTL018', 'ZYHPDROETTTL020', 'ZYHPDROETTTL022', 'ZYHPDROETTTL023', 'ZYHPDROETTTL024', 'ZYHPDROETTTL030', 'ZYHPDROETTTL031', 'ZYHPDROETTTL032', 'ZYHPDROETTTL034', 'ZYHPDROETTTL036', 'ZYHPDROETTTL038', 'ZYHPDROETTTL039', 'ZYHPDROETTTL040', 'ZYHPDROETTTL041', 'ZYHPDROETTTL042', 'ZYHPDROETTTL043', 'ZYHPDROETTTL045', 'ZYHPDROETTTL047', 'ZYHPDROETTTL048', 'ZYHPDROETTTL049', 'ZYHPDROETTTL050', 'ZYHPDROETTTL051', 'ZYHPDROETTTL052', 'ZYHPDROETTTL053', 'ZYHPDROETTTL055', 'ZYHPDROETTTL056', 'ZYHPDROETTTL057', 'ZYHPDROETTTL058', 'ZYHPDROETTTL059', 'ZYHPDROETTTL060', 'ZYHPDROETTTL061', 'ZYHPDROETTTL063', 'ZYHPDROETTTL070', 'ZYHPDROETTTL071', 'ZYHPDROETTTL073', 'ZYHPDROETTTL074', 'ZYHPDROETTTL078', 'ZYHPDROETTTL082', 'ZYHPDROETTTL083', 'ZYHPDROETTTL097', 'ZYHPDROETTTL098', 'ZYHPDROETTTL099', 'ZYHPDROETTTL100', 'ZYHPDROETTTL109', 'ZYHPDROETTTL118', 'ZYHPDROETTTL123', 'ZYHPDROETTTL135', 'ZYHPDROETTTL140', 'ZYHPDROETTTL141', 'ZYHPDROETYRD002', 'ZYHPDROETYRD003', 'ZYHPDROETYRD004', 'ZYHPDROETYRD006', 'ZYHPDROETYRD007', 'ZYHPDROETYRD008', 'ZYHPDROETYRD009', 'ZYHPDROETYRD010', 'ZYHPDUZEYKTC018', 'ZYHPDUZEYMKR003', 'ZYHPDUZEYMKR004', 'ZYHPDUZEYMKR007', 'ZYHPDUZEYMKR013', 'ZYHPERIKLSSU001', 'ZYHPERIKLSSU003', 'ZYHPERIKLSSU004', 'ZYHPESKINTSK003', 'ZYHPESKINTSK004', 'ZYHPETICEBSK005', 'ZYHPETICEBSK009', 'ZYHPETICEBSK010', 'ZYHPETICEBSK023', 'ZYHPETICEBSK027', 'ZYHPETICEBSK052', 'ZYHPETICEBSK080', 'ZYHPETICEBSK085', 'ZYHPETICEBSK086', 'ZYHPETICEBSK107', 'ZYHPETICECIK003', 'ZYHPETICECIK008', 'ZYHPETICECIK028', 'ZYHPETICECIK032', 'ZYHPETICEDIY004', 'ZYHPETICEDIY011', 'ZYHPETICEDIY014', 'ZYHPETICEDIY015', 'ZYHPETICEGEV002', 'ZYHPETICEKEK008', 'ZYHPETICEKEK009', 'ZYHPETICEKEK015', 'ZYHPETICEKEK017', 'ZYHPETICEKEK041', 'ZYHPETICEKEK045', 'ZYHPFERROBCK001', 'ZYHPFERROBCK002', 'ZYHPFERROKEK003', 'ZYHPFRITOCPS040', 'ZYHPFRITOCPS041', 'ZYHPFRITOCPS044', 'ZYHPFRITOCPS047', 'ZYHPFRITOCPS048', 'ZYHPFRITOCPS050', 'ZYHPFRITOCPS055', 'ZYHPFRITOCPS057', 'ZYHPFRITOCPS058', 'ZYHPFRITOCPS063', 'ZYHPFRITOCPS064', 'ZYHPFRITOCPS066', 'ZYHPGREENODK015', 'ZYHPKEMALSOS004', 'ZYHPKEMALSOS008', 'ZYHPKRAFTCIK016', 'ZYHPKRAFTSKR028', 'ZYHPKRAFTSKR035', 'ZYHPKRAFTSKR055', 'ZYHPKRAFTSKR060', 'ZYHPKRAFTSKZ017', 'ZYHPLEVERBMT009', 'ZYHPLEVERKYT001', 'ZYHPMARSCKGF004', 'ZYHPNESTLIKH026', 'ZYHPNESTLSKR006', 'ZYHPNESTLSKR007', 'ZYHPNESTLSKR011', 'ZYHPNESTLSKR012', 'ZYHPNESTLSKR013', 'ZYHPPEPSICOL003', 'ZYHPPEPSICOL005', 'ZYHPPEPSICOL009', 'ZYHPPEPSICOL010', 'ZYHPPEPSICOL012', 'ZYHPPEPSICOL025', 'ZYHPPEPSIGZS002', 'ZYHPPEPSIGZS005', 'ZYHPPEPSIGZS006', 'ZYHPPEPSIGZS008', 'ZYHPPEPSIGZS013', 'ZYHPPEPSIGZS015', 'ZYHPPEPSIGZS016', 'ZYHPPEPSIGZS019', 'ZYHPPEPSIGZS020', 'ZYHPPEPSIGZS021', 'ZYHPPEPSIGZS028', 'ZYHPPEPSIGZS029', 'ZYHPPEPSIMSY001', 'ZYHPPEPSIMSY023', 'ZYHPPEPSIMSY034', 'ZYHPPEPSIMSY035', 'ZYHPPEPSIMSY036', 'ZYHPPEPSIMSY037', 'ZYHPPEPSIMSY038', 'ZYHPPEPSISGZ002', 'ZYHPPEPSISGZ003', 'ZYHPPERFESKR007', 'ZYHPPERFESKZ003', 'ZYHPPERFESKZ004', 'ZYHPPERFESKZ024', 'ZYHPPERFESKZ037', 'ZYHPPRINGCPS008', 'ZYHPPRINGCPS009', 'ZYHPPRINGCPS010', 'ZYHPPRINGCPS011', 'ZYHPREDBUEIC001', 'ZYHPREDBUEIC006', 'ZYHPREISBBKL002', 'ZYHPREISBBKL006', 'ZYHPREISBBKL007', 'ZYHPREISBBKL008', 'ZYHPREISBBKL009', 'ZYHPREISBBKL010', 'ZYHPREISBBKL011', 'ZYHPREISBBKL014', 'ZYHPREISBBKL015', 'ZYHPREISBBKL018', 'ZYHPREISBBKL019', 'ZYHPREISBBKL020', 'ZYHPREISBBKL021', 'ZYHPREISBBKL024', 'ZYHPREISBBKL026', 'ZYHPREISBBKL027', 'ZYHPREISBBKL033', 'ZYHPREISBBKL045', 'ZYHPSANSEKGF008', 'ZYHPSOLENBSK011', 'ZYHPSOLENKEK002', 'ZYHPSOLENKEK004', 'ZYHPSOLENKGF001', 'ZYHPSOLENKGF005', 'ZYHPSOLENKGF006', 'ZYHPTAMEKSBZ029', 'ZYHPTARISZYR003', 'ZYHPTARISZYR004', 'ZYHPULKER3IN006', 'ZYHPULKER3IN008', 'ZYHPULKER3IN015', 'ZYHPULKERBSK023', 'ZYHPULKERBSK033', 'ZYHPULKERBSK040', 'ZYHPULKERBSK042', 'ZYHPULKERBSK055', 'ZYHPULKERBSK074', 'ZYHPULKERBSK080', 'ZYHPULKERBSK085', 'ZYHPULKERBSK125', 'ZYHPULKERCIK042', 'ZYHPULKERCIK050', 'ZYHPULKERCRB001', 'ZYHPULKERCRB002', 'ZYHPULKERCRB004', 'ZYHPULKERCRB005', 'ZYHPULKERCRB009', 'ZYHPULKERCRB036', 'ZYHPULKERFEZ001', 'ZYHPULKERKEK023', 'ZYHPULKERKEK041', 'ZYHPULKERKEK050', 'ZYHPULKERKFE010', 'ZYHPULKERKGF024', 'ZYHPULKERKGF027', 'ZYHPULKERMRG002', 'ZYHPULKERMRG004', 'ZYHPULKERMRG005', 'ZYHPULKERMRG010', 'ZYHPULKERMRG012', 'ZYHPULKERMRG014', 'ZYHPULKERMRG016', 'ZYHPULKERMRG023', 'ZYHPULKERMRG028', 'ZYHPULKERPDN002', 'ZYHPULKERSGZ007', 'ZYHPULKERSKR033', 'ZYHPULKERTTL006', 'ZYHPUNMASEKM026', 'ZYHPYURTTSBZ005', 'ZYHPYURTTSBZ010', 'ZYHPZJWAXKYC997', 'ZYHPZJWAXODK008', 'ZYHPZJWAXODK021', 'ZYHUG8691900162749', 'ZYHUG8691900162756', 'ZYHUG8691900162763', 'ZYIDP67003', 'ZYIDP80050100', 'ZYJWAX16993', 'ZYJWAX17112', 'ZYJWAX607231', 'ZYJWAX607232', 'ZYJWAX626334', 'ZYJWAX636454', 'ZYJWAX636515', 'ZYJWAX636520', 'ZYJWAX636522', 'ZYJWAX636527', 'ZYJWAX636529', 'ZYJWAX636530', 'ZYJWAX636532', 'ZYJWAX636534', 'ZYJWAX636545', 'ZYJWAX636546', 'ZYJWAX636554', 'ZYJWAX636588', 'ZYJWAX636593', 'ZYJWAX636594', 'ZYJWAX636595', 'ZYJWAX636596', 'ZYJWAX636604', 'ZYJWAX636605', 'ZYJWAX636613', 'ZYJWAX636627', 'ZYJWAX636632', 'ZYJWAX636665', 'ZYJWAX636671', 'ZYJWAX638748', 'ZYJWAX640587', 'ZYJWAX640588', 'ZYJWAX640746', 'ZYJWAX644192', 'ZYJWAX644509', 'ZYJWAX650217', 'ZYJWAX654730', 'ZYKOM8699300270002', 'ZYKOM8699300270026', 'ZYKOM8699300270064', 'ZYKOM8699300270071', 'ZYKOM8699300271009', 'ZYKOM8699300271016', 'ZYKRISTAL111077', 'ZYKRISTAL259151', 'ZYKUK0500', 'ZYKUK0735', 'ZYKUK1008', 'ZYKUK1015', 'ZYKUK1084', 'ZYKUK3004', 'ZYKUK4052', 'ZYLEPETIT3803', 'ZYLEPETIT3827', 'ZYLEPETIT6700', 'ZYLINSALNDT001', 'ZYLINSALNDT005', 'ZYLINSALNDT006', 'ZYMAR2146', 'ZYMAR2814', 'ZYMAR4882', 'ZYMAR6818', 'ZYMETROTORKU', 'ZYMRKT001323', 'ZYMRKT001330', 'ZYMRKT001347', 'ZYMRKT001934', 'ZYMRKT003501', 'ZYMRKT006014', 'ZYMRKT030323', 'ZYMRKT030330', 'ZYMRKT107070', 'ZYMRKT135974', 'ZYMRKT135981', 'ZYMRKT140060', 'ZYMRKT905909', 'ZYMRKT905923', 'ZYNEIYI1538135', 'ZYNEIYI1538136', 'ZYNEIYI1538137', 'ZYNEIYI1538138', 'ZYNES11470137', 'ZYNES11470143', 'ZYNES11470144', 'ZYNES11470931', 'ZYNES12030974', 'ZYNES12067950', 'ZYNES12083099', 'ZYNES12129562', 'ZYNES12129569', 'ZYNES12129610', 'ZYNES12129611', 'ZYNES12129644', 'ZYNES12137431', 'ZYNES12158131', 'ZYNES12199964', 'ZYNES12206045', 'ZYNES12214275', 'ZYNES12217453', 'ZYNES140426', 'ZYNES140428', 'ZYNES140431', 'ZYNFSG0010390001', 'ZYNFSGUNI2201816', 'ZYONCU21195843', 'ZYONCU21195881', 'ZYONCU21195942', 'ZYONCU21196079', 'ZYPAKMYTTL002', 'ZYPAKMYTTL005', 'ZYPAKMYTTL011', 'ZYPAKMYYRD013', 'ZYPAKMYYRD014', 'ZYPAREX1909309', 'ZYPAREX1909476', 'ZYPAREX2107113', 'ZYPAREX2107126', 'ZYPAREX2107154', 'ZYPAREX2107172', 'ZYPAREX2107207', 'ZYPAREX2107217', 'ZYPAREX2107292', 'ZYPAREX2107301', 'ZYPAREX2107358', 'ZYPAREX2107559', 'ZYPAREX2107620', 'ZYPAREX2107746', 'ZYPAREX2107816', 'ZYPAREX2107821', 'ZYPAREX2107871', 'ZYPAREX2107986', 'ZYPEN500329', 'ZYPENG500219', 'ZYPENG500276', 'ZYPENG500298', 'ZYPENG500302', 'ZYPENG500609', 'ZYPENG500970', 'ZYPEYMAN050307', 'ZYPEYMAN060306', 'ZYPEYMAN070305', 'ZYPEYMAN080106', 'ZYPEYMAN080205', 'ZYPEYMAN080403', 'ZYPEYMAN090303', 'ZYPEYMAN100309', 'ZYPEYMAN170104', 'ZYPEYMAN180103', 'ZYPEYMAN200061', 'ZYPEYMAN200115', 'ZYPEYMAN200559', 'ZYPEYMAN200818', 'ZYPEYMAN20083', 'ZYPEYMAN201143', 'ZYPEYMAN201259', 'ZYPEYMAN201525', 'ZYPEYMAN201563', 'ZYPEYMAN201594', 'ZYPEYMAN201990', 'ZYPEYMAN202102', 'ZYPEYMAN202119', 'ZYPEYMAN202256', 'ZYPEYMAN202294', 'ZYPEYMAN202331', 'ZYPILAO13351', 'ZYPINAR153100004', 'ZYPINAR153100005', 'ZYPINAR153100006', 'ZYPINAR153100011', 'ZYPINAR153100025', 'ZYPINAR153100026', 'ZYPINAR153100288', 'ZYPINAR153101300', 'ZYPINAR153101435', 'ZYPINAR153103044', 'ZYPINAR153103045', 'ZYPINAR153103104', 'ZYPINAR153103445', 'ZYPINAR153103824', 'ZYPRDGLSIZ19155', 'ZYPRDGLSIZ19222', 'ZYPRDGLSIZ19628', 'ZYPYON189065', 'ZYPYON3305', 'ZYPYON400536857', 'ZYPYON400538462', 'ZYPYON400538523', 'ZYPYON4170', 'ZYPYON49709', 'ZYPYON5702', 'ZYPYON635197', 'ZYPYON647800', 'ZYPYON6511', 'ZYPYON6690', 'ZYPYON734598', 'ZYPYON798823', 'ZYPYON798854', 'ZYPYON798885', 'ZYPYON798977', 'ZYPYON799035', 'ZYPYON81258147', 'ZYPYON83554', 'ZYPYON904357', 'ZYPYON908805', 'ZYPYON913304', 'ZYPYON913564', 'ZYSERCAY0105001921', 'ZYSERK690105000436', 'ZYSERK690627023500', 'ZYSINAN93634200018', 'ZYSINAN93634200025', 'ZYSINAN97408330550', 'ZYSINAN97702980659', 'ZYSINAN97702981205', 'ZYSINAN97702981298', 'ZYSINAN97702981427', 'ZYSINAN97702981434', 'ZYSINAN97702981830', 'ZYSINAN97702982103', 'ZYSINAN97702982127', 'ZYSINAN97702982134', 'ZYSINAN97702982189', 'ZYSINAN97702983377', 'ZYSINANTTL009', 'ZYSLE060307', 'ZYSLE060345-', 'ZYSLE060369', 'ZYSLE060376', 'ZYSLE060383', 'ZYSLE320171', 'ZYSLE322328', 'ZYSLE326203', 'ZYSLE326609', 'ZYSLT1500282', 'ZYSULCAM31331', 'ZYSULCAM42186', 'ZYSULERN32058', 'ZYSULERN45795', 'ZYSULERN47051', 'ZYSULKEN1693', 'ZYSULKEN1695', 'ZYSULKEN23595', 'ZYSULKEN24415', 'ZYSULKEN24968', 'ZYSULKEN283', 'ZYSULKEN284', 'ZYSULKEN3629', 'ZYSULKEN44662', 'ZYSULKEN45267', 'ZYSULKEN45825', 'ZYSULKEN48851', 'ZYSULKEN48852', 'ZYSULKEN48853', 'ZYSULKEN52574', 'ZYSULKEN52577', 'ZYSULKORO15538', 'ZYSULKORO29243', 'ZYSULKORO31879', 'ZYSULKORO32603', 'ZYSULKORO331', 'ZYSULKORO42297', 'ZYSULKORO47156', 'ZYSULKORO50256', 'ZYSULVIL15976', 'ZYSULVIL6982', 'ZYSULVIL7541', 'ZYTAD7121030', 'ZYTAD7131039', 'ZYTAD7141038', 'ZYTAD7171066', 'ZYTAD7191033', 'ZYTAD7201015', 'ZYTAD7241080', 'ZYTAD7291030', 'ZYTAD7301036', 'ZYTAD7321027', 'ZYTAD7341025', 'ZYTAD7351031', 'ZYTAD7401033', 'ZYTADIMKRY004', 'ZYTADIMKRY005', 'ZYTADIMKRY006', 'ZYTADIMKRY009', 'ZYTADIMKRY037', 'ZYTAMEKSBZ003', 'ZYTAMEKSBZ010', 'ZYTAMEKSBZ017', 'ZYTAMEKSBZ023', 'ZYTCH465451', 'ZYTUZOT97423360204', 'ZYUDUM6010016', 'ZYUDUM6010023', 'ZYUDUM6011051', 'ZYUDUM6020022', 'ZYUDUM6021050', 'ZYUDUM6100205', 'ZYUDUM6100229', 'ZYUDUM6100328', 'ZYUDUM6100342', 'ZYULKER0007200', 'ZYULKER0007804', 'ZYULKER0009204', 'ZYULKER0064306', 'ZYULKER0064307', 'ZYULKER0176004', 'ZYULKER0176201', 'ZYULKER0176203', 'ZYULKER0176204', 'ZYULKER0216308', 'ZYULKER0216309', 'ZYULKER0270504', 'ZYULKER0271505', 'ZYULKER0271608', 'ZYULKER040275', 'ZYULKERBLK009', 'ZYULKERBLK010', 'ZYULKERBLK011', 'ZYULKERBLK013', 'ZYULKERSBZ001', 'ZYULKERSBZ003', 'ZYULKERSBZ004', 'ZYULKERSSU002', 'ZYULKERSSU003', 'ZYULKERSSU004', 'ZYULUDAMSD009', 'ZYULUDAMSY001', 'ZYULUDAMSY003', 'ZYULUDASGZ002', 'ZYUNI2005292555', 'ZYUNI20052929', 'ZYUNIFOOD20034453', 'ZYUNIL20018093', 'ZYUNIL20022119', 'ZYUNIL20035793', 'ZYUNIL20040349', 'ZYUNIL20040351', 'ZYUNIL20040353', 'ZYUNIL20051671', 'ZYUNIL20052923', 'ZYUNIL20052927', 'ZYUNIL20055096', 'ZYUNIL20073683', 'ZYUNIL20077251', 'ZYUNIL20091453', 'ZYUNIL20091454', 'ZYUNIL20205665', 'ZYUNIL20217230', 'ZYUNIL20264025', 'ZYUNIL20264420', 'ZYUNIL21002997', 'ZYUNIL21002998', 'ZYUNIL21026731', 'ZYUNIL21026733', 'ZYUNIL21032491', 'ZYUNIL21038893', 'ZYUNIL21042007', 'ZYUNIL21108636', 'ZYUNIL21122153', 'ZYUNIL21127366', 'ZYUNIL21127405', 'ZYUNIL21127409', 'ZYUNIL21129933', 'ZYUNIL21166551', 'ZYUNIL21166552', 'ZYUNIL21166554', 'ZYUNIL581595', 'ZYUNIL70003152', 'ZYUNIL70003580', 'ZYUNIL70003656', 'ZYUNIL70003657', 'ZYUNIL70004274', 'ZYUNIL70005997', 'ZYUNIL70006848', 'ZYUNIL70006862', 'ZYUNIL70006863', 'ZYUNIL70006868', 'ZYUNIL70009140', 'ZYUNIL70009454', 'ZYUNIL70020865', 'ZYUNIL70021056', 'ZYUNIL70021119', 'ZYUNIL70021126', 'ZYUNIL798204', 'ZYUNIL798280', 'ZYUNMASEKM007', 'ZYUNMASEKM008', 'ZYUNMASEKM065', 'ZYUZAY1074', 'ZYUZAY1166', 'ZYUZAY1272', 'ZYVLEDASUN003', 'ZYWAX12117'])"
      ]
     },
     "execution_count": 242,
     "metadata": {},
     "output_type": "execute_result"
    }
   ],
   "source": [
    "products_dict.keys()"
   ]
  },
  {
   "cell_type": "code",
   "execution_count": 243,
   "id": "ec3708d2",
   "metadata": {},
   "outputs": [
    {
     "data": {
      "text/plain": [
       "['Dalin Bebek Bebek Bakım ve Sağlığı Dalin Şampuan Klasik 500ML']"
      ]
     },
     "execution_count": 243,
     "metadata": {},
     "output_type": "execute_result"
    }
   ],
   "source": [
    "products_dict['AILEDALIN275105']\n"
   ]
  },
  {
   "cell_type": "code",
   "execution_count": 244,
   "id": "335c9939",
   "metadata": {},
   "outputs": [
    {
     "data": {
      "text/plain": [
       "[('i', 0.7083442807197571),\n",
       " (' ', 0.7056373357772827),\n",
       " ('ı', 0.6761066913604736),\n",
       " ('k', 0.6667896509170532),\n",
       " ('r', 0.6593756675720215),\n",
       " ('l', 0.6579871773719788),\n",
       " ('e', 0.6498638391494751),\n",
       " ('t', 0.6322890520095825),\n",
       " ('n', 0.6120158433914185),\n",
       " ('m', 0.6032317280769348)]"
      ]
     },
     "execution_count": 244,
     "metadata": {},
     "output_type": "execute_result"
    }
   ],
   "source": [
    "model.wv.most_similar(['a'], topn= 10)"
   ]
  },
  {
   "cell_type": "code",
   "execution_count": null,
   "id": "395da5fe",
   "metadata": {},
   "outputs": [],
   "source": []
  },
  {
   "cell_type": "code",
   "execution_count": null,
   "id": "751cae2b",
   "metadata": {},
   "outputs": [],
   "source": []
  },
  {
   "cell_type": "code",
   "execution_count": null,
   "id": "3b5c87ca",
   "metadata": {},
   "outputs": [],
   "source": []
  },
  {
   "cell_type": "code",
   "execution_count": null,
   "id": "29080a66",
   "metadata": {},
   "outputs": [],
   "source": []
  },
  {
   "cell_type": "code",
   "execution_count": null,
   "id": "95cce1b6",
   "metadata": {},
   "outputs": [],
   "source": []
  },
  {
   "cell_type": "code",
   "execution_count": null,
   "id": "b597c7e0",
   "metadata": {},
   "outputs": [],
   "source": []
  },
  {
   "cell_type": "code",
   "execution_count": null,
   "id": "2434cdca",
   "metadata": {},
   "outputs": [],
   "source": [
    "df1=df.copy()\n",
    "df1.price = df1.price.astype(float)\n",
    "df2 = df1.groupby(['sessionid','eventtime','productid']).sum().reset_index()\n",
    "df2"
   ]
  }
 ],
 "metadata": {
  "kernelspec": {
   "display_name": "Python 3 (ipykernel)",
   "language": "python",
   "name": "python3"
  },
  "language_info": {
   "codemirror_mode": {
    "name": "ipython",
    "version": 3
   },
   "file_extension": ".py",
   "mimetype": "text/x-python",
   "name": "python",
   "nbconvert_exporter": "python",
   "pygments_lexer": "ipython3",
   "version": "3.9.6"
  }
 },
 "nbformat": 4,
 "nbformat_minor": 5
}
