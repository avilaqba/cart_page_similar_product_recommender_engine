{
 "cells": [
  {
   "cell_type": "code",
   "execution_count": 250,
   "id": "1ea9a4da",
   "metadata": {},
   "outputs": [
    {
     "data": {
      "text/html": [
       "<div>\n",
       "<style scoped>\n",
       "    .dataframe tbody tr th:only-of-type {\n",
       "        vertical-align: middle;\n",
       "    }\n",
       "\n",
       "    .dataframe tbody tr th {\n",
       "        vertical-align: top;\n",
       "    }\n",
       "\n",
       "    .dataframe thead th {\n",
       "        text-align: right;\n",
       "    }\n",
       "</style>\n",
       "<table border=\"1\" class=\"dataframe\">\n",
       "  <thead>\n",
       "    <tr style=\"text-align: right;\">\n",
       "      <th></th>\n",
       "      <th>event</th>\n",
       "      <th>sessionid</th>\n",
       "      <th>eventtime</th>\n",
       "      <th>price</th>\n",
       "      <th>productid</th>\n",
       "    </tr>\n",
       "  </thead>\n",
       "  <tbody>\n",
       "    <tr>\n",
       "      <th>0</th>\n",
       "      <td>cart</td>\n",
       "      <td>a0655eee-1267-4820-af21-ad8ac068ff7a</td>\n",
       "      <td>2020-06-01T08:59:16.406Z</td>\n",
       "      <td>14.48</td>\n",
       "      <td>HBV00000NVZE8</td>\n",
       "    </tr>\n",
       "    <tr>\n",
       "      <th>1</th>\n",
       "      <td>cart</td>\n",
       "      <td>d2ea7bd3-9235-4a9f-a9ea-d7f296e71318</td>\n",
       "      <td>2020-06-01T08:59:46.580Z</td>\n",
       "      <td>49.90</td>\n",
       "      <td>HBV00000U2B18</td>\n",
       "    </tr>\n",
       "    <tr>\n",
       "      <th>2</th>\n",
       "      <td>cart</td>\n",
       "      <td>5e594788-78a0-44dd-8e66-37022d48f691</td>\n",
       "      <td>2020-06-01T08:59:33.308Z</td>\n",
       "      <td>1.99</td>\n",
       "      <td>OFIS3101-080</td>\n",
       "    </tr>\n",
       "    <tr>\n",
       "      <th>3</th>\n",
       "      <td>cart</td>\n",
       "      <td>fdfeb652-22fa-4153-b9b5-4dfa0dcaffdf</td>\n",
       "      <td>2020-06-01T08:59:31.911Z</td>\n",
       "      <td>2.25</td>\n",
       "      <td>HBV00000NVZBW</td>\n",
       "    </tr>\n",
       "    <tr>\n",
       "      <th>4</th>\n",
       "      <td>cart</td>\n",
       "      <td>9e9d4f7e-898c-40fb-aae9-256c40779933</td>\n",
       "      <td>2020-06-01T08:59:33.888Z</td>\n",
       "      <td>9.95</td>\n",
       "      <td>HBV00000NE0T4</td>\n",
       "    </tr>\n",
       "  </tbody>\n",
       "</table>\n",
       "</div>"
      ],
      "text/plain": [
       "  event                             sessionid                 eventtime  \\\n",
       "0  cart  a0655eee-1267-4820-af21-ad8ac068ff7a  2020-06-01T08:59:16.406Z   \n",
       "1  cart  d2ea7bd3-9235-4a9f-a9ea-d7f296e71318  2020-06-01T08:59:46.580Z   \n",
       "2  cart  5e594788-78a0-44dd-8e66-37022d48f691  2020-06-01T08:59:33.308Z   \n",
       "3  cart  fdfeb652-22fa-4153-b9b5-4dfa0dcaffdf  2020-06-01T08:59:31.911Z   \n",
       "4  cart  9e9d4f7e-898c-40fb-aae9-256c40779933  2020-06-01T08:59:33.888Z   \n",
       "\n",
       "   price      productid  \n",
       "0  14.48  HBV00000NVZE8  \n",
       "1  49.90  HBV00000U2B18  \n",
       "2   1.99   OFIS3101-080  \n",
       "3   2.25  HBV00000NVZBW  \n",
       "4   9.95  HBV00000NE0T4  "
      ]
     },
     "execution_count": 250,
     "metadata": {},
     "output_type": "execute_result"
    }
   ],
   "source": [
    "import json\n",
    "import pandas as pd\n",
    "\n",
    "with open('data/events.json') as file:\n",
    "    events_data = json.load(file)\n",
    "events_df = pd.DataFrame.from_dict(events_data['events'])\n",
    "events_df.head()"
   ]
  },
  {
   "cell_type": "markdown",
   "id": "95d30971",
   "metadata": {},
   "source": [
    "Maybe same sessionid purchases would be something to consider?!"
   ]
  },
  {
   "cell_type": "code",
   "execution_count": 251,
   "id": "73da338c",
   "metadata": {},
   "outputs": [
    {
     "data": {
      "text/plain": [
       "array(['cart'], dtype=object)"
      ]
     },
     "execution_count": 251,
     "metadata": {},
     "output_type": "execute_result"
    }
   ],
   "source": [
    "events_df.event.unique()"
   ]
  },
  {
   "cell_type": "code",
   "execution_count": 252,
   "id": "5791e88c",
   "metadata": {},
   "outputs": [],
   "source": [
    "events_df.drop('event', axis=1, inplace = True)"
   ]
  },
  {
   "cell_type": "code",
   "execution_count": 253,
   "id": "089095ed",
   "metadata": {},
   "outputs": [
    {
     "data": {
      "text/plain": [
       "(387656, 4)"
      ]
     },
     "execution_count": 253,
     "metadata": {},
     "output_type": "execute_result"
    }
   ],
   "source": [
    "events_df.shape"
   ]
  },
  {
   "cell_type": "code",
   "execution_count": 254,
   "id": "9e81616e",
   "metadata": {},
   "outputs": [
    {
     "data": {
      "text/html": [
       "<div>\n",
       "<style scoped>\n",
       "    .dataframe tbody tr th:only-of-type {\n",
       "        vertical-align: middle;\n",
       "    }\n",
       "\n",
       "    .dataframe tbody tr th {\n",
       "        vertical-align: top;\n",
       "    }\n",
       "\n",
       "    .dataframe thead th {\n",
       "        text-align: right;\n",
       "    }\n",
       "</style>\n",
       "<table border=\"1\" class=\"dataframe\">\n",
       "  <thead>\n",
       "    <tr style=\"text-align: right;\">\n",
       "      <th></th>\n",
       "      <th>productid</th>\n",
       "      <th>brand</th>\n",
       "      <th>category</th>\n",
       "      <th>subcategory</th>\n",
       "      <th>name</th>\n",
       "    </tr>\n",
       "  </thead>\n",
       "  <tbody>\n",
       "    <tr>\n",
       "      <th>0</th>\n",
       "      <td>HBV00000AX6LR</td>\n",
       "      <td>Palette</td>\n",
       "      <td>Kişisel Bakım</td>\n",
       "      <td>Saç Bakımı</td>\n",
       "      <td>Palette Kalıcı Doğal Renkler 10-4 PAPATYA</td>\n",
       "    </tr>\n",
       "    <tr>\n",
       "      <th>1</th>\n",
       "      <td>HBV00000BSAQG</td>\n",
       "      <td>Best</td>\n",
       "      <td>Pet Shop</td>\n",
       "      <td>Kedi</td>\n",
       "      <td>Best Pet Jöle İçinde Parça Etli Somonlu Konser...</td>\n",
       "    </tr>\n",
       "    <tr>\n",
       "      <th>2</th>\n",
       "      <td>HBV00000JUHBA</td>\n",
       "      <td>Tarım Kredi</td>\n",
       "      <td>Temel Gıda</td>\n",
       "      <td>Bakliyat, Pirinç, Makarna</td>\n",
       "      <td>Türkiye Tarım Kredi Koop.Yeşil Mercimek 1 kg</td>\n",
       "    </tr>\n",
       "    <tr>\n",
       "      <th>3</th>\n",
       "      <td>HBV00000NE0QI</td>\n",
       "      <td>Namet</td>\n",
       "      <td>Et, Balık, Şarküteri</td>\n",
       "      <td>Şarküteri</td>\n",
       "      <td>Namet Fıstıklı Macar Salam 100 gr</td>\n",
       "    </tr>\n",
       "    <tr>\n",
       "      <th>4</th>\n",
       "      <td>HBV00000NE0UQ</td>\n",
       "      <td>Muratbey</td>\n",
       "      <td>Kahvaltılık ve Süt</td>\n",
       "      <td>Peynir</td>\n",
       "      <td>Muratbey Burgu Peyniri 250 gr</td>\n",
       "    </tr>\n",
       "  </tbody>\n",
       "</table>\n",
       "</div>"
      ],
      "text/plain": [
       "       productid        brand              category  \\\n",
       "0  HBV00000AX6LR      Palette         Kişisel Bakım   \n",
       "1  HBV00000BSAQG         Best              Pet Shop   \n",
       "2  HBV00000JUHBA  Tarım Kredi            Temel Gıda   \n",
       "3  HBV00000NE0QI        Namet  Et, Balık, Şarküteri   \n",
       "4  HBV00000NE0UQ     Muratbey    Kahvaltılık ve Süt   \n",
       "\n",
       "                 subcategory  \\\n",
       "0                 Saç Bakımı   \n",
       "1                       Kedi   \n",
       "2  Bakliyat, Pirinç, Makarna   \n",
       "3                  Şarküteri   \n",
       "4                     Peynir   \n",
       "\n",
       "                                                name  \n",
       "0          Palette Kalıcı Doğal Renkler 10-4 PAPATYA  \n",
       "1  Best Pet Jöle İçinde Parça Etli Somonlu Konser...  \n",
       "2       Türkiye Tarım Kredi Koop.Yeşil Mercimek 1 kg  \n",
       "3                  Namet Fıstıklı Macar Salam 100 gr  \n",
       "4                      Muratbey Burgu Peyniri 250 gr  "
      ]
     },
     "execution_count": 254,
     "metadata": {},
     "output_type": "execute_result"
    }
   ],
   "source": [
    "with open('data/meta.json') as file:\n",
    "    meta = json.load(file)\n",
    "meta_df = pd.DataFrame.from_dict(meta['meta'])\n",
    "meta_df.head()"
   ]
  },
  {
   "cell_type": "code",
   "execution_count": 255,
   "id": "63f55b36",
   "metadata": {},
   "outputs": [
    {
     "data": {
      "text/plain": [
       "(10236, 5)"
      ]
     },
     "execution_count": 255,
     "metadata": {},
     "output_type": "execute_result"
    }
   ],
   "source": [
    "meta_df.shape"
   ]
  },
  {
   "cell_type": "code",
   "execution_count": 256,
   "id": "a5ba3d2e",
   "metadata": {},
   "outputs": [
    {
     "data": {
      "text/html": [
       "<div>\n",
       "<style scoped>\n",
       "    .dataframe tbody tr th:only-of-type {\n",
       "        vertical-align: middle;\n",
       "    }\n",
       "\n",
       "    .dataframe tbody tr th {\n",
       "        vertical-align: top;\n",
       "    }\n",
       "\n",
       "    .dataframe thead th {\n",
       "        text-align: right;\n",
       "    }\n",
       "</style>\n",
       "<table border=\"1\" class=\"dataframe\">\n",
       "  <thead>\n",
       "    <tr style=\"text-align: right;\">\n",
       "      <th></th>\n",
       "      <th>productid</th>\n",
       "      <th>brand</th>\n",
       "      <th>category</th>\n",
       "      <th>subcategory</th>\n",
       "      <th>name</th>\n",
       "      <th>sessionid</th>\n",
       "      <th>eventtime</th>\n",
       "      <th>price</th>\n",
       "    </tr>\n",
       "  </thead>\n",
       "  <tbody>\n",
       "    <tr>\n",
       "      <th>0</th>\n",
       "      <td>HBV00000NVZE8</td>\n",
       "      <td>None</td>\n",
       "      <td>Et, Balık, Şarküteri</td>\n",
       "      <td>Kırmızı Et</td>\n",
       "      <td>Dana Kıyma (%5-%7 Yağ) 250 gr</td>\n",
       "      <td>a0655eee-1267-4820-af21-ad8ac068ff7a</td>\n",
       "      <td>2020-06-01T08:59:16.406Z</td>\n",
       "      <td>14.48</td>\n",
       "    </tr>\n",
       "    <tr>\n",
       "      <th>1</th>\n",
       "      <td>HBV00000U2B18</td>\n",
       "      <td>Oral-B</td>\n",
       "      <td>Kişisel Bakım</td>\n",
       "      <td>Ağız Bakım</td>\n",
       "      <td>Diş Fırçası Yedek Başlığı Stages Çocuk 2 Adet</td>\n",
       "      <td>d2ea7bd3-9235-4a9f-a9ea-d7f296e71318</td>\n",
       "      <td>2020-06-01T08:59:46.580Z</td>\n",
       "      <td>49.90</td>\n",
       "    </tr>\n",
       "    <tr>\n",
       "      <th>2</th>\n",
       "      <td>OFIS3101-080</td>\n",
       "      <td>Noki</td>\n",
       "      <td>Oyuncak ve Kırtasiye</td>\n",
       "      <td>Dosyalama ve Arşivleme</td>\n",
       "      <td>Noki Dosya Çıtçıtlı Evrak Zarfı Kırmızı 3101 T...</td>\n",
       "      <td>5e594788-78a0-44dd-8e66-37022d48f691</td>\n",
       "      <td>2020-06-01T08:59:33.308Z</td>\n",
       "      <td>1.99</td>\n",
       "    </tr>\n",
       "    <tr>\n",
       "      <th>3</th>\n",
       "      <td>HBV00000NVZBW</td>\n",
       "      <td>None</td>\n",
       "      <td>Meyve ve Sebze</td>\n",
       "      <td>Sebze</td>\n",
       "      <td>Domates 500 gr</td>\n",
       "      <td>fdfeb652-22fa-4153-b9b5-4dfa0dcaffdf</td>\n",
       "      <td>2020-06-01T08:59:31.911Z</td>\n",
       "      <td>2.25</td>\n",
       "    </tr>\n",
       "    <tr>\n",
       "      <th>4</th>\n",
       "      <td>HBV00000NE0T4</td>\n",
       "      <td>Carrefour</td>\n",
       "      <td>Temel Gıda</td>\n",
       "      <td>Sıvı Yağ</td>\n",
       "      <td>Carrefour Ayçiçek Yağı 1 lt</td>\n",
       "      <td>9e9d4f7e-898c-40fb-aae9-256c40779933</td>\n",
       "      <td>2020-06-01T08:59:33.888Z</td>\n",
       "      <td>9.95</td>\n",
       "    </tr>\n",
       "  </tbody>\n",
       "</table>\n",
       "</div>"
      ],
      "text/plain": [
       "       productid      brand              category             subcategory  \\\n",
       "0  HBV00000NVZE8       None  Et, Balık, Şarküteri              Kırmızı Et   \n",
       "1  HBV00000U2B18     Oral-B         Kişisel Bakım              Ağız Bakım   \n",
       "2   OFIS3101-080       Noki  Oyuncak ve Kırtasiye  Dosyalama ve Arşivleme   \n",
       "3  HBV00000NVZBW       None        Meyve ve Sebze                   Sebze   \n",
       "4  HBV00000NE0T4  Carrefour            Temel Gıda                Sıvı Yağ   \n",
       "\n",
       "                                                name  \\\n",
       "0                      Dana Kıyma (%5-%7 Yağ) 250 gr   \n",
       "1      Diş Fırçası Yedek Başlığı Stages Çocuk 2 Adet   \n",
       "2  Noki Dosya Çıtçıtlı Evrak Zarfı Kırmızı 3101 T...   \n",
       "3                                     Domates 500 gr   \n",
       "4                        Carrefour Ayçiçek Yağı 1 lt   \n",
       "\n",
       "                              sessionid                 eventtime  price  \n",
       "0  a0655eee-1267-4820-af21-ad8ac068ff7a  2020-06-01T08:59:16.406Z  14.48  \n",
       "1  d2ea7bd3-9235-4a9f-a9ea-d7f296e71318  2020-06-01T08:59:46.580Z  49.90  \n",
       "2  5e594788-78a0-44dd-8e66-37022d48f691  2020-06-01T08:59:33.308Z   1.99  \n",
       "3  fdfeb652-22fa-4153-b9b5-4dfa0dcaffdf  2020-06-01T08:59:31.911Z   2.25  \n",
       "4  9e9d4f7e-898c-40fb-aae9-256c40779933  2020-06-01T08:59:33.888Z   9.95  "
      ]
     },
     "execution_count": 256,
     "metadata": {},
     "output_type": "execute_result"
    }
   ],
   "source": [
    "df = pd.merge(left=meta_df, right=events_df, how='right', on = 'productid')\n",
    "df.head()"
   ]
  },
  {
   "cell_type": "code",
   "execution_count": 257,
   "id": "7fb5fad3",
   "metadata": {},
   "outputs": [
    {
     "data": {
      "text/plain": [
       "(387656, 8)"
      ]
     },
     "execution_count": 257,
     "metadata": {},
     "output_type": "execute_result"
    }
   ],
   "source": [
    "df.shape"
   ]
  },
  {
   "cell_type": "code",
   "execution_count": 258,
   "id": "b868be30",
   "metadata": {},
   "outputs": [
    {
     "data": {
      "text/plain": [
       "productid      object\n",
       "brand          object\n",
       "category       object\n",
       "subcategory    object\n",
       "name           object\n",
       "sessionid      object\n",
       "eventtime      object\n",
       "price          object\n",
       "dtype: object"
      ]
     },
     "execution_count": 258,
     "metadata": {},
     "output_type": "execute_result"
    }
   ],
   "source": [
    "df.dtypes"
   ]
  },
  {
   "cell_type": "code",
   "execution_count": 259,
   "id": "b6393967",
   "metadata": {},
   "outputs": [
    {
     "data": {
      "text/plain": [
       "productid           6\n",
       "brand          131851\n",
       "category            6\n",
       "subcategory         6\n",
       "name                6\n",
       "sessionid           0\n",
       "eventtime           0\n",
       "price               6\n",
       "dtype: int64"
      ]
     },
     "execution_count": 259,
     "metadata": {},
     "output_type": "execute_result"
    }
   ],
   "source": [
    "df.isna().sum()"
   ]
  },
  {
   "cell_type": "code",
   "execution_count": 260,
   "id": "4451cd7c",
   "metadata": {},
   "outputs": [
    {
     "data": {
      "text/plain": [
       "productid           0\n",
       "brand          131845\n",
       "category            0\n",
       "subcategory         0\n",
       "name                0\n",
       "sessionid           0\n",
       "eventtime           0\n",
       "price               0\n",
       "dtype: int64"
      ]
     },
     "execution_count": 260,
     "metadata": {},
     "output_type": "execute_result"
    }
   ],
   "source": [
    "df = df[df.productid.notna()]\n",
    "df.isna().sum()"
   ]
  },
  {
   "cell_type": "code",
   "execution_count": 262,
   "id": "dedf8af4",
   "metadata": {},
   "outputs": [
    {
     "data": {
      "text/plain": [
       "0           Belirsiz\n",
       "1             Oral-B\n",
       "2               Noki\n",
       "3           Belirsiz\n",
       "4          Carrefour\n",
       "             ...    \n",
       "387651     Carrefour\n",
       "387652     Carrefour\n",
       "387653        Vernel\n",
       "387654    Carte D'or\n",
       "387655     Carrefour\n",
       "Name: brand, Length: 387650, dtype: object"
      ]
     },
     "execution_count": 262,
     "metadata": {},
     "output_type": "execute_result"
    }
   ],
   "source": [
    "df.brand = df.brand.fillna('Belirsiz')\n",
    "df.brand"
   ]
  },
  {
   "cell_type": "code",
   "execution_count": 263,
   "id": "f505da14",
   "metadata": {},
   "outputs": [
    {
     "data": {
      "text/plain": [
       "False"
      ]
     },
     "execution_count": 263,
     "metadata": {},
     "output_type": "execute_result"
    }
   ],
   "source": [
    "df.isna().values.any()"
   ]
  },
  {
   "cell_type": "code",
   "execution_count": 264,
   "id": "9a27bfae",
   "metadata": {},
   "outputs": [
    {
     "data": {
      "text/plain": [
       "350"
      ]
     },
     "execution_count": 264,
     "metadata": {},
     "output_type": "execute_result"
    }
   ],
   "source": [
    "df.duplicated().sum()"
   ]
  },
  {
   "cell_type": "code",
   "execution_count": 265,
   "id": "a20ee92e",
   "metadata": {},
   "outputs": [
    {
     "data": {
      "text/plain": [
       "(387300, 8)"
      ]
     },
     "execution_count": 265,
     "metadata": {},
     "output_type": "execute_result"
    }
   ],
   "source": [
    "df = df.drop_duplicates()\n",
    "df.shape"
   ]
  },
  {
   "cell_type": "code",
   "execution_count": 266,
   "id": "2a9bbe13",
   "metadata": {},
   "outputs": [],
   "source": [
    "# df1=df.copy()\n",
    "# df1.price = df1.price.astype(float)\n",
    "# df2 = df1.groupby(['sessionid','eventtime','productid']).sum().reset_index()\n",
    "# df2"
   ]
  },
  {
   "cell_type": "code",
   "execution_count": 267,
   "id": "6044276e",
   "metadata": {},
   "outputs": [
    {
     "data": {
      "text/html": [
       "<div>\n",
       "<style scoped>\n",
       "    .dataframe tbody tr th:only-of-type {\n",
       "        vertical-align: middle;\n",
       "    }\n",
       "\n",
       "    .dataframe tbody tr th {\n",
       "        vertical-align: top;\n",
       "    }\n",
       "\n",
       "    .dataframe thead th {\n",
       "        text-align: right;\n",
       "    }\n",
       "</style>\n",
       "<table border=\"1\" class=\"dataframe\">\n",
       "  <thead>\n",
       "    <tr style=\"text-align: right;\">\n",
       "      <th></th>\n",
       "      <th>productid</th>\n",
       "      <th>sessionid</th>\n",
       "      <th>description</th>\n",
       "    </tr>\n",
       "  </thead>\n",
       "  <tbody>\n",
       "    <tr>\n",
       "      <th>0</th>\n",
       "      <td>HBV00000NVZE8</td>\n",
       "      <td>a0655eee-1267-4820-af21-ad8ac068ff7a</td>\n",
       "      <td>Belirsiz Et, Balık, Şarküteri Kırmızı Et Dana ...</td>\n",
       "    </tr>\n",
       "    <tr>\n",
       "      <th>1</th>\n",
       "      <td>HBV00000U2B18</td>\n",
       "      <td>d2ea7bd3-9235-4a9f-a9ea-d7f296e71318</td>\n",
       "      <td>Oral-B Kişisel Bakım Ağız Bakım Diş Fırçası Ye...</td>\n",
       "    </tr>\n",
       "    <tr>\n",
       "      <th>2</th>\n",
       "      <td>OFIS3101-080</td>\n",
       "      <td>5e594788-78a0-44dd-8e66-37022d48f691</td>\n",
       "      <td>Noki Oyuncak ve Kırtasiye Dosyalama ve Arşivle...</td>\n",
       "    </tr>\n",
       "    <tr>\n",
       "      <th>3</th>\n",
       "      <td>HBV00000NVZBW</td>\n",
       "      <td>fdfeb652-22fa-4153-b9b5-4dfa0dcaffdf</td>\n",
       "      <td>Belirsiz Meyve ve Sebze Sebze Domates 500 gr</td>\n",
       "    </tr>\n",
       "    <tr>\n",
       "      <th>4</th>\n",
       "      <td>HBV00000NE0T4</td>\n",
       "      <td>9e9d4f7e-898c-40fb-aae9-256c40779933</td>\n",
       "      <td>Carrefour Temel Gıda Sıvı Yağ Carrefour Ayçiçe...</td>\n",
       "    </tr>\n",
       "  </tbody>\n",
       "</table>\n",
       "</div>"
      ],
      "text/plain": [
       "       productid                             sessionid  \\\n",
       "0  HBV00000NVZE8  a0655eee-1267-4820-af21-ad8ac068ff7a   \n",
       "1  HBV00000U2B18  d2ea7bd3-9235-4a9f-a9ea-d7f296e71318   \n",
       "2   OFIS3101-080  5e594788-78a0-44dd-8e66-37022d48f691   \n",
       "3  HBV00000NVZBW  fdfeb652-22fa-4153-b9b5-4dfa0dcaffdf   \n",
       "4  HBV00000NE0T4  9e9d4f7e-898c-40fb-aae9-256c40779933   \n",
       "\n",
       "                                         description  \n",
       "0  Belirsiz Et, Balık, Şarküteri Kırmızı Et Dana ...  \n",
       "1  Oral-B Kişisel Bakım Ağız Bakım Diş Fırçası Ye...  \n",
       "2  Noki Oyuncak ve Kırtasiye Dosyalama ve Arşivle...  \n",
       "3       Belirsiz Meyve ve Sebze Sebze Domates 500 gr  \n",
       "4  Carrefour Temel Gıda Sıvı Yağ Carrefour Ayçiçe...  "
      ]
     },
     "execution_count": 267,
     "metadata": {},
     "output_type": "execute_result"
    }
   ],
   "source": [
    "data = df[['productid','brand','category','subcategory','name','sessionid']]\n",
    "description = data[['brand','category','subcategory','name']].astype(str).apply(lambda x: ' '.join(x), axis=1).to_frame('description')\n",
    "data = pd.concat([data,description], axis=1)\n",
    "data.drop(['brand','category','subcategory','name'], axis=1, inplace=True)\n",
    "data.head()"
   ]
  },
  {
   "cell_type": "code",
   "execution_count": 268,
   "id": "1bf40140",
   "metadata": {},
   "outputs": [],
   "source": [
    "meta_df.brand = meta_df.brand.fillna('Belirsiz')\n",
    "\n",
    "description = meta_df[['brand','category','subcategory','name']].astype(str).apply(lambda x: ' '.join(x), axis=1).to_frame('description')\n",
    "meta_data = pd.concat([meta_df,description], axis=1)\n"
   ]
  },
  {
   "cell_type": "code",
   "execution_count": 269,
   "id": "9c743778",
   "metadata": {},
   "outputs": [],
   "source": [
    "from sklearn.feature_extraction.text import CountVectorizer\n",
    "vectorizer = CountVectorizer()\n",
    "X = vectorizer.fit_transform(meta_data.description)\n"
   ]
  },
  {
   "cell_type": "code",
   "execution_count": 270,
   "id": "2bb862b5",
   "metadata": {},
   "outputs": [
    {
     "data": {
      "text/plain": [
       "array([[1.        , 0.        , 0.        , ..., 0.06362848, 0.06726728,\n",
       "        0.05337605],\n",
       "       [0.        , 1.        , 0.        , ..., 0.        , 0.        ,\n",
       "        0.        ],\n",
       "       [0.        , 0.        , 1.        , ..., 0.        , 0.        ,\n",
       "        0.        ],\n",
       "       ...,\n",
       "       [0.06362848, 0.        , 0.        , ..., 1.        , 0.66769786,\n",
       "        0.35320863],\n",
       "       [0.06726728, 0.        , 0.        , ..., 0.66769786, 1.        ,\n",
       "        0.32673202],\n",
       "       [0.05337605, 0.        , 0.        , ..., 0.35320863, 0.32673202,\n",
       "        1.        ]])"
      ]
     },
     "execution_count": 270,
     "metadata": {},
     "output_type": "execute_result"
    }
   ],
   "source": [
    "from sklearn.metrics.pairwise import cosine_similarity\n",
    "cs = cosine_similarity(X)\n",
    "cs"
   ]
  },
  {
   "cell_type": "code",
   "execution_count": 271,
   "id": "3fff0bb5",
   "metadata": {},
   "outputs": [],
   "source": [
    "input_product = meta_data.productid[0]\n",
    "input_productid=meta_data[meta_data.productid == input_product].index.values[0]\n",
    "scores = list(enumerate(cs[input_productid]))\n",
    "scores_sorted=sorted(scores, key=lambda x:x[1], reverse=True)[1:]\n"
   ]
  },
  {
   "cell_type": "code",
   "execution_count": 272,
   "id": "6aadf953",
   "metadata": {},
   "outputs": [
    {
     "name": "stdout",
     "output_type": "stream",
     "text": [
      "     Similar Products  \t\t\t\t\t  Similarity\n",
      "  1. Palette Kalıcı Doğal Renkler 10-0 AÇIK SARI               0.89\n",
      "  2. Palette Kalıcı Doğal Renkler 4-0 KAHVE                    0.88\n",
      "  3. Palette Kalıcı Doğal Renkler 1-0 SİYAH                    0.85\n",
      "  4. Palette Kalıcı Doğal Renkler 9-4 SAHRA SARISI             0.85\n",
      "  5. Palette Kalıcı Doğal Renkler 6-0 KOYU KUMRAL              0.85\n",
      "  6. Palette Kalıcı Doğal Renkler 1-1 GECE MAVİSİ              0.82\n",
      "  7. Palette Kalıcı Doğal Renkler 5-89 GECE KIZILI             0.82\n",
      "  8. Palette Kalıcı Doğal Renkler 6-70 BRONZ KAHVE             0.82\n",
      "  9. Palette Saç Boyası Kalıcı Doğal Renkler 4-0 Amber Kahve   0.81\n",
      " 10. Palette Saç Boyası Kalıcı Doğal Renkler 3-0 Koyu Kakao    0.81\n"
     ]
    }
   ],
   "source": [
    "print(f'     Similar Products  \\t\\t\\t\\t\\t  Similarity')\n",
    "j=0\n",
    "for score in scores_sorted:\n",
    "    recomm=meta_data[meta_data.index==score[0]]['name'].values\n",
    "    \n",
    "    print(f'{j+1:3}. {recomm[0]:55}   {scores_sorted[j][1]:.2f}')\n",
    "    j+=1\n",
    "    if j>9:\n",
    "        break"
   ]
  },
  {
   "cell_type": "code",
   "execution_count": null,
   "id": "477b72c6",
   "metadata": {},
   "outputs": [],
   "source": []
  },
  {
   "cell_type": "code",
   "execution_count": null,
   "id": "a653c2e7",
   "metadata": {},
   "outputs": [],
   "source": []
  },
  {
   "cell_type": "code",
   "execution_count": null,
   "id": "c87068aa",
   "metadata": {},
   "outputs": [],
   "source": []
  },
  {
   "cell_type": "code",
   "execution_count": 39,
   "id": "0b99c701",
   "metadata": {},
   "outputs": [
    {
     "data": {
      "text/plain": [
       "54442"
      ]
     },
     "execution_count": 39,
     "metadata": {},
     "output_type": "execute_result"
    }
   ],
   "source": [
    "sessions = data[\"sessionid\"].unique().tolist()\n",
    "len(sessions)"
   ]
  },
  {
   "cell_type": "code",
   "execution_count": 40,
   "id": "17db71c4",
   "metadata": {},
   "outputs": [
    {
     "data": {
      "text/plain": [
       "(37904, 3)"
      ]
     },
     "execution_count": 40,
     "metadata": {},
     "output_type": "execute_result"
    }
   ],
   "source": [
    "import random\n",
    "random.shuffle(sessions)\n",
    "\n",
    "# extract 90% of customer ID's\n",
    "sessions_train = [sessions[i] for i in range(round(0.9*len(sessions)))]\n",
    "\n",
    "# split data into train and validation set\n",
    "train_data = data[data['sessionid'].isin(sessions_train)]\n",
    "validation_data = data[~data['sessionid'].isin(sessions_train)]\n",
    "validation_data.shape"
   ]
  },
  {
   "cell_type": "code",
   "execution_count": 44,
   "id": "c27286d5",
   "metadata": {},
   "outputs": [
    {
     "data": {
      "text/html": [
       "<div>\n",
       "<style scoped>\n",
       "    .dataframe tbody tr th:only-of-type {\n",
       "        vertical-align: middle;\n",
       "    }\n",
       "\n",
       "    .dataframe tbody tr th {\n",
       "        vertical-align: top;\n",
       "    }\n",
       "\n",
       "    .dataframe thead th {\n",
       "        text-align: right;\n",
       "    }\n",
       "</style>\n",
       "<table border=\"1\" class=\"dataframe\">\n",
       "  <thead>\n",
       "    <tr style=\"text-align: right;\">\n",
       "      <th></th>\n",
       "      <th></th>\n",
       "      <th>description</th>\n",
       "    </tr>\n",
       "    <tr>\n",
       "      <th>sessionid</th>\n",
       "      <th>productid</th>\n",
       "      <th></th>\n",
       "    </tr>\n",
       "  </thead>\n",
       "  <tbody>\n",
       "    <tr>\n",
       "      <th>000280f4-62fc-4dcd-b51d-c66ac14d7d8c</th>\n",
       "      <th>HBV00000NE1WT</th>\n",
       "      <td>1</td>\n",
       "    </tr>\n",
       "    <tr>\n",
       "      <th>00078618-dc74-486b-bddb-3c567b4e94ee</th>\n",
       "      <th>ZYDOGUS86907191053</th>\n",
       "      <td>1</td>\n",
       "    </tr>\n",
       "    <tr>\n",
       "      <th>001793f4-1e38-404d-98e2-e06cef65cc9c</th>\n",
       "      <th>HBV00000NVZEQ</th>\n",
       "      <td>1</td>\n",
       "    </tr>\n",
       "    <tr>\n",
       "      <th rowspan=\"2\" valign=\"top\">00179f52-41e3-4f8d-88b7-81fe42d7bb3c</th>\n",
       "      <th>HBV00000PQLIY</th>\n",
       "      <td>1</td>\n",
       "    </tr>\n",
       "    <tr>\n",
       "      <th>ZYBENC8148244</th>\n",
       "      <td>1</td>\n",
       "    </tr>\n",
       "    <tr>\n",
       "      <th>...</th>\n",
       "      <th>...</th>\n",
       "      <td>...</td>\n",
       "    </tr>\n",
       "    <tr>\n",
       "      <th rowspan=\"5\" valign=\"top\">fffd3c61-2f71-4437-986c-e1c30ef5b5fe</th>\n",
       "      <th>HBV00000PVCX0</th>\n",
       "      <td>1</td>\n",
       "    </tr>\n",
       "    <tr>\n",
       "      <th>HBV00000TIRUF</th>\n",
       "      <td>1</td>\n",
       "    </tr>\n",
       "    <tr>\n",
       "      <th>ZYBICN9287641</th>\n",
       "      <td>1</td>\n",
       "    </tr>\n",
       "    <tr>\n",
       "      <th>ZYBICN9287652</th>\n",
       "      <td>1</td>\n",
       "    </tr>\n",
       "    <tr>\n",
       "      <th>ZYBICN9287664</th>\n",
       "      <td>1</td>\n",
       "    </tr>\n",
       "  </tbody>\n",
       "</table>\n",
       "<p>26953 rows × 1 columns</p>\n",
       "</div>"
      ],
      "text/plain": [
       "                                                         description\n",
       "sessionid                            productid                      \n",
       "000280f4-62fc-4dcd-b51d-c66ac14d7d8c HBV00000NE1WT                 1\n",
       "00078618-dc74-486b-bddb-3c567b4e94ee ZYDOGUS86907191053            1\n",
       "001793f4-1e38-404d-98e2-e06cef65cc9c HBV00000NVZEQ                 1\n",
       "00179f52-41e3-4f8d-88b7-81fe42d7bb3c HBV00000PQLIY                 1\n",
       "                                     ZYBENC8148244                 1\n",
       "...                                                              ...\n",
       "fffd3c61-2f71-4437-986c-e1c30ef5b5fe HBV00000PVCX0                 1\n",
       "                                     HBV00000TIRUF                 1\n",
       "                                     ZYBICN9287641                 1\n",
       "                                     ZYBICN9287652                 1\n",
       "                                     ZYBICN9287664                 1\n",
       "\n",
       "[26953 rows x 1 columns]"
      ]
     },
     "execution_count": 44,
     "metadata": {},
     "output_type": "execute_result"
    }
   ],
   "source": [
    "validation_data = validation_data.groupby(['sessionid','productid']).count()\n",
    "validation_data\n",
    "\n",
    "\n",
    "\n",
    "\n",
    "\n",
    "\n",
    "\n"
   ]
  },
  {
   "cell_type": "code",
   "execution_count": 107,
   "id": "cc8ae8a3",
   "metadata": {},
   "outputs": [
    {
     "ename": "KeyboardInterrupt",
     "evalue": "",
     "output_type": "error",
     "traceback": [
      "\u001b[0;31m---------------------------------------------------------------------------\u001b[0m",
      "\u001b[0;31mKeyboardInterrupt\u001b[0m                         Traceback (most recent call last)",
      "\u001b[0;32m/var/folders/tt/0g0jp37x7vzbrxkl8n00dw5r0000gn/T/ipykernel_741/2217947958.py\u001b[0m in \u001b[0;36m<module>\u001b[0;34m\u001b[0m\n\u001b[1;32m      4\u001b[0m \u001b[0;31m# populate the list with the product codes\u001b[0m\u001b[0;34m\u001b[0m\u001b[0;34m\u001b[0m\u001b[0;34m\u001b[0m\u001b[0m\n\u001b[1;32m      5\u001b[0m \u001b[0;32mfor\u001b[0m \u001b[0mi\u001b[0m \u001b[0;32min\u001b[0m \u001b[0msessions_train\u001b[0m\u001b[0;34m:\u001b[0m\u001b[0;34m\u001b[0m\u001b[0;34m\u001b[0m\u001b[0m\n\u001b[0;32m----> 6\u001b[0;31m     \u001b[0mtemp\u001b[0m \u001b[0;34m=\u001b[0m \u001b[0mtrain_data\u001b[0m\u001b[0;34m[\u001b[0m\u001b[0mtrain_data\u001b[0m\u001b[0;34m[\u001b[0m\u001b[0;34m\"sessionid\"\u001b[0m\u001b[0;34m]\u001b[0m \u001b[0;34m==\u001b[0m \u001b[0mi\u001b[0m\u001b[0;34m]\u001b[0m\u001b[0;34m[\u001b[0m\u001b[0;34m\"productid\"\u001b[0m\u001b[0;34m]\u001b[0m\u001b[0;34m.\u001b[0m\u001b[0mtolist\u001b[0m\u001b[0;34m(\u001b[0m\u001b[0;34m)\u001b[0m\u001b[0;34m\u001b[0m\u001b[0;34m\u001b[0m\u001b[0m\n\u001b[0m\u001b[1;32m      7\u001b[0m     \u001b[0mproducts_train\u001b[0m\u001b[0;34m.\u001b[0m\u001b[0mappend\u001b[0m\u001b[0;34m(\u001b[0m\u001b[0mtemp\u001b[0m\u001b[0;34m)\u001b[0m\u001b[0;34m\u001b[0m\u001b[0;34m\u001b[0m\u001b[0m\n",
      "\u001b[0;32m/Library/Frameworks/Python.framework/Versions/3.9/lib/python3.9/site-packages/pandas/core/ops/common.py\u001b[0m in \u001b[0;36mnew_method\u001b[0;34m(self, other)\u001b[0m\n\u001b[1;32m     67\u001b[0m         \u001b[0mother\u001b[0m \u001b[0;34m=\u001b[0m \u001b[0mitem_from_zerodim\u001b[0m\u001b[0;34m(\u001b[0m\u001b[0mother\u001b[0m\u001b[0;34m)\u001b[0m\u001b[0;34m\u001b[0m\u001b[0;34m\u001b[0m\u001b[0m\n\u001b[1;32m     68\u001b[0m \u001b[0;34m\u001b[0m\u001b[0m\n\u001b[0;32m---> 69\u001b[0;31m         \u001b[0;32mreturn\u001b[0m \u001b[0mmethod\u001b[0m\u001b[0;34m(\u001b[0m\u001b[0mself\u001b[0m\u001b[0;34m,\u001b[0m \u001b[0mother\u001b[0m\u001b[0;34m)\u001b[0m\u001b[0;34m\u001b[0m\u001b[0;34m\u001b[0m\u001b[0m\n\u001b[0m\u001b[1;32m     70\u001b[0m \u001b[0;34m\u001b[0m\u001b[0m\n\u001b[1;32m     71\u001b[0m     \u001b[0;32mreturn\u001b[0m \u001b[0mnew_method\u001b[0m\u001b[0;34m\u001b[0m\u001b[0;34m\u001b[0m\u001b[0m\n",
      "\u001b[0;32m/Library/Frameworks/Python.framework/Versions/3.9/lib/python3.9/site-packages/pandas/core/arraylike.py\u001b[0m in \u001b[0;36m__eq__\u001b[0;34m(self, other)\u001b[0m\n\u001b[1;32m     30\u001b[0m     \u001b[0;34m@\u001b[0m\u001b[0munpack_zerodim_and_defer\u001b[0m\u001b[0;34m(\u001b[0m\u001b[0;34m\"__eq__\"\u001b[0m\u001b[0;34m)\u001b[0m\u001b[0;34m\u001b[0m\u001b[0;34m\u001b[0m\u001b[0m\n\u001b[1;32m     31\u001b[0m     \u001b[0;32mdef\u001b[0m \u001b[0m__eq__\u001b[0m\u001b[0;34m(\u001b[0m\u001b[0mself\u001b[0m\u001b[0;34m,\u001b[0m \u001b[0mother\u001b[0m\u001b[0;34m)\u001b[0m\u001b[0;34m:\u001b[0m\u001b[0;34m\u001b[0m\u001b[0;34m\u001b[0m\u001b[0m\n\u001b[0;32m---> 32\u001b[0;31m         \u001b[0;32mreturn\u001b[0m \u001b[0mself\u001b[0m\u001b[0;34m.\u001b[0m\u001b[0m_cmp_method\u001b[0m\u001b[0;34m(\u001b[0m\u001b[0mother\u001b[0m\u001b[0;34m,\u001b[0m \u001b[0moperator\u001b[0m\u001b[0;34m.\u001b[0m\u001b[0meq\u001b[0m\u001b[0;34m)\u001b[0m\u001b[0;34m\u001b[0m\u001b[0;34m\u001b[0m\u001b[0m\n\u001b[0m\u001b[1;32m     33\u001b[0m \u001b[0;34m\u001b[0m\u001b[0m\n\u001b[1;32m     34\u001b[0m     \u001b[0;34m@\u001b[0m\u001b[0munpack_zerodim_and_defer\u001b[0m\u001b[0;34m(\u001b[0m\u001b[0;34m\"__ne__\"\u001b[0m\u001b[0;34m)\u001b[0m\u001b[0;34m\u001b[0m\u001b[0;34m\u001b[0m\u001b[0m\n",
      "\u001b[0;32m/Library/Frameworks/Python.framework/Versions/3.9/lib/python3.9/site-packages/pandas/core/series.py\u001b[0m in \u001b[0;36m_cmp_method\u001b[0;34m(self, other, op)\u001b[0m\n\u001b[1;32m   5499\u001b[0m \u001b[0;34m\u001b[0m\u001b[0m\n\u001b[1;32m   5500\u001b[0m         \u001b[0;32mwith\u001b[0m \u001b[0mnp\u001b[0m\u001b[0;34m.\u001b[0m\u001b[0merrstate\u001b[0m\u001b[0;34m(\u001b[0m\u001b[0mall\u001b[0m\u001b[0;34m=\u001b[0m\u001b[0;34m\"ignore\"\u001b[0m\u001b[0;34m)\u001b[0m\u001b[0;34m:\u001b[0m\u001b[0;34m\u001b[0m\u001b[0;34m\u001b[0m\u001b[0m\n\u001b[0;32m-> 5501\u001b[0;31m             \u001b[0mres_values\u001b[0m \u001b[0;34m=\u001b[0m \u001b[0mops\u001b[0m\u001b[0;34m.\u001b[0m\u001b[0mcomparison_op\u001b[0m\u001b[0;34m(\u001b[0m\u001b[0mlvalues\u001b[0m\u001b[0;34m,\u001b[0m \u001b[0mrvalues\u001b[0m\u001b[0;34m,\u001b[0m \u001b[0mop\u001b[0m\u001b[0;34m)\u001b[0m\u001b[0;34m\u001b[0m\u001b[0;34m\u001b[0m\u001b[0m\n\u001b[0m\u001b[1;32m   5502\u001b[0m \u001b[0;34m\u001b[0m\u001b[0m\n\u001b[1;32m   5503\u001b[0m         \u001b[0;32mreturn\u001b[0m \u001b[0mself\u001b[0m\u001b[0;34m.\u001b[0m\u001b[0m_construct_result\u001b[0m\u001b[0;34m(\u001b[0m\u001b[0mres_values\u001b[0m\u001b[0;34m,\u001b[0m \u001b[0mname\u001b[0m\u001b[0;34m=\u001b[0m\u001b[0mres_name\u001b[0m\u001b[0;34m)\u001b[0m\u001b[0;34m\u001b[0m\u001b[0;34m\u001b[0m\u001b[0m\n",
      "\u001b[0;32m/Library/Frameworks/Python.framework/Versions/3.9/lib/python3.9/site-packages/pandas/core/ops/array_ops.py\u001b[0m in \u001b[0;36mcomparison_op\u001b[0;34m(left, right, op)\u001b[0m\n\u001b[1;32m    282\u001b[0m \u001b[0;34m\u001b[0m\u001b[0m\n\u001b[1;32m    283\u001b[0m     \u001b[0;32melif\u001b[0m \u001b[0mis_object_dtype\u001b[0m\u001b[0;34m(\u001b[0m\u001b[0mlvalues\u001b[0m\u001b[0;34m.\u001b[0m\u001b[0mdtype\u001b[0m\u001b[0;34m)\u001b[0m \u001b[0;32mor\u001b[0m \u001b[0misinstance\u001b[0m\u001b[0;34m(\u001b[0m\u001b[0mrvalues\u001b[0m\u001b[0;34m,\u001b[0m \u001b[0mstr\u001b[0m\u001b[0;34m)\u001b[0m\u001b[0;34m:\u001b[0m\u001b[0;34m\u001b[0m\u001b[0;34m\u001b[0m\u001b[0m\n\u001b[0;32m--> 284\u001b[0;31m         \u001b[0mres_values\u001b[0m \u001b[0;34m=\u001b[0m \u001b[0mcomp_method_OBJECT_ARRAY\u001b[0m\u001b[0;34m(\u001b[0m\u001b[0mop\u001b[0m\u001b[0;34m,\u001b[0m \u001b[0mlvalues\u001b[0m\u001b[0;34m,\u001b[0m \u001b[0mrvalues\u001b[0m\u001b[0;34m)\u001b[0m\u001b[0;34m\u001b[0m\u001b[0;34m\u001b[0m\u001b[0m\n\u001b[0m\u001b[1;32m    285\u001b[0m \u001b[0;34m\u001b[0m\u001b[0m\n\u001b[1;32m    286\u001b[0m     \u001b[0;32melse\u001b[0m\u001b[0;34m:\u001b[0m\u001b[0;34m\u001b[0m\u001b[0;34m\u001b[0m\u001b[0m\n",
      "\u001b[0;32m/Library/Frameworks/Python.framework/Versions/3.9/lib/python3.9/site-packages/pandas/core/ops/array_ops.py\u001b[0m in \u001b[0;36mcomp_method_OBJECT_ARRAY\u001b[0;34m(op, x, y)\u001b[0m\n\u001b[1;32m     71\u001b[0m         \u001b[0mresult\u001b[0m \u001b[0;34m=\u001b[0m \u001b[0mlibops\u001b[0m\u001b[0;34m.\u001b[0m\u001b[0mvec_compare\u001b[0m\u001b[0;34m(\u001b[0m\u001b[0mx\u001b[0m\u001b[0;34m.\u001b[0m\u001b[0mravel\u001b[0m\u001b[0;34m(\u001b[0m\u001b[0;34m)\u001b[0m\u001b[0;34m,\u001b[0m \u001b[0my\u001b[0m\u001b[0;34m.\u001b[0m\u001b[0mravel\u001b[0m\u001b[0;34m(\u001b[0m\u001b[0;34m)\u001b[0m\u001b[0;34m,\u001b[0m \u001b[0mop\u001b[0m\u001b[0;34m)\u001b[0m\u001b[0;34m\u001b[0m\u001b[0;34m\u001b[0m\u001b[0m\n\u001b[1;32m     72\u001b[0m     \u001b[0;32melse\u001b[0m\u001b[0;34m:\u001b[0m\u001b[0;34m\u001b[0m\u001b[0;34m\u001b[0m\u001b[0m\n\u001b[0;32m---> 73\u001b[0;31m         \u001b[0mresult\u001b[0m \u001b[0;34m=\u001b[0m \u001b[0mlibops\u001b[0m\u001b[0;34m.\u001b[0m\u001b[0mscalar_compare\u001b[0m\u001b[0;34m(\u001b[0m\u001b[0mx\u001b[0m\u001b[0;34m.\u001b[0m\u001b[0mravel\u001b[0m\u001b[0;34m(\u001b[0m\u001b[0;34m)\u001b[0m\u001b[0;34m,\u001b[0m \u001b[0my\u001b[0m\u001b[0;34m,\u001b[0m \u001b[0mop\u001b[0m\u001b[0;34m)\u001b[0m\u001b[0;34m\u001b[0m\u001b[0;34m\u001b[0m\u001b[0m\n\u001b[0m\u001b[1;32m     74\u001b[0m     \u001b[0;32mreturn\u001b[0m \u001b[0mresult\u001b[0m\u001b[0;34m.\u001b[0m\u001b[0mreshape\u001b[0m\u001b[0;34m(\u001b[0m\u001b[0mx\u001b[0m\u001b[0;34m.\u001b[0m\u001b[0mshape\u001b[0m\u001b[0;34m)\u001b[0m\u001b[0;34m\u001b[0m\u001b[0;34m\u001b[0m\u001b[0m\n\u001b[1;32m     75\u001b[0m \u001b[0;34m\u001b[0m\u001b[0m\n",
      "\u001b[0;31mKeyboardInterrupt\u001b[0m: "
     ]
    }
   ],
   "source": [
    "# list to capture purchase history of the customers\n",
    "products_train = []\n",
    "\n",
    "# populate the list with the product codes\n",
    "for i in sessions_train:\n",
    "    temp = train_data[train_data[\"sessionid\"] == i][\"productid\"].tolist()\n",
    "    products_train.append(temp)"
   ]
  },
  {
   "cell_type": "code",
   "execution_count": 99,
   "id": "3114f2aa",
   "metadata": {},
   "outputs": [
    {
     "name": "stderr",
     "output_type": "stream",
     "text": [
      "/Library/Frameworks/Python.framework/Versions/3.9/lib/python3.9/site-packages/gensim/similarities/__init__.py:15: UserWarning: The gensim.similarities.levenshtein submodule is disabled, because the optional Levenshtein package <https://pypi.org/project/python-Levenshtein/> is unavailable. Install Levenhstein (e.g. `pip install python-Levenshtein`) to suppress this warning.\n",
      "  warnings.warn(msg)\n"
     ]
    }
   ],
   "source": [
    "import warnings;\n",
    "warnings.filterwarnings('ignore')\n",
    "\n",
    "from gensim.models import Word2Vec\n",
    "\n",
    "model = Word2Vec(window = 10, sg = 1, hs = 0,\n",
    "                 negative = 10, # for negative sampling\n",
    "                 alpha=0.03, min_alpha=0.0007,\n",
    "                 seed = 14)\n",
    "model.build_vocab(data.text)\n"
   ]
  },
  {
   "cell_type": "code",
   "execution_count": 100,
   "id": "75d36099",
   "metadata": {},
   "outputs": [
    {
     "data": {
      "text/plain": [
       "(52886746, 247246880)"
      ]
     },
     "execution_count": 100,
     "metadata": {},
     "output_type": "execute_result"
    }
   ],
   "source": [
    "model.train(data.text, total_examples = model.corpus_count, \n",
    "            epochs=10, report_delay=1)"
   ]
  },
  {
   "cell_type": "code",
   "execution_count": 101,
   "id": "812cdc26",
   "metadata": {},
   "outputs": [
    {
     "name": "stderr",
     "output_type": "stream",
     "text": [
      "/var/folders/tt/0g0jp37x7vzbrxkl8n00dw5r0000gn/T/ipykernel_898/1992334471.py:1: DeprecationWarning: Call to deprecated `init_sims` (Gensim 4.0.0 implemented internal optimizations that make calls to init_sims() unnecessary. init_sims() is now obsoleted and will be completely removed in future versions. See https://github.com/RaRe-Technologies/gensim/wiki/Migrating-from-Gensim-3.x-to-4).\n",
      "  model.init_sims(replace=True)\n"
     ]
    }
   ],
   "source": [
    "model.init_sims(replace=True)"
   ]
  },
  {
   "cell_type": "code",
   "execution_count": 102,
   "id": "87402518",
   "metadata": {},
   "outputs": [
    {
     "name": "stdout",
     "output_type": "stream",
     "text": [
      "Word2Vec(vocab=65, vector_size=100, alpha=0.03)\n"
     ]
    }
   ],
   "source": [
    "print(model)"
   ]
  },
  {
   "cell_type": "code",
   "execution_count": 117,
   "id": "423b7425",
   "metadata": {},
   "outputs": [
    {
     "name": "stderr",
     "output_type": "stream",
     "text": [
      "/Library/Frameworks/Python.framework/Versions/3.9/lib/python3.9/site-packages/pandas/util/_decorators.py:311: SettingWithCopyWarning: \n",
      "A value is trying to be set on a copy of a slice from a DataFrame\n",
      "\n",
      "See the caveats in the documentation: https://pandas.pydata.org/pandas-docs/stable/user_guide/indexing.html#returning-a-view-versus-a-copy\n",
      "  return func(*args, **kwargs)\n"
     ]
    }
   ],
   "source": [
    "products = data[[\"category\", \"text\"]]\n",
    "\n",
    "# remove duplicates\n",
    "products.drop_duplicates(inplace=True, subset='category', keep=\"last\")\n",
    "\n",
    "# create product-ID and product-description dictionary\n",
    "products_dict = products.groupby('category')['text'].apply(list).to_dict()"
   ]
  },
  {
   "cell_type": "code",
   "execution_count": 120,
   "id": "b5c5fc9a",
   "metadata": {},
   "outputs": [
    {
     "data": {
      "text/plain": [
       "dict_keys(['Atıştırmalık', 'Bebek', 'Dondurma', 'Et, Balık, Şarküteri', 'Ev Bakım ve Temizlik', 'Ev Yaşam ve Bahçe', 'Fırın', 'Kahvaltılık ve Süt', 'Kişisel Bakım', 'Meyve ve Sebze', 'Organik ve Diyet', 'Oyuncak ve Kırtasiye', 'Pet Shop', 'Pratik Yemekler', 'Sağlık ve Kozmetik', 'Spor, Outdoor ve Oto', 'Su', 'Tatlı', 'Temel Gıda', 'İçecekler'])"
      ]
     },
     "execution_count": 120,
     "metadata": {},
     "output_type": "execute_result"
    }
   ],
   "source": [
    "products_dict.keys()"
   ]
  },
  {
   "cell_type": "code",
   "execution_count": 121,
   "id": "ec3708d2",
   "metadata": {},
   "outputs": [
    {
     "data": {
      "text/plain": [
       "['palette kişisel bakım saç bakımı palette kalıcı doğal renkler 1-0 si̇yah']"
      ]
     },
     "execution_count": 121,
     "metadata": {},
     "output_type": "execute_result"
    }
   ],
   "source": [
    "products_dict['Kişisel Bakım']\n"
   ]
  },
  {
   "cell_type": "code",
   "execution_count": 132,
   "id": "b6923560",
   "metadata": {},
   "outputs": [
    {
     "ename": "TypeError",
     "evalue": "'Word2Vec' object is not subscriptable",
     "output_type": "error",
     "traceback": [
      "\u001b[0;31m---------------------------------------------------------------------------\u001b[0m",
      "\u001b[0;31mTypeError\u001b[0m                                 Traceback (most recent call last)",
      "\u001b[0;32m/var/folders/tt/0g0jp37x7vzbrxkl8n00dw5r0000gn/T/ipykernel_898/3803319144.py\u001b[0m in \u001b[0;36m<module>\u001b[0;34m\u001b[0m\n\u001b[1;32m     12\u001b[0m     \u001b[0;32mreturn\u001b[0m \u001b[0mnew_ms\u001b[0m\u001b[0;34m\u001b[0m\u001b[0;34m\u001b[0m\u001b[0m\n\u001b[1;32m     13\u001b[0m \u001b[0;34m\u001b[0m\u001b[0m\n\u001b[0;32m---> 14\u001b[0;31m \u001b[0msimilar_products\u001b[0m\u001b[0;34m(\u001b[0m\u001b[0mmodel\u001b[0m\u001b[0;34m[\u001b[0m\u001b[0;34m'Dondurma'\u001b[0m\u001b[0;34m]\u001b[0m\u001b[0;34m)\u001b[0m\u001b[0;34m\u001b[0m\u001b[0;34m\u001b[0m\u001b[0m\n\u001b[0m",
      "\u001b[0;31mTypeError\u001b[0m: 'Word2Vec' object is not subscriptable"
     ]
    }
   ],
   "source": [
    "def similar_products(v, n = 6):\n",
    "    \n",
    "    # extract most similar products for the input vector\n",
    "    ms = model.similar_by_vector(v, topn= n+1)[1:]\n",
    "    \n",
    "    # extract name and similarity score of the similar products\n",
    "    new_ms = []\n",
    "    for j in ms:\n",
    "        pair = (products_dict[j[0]][0], j[1])\n",
    "        new_ms.append(pair)\n",
    "        \n",
    "    return new_ms        \n",
    "\n",
    "similar_products(model['Dondurma'])\n"
   ]
  },
  {
   "cell_type": "code",
   "execution_count": 134,
   "id": "25749c63",
   "metadata": {},
   "outputs": [
    {
     "data": {
      "text/plain": [
       "10116"
      ]
     },
     "execution_count": 134,
     "metadata": {},
     "output_type": "execute_result"
    }
   ],
   "source": [
    "len(data.text.unique())"
   ]
  },
  {
   "cell_type": "code",
   "execution_count": null,
   "id": "2434cdca",
   "metadata": {},
   "outputs": [],
   "source": []
  }
 ],
 "metadata": {
  "kernelspec": {
   "display_name": "Python 3 (ipykernel)",
   "language": "python",
   "name": "python3"
  },
  "language_info": {
   "codemirror_mode": {
    "name": "ipython",
    "version": 3
   },
   "file_extension": ".py",
   "mimetype": "text/x-python",
   "name": "python",
   "nbconvert_exporter": "python",
   "pygments_lexer": "ipython3",
   "version": "3.9.6"
  }
 },
 "nbformat": 4,
 "nbformat_minor": 5
}
