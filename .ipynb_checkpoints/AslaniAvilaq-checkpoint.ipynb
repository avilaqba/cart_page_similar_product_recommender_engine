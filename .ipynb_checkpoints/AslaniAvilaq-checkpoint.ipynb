{
 "cells": [
  {
   "cell_type": "markdown",
   "id": "c16361e0",
   "metadata": {},
   "source": [
    "# Related Products Recommender Engine"
   ]
  },
  {
   "cell_type": "markdown",
   "id": "0ffc63c2",
   "metadata": {},
   "source": [
    "### This is a try in order to build a related products Recommender for the cart page of an online grocery store."
   ]
  },
  {
   "cell_type": "markdown",
   "id": "28771db8",
   "metadata": {},
   "source": [
    "#### importing the events data"
   ]
  },
  {
   "cell_type": "code",
   "execution_count": 106,
   "id": "381a4ea7",
   "metadata": {},
   "outputs": [
    {
     "data": {
      "text/html": [
       "<div>\n",
       "<style scoped>\n",
       "    .dataframe tbody tr th:only-of-type {\n",
       "        vertical-align: middle;\n",
       "    }\n",
       "\n",
       "    .dataframe tbody tr th {\n",
       "        vertical-align: top;\n",
       "    }\n",
       "\n",
       "    .dataframe thead th {\n",
       "        text-align: right;\n",
       "    }\n",
       "</style>\n",
       "<table border=\"1\" class=\"dataframe\">\n",
       "  <thead>\n",
       "    <tr style=\"text-align: right;\">\n",
       "      <th></th>\n",
       "      <th>event</th>\n",
       "      <th>sessionid</th>\n",
       "      <th>eventtime</th>\n",
       "      <th>price</th>\n",
       "      <th>productid</th>\n",
       "    </tr>\n",
       "  </thead>\n",
       "  <tbody>\n",
       "    <tr>\n",
       "      <th>0</th>\n",
       "      <td>cart</td>\n",
       "      <td>a0655eee-1267-4820-af21-ad8ac068ff7a</td>\n",
       "      <td>2020-06-01T08:59:16.406Z</td>\n",
       "      <td>14.48</td>\n",
       "      <td>HBV00000NVZE8</td>\n",
       "    </tr>\n",
       "    <tr>\n",
       "      <th>1</th>\n",
       "      <td>cart</td>\n",
       "      <td>d2ea7bd3-9235-4a9f-a9ea-d7f296e71318</td>\n",
       "      <td>2020-06-01T08:59:46.580Z</td>\n",
       "      <td>49.90</td>\n",
       "      <td>HBV00000U2B18</td>\n",
       "    </tr>\n",
       "    <tr>\n",
       "      <th>2</th>\n",
       "      <td>cart</td>\n",
       "      <td>5e594788-78a0-44dd-8e66-37022d48f691</td>\n",
       "      <td>2020-06-01T08:59:33.308Z</td>\n",
       "      <td>1.99</td>\n",
       "      <td>OFIS3101-080</td>\n",
       "    </tr>\n",
       "    <tr>\n",
       "      <th>3</th>\n",
       "      <td>cart</td>\n",
       "      <td>fdfeb652-22fa-4153-b9b5-4dfa0dcaffdf</td>\n",
       "      <td>2020-06-01T08:59:31.911Z</td>\n",
       "      <td>2.25</td>\n",
       "      <td>HBV00000NVZBW</td>\n",
       "    </tr>\n",
       "    <tr>\n",
       "      <th>4</th>\n",
       "      <td>cart</td>\n",
       "      <td>9e9d4f7e-898c-40fb-aae9-256c40779933</td>\n",
       "      <td>2020-06-01T08:59:33.888Z</td>\n",
       "      <td>9.95</td>\n",
       "      <td>HBV00000NE0T4</td>\n",
       "    </tr>\n",
       "  </tbody>\n",
       "</table>\n",
       "</div>"
      ],
      "text/plain": [
       "  event                             sessionid                 eventtime  \\\n",
       "0  cart  a0655eee-1267-4820-af21-ad8ac068ff7a  2020-06-01T08:59:16.406Z   \n",
       "1  cart  d2ea7bd3-9235-4a9f-a9ea-d7f296e71318  2020-06-01T08:59:46.580Z   \n",
       "2  cart  5e594788-78a0-44dd-8e66-37022d48f691  2020-06-01T08:59:33.308Z   \n",
       "3  cart  fdfeb652-22fa-4153-b9b5-4dfa0dcaffdf  2020-06-01T08:59:31.911Z   \n",
       "4  cart  9e9d4f7e-898c-40fb-aae9-256c40779933  2020-06-01T08:59:33.888Z   \n",
       "\n",
       "   price      productid  \n",
       "0  14.48  HBV00000NVZE8  \n",
       "1  49.90  HBV00000U2B18  \n",
       "2   1.99   OFIS3101-080  \n",
       "3   2.25  HBV00000NVZBW  \n",
       "4   9.95  HBV00000NE0T4  "
      ]
     },
     "execution_count": 106,
     "metadata": {},
     "output_type": "execute_result"
    }
   ],
   "source": [
    "import json\n",
    "import pandas as pd\n",
    "# loading the json file\n",
    "with open('data/events.json') as file:\n",
    "    events_data = json.load(file)\n",
    "# convering the input as a dataframe\n",
    "events_df = pd.DataFrame.from_dict(events_data['events'])\n",
    "events_df.head()"
   ]
  },
  {
   "cell_type": "markdown",
   "id": "3ccea725",
   "metadata": {},
   "source": [
    "Since there are only \"cart\" type events in the events column, this column was removed from this dataframe."
   ]
  },
  {
   "cell_type": "code",
   "execution_count": 107,
   "id": "73da338c",
   "metadata": {},
   "outputs": [
    {
     "data": {
      "text/plain": [
       "array(['cart'], dtype=object)"
      ]
     },
     "execution_count": 107,
     "metadata": {},
     "output_type": "execute_result"
    }
   ],
   "source": [
    "events_df.event.unique()"
   ]
  },
  {
   "cell_type": "code",
   "execution_count": 108,
   "id": "5791e88c",
   "metadata": {},
   "outputs": [],
   "source": [
    "events_df.drop('event', axis=1, inplace = True)"
   ]
  },
  {
   "cell_type": "code",
   "execution_count": 109,
   "id": "089095ed",
   "metadata": {},
   "outputs": [
    {
     "data": {
      "text/plain": [
       "(387656, 4)"
      ]
     },
     "execution_count": 109,
     "metadata": {},
     "output_type": "execute_result"
    }
   ],
   "source": [
    "events_df.shape"
   ]
  },
  {
   "cell_type": "code",
   "execution_count": 110,
   "id": "9e81616e",
   "metadata": {},
   "outputs": [
    {
     "data": {
      "text/html": [
       "<div>\n",
       "<style scoped>\n",
       "    .dataframe tbody tr th:only-of-type {\n",
       "        vertical-align: middle;\n",
       "    }\n",
       "\n",
       "    .dataframe tbody tr th {\n",
       "        vertical-align: top;\n",
       "    }\n",
       "\n",
       "    .dataframe thead th {\n",
       "        text-align: right;\n",
       "    }\n",
       "</style>\n",
       "<table border=\"1\" class=\"dataframe\">\n",
       "  <thead>\n",
       "    <tr style=\"text-align: right;\">\n",
       "      <th></th>\n",
       "      <th>productid</th>\n",
       "      <th>brand</th>\n",
       "      <th>category</th>\n",
       "      <th>subcategory</th>\n",
       "      <th>name</th>\n",
       "    </tr>\n",
       "  </thead>\n",
       "  <tbody>\n",
       "    <tr>\n",
       "      <th>0</th>\n",
       "      <td>HBV00000AX6LR</td>\n",
       "      <td>Palette</td>\n",
       "      <td>Kişisel Bakım</td>\n",
       "      <td>Saç Bakımı</td>\n",
       "      <td>Palette Kalıcı Doğal Renkler 10-4 PAPATYA</td>\n",
       "    </tr>\n",
       "    <tr>\n",
       "      <th>1</th>\n",
       "      <td>HBV00000BSAQG</td>\n",
       "      <td>Best</td>\n",
       "      <td>Pet Shop</td>\n",
       "      <td>Kedi</td>\n",
       "      <td>Best Pet Jöle İçinde Parça Etli Somonlu Konser...</td>\n",
       "    </tr>\n",
       "    <tr>\n",
       "      <th>2</th>\n",
       "      <td>HBV00000JUHBA</td>\n",
       "      <td>Tarım Kredi</td>\n",
       "      <td>Temel Gıda</td>\n",
       "      <td>Bakliyat, Pirinç, Makarna</td>\n",
       "      <td>Türkiye Tarım Kredi Koop.Yeşil Mercimek 1 kg</td>\n",
       "    </tr>\n",
       "    <tr>\n",
       "      <th>3</th>\n",
       "      <td>HBV00000NE0QI</td>\n",
       "      <td>Namet</td>\n",
       "      <td>Et, Balık, Şarküteri</td>\n",
       "      <td>Şarküteri</td>\n",
       "      <td>Namet Fıstıklı Macar Salam 100 gr</td>\n",
       "    </tr>\n",
       "    <tr>\n",
       "      <th>4</th>\n",
       "      <td>HBV00000NE0UQ</td>\n",
       "      <td>Muratbey</td>\n",
       "      <td>Kahvaltılık ve Süt</td>\n",
       "      <td>Peynir</td>\n",
       "      <td>Muratbey Burgu Peyniri 250 gr</td>\n",
       "    </tr>\n",
       "  </tbody>\n",
       "</table>\n",
       "</div>"
      ],
      "text/plain": [
       "       productid        brand              category  \\\n",
       "0  HBV00000AX6LR      Palette         Kişisel Bakım   \n",
       "1  HBV00000BSAQG         Best              Pet Shop   \n",
       "2  HBV00000JUHBA  Tarım Kredi            Temel Gıda   \n",
       "3  HBV00000NE0QI        Namet  Et, Balık, Şarküteri   \n",
       "4  HBV00000NE0UQ     Muratbey    Kahvaltılık ve Süt   \n",
       "\n",
       "                 subcategory  \\\n",
       "0                 Saç Bakımı   \n",
       "1                       Kedi   \n",
       "2  Bakliyat, Pirinç, Makarna   \n",
       "3                  Şarküteri   \n",
       "4                     Peynir   \n",
       "\n",
       "                                                name  \n",
       "0          Palette Kalıcı Doğal Renkler 10-4 PAPATYA  \n",
       "1  Best Pet Jöle İçinde Parça Etli Somonlu Konser...  \n",
       "2       Türkiye Tarım Kredi Koop.Yeşil Mercimek 1 kg  \n",
       "3                  Namet Fıstıklı Macar Salam 100 gr  \n",
       "4                      Muratbey Burgu Peyniri 250 gr  "
      ]
     },
     "execution_count": 110,
     "metadata": {},
     "output_type": "execute_result"
    }
   ],
   "source": [
    "with open('data/meta.json') as file:\n",
    "    meta_data = json.load(file)\n",
    "meta_df = pd.DataFrame.from_dict(meta_data['meta'])\n",
    "meta_df.head()"
   ]
  },
  {
   "cell_type": "code",
   "execution_count": 111,
   "id": "63f55b36",
   "metadata": {},
   "outputs": [
    {
     "data": {
      "text/plain": [
       "(10236, 5)"
      ]
     },
     "execution_count": 111,
     "metadata": {},
     "output_type": "execute_result"
    }
   ],
   "source": [
    "meta_df.shape"
   ]
  },
  {
   "cell_type": "markdown",
   "id": "e2558f65",
   "metadata": {},
   "source": [
    "#### Merging the datasets into a single dataset based on the common column (productid)"
   ]
  },
  {
   "cell_type": "code",
   "execution_count": 112,
   "id": "a5ba3d2e",
   "metadata": {},
   "outputs": [
    {
     "data": {
      "text/html": [
       "<div>\n",
       "<style scoped>\n",
       "    .dataframe tbody tr th:only-of-type {\n",
       "        vertical-align: middle;\n",
       "    }\n",
       "\n",
       "    .dataframe tbody tr th {\n",
       "        vertical-align: top;\n",
       "    }\n",
       "\n",
       "    .dataframe thead th {\n",
       "        text-align: right;\n",
       "    }\n",
       "</style>\n",
       "<table border=\"1\" class=\"dataframe\">\n",
       "  <thead>\n",
       "    <tr style=\"text-align: right;\">\n",
       "      <th></th>\n",
       "      <th>productid</th>\n",
       "      <th>brand</th>\n",
       "      <th>category</th>\n",
       "      <th>subcategory</th>\n",
       "      <th>name</th>\n",
       "      <th>sessionid</th>\n",
       "      <th>eventtime</th>\n",
       "      <th>price</th>\n",
       "    </tr>\n",
       "  </thead>\n",
       "  <tbody>\n",
       "    <tr>\n",
       "      <th>0</th>\n",
       "      <td>HBV00000NVZE8</td>\n",
       "      <td>None</td>\n",
       "      <td>Et, Balık, Şarküteri</td>\n",
       "      <td>Kırmızı Et</td>\n",
       "      <td>Dana Kıyma (%5-%7 Yağ) 250 gr</td>\n",
       "      <td>a0655eee-1267-4820-af21-ad8ac068ff7a</td>\n",
       "      <td>2020-06-01T08:59:16.406Z</td>\n",
       "      <td>14.48</td>\n",
       "    </tr>\n",
       "    <tr>\n",
       "      <th>1</th>\n",
       "      <td>HBV00000U2B18</td>\n",
       "      <td>Oral-B</td>\n",
       "      <td>Kişisel Bakım</td>\n",
       "      <td>Ağız Bakım</td>\n",
       "      <td>Diş Fırçası Yedek Başlığı Stages Çocuk 2 Adet</td>\n",
       "      <td>d2ea7bd3-9235-4a9f-a9ea-d7f296e71318</td>\n",
       "      <td>2020-06-01T08:59:46.580Z</td>\n",
       "      <td>49.90</td>\n",
       "    </tr>\n",
       "    <tr>\n",
       "      <th>2</th>\n",
       "      <td>OFIS3101-080</td>\n",
       "      <td>Noki</td>\n",
       "      <td>Oyuncak ve Kırtasiye</td>\n",
       "      <td>Dosyalama ve Arşivleme</td>\n",
       "      <td>Noki Dosya Çıtçıtlı Evrak Zarfı Kırmızı 3101 T...</td>\n",
       "      <td>5e594788-78a0-44dd-8e66-37022d48f691</td>\n",
       "      <td>2020-06-01T08:59:33.308Z</td>\n",
       "      <td>1.99</td>\n",
       "    </tr>\n",
       "    <tr>\n",
       "      <th>3</th>\n",
       "      <td>HBV00000NVZBW</td>\n",
       "      <td>None</td>\n",
       "      <td>Meyve ve Sebze</td>\n",
       "      <td>Sebze</td>\n",
       "      <td>Domates 500 gr</td>\n",
       "      <td>fdfeb652-22fa-4153-b9b5-4dfa0dcaffdf</td>\n",
       "      <td>2020-06-01T08:59:31.911Z</td>\n",
       "      <td>2.25</td>\n",
       "    </tr>\n",
       "    <tr>\n",
       "      <th>4</th>\n",
       "      <td>HBV00000NE0T4</td>\n",
       "      <td>Carrefour</td>\n",
       "      <td>Temel Gıda</td>\n",
       "      <td>Sıvı Yağ</td>\n",
       "      <td>Carrefour Ayçiçek Yağı 1 lt</td>\n",
       "      <td>9e9d4f7e-898c-40fb-aae9-256c40779933</td>\n",
       "      <td>2020-06-01T08:59:33.888Z</td>\n",
       "      <td>9.95</td>\n",
       "    </tr>\n",
       "  </tbody>\n",
       "</table>\n",
       "</div>"
      ],
      "text/plain": [
       "       productid      brand              category             subcategory  \\\n",
       "0  HBV00000NVZE8       None  Et, Balık, Şarküteri              Kırmızı Et   \n",
       "1  HBV00000U2B18     Oral-B         Kişisel Bakım              Ağız Bakım   \n",
       "2   OFIS3101-080       Noki  Oyuncak ve Kırtasiye  Dosyalama ve Arşivleme   \n",
       "3  HBV00000NVZBW       None        Meyve ve Sebze                   Sebze   \n",
       "4  HBV00000NE0T4  Carrefour            Temel Gıda                Sıvı Yağ   \n",
       "\n",
       "                                                name  \\\n",
       "0                      Dana Kıyma (%5-%7 Yağ) 250 gr   \n",
       "1      Diş Fırçası Yedek Başlığı Stages Çocuk 2 Adet   \n",
       "2  Noki Dosya Çıtçıtlı Evrak Zarfı Kırmızı 3101 T...   \n",
       "3                                     Domates 500 gr   \n",
       "4                        Carrefour Ayçiçek Yağı 1 lt   \n",
       "\n",
       "                              sessionid                 eventtime  price  \n",
       "0  a0655eee-1267-4820-af21-ad8ac068ff7a  2020-06-01T08:59:16.406Z  14.48  \n",
       "1  d2ea7bd3-9235-4a9f-a9ea-d7f296e71318  2020-06-01T08:59:46.580Z  49.90  \n",
       "2  5e594788-78a0-44dd-8e66-37022d48f691  2020-06-01T08:59:33.308Z   1.99  \n",
       "3  fdfeb652-22fa-4153-b9b5-4dfa0dcaffdf  2020-06-01T08:59:31.911Z   2.25  \n",
       "4  9e9d4f7e-898c-40fb-aae9-256c40779933  2020-06-01T08:59:33.888Z   9.95  "
      ]
     },
     "execution_count": 112,
     "metadata": {},
     "output_type": "execute_result"
    }
   ],
   "source": [
    "data = pd.merge(left=meta_df, right=events_df, how='right', on = 'productid')\n",
    "data.head()"
   ]
  },
  {
   "cell_type": "code",
   "execution_count": 113,
   "id": "7fb5fad3",
   "metadata": {},
   "outputs": [
    {
     "data": {
      "text/plain": [
       "(387656, 8)"
      ]
     },
     "execution_count": 113,
     "metadata": {},
     "output_type": "execute_result"
    }
   ],
   "source": [
    "data.shape"
   ]
  },
  {
   "cell_type": "markdown",
   "id": "5128a6aa",
   "metadata": {},
   "source": [
    "#### Data Cleaning "
   ]
  },
  {
   "cell_type": "code",
   "execution_count": 114,
   "id": "b868be30",
   "metadata": {},
   "outputs": [
    {
     "data": {
      "text/plain": [
       "productid      object\n",
       "brand          object\n",
       "category       object\n",
       "subcategory    object\n",
       "name           object\n",
       "sessionid      object\n",
       "eventtime      object\n",
       "price          object\n",
       "dtype: object"
      ]
     },
     "execution_count": 114,
     "metadata": {},
     "output_type": "execute_result"
    }
   ],
   "source": [
    "data.dtypes"
   ]
  },
  {
   "cell_type": "code",
   "execution_count": 115,
   "id": "b6393967",
   "metadata": {},
   "outputs": [
    {
     "data": {
      "text/plain": [
       "productid           6\n",
       "brand          131851\n",
       "category            6\n",
       "subcategory         6\n",
       "name                6\n",
       "sessionid           0\n",
       "eventtime           0\n",
       "price               6\n",
       "dtype: int64"
      ]
     },
     "execution_count": 115,
     "metadata": {},
     "output_type": "execute_result"
    }
   ],
   "source": [
    "data.isna().sum()"
   ]
  },
  {
   "cell_type": "markdown",
   "id": "56ebe41f",
   "metadata": {},
   "source": [
    "The rows with missing values in all of the columns were removed."
   ]
  },
  {
   "cell_type": "code",
   "execution_count": 116,
   "id": "4451cd7c",
   "metadata": {},
   "outputs": [
    {
     "data": {
      "text/plain": [
       "productid           0\n",
       "brand          131845\n",
       "category            0\n",
       "subcategory         0\n",
       "name                0\n",
       "sessionid           0\n",
       "eventtime           0\n",
       "price               0\n",
       "dtype: int64"
      ]
     },
     "execution_count": 116,
     "metadata": {},
     "output_type": "execute_result"
    }
   ],
   "source": [
    "# not considering the 6 rows with all nan values\n",
    "data = data[data.productid.notna()]\n",
    "data.isna().sum()"
   ]
  },
  {
   "cell_type": "markdown",
   "id": "52c701d6",
   "metadata": {},
   "source": [
    "Hereby, since the number of Nan values in the brand column was significant, removing the rows with Nan numbers would not be rational. Thus, they were treated as another brand; namely \"Belirsiz\"."
   ]
  },
  {
   "cell_type": "code",
   "execution_count": 117,
   "id": "1c67d351",
   "metadata": {},
   "outputs": [
    {
     "data": {
      "text/plain": [
       "0           Belirsiz\n",
       "1             Oral-B\n",
       "2               Noki\n",
       "3           Belirsiz\n",
       "4          Carrefour\n",
       "             ...    \n",
       "387651     Carrefour\n",
       "387652     Carrefour\n",
       "387653        Vernel\n",
       "387654    Carte D'or\n",
       "387655     Carrefour\n",
       "Name: brand, Length: 387650, dtype: object"
      ]
     },
     "execution_count": 117,
     "metadata": {},
     "output_type": "execute_result"
    }
   ],
   "source": [
    "data.brand = data.brand.fillna('Belirsiz')\n",
    "data.brand"
   ]
  },
  {
   "cell_type": "markdown",
   "id": "8d70cc89",
   "metadata": {},
   "source": [
    "There are no missing values at this point;"
   ]
  },
  {
   "cell_type": "code",
   "execution_count": 118,
   "id": "f505da14",
   "metadata": {},
   "outputs": [
    {
     "data": {
      "text/plain": [
       "False"
      ]
     },
     "execution_count": 118,
     "metadata": {},
     "output_type": "execute_result"
    }
   ],
   "source": [
    "data.isna().values.any()"
   ]
  },
  {
   "cell_type": "markdown",
   "id": "5bf9a747",
   "metadata": {},
   "source": [
    "Duplicated rows were handled."
   ]
  },
  {
   "cell_type": "code",
   "execution_count": 119,
   "id": "9a27bfae",
   "metadata": {},
   "outputs": [
    {
     "data": {
      "text/plain": [
       "350"
      ]
     },
     "execution_count": 119,
     "metadata": {},
     "output_type": "execute_result"
    }
   ],
   "source": [
    "data.duplicated().sum()"
   ]
  },
  {
   "cell_type": "code",
   "execution_count": 120,
   "id": "a20ee92e",
   "metadata": {},
   "outputs": [
    {
     "data": {
      "text/plain": [
       "(387300, 8)"
      ]
     },
     "execution_count": 120,
     "metadata": {},
     "output_type": "execute_result"
    }
   ],
   "source": [
    "data = data.drop_duplicates()\n",
    "data.shape"
   ]
  },
  {
   "cell_type": "markdown",
   "id": "5002bd7c",
   "metadata": {},
   "source": [
    "### Data Preprocessing \n",
    "In this step, the meta_df data frame which contains the metadata of products and their information, was considered. \n",
    "Then for each column, the string values in 'brand','category','subcategory', and 'name'columns were combined together as in a new column named 'description'."
   ]
  },
  {
   "cell_type": "code",
   "execution_count": 121,
   "id": "1bf40140",
   "metadata": {},
   "outputs": [],
   "source": [
    "meta_df.brand = meta_df.brand.fillna('Belirsiz')\n",
    "# Combining the four columns into a column and assigning it as a dataframe named description\n",
    "description = meta_df[['brand','category','subcategory','name']].astype(str).apply(lambda x: ' '.join(x), axis=1).to_frame('description')\n",
    "# Concatinating the two dataframes\n",
    "meta_data = pd.concat([meta_df,description], axis=1)"
   ]
  },
  {
   "cell_type": "markdown",
   "id": "54cdde64",
   "metadata": {},
   "source": [
    "### Building the model\n",
    "At this point the aim is to build a content based recommender system. The CountVectorizer was used in order to be applied on the description column of the dataframe."
   ]
  },
  {
   "cell_type": "code",
   "execution_count": 122,
   "id": "9c743778",
   "metadata": {},
   "outputs": [],
   "source": [
    "from sklearn.feature_extraction.text import CountVectorizer\n",
    "\n",
    "vectorizer = CountVectorizer()\n",
    "X = vectorizer.fit_transform(meta_data.description)"
   ]
  },
  {
   "cell_type": "markdown",
   "id": "604e152e",
   "metadata": {},
   "source": [
    "Cosine similarity was considered as the metric for finding the similarities between pairs of products.\n",
    "The cosine_similarity matrix were calculated. "
   ]
  },
  {
   "cell_type": "code",
   "execution_count": 123,
   "id": "2bb862b5",
   "metadata": {},
   "outputs": [
    {
     "data": {
      "text/plain": [
       "array([[1.        , 0.        , 0.        , ..., 0.06362848, 0.06726728,\n",
       "        0.05337605],\n",
       "       [0.        , 1.        , 0.        , ..., 0.        , 0.        ,\n",
       "        0.        ],\n",
       "       [0.        , 0.        , 1.        , ..., 0.        , 0.        ,\n",
       "        0.        ],\n",
       "       ...,\n",
       "       [0.06362848, 0.        , 0.        , ..., 1.        , 0.66769786,\n",
       "        0.35320863],\n",
       "       [0.06726728, 0.        , 0.        , ..., 0.66769786, 1.        ,\n",
       "        0.32673202],\n",
       "       [0.05337605, 0.        , 0.        , ..., 0.35320863, 0.32673202,\n",
       "        1.        ]])"
      ]
     },
     "execution_count": 123,
     "metadata": {},
     "output_type": "execute_result"
    }
   ],
   "source": [
    "from sklearn.metrics.pairwise import cosine_similarity\n",
    "cs_matrix = cosine_similarity(X)\n",
    "cs_matrix"
   ]
  },
  {
   "cell_type": "markdown",
   "id": "c568840b",
   "metadata": {},
   "source": [
    "Note that the length of the matrix in each axis is equal to the length of unique products list."
   ]
  },
  {
   "cell_type": "code",
   "execution_count": 124,
   "id": "c72ccbf5",
   "metadata": {},
   "outputs": [
    {
     "data": {
      "text/plain": [
       "(10236,)"
      ]
     },
     "execution_count": 124,
     "metadata": {},
     "output_type": "execute_result"
    }
   ],
   "source": [
    "meta_data.productid.shape"
   ]
  },
  {
   "cell_type": "code",
   "execution_count": 125,
   "id": "162f42f8",
   "metadata": {},
   "outputs": [
    {
     "data": {
      "text/plain": [
       "(10236, 10236)"
      ]
     },
     "execution_count": 125,
     "metadata": {},
     "output_type": "execute_result"
    }
   ],
   "source": [
    "cs_matrix.shape"
   ]
  },
  {
   "cell_type": "markdown",
   "id": "31716890",
   "metadata": {},
   "source": [
    "#### Finding related products for a given product\n",
    "The input of the function below will be a productid. And the output of it will be ten most related products to it. Here, the names of those products will be shown. However, we could also show the productid of them."
   ]
  },
  {
   "cell_type": "code",
   "execution_count": 144,
   "id": "3fff0bb5",
   "metadata": {},
   "outputs": [
    {
     "name": "stdout",
     "output_type": "stream",
     "text": [
      "     Input product:       Palette Kalıcı Doğal Renkler 10-4 PAPATYA \n",
      "\n",
      "     Related Products  \t\t\t\t\t Similarity\n",
      "  1. Palette Kalıcı Doğal Renkler 10-0 AÇIK SARI               0.89\n",
      "  2. Palette Kalıcı Doğal Renkler 4-0 KAHVE                    0.88\n",
      "  3. Palette Kalıcı Doğal Renkler 1-0 SİYAH                    0.85\n",
      "  4. Palette Kalıcı Doğal Renkler 9-4 SAHRA SARISI             0.85\n",
      "  5. Palette Kalıcı Doğal Renkler 6-0 KOYU KUMRAL              0.85\n",
      "  6. Palette Kalıcı Doğal Renkler 1-1 GECE MAVİSİ              0.82\n",
      "  7. Palette Kalıcı Doğal Renkler 5-89 GECE KIZILI             0.82\n",
      "  8. Palette Kalıcı Doğal Renkler 6-70 BRONZ KAHVE             0.82\n",
      "  9. Palette Saç Boyası Kalıcı Doğal Renkler 4-0 Amber Kahve   0.81\n",
      " 10. Palette Saç Boyası Kalıcı Doğal Renkler 3-0 Koyu Kakao    0.81\n"
     ]
    }
   ],
   "source": [
    "def related_products(input_product):\n",
    "    # finding the index of the input_procduct in the meta_data dataframe\n",
    "    input_productid=meta_data[meta_data.productid == input_product].index.values[0]\n",
    "    # geting a list of the values in the i'th row ; i==input_productid\n",
    "    scores = list(enumerate(cs_matrix[input_productid]))\n",
    "    # descending sorting of the list \n",
    "    scores_sorted=sorted(scores, key=lambda x:x[1], reverse=True)[1:]\n",
    "\n",
    "    print(f'     Related Products  \\t\\t\\t\\t\\t Similarity')\n",
    "    \n",
    "    # pringting names of the related products\n",
    "    j=0\n",
    "    for score in scores_sorted:\n",
    "        recomm=meta_data[meta_data.index==score[0]]['name'].values\n",
    "\n",
    "        print(f'{j+1:3}. {recomm[0]:55}   {scores_sorted[j][1]:.2f}')\n",
    "        j+=1\n",
    "        if j>9:\n",
    "            break\n",
    "            \n",
    "print ('     Input product:      ',meta_data.name[0],'\\n')\n",
    "related_products(meta_data.productid[0])"
   ]
  },
  {
   "cell_type": "markdown",
   "id": "e75409d9",
   "metadata": {},
   "source": [
    "### Offering Another Method \n",
    "This is a method that iteratively looks for sessions in the events dataset. Thus it would be reasonable to use it on a larger dataset. In this method, we will use the data of events in order to get all the items that a particular session has included in the basket. This way, we will be able to find related products based on the frequency of them being included together in the baskets of distinct sessions."
   ]
  },
  {
   "cell_type": "code",
   "execution_count": 145,
   "id": "95cce1b6",
   "metadata": {},
   "outputs": [],
   "source": [
    "# building a dictionarry of unique productid\n",
    "unique_productids = data.productid.unique()\n",
    "productid_dict = {}\n",
    "c=0\n",
    "for p in unique_productids:\n",
    "    productid_dict[p] = c\n",
    "    c+=1"
   ]
  },
  {
   "cell_type": "code",
   "execution_count": 146,
   "id": "2434cdca",
   "metadata": {},
   "outputs": [
    {
     "data": {
      "text/plain": [
       "sessionid\n",
       "000280f4-62fc-4dcd-b51d-c66ac14d7d8c                                      [HBV00000NE1WT]\n",
       "0002e53b-1f60-4309-8380-31ca03de51f8                       [HBV00000NVZGQ, HBV00000NE1LU]\n",
       "0002ef34-6bee-4953-874b-8298ec26b625                       [HBV00000OELAO, HBV00000OEL9W]\n",
       "000618de-d415-408c-863e-6124db43f529    [HBV00000NVZGU, HBV00000NVZGU, HBV00000NVZGU, ...\n",
       "000770d6-c2d4-4ad2-bb2c-b35274bc5e7e                                      [HBV00000LML23]\n",
       "                                                              ...                        \n",
       "fffb5e6a-2676-4cd9-b4e4-ab8b6621e0fe    [HBV00000OE7V9, HBV00000OE7H3, HBV00000OE7V9, ...\n",
       "fffbae5f-8102-4a14-84d7-6c11c724cf8d                         [SGPAN971946, HBV00000NFI3G]\n",
       "fffbba74-6999-460f-bd5f-70eaebe689cf    [HBV00000NE11I, HBV00000NE11I, HBV00000NE11I, ...\n",
       "fffd3c61-2f71-4437-986c-e1c30ef5b5fe    [HBV000006IYTS, HBV00000O2SC1, HBV00000OE7X7, ...\n",
       "ffffcd3c-da03-4667-9c75-9fcafb609c9e    [HBV00000TIRU5, HBV00000TIRUB, HBV00000TIRU5, ...\n",
       "Name: productid, Length: 54442, dtype: object"
      ]
     },
     "execution_count": 146,
     "metadata": {},
     "output_type": "execute_result"
    }
   ],
   "source": [
    "# grouping the products for each session, and then getting the results as in lists\n",
    "carts = data.groupby(['sessionid'])['productid'].apply(list)\n",
    "carts"
   ]
  },
  {
   "cell_type": "markdown",
   "id": "408f3ea1",
   "metadata": {},
   "source": [
    "At this point a matrix will be built in order to store the frequency of items being in the cart pages together."
   ]
  },
  {
   "cell_type": "code",
   "execution_count": 147,
   "id": "c0890061",
   "metadata": {},
   "outputs": [],
   "source": [
    "import numpy as np\n",
    "# building a zeros matrix\n",
    "matrix = np.zeros((len(unique_productids),len(unique_productids)))\n",
    "# filling the matrix\n",
    "for cart in carts:\n",
    "    for item1 in cart:\n",
    "        for item2 in cart:\n",
    "            i=productid_dict[item1]\n",
    "            j=productid_dict[item2]\n",
    "            if i<j:\n",
    "                matrix[i,j]+=1.0\n",
    "                   "
   ]
  },
  {
   "cell_type": "code",
   "execution_count": 148,
   "id": "419903a4",
   "metadata": {},
   "outputs": [
    {
     "data": {
      "text/plain": [
       "(10235, 10235)"
      ]
     },
     "execution_count": 148,
     "metadata": {},
     "output_type": "execute_result"
    }
   ],
   "source": [
    "matrix.shape"
   ]
  },
  {
   "cell_type": "markdown",
   "id": "509b1a20",
   "metadata": {},
   "source": [
    "#### Finding related products for a given product"
   ]
  },
  {
   "cell_type": "code",
   "execution_count": 149,
   "id": "b8a2e7c0",
   "metadata": {},
   "outputs": [
    {
     "name": "stdout",
     "output_type": "stream",
     "text": [
      "Input product:  Dana Kıyma (%5-%7 Yağ) 250 gr \n",
      "\n",
      "Similar products\n",
      "  1. Patates 1 kg                                            \n",
      "  2. Nestle Su 5 Lt                                          \n",
      "  3. Carrefour Su 1,5 lt                                     \n",
      "  4. Piliç But Pirzola 500 gr                                \n",
      "  5. Carrefour Su 5 lt                                       \n",
      "  6. Eti Süt Çilekli Burger 35 gr                            \n",
      "  7. Milupa Organik Sütlaç Kavanoz 125 Gr 6+ Ay              \n",
      "  8. İçim Rahat Laktozsuz Süt 1 L                            \n",
      "  9. Carrefour Islak Havlu Papatyalı 3x60 Adet               \n",
      " 10. Tadım Fındık İçi 200gr                                  \n"
     ]
    }
   ],
   "source": [
    "def similar_products(input_product):\n",
    "    # finding the index of the input_procduct in the meta_data dataframe\n",
    "    input_productid=data[data.productid == input_product].index.values[0]\n",
    "    # geting a list of the values in the i'th row ; i==input_productid\n",
    "    scores = list(enumerate(matrix[input_productid]))\n",
    "    # descending sorting of the list \n",
    "    scores_sorted=sorted(scores, key=lambda x:x[1], reverse=True)[1:]\n",
    "    print ('Similar products')\n",
    "    # pringting names of the similar products\n",
    "    j=0\n",
    "    for score in scores_sorted:\n",
    "        recomm=data[data.index==score[0]]['name'].values\n",
    "\n",
    "        print(f'{j+1:3}. {recomm[0]:55} ')\n",
    "        j+=1\n",
    "        if j>9:\n",
    "            break\n",
    "print ('Input product: ',data.name[0],'\\n')\n",
    "similar_products(data.productid[0])"
   ]
  },
  {
   "cell_type": "markdown",
   "id": "b23d38f9",
   "metadata": {},
   "source": [
    "# Conclusion\n",
    "\n",
    "The combination of methods presented above, would be a good choice to consider. \n",
    "\n",
    "Following is another work which is unfinished.\n",
    "\n",
    "### Another Method: Word Embedding"
   ]
  },
  {
   "cell_type": "code",
   "execution_count": 150,
   "id": "5d26f6aa",
   "metadata": {},
   "outputs": [
    {
     "data": {
      "text/html": [
       "<div>\n",
       "<style scoped>\n",
       "    .dataframe tbody tr th:only-of-type {\n",
       "        vertical-align: middle;\n",
       "    }\n",
       "\n",
       "    .dataframe tbody tr th {\n",
       "        vertical-align: top;\n",
       "    }\n",
       "\n",
       "    .dataframe thead th {\n",
       "        text-align: right;\n",
       "    }\n",
       "</style>\n",
       "<table border=\"1\" class=\"dataframe\">\n",
       "  <thead>\n",
       "    <tr style=\"text-align: right;\">\n",
       "      <th></th>\n",
       "      <th>productid</th>\n",
       "      <th>sessionid</th>\n",
       "      <th>description</th>\n",
       "    </tr>\n",
       "  </thead>\n",
       "  <tbody>\n",
       "    <tr>\n",
       "      <th>0</th>\n",
       "      <td>HBV00000NVZE8</td>\n",
       "      <td>a0655eee-1267-4820-af21-ad8ac068ff7a</td>\n",
       "      <td>Belirsiz Et, Balık, Şarküteri Kırmızı Et Dana ...</td>\n",
       "    </tr>\n",
       "    <tr>\n",
       "      <th>1</th>\n",
       "      <td>HBV00000U2B18</td>\n",
       "      <td>d2ea7bd3-9235-4a9f-a9ea-d7f296e71318</td>\n",
       "      <td>Oral-B Kişisel Bakım Ağız Bakım Diş Fırçası Ye...</td>\n",
       "    </tr>\n",
       "    <tr>\n",
       "      <th>2</th>\n",
       "      <td>OFIS3101-080</td>\n",
       "      <td>5e594788-78a0-44dd-8e66-37022d48f691</td>\n",
       "      <td>Noki Oyuncak ve Kırtasiye Dosyalama ve Arşivle...</td>\n",
       "    </tr>\n",
       "    <tr>\n",
       "      <th>3</th>\n",
       "      <td>HBV00000NVZBW</td>\n",
       "      <td>fdfeb652-22fa-4153-b9b5-4dfa0dcaffdf</td>\n",
       "      <td>Belirsiz Meyve ve Sebze Sebze Domates 500 gr</td>\n",
       "    </tr>\n",
       "    <tr>\n",
       "      <th>4</th>\n",
       "      <td>HBV00000NE0T4</td>\n",
       "      <td>9e9d4f7e-898c-40fb-aae9-256c40779933</td>\n",
       "      <td>Carrefour Temel Gıda Sıvı Yağ Carrefour Ayçiçe...</td>\n",
       "    </tr>\n",
       "  </tbody>\n",
       "</table>\n",
       "</div>"
      ],
      "text/plain": [
       "       productid                             sessionid  \\\n",
       "0  HBV00000NVZE8  a0655eee-1267-4820-af21-ad8ac068ff7a   \n",
       "1  HBV00000U2B18  d2ea7bd3-9235-4a9f-a9ea-d7f296e71318   \n",
       "2   OFIS3101-080  5e594788-78a0-44dd-8e66-37022d48f691   \n",
       "3  HBV00000NVZBW  fdfeb652-22fa-4153-b9b5-4dfa0dcaffdf   \n",
       "4  HBV00000NE0T4  9e9d4f7e-898c-40fb-aae9-256c40779933   \n",
       "\n",
       "                                         description  \n",
       "0  Belirsiz Et, Balık, Şarküteri Kırmızı Et Dana ...  \n",
       "1  Oral-B Kişisel Bakım Ağız Bakım Diş Fırçası Ye...  \n",
       "2  Noki Oyuncak ve Kırtasiye Dosyalama ve Arşivle...  \n",
       "3       Belirsiz Meyve ve Sebze Sebze Domates 500 gr  \n",
       "4  Carrefour Temel Gıda Sıvı Yağ Carrefour Ayçiçe...  "
      ]
     },
     "execution_count": 150,
     "metadata": {},
     "output_type": "execute_result"
    }
   ],
   "source": [
    "data = df[['productid','brand','category','subcategory','name','sessionid']]\n",
    "# Combining the four columns into a column and assigning it as a dataframe named description\n",
    "description = data[['brand','category','subcategory','name']].astype(str).apply(lambda x: ' '.join(x), axis=1).to_frame('description')\n",
    "data = pd.concat([data,description], axis=1)\n",
    "# dropping the columns that we just combined into one column\n",
    "data.drop(['brand','category','subcategory','name'], axis=1, inplace=True)\n",
    "data.head()"
   ]
  },
  {
   "cell_type": "code",
   "execution_count": 151,
   "id": "b6b84619",
   "metadata": {},
   "outputs": [],
   "source": [
    "data.description= data.description.astype(str)"
   ]
  },
  {
   "cell_type": "code",
   "execution_count": 152,
   "id": "6711a8aa",
   "metadata": {},
   "outputs": [
    {
     "data": {
      "text/plain": [
       "54442"
      ]
     },
     "execution_count": 152,
     "metadata": {},
     "output_type": "execute_result"
    }
   ],
   "source": [
    "sessions = data.sessionid.unique().tolist()\n",
    "len(sessions)"
   ]
  },
  {
   "cell_type": "code",
   "execution_count": 153,
   "id": "4f6f7f39",
   "metadata": {},
   "outputs": [],
   "source": [
    "import random\n",
    "random.shuffle(sessions)\n",
    "# getting the 90% of session randomly\n",
    "sessions_train = [sessions[i] for i in range(round(0.9*len(sessions)))]\n",
    "\n",
    "# splittin data into train and validation set\n",
    "train_data = data[data.sessionid.isin(sessions_train)]\n",
    "validation_data = data[~data.sessionid.isin(sessions_train)]"
   ]
  },
  {
   "cell_type": "code",
   "execution_count": 154,
   "id": "c2002208",
   "metadata": {},
   "outputs": [
    {
     "data": {
      "text/html": [
       "<div>\n",
       "<style scoped>\n",
       "    .dataframe tbody tr th:only-of-type {\n",
       "        vertical-align: middle;\n",
       "    }\n",
       "\n",
       "    .dataframe tbody tr th {\n",
       "        vertical-align: top;\n",
       "    }\n",
       "\n",
       "    .dataframe thead th {\n",
       "        text-align: right;\n",
       "    }\n",
       "</style>\n",
       "<table border=\"1\" class=\"dataframe\">\n",
       "  <thead>\n",
       "    <tr style=\"text-align: right;\">\n",
       "      <th></th>\n",
       "      <th>productid</th>\n",
       "      <th>sessionid</th>\n",
       "      <th>description</th>\n",
       "    </tr>\n",
       "  </thead>\n",
       "  <tbody>\n",
       "    <tr>\n",
       "      <th>1</th>\n",
       "      <td>HBV00000U2B18</td>\n",
       "      <td>d2ea7bd3-9235-4a9f-a9ea-d7f296e71318</td>\n",
       "      <td>Oral-B Kişisel Bakım Ağız Bakım Diş Fırçası Ye...</td>\n",
       "    </tr>\n",
       "    <tr>\n",
       "      <th>2</th>\n",
       "      <td>OFIS3101-080</td>\n",
       "      <td>5e594788-78a0-44dd-8e66-37022d48f691</td>\n",
       "      <td>Noki Oyuncak ve Kırtasiye Dosyalama ve Arşivle...</td>\n",
       "    </tr>\n",
       "    <tr>\n",
       "      <th>3</th>\n",
       "      <td>HBV00000NVZBW</td>\n",
       "      <td>fdfeb652-22fa-4153-b9b5-4dfa0dcaffdf</td>\n",
       "      <td>Belirsiz Meyve ve Sebze Sebze Domates 500 gr</td>\n",
       "    </tr>\n",
       "    <tr>\n",
       "      <th>4</th>\n",
       "      <td>HBV00000NE0T4</td>\n",
       "      <td>9e9d4f7e-898c-40fb-aae9-256c40779933</td>\n",
       "      <td>Carrefour Temel Gıda Sıvı Yağ Carrefour Ayçiçe...</td>\n",
       "    </tr>\n",
       "    <tr>\n",
       "      <th>5</th>\n",
       "      <td>HBV00000NE0T6</td>\n",
       "      <td>9e9d4f7e-898c-40fb-aae9-256c40779933</td>\n",
       "      <td>Carrefour Temel Gıda Sıvı Yağ Carrefour Ayçiçe...</td>\n",
       "    </tr>\n",
       "  </tbody>\n",
       "</table>\n",
       "</div>"
      ],
      "text/plain": [
       "       productid                             sessionid  \\\n",
       "1  HBV00000U2B18  d2ea7bd3-9235-4a9f-a9ea-d7f296e71318   \n",
       "2   OFIS3101-080  5e594788-78a0-44dd-8e66-37022d48f691   \n",
       "3  HBV00000NVZBW  fdfeb652-22fa-4153-b9b5-4dfa0dcaffdf   \n",
       "4  HBV00000NE0T4  9e9d4f7e-898c-40fb-aae9-256c40779933   \n",
       "5  HBV00000NE0T6  9e9d4f7e-898c-40fb-aae9-256c40779933   \n",
       "\n",
       "                                         description  \n",
       "1  Oral-B Kişisel Bakım Ağız Bakım Diş Fırçası Ye...  \n",
       "2  Noki Oyuncak ve Kırtasiye Dosyalama ve Arşivle...  \n",
       "3       Belirsiz Meyve ve Sebze Sebze Domates 500 gr  \n",
       "4  Carrefour Temel Gıda Sıvı Yağ Carrefour Ayçiçe...  \n",
       "5  Carrefour Temel Gıda Sıvı Yağ Carrefour Ayçiçe...  "
      ]
     },
     "execution_count": 154,
     "metadata": {},
     "output_type": "execute_result"
    }
   ],
   "source": [
    "train_data.head()"
   ]
  },
  {
   "cell_type": "code",
   "execution_count": 155,
   "id": "fa728c1a",
   "metadata": {},
   "outputs": [],
   "source": [
    "import warnings;\n",
    "warnings.filterwarnings('ignore')\n",
    "\n",
    "from gensim.models import Word2Vec\n",
    "# building the model\n",
    "model = Word2Vec(window = 10, min_count=2,  sg = 1, hs = 0,\n",
    "                 negative = 10,\n",
    "                 alpha=0.03, min_alpha=0.0007,\n",
    "                 seed = 42)\n",
    "# building the vocabulary\n",
    "model.build_vocab(data.description, progress_per=200)"
   ]
  },
  {
   "cell_type": "code",
   "execution_count": null,
   "id": "83e0c3af",
   "metadata": {},
   "outputs": [],
   "source": [
    "#### Basicaly we want to use word2vec in order to get vectors for the description column of our dataframe"
   ]
  },
  {
   "cell_type": "code",
   "execution_count": 156,
   "id": "6e94f115",
   "metadata": {},
   "outputs": [
    {
     "data": {
      "text/plain": [
       "(65642448, 246501150)"
      ]
     },
     "execution_count": 156,
     "metadata": {},
     "output_type": "execute_result"
    }
   ],
   "source": [
    "# training the model\n",
    "model.train(data.description, total_examples = model.corpus_count, \n",
    "            epochs=10, report_delay=1)"
   ]
  },
  {
   "cell_type": "code",
   "execution_count": 157,
   "id": "afc97fb5",
   "metadata": {},
   "outputs": [],
   "source": [
    "model.init_sims(replace=True)"
   ]
  },
  {
   "cell_type": "code",
   "execution_count": 158,
   "id": "80e9684d",
   "metadata": {},
   "outputs": [
    {
     "name": "stdout",
     "output_type": "stream",
     "text": [
      "Word2Vec(vocab=101, vector_size=100, alpha=0.03)\n"
     ]
    }
   ],
   "source": [
    "print(model)"
   ]
  },
  {
   "cell_type": "code",
   "execution_count": 159,
   "id": "f3d57e2e",
   "metadata": {},
   "outputs": [],
   "source": [
    "products = data[[\"productid\", \"description\"]]\n",
    "# removing duplicates\n",
    "products.drop_duplicates(inplace=True, subset='productid', keep=\"last\")\n",
    "\n",
    "# creating productid and description dictionary\n",
    "products_dict = products.groupby('productid')['description'].apply(list).to_dict()"
   ]
  },
  {
   "cell_type": "markdown",
   "id": "28e83d08",
   "metadata": {},
   "source": [
    "The dictionarry values for a given product is as follows."
   ]
  },
  {
   "cell_type": "code",
   "execution_count": 160,
   "id": "b570d92b",
   "metadata": {},
   "outputs": [
    {
     "data": {
      "text/plain": [
       "['Dalin Bebek Bebek Bakım ve Sağlığı Dalin Şampuan Klasik 500ML']"
      ]
     },
     "execution_count": 160,
     "metadata": {},
     "output_type": "execute_result"
    }
   ],
   "source": [
    "products_dict['AILEDALIN275105']"
   ]
  }
 ],
 "metadata": {
  "kernelspec": {
   "display_name": "Python 3 (ipykernel)",
   "language": "python",
   "name": "python3"
  },
  "language_info": {
   "codemirror_mode": {
    "name": "ipython",
    "version": 3
   },
   "file_extension": ".py",
   "mimetype": "text/x-python",
   "name": "python",
   "nbconvert_exporter": "python",
   "pygments_lexer": "ipython3",
   "version": "3.9.6"
  }
 },
 "nbformat": 4,
 "nbformat_minor": 5
}
